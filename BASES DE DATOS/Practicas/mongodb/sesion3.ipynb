{
 "cells": [
  {
   "cell_type": "markdown",
   "metadata": {
    "id": "rMc4yQncXK2N"
   },
   "source": [
    "# NoSQL (MongoDB) (sesión 3)\n"
   ]
  },
  {
   "cell_type": "markdown",
   "metadata": {
    "id": "ZbikzCBUXK2P"
   },
   "source": [
    "![MongoDB](https://webassets.mongodb.com/_com_assets/cms/MongoDB_Logo_FullColorBlack_RGB-4td3yuxzjs.png)\n",
    "\n",
    "Esta hoja muestra cómo acceder a bases de datos MongoDB y también a conectar la salida con Jupyter. Se puede utilizar el *shell* propio de MongoDB. La diferencia es que ese programa espera código Javascript y aquí trabajaremos con Python.\n",
    "\n",
    "A continuación unas comprobaciones iniciales."
   ]
  },
  {
   "cell_type": "code",
   "execution_count": 1,
   "metadata": {
    "id": "x9-RN4ZSY5o9"
   },
   "outputs": [],
   "source": [
    "RunningInCOLAB = 'google.colab' in str(get_ipython()) if hasattr(__builtins__,'__IPYTHON__') else False"
   ]
  },
  {
   "cell_type": "code",
   "execution_count": 2,
   "metadata": {
    "id": "jaDUbg06s_Ts"
   },
   "outputs": [],
   "source": [
    "import os\n",
    "db_hostname = os.getenv('DB_HOSTNAME') or (\"localhost\" if RunningInCOLAB else \"mongo\")\n",
    "if'vscode' in sys.modules or os.getenv('VSCODE_PID') is not None:\n",
    "    db_hostname = \"localhost\""
   ]
  },
  {
   "cell_type": "code",
   "execution_count": 3,
   "metadata": {},
   "outputs": [
    {
     "name": "stderr",
     "output_type": "stream",
     "text": [
      "\"sudo\" no se reconoce como un comando interno o externo,\n",
      "programa o archivo por lotes ejecutable.\n"
     ]
    }
   ],
   "source": [
    "!sudo apt-get update -qq"
   ]
  },
  {
   "cell_type": "code",
   "execution_count": 4,
   "metadata": {},
   "outputs": [
    {
     "name": "stderr",
     "output_type": "stream",
     "text": [
      "\"sudo\" no se reconoce como un comando interno o externo,\n",
      "programa o archivo por lotes ejecutable.\n"
     ]
    }
   ],
   "source": [
    "!sudo apt-get install -y -qq p7zip"
   ]
  },
  {
   "cell_type": "markdown",
   "metadata": {
    "id": "4DEamgKU-TiK"
   },
   "source": [
    "## Instalación inicial de MongoDB (sólo necesaria en Google Colab)"
   ]
  },
  {
   "cell_type": "code",
   "execution_count": 5,
   "metadata": {},
   "outputs": [],
   "source": [
    "if RunningInCOLAB:\n",
    "  !wget -q https://raw.githubusercontent.com/dsevilla/bdge/refs/heads/24-25/addendum/mongo-utils/run-mongo-local.sh\n",
    "  !bash run-mongo-local.sh"
   ]
  },
  {
   "cell_type": "markdown",
   "metadata": {
    "id": "GaTsWPro-oOG"
   },
   "source": [
    "## Inicio de la hoja\n"
   ]
  },
  {
   "cell_type": "code",
   "execution_count": 6,
   "metadata": {
    "id": "xE0Sl869XK2Y"
   },
   "outputs": [
    {
     "name": "stdout",
     "output_type": "stream",
     "text": [
      "Requirement already satisfied: pymongo in c:\\users\\x542ua\\appdata\\local\\programs\\python\\python311\\lib\\site-packages (4.10.1)\n",
      "Requirement already satisfied: dnspython<3.0.0,>=1.16.0 in c:\\users\\x542ua\\appdata\\local\\programs\\python\\python311\\lib\\site-packages (from pymongo) (2.7.0)\n",
      "Note: you may need to restart the kernel to use updated packages.\n"
     ]
    }
   ],
   "source": [
    "%pip install --upgrade pymongo"
   ]
  },
  {
   "cell_type": "code",
   "execution_count": 7,
   "metadata": {
    "id": "C0Le2anDXK2k"
   },
   "outputs": [],
   "source": [
    "from pprint import pprint as pp\n",
    "import pandas as pd\n",
    "import matplotlib.pyplot as plt\n",
    "import matplotlib\n",
    "\n",
    "%matplotlib inline\n",
    "matplotlib.style.use('ggplot')"
   ]
  },
  {
   "cell_type": "markdown",
   "metadata": {
    "id": "O92AlPcMXK2r"
   },
   "source": [
    "Usaremos la librería `pymongo` para python. La cargamos a continuación."
   ]
  },
  {
   "cell_type": "code",
   "execution_count": 8,
   "metadata": {
    "id": "Pc7akqe0XK2t"
   },
   "outputs": [],
   "source": [
    "import pymongo\n",
    "from pymongo import MongoClient"
   ]
  },
  {
   "cell_type": "markdown",
   "metadata": {
    "id": "mkiP6rzXXK2z"
   },
   "source": [
    "La conexión se inicia con `MongoClient` en el `host` descrito en el fichero `docker-compose.yml` (`mongo`), o bien a `localhost` si lo estamos haciendo en Colab."
   ]
  },
  {
   "cell_type": "code",
   "execution_count": 9,
   "metadata": {
    "id": "s4BiT5o9XK20"
   },
   "outputs": [
    {
     "data": {
      "text/plain": [
       "MongoClient(host=['localhost:27017'], document_class=dict, tz_aware=False, connect=True)"
      ]
     },
     "execution_count": 9,
     "metadata": {},
     "output_type": "execute_result"
    }
   ],
   "source": [
    "client = MongoClient(db_hostname, 27017)\n",
    "client"
   ]
  },
  {
   "cell_type": "code",
   "execution_count": 10,
   "metadata": {
    "id": "3xqmSSGdXK25"
   },
   "outputs": [
    {
     "data": {
      "text/plain": [
       "['admin', 'config', 'local']"
      ]
     },
     "execution_count": 10,
     "metadata": {},
     "output_type": "execute_result"
    }
   ],
   "source": [
    "client.list_database_names()"
   ]
  },
  {
   "cell_type": "markdown",
   "metadata": {
    "id": "aavQysLzXK2-"
   },
   "source": [
    " - Format: 7zipped\n",
    " - Files:\n",
    "   - **badges**.xml\n",
    "       - UserId, e.g.: \"420\"\n",
    "       - Name, e.g.: \"Teacher\"\n",
    "       - Date, e.g.: \"2008-09-15T08:55:03.923\"\n",
    "   - **comments**.xml\n",
    "       - Id\n",
    "       - PostId\n",
    "       - Score\n",
    "       - Text, e.g.: \"@Stu Thompson: Seems possible to me - why not try it?\"\n",
    "       - CreationDate, e.g.:\"2008-09-06T08:07:10.730\"\n",
    "       - UserId\n",
    "   - **posts**.xml\n",
    "       - Id\n",
    "       - PostTypeId\n",
    "          - 1: Question\n",
    "          - 2: Answer\n",
    "       - ParentID (only present if PostTypeId is 2)\n",
    "       - AcceptedAnswerId (only present if PostTypeId is 1)\n",
    "       - CreationDate\n",
    "       - Score\n",
    "       - ViewCount\n",
    "       - Body\n",
    "       - OwnerUserId\n",
    "       - LastEditorUserId\n",
    "       - LastEditorDisplayName=\"Jeff Atwood\"\n",
    "       - LastEditDate=\"2009-03-05T22:28:34.823\"\n",
    "       - LastActivityDate=\"2009-03-11T12:51:01.480\"\n",
    "       - CommunityOwnedDate=\"2009-03-11T12:51:01.480\"\n",
    "       - ClosedDate=\"2009-03-11T12:51:01.480\"\n",
    "       - Title=\n",
    "       - Tags=\n",
    "       - AnswerCount\n",
    "       - CommentCount\n",
    "       - FavoriteCount\n",
    "   - **posthistory**.xml\n",
    "\t   - Id\n",
    "\t   - PostHistoryTypeId\n",
    "\t\t\t- 1: Initial Title - The first title a question is asked with.\n",
    "\t\t\t- 2: Initial Body - The first raw body text a post is submitted with.\n",
    "\t\t\t- 3: Initial Tags - The first tags a question is asked with.\n",
    "\t\t\t- 4: Edit Title - A question's title has been changed.\n",
    "\t\t\t- 5: Edit Body - A post's body has been changed, the raw text is stored here as markdown.\n",
    "\t\t\t- 6: Edit Tags - A question's tags have been changed.\n",
    "\t\t\t- 7: Rollback Title - A question's title has reverted to a previous version.\n",
    "\t\t\t- 8: Rollback Body - A post's body has reverted to a previous version - the raw text is stored here.\n",
    "\t\t\t- 9: Rollback Tags - A question's tags have reverted to a previous version.\n",
    "\t\t\t- 10: Post Closed - A post was voted to be closed.\n",
    "\t\t\t- 11: Post Reopened - A post was voted to be reopened.\n",
    "\t\t\t- 12: Post Deleted - A post was voted to be removed.\n",
    "\t\t\t- 13: Post Undeleted - A post was voted to be restored.\n",
    "\t\t\t- 14: Post Locked - A post was locked by a moderator.\n",
    "\t\t\t- 15: Post Unlocked - A post was unlocked by a moderator.\n",
    "\t\t\t- 16: Community Owned - A post has become community owned.\n",
    "\t\t\t- 17: Post Migrated - A post was migrated.\n",
    "\t\t\t- 18: Question Merged - A question has had another, deleted question merged into itself.\n",
    "\t\t\t- 19: Question Protected - A question was protected by a moderator\n",
    "\t\t\t- 20: Question Unprotected - A question was unprotected by a moderator\n",
    "\t\t\t- 21: Post Disassociated - An admin removes the OwnerUserId from a post.\n",
    "\t\t\t- 22: Question Unmerged - A previously merged question has had its answers and votes restored.\n",
    "\t\t- PostId\n",
    "\t\t- RevisionGUID: At times more than one type of history record can be recorded by a single action.  All of these will be grouped using the same RevisionGUID\n",
    "\t\t- CreationDate: \"2009-03-05T22:28:34.823\"\n",
    "\t\t- UserId\n",
    "\t\t- UserDisplayName: populated if a user has been removed and no longer referenced by user Id\n",
    "\t\t- Comment: This field will contain the comment made by the user who edited a post\n",
    "\t\t- Text: A raw version of the new value for a given revision\n",
    "\t\t\t- If PostHistoryTypeId = 10, 11, 12, 13, 14, or 15  this column will contain a JSON encoded string with all users who have voted for the PostHistoryTypeId\n",
    "\t\t\t- If PostHistoryTypeId = 17 this column will contain migration details of either \"from <url>\" or \"to <url>\"\n",
    "\t\t- CloseReasonId\n",
    "\t\t\t- 1: Exact Duplicate - This question covers exactly the same ground as earlier questions on this topic; its answers may be merged with another identical question.\n",
    "\t\t\t- 2: off-topic\n",
    "\t\t\t- 3: subjective\n",
    "\t\t\t- 4: not a real question\n",
    "\t\t\t- 7: too localized\n",
    "   - **postlinks**.xml\n",
    "     - Id\n",
    "     - CreationDate\n",
    "     - PostId\n",
    "     - RelatedPostId\n",
    "     - PostLinkTypeId\n",
    "       - 1: Linked\n",
    "       - 3: Duplicate\n",
    "   - **users**.xml\n",
    "     - Id\n",
    "     - Reputation\n",
    "     - CreationDate\n",
    "     - DisplayName\n",
    "     - EmailHash\n",
    "     - LastAccessDate\n",
    "     - WebsiteUrl\n",
    "     - Location\n",
    "     - Age\n",
    "     - AboutMe\n",
    "     - Views\n",
    "     - UpVotes\n",
    "     - DownVotes\n",
    "   - **votes**.xml\n",
    "     - Id\n",
    "     - PostId\n",
    "     - VoteTypeId\n",
    "        - ` 1`: AcceptedByOriginator\n",
    "        - ` 2`: UpMod\n",
    "        - ` 3`: DownMod\n",
    "        - ` 4`: Offensive\n",
    "        - ` 5`: Favorite - if VoteTypeId = 5 UserId will be populated\n",
    "        - ` 6`: Close\n",
    "        - ` 7`: Reopen\n",
    "        - ` 8`: BountyStart\n",
    "        - ` 9`: BountyClose\n",
    "        - `10`: Deletion\n",
    "        - `11`: Undeletion\n",
    "        - `12`: Spam\n",
    "        - `13`: InformModerator\n",
    "     - CreationDate\n",
    "     - UserId (only for VoteTypeId 5)\n",
    "     - BountyAmount (only for VoteTypeId 9)"
   ]
  },
  {
   "cell_type": "markdown",
   "metadata": {
    "id": "ImWUdcNgs_T8"
   },
   "source": [
    "### Descarga de todos los CSVs"
   ]
  },
  {
   "cell_type": "code",
   "execution_count": 11,
   "metadata": {
    "id": "0M30R6tLs_T8"
   },
   "outputs": [
    {
     "name": "stderr",
     "output_type": "stream",
     "text": [
      "SYSTEM_WGETRC = c:/progra~1/wget/etc/wgetrc\n",
      "syswgetrc = C:\\Program Files (x86)\\GnuWin32/etc/wgetrc\n",
      "--2024-10-18 17:00:32--  https://github.com/dsevilla/bd2-data/raw/main/es.stackoverflow/es.stackoverflow.csv.7z.001\n",
      "Resolviendo github.com... 140.82.121.3\n",
      "Connecting to github.com|140.82.121.3|:443... conectado.\n",
      "OpenSSL: error:1407742E:SSL routines:SSL23_GET_SERVER_HELLO:tlsv1 alert protocol version\n",
      "No se pudo establecer la conexi�n SSL.\n",
      "SYSTEM_WGETRC = c:/progra~1/wget/etc/wgetrc\n",
      "syswgetrc = C:\\Program Files (x86)\\GnuWin32/etc/wgetrc\n",
      "--2024-10-18 17:00:32--  https://github.com/dsevilla/bd2-data/raw/main/es.stackoverflow/es.stackoverflow.csv.7z.002\n",
      "Resolviendo github.com... 140.82.121.3\n",
      "Connecting to github.com|140.82.121.3|:443... conectado.\n",
      "OpenSSL: error:1407742E:SSL routines:SSL23_GET_SERVER_HELLO:tlsv1 alert protocol version\n",
      "No se pudo establecer la conexi�n SSL.\n"
     ]
    }
   ],
   "source": [
    "!wget https://github.com/dsevilla/bd2-data/raw/main/es.stackoverflow/es.stackoverflow.csv.7z.001 -O - > es.stackoverflow.csv.7z\n",
    "!wget https://github.com/dsevilla/bd2-data/raw/main/es.stackoverflow/es.stackoverflow.csv.7z.002 -O - >> es.stackoverflow.csv.7z"
   ]
  },
  {
   "cell_type": "code",
   "execution_count": 12,
   "metadata": {
    "id": "IIEbsqd9s_T8"
   },
   "outputs": [
    {
     "name": "stderr",
     "output_type": "stream",
     "text": [
      "\"7zr\" no se reconoce como un comando interno o externo,\n",
      "programa o archivo por lotes ejecutable.\n",
      "\"rm\" no se reconoce como un comando interno o externo,\n",
      "programa o archivo por lotes ejecutable.\n"
     ]
    }
   ],
   "source": [
    "!7zr x -aoa es.stackoverflow.csv.7z\n",
    "!rm es.stackoverflow.csv.7z"
   ]
  },
  {
   "cell_type": "markdown",
   "metadata": {},
   "source": [
    "### Importación de los ficheros CSV y uso de Pymongo"
   ]
  },
  {
   "cell_type": "markdown",
   "metadata": {
    "id": "jVz9DkvlXK3X"
   },
   "source": [
    "Importación de los ficheros CSV. Por ahora creamos una colección diferente para cada uno. Después estudiaremos cómo poder optimizar el acceso usando agregación."
   ]
  },
  {
   "cell_type": "code",
   "execution_count": 13,
   "metadata": {},
   "outputs": [
    {
     "name": "stderr",
     "output_type": "stream",
     "text": [
      "SYSTEM_WGETRC = c:/progra~1/wget/etc/wgetrc\n",
      "syswgetrc = C:\\Program Files (x86)\\GnuWin32/etc/wgetrc\n"
     ]
    }
   ],
   "source": [
    "!wget -q https://raw.githubusercontent.com/dsevilla/bdge/24-25/addendum/mongo-utils/csv_to_mongo.py"
   ]
  },
  {
   "cell_type": "code",
   "execution_count": 15,
   "metadata": {},
   "outputs": [
    {
     "name": "stdout",
     "output_type": "stream",
     "text": [
      "Help on function csv_to_mongo in module csv_to_mongo:\n",
      "\n",
      "csv_to_mongo(file: str, coll: pymongo.synchronous.collection.Collection) -> None\n",
      "    Carga un fichero CSV en Mongo. file especifica el fichero y coll la colección\n",
      "    dentro de la base de datos.\n",
      "\n"
     ]
    }
   ],
   "source": [
    "from csv_to_mongo import csv_to_mongo\n",
    "help(csv_to_mongo)"
   ]
  },
  {
   "cell_type": "markdown",
   "metadata": {
    "id": "UjFA83uvXK3M"
   },
   "source": [
    "Las bases de datos se crean conforme se nombran. Se puede utilizar la notación punto o la de diccionario. Las colecciones también."
   ]
  },
  {
   "cell_type": "code",
   "execution_count": 16,
   "metadata": {
    "id": "HymD7vS1XK3N"
   },
   "outputs": [
    {
     "data": {
      "text/plain": [
       "Database(MongoClient(host=['localhost:27017'], document_class=dict, tz_aware=False, connect=True), 'stackoverflow')"
      ]
     },
     "execution_count": 16,
     "metadata": {},
     "output_type": "execute_result"
    }
   ],
   "source": [
    "db = client.stackoverflow\n",
    "db = client['stackoverflow']\n",
    "db"
   ]
  },
  {
   "cell_type": "code",
   "execution_count": 17,
   "metadata": {
    "id": "Xd8DOMERXK3Y"
   },
   "outputs": [],
   "source": [
    "csv_to_mongo('Posts.csv',db.posts)"
   ]
  },
  {
   "cell_type": "code",
   "execution_count": 18,
   "metadata": {
    "id": "0MUQZUdeXK3d"
   },
   "outputs": [],
   "source": [
    "csv_to_mongo('Users.csv',db.users)"
   ]
  },
  {
   "cell_type": "code",
   "execution_count": 19,
   "metadata": {
    "id": "Zko9SDIaXK3g"
   },
   "outputs": [],
   "source": [
    "csv_to_mongo('Votes.csv',db.votes)"
   ]
  },
  {
   "cell_type": "code",
   "execution_count": 20,
   "metadata": {
    "id": "xUdHYFeMXK3k"
   },
   "outputs": [],
   "source": [
    "csv_to_mongo('Comments.csv',db.comments)"
   ]
  },
  {
   "cell_type": "code",
   "execution_count": 21,
   "metadata": {
    "id": "Iqs7InmnXK3o"
   },
   "outputs": [],
   "source": [
    "csv_to_mongo('Tags.csv',db.tags)"
   ]
  },
  {
   "cell_type": "markdown",
   "metadata": {
    "id": "NP7ojzBzXK3v"
   },
   "source": [
    "### El API de colección de MongoDB"
   ]
  },
  {
   "cell_type": "markdown",
   "metadata": {
    "id": "iUTaeq9LXK3R"
   },
   "source": [
    "Las bases de datos están compuestas por un conjunto de **colecciones**. Cada colección aglutina a un conjunto de objetos (documentos) del mismo tipo, aunque como vimos en teoría, cada documento puede tener un conjunto de atributos diferente."
   ]
  },
  {
   "cell_type": "markdown",
   "metadata": {},
   "source": [
    "El API de colección en Python se puede encontrar aquí: https://docs.mongodb.com/drivers/pymongo/. La mayoría de libros y referencias muestran el uso de mongo desde Javascript, ya que el *shell* de MongoDB acepta ese lenguaje. La sintaxis con respecto a Python cambia un poco, y se puede seguir en el enlace anterior. Existe incluso un curso de la MongoDB University que se puede realizar de forma gratuita: https://learn.mongodb.com/learning-paths/using-mongodb-with-python"
   ]
  },
  {
   "cell_type": "code",
   "execution_count": 22,
   "metadata": {
    "id": "FH5ZOkS01qxR"
   },
   "outputs": [],
   "source": [
    "user=db.users.find_one()"
   ]
  },
  {
   "cell_type": "code",
   "execution_count": 23,
   "metadata": {
    "id": "9Q5jjWOS10nk"
   },
   "outputs": [
    {
     "data": {
      "text/plain": [
       "{'_id': ObjectId('671278c10e27c77fce37ea89'),\n",
       " 'Id': -1,\n",
       " 'AboutMe': '<p>Hola, no soy una persona real.</p><br/><br/><p>¡Soy un proceso que ayuda a mantener el sitio limpio!</p><br/><br/><p>Hago cosas como:</p><br/><br/><ul><br/><li>Dar empujoncitos a preguntas antiguas sin respuesta aproximadamente cada hora, para que atraigan algo de atención.</li><br/><li>Tener la propiedad de las preguntas y respuestas wiki para que nadie se lleve reputación por ellas</li><br/><li>Recibir la propiedad de los votos negativos en las publicaciones de spam o dañinas que son borradas permanentemente</li><br/><li>Tener la propiedad de las ediciones sugeridas por usuarios anónimos</li><br/><li><a href=\"http://meta.stackoverflow.com/a/92006\">Quitar preguntas abandonadas</a></li><br/></ul><br/>',\n",
       " 'AccountId': -1,\n",
       " 'CreationDate': datetime.datetime(2015, 10, 26, 21, 36, 24, 767000),\n",
       " 'DisplayName': 'Comunidad',\n",
       " 'DownVotes': 22504,\n",
       " 'LastAccessDate': datetime.datetime(2015, 10, 26, 21, 36, 24, 767000),\n",
       " 'Location': 'en la granja de servidores',\n",
       " 'Reputation': 1,\n",
       " 'UpVotes': 10211,\n",
       " 'Views': 2516,\n",
       " 'WebsiteUrl': ''}"
      ]
     },
     "execution_count": 23,
     "metadata": {},
     "output_type": "execute_result"
    }
   ],
   "source": [
    "user"
   ]
  },
  {
   "cell_type": "code",
   "execution_count": 24,
   "metadata": {
    "id": "q3MS76ltXK3T"
   },
   "outputs": [
    {
     "data": {
      "text/plain": [
       "Collection(Database(MongoClient(host=['localhost:27017'], document_class=dict, tz_aware=False, connect=True), 'stackoverflow'), 'posts')"
      ]
     },
     "execution_count": 24,
     "metadata": {},
     "output_type": "execute_result"
    }
   ],
   "source": [
    "posts = db.posts\n",
    "posts"
   ]
  },
  {
   "cell_type": "code",
   "execution_count": 25,
   "metadata": {
    "id": "fqMlbZ13XK3s"
   },
   "outputs": [
    {
     "data": {
      "text/plain": [
       "410346"
      ]
     },
     "execution_count": 25,
     "metadata": {},
     "output_type": "execute_result"
    }
   ],
   "source": [
    "posts.count_documents({})"
   ]
  },
  {
   "cell_type": "code",
   "execution_count": 26,
   "metadata": {
    "id": "MQ9FdKC2XK3v",
    "scrolled": true
   },
   "outputs": [
    {
     "data": {
      "text/plain": [
       "{'_id': ObjectId('671278740e27c77fce31a79f'),\n",
       " 'Id': 1,\n",
       " 'AcceptedAnswerId': 2,\n",
       " 'AnswerCount': 1,\n",
       " 'Body': '<p>Estoy creando un servicio usando <em>ASP.NET WebApi</em>. Quiero añadir soporte para la negociación del tipo de contenido basado en extensiones en el <em>URI</em>, así que he añadido lo siguiente al código de inicialización del servicio:</p><br/><br/><pre><code>public static class WebApiConfig<br/>{<br/>  public static void Register(HttpConfiguration config)<br/>  {<br/>    config.Formatters.JsonFormatter.AddUriPathExtensionMapping(\"json\", \"application/json\");<br/>    config.Formatters.XmlFormatter.AddUriPathExtensionMapping(\"xml\", \"application/xml\");<br/>  }<br/>}<br/></code></pre><br/><br/><p>Para que esto funcione necesito crear dos rutas para cada acción del controlador (estoy usando exclusivamente enrutamiento basado en atributos):</p><br/><br/><pre><code>[Route(\"item/{id}/details\")]<br/>[Route(\"item/{id}/details.{ext}\")]<br/>[HttpGet]<br/>public ItemDetail[] GetItemDetails(int id)<br/>{<br/>  return itemsService.GetItemDetails(id);<br/>}<br/><br/>[Route(\"item/{name}\")]<br/>[Route(\"item/{name}.{ext}\")]<br/>[HttpPost]<br/>public int CreateItem(string name)<br/>{<br/>  return itemsService.Create(name);<br/>}<br/></code></pre><br/><br/><p>Esto queda feo y hace que el código sea innecesariamente largo, así que investigué una forma de añadir la ruta con la extensión, automáticamente cuando se crea la ruta normal. Como resultado desarrollé una implementación personalizada de <code>IDirectRouteProvider</code> que puedo usar al registrar los atributos de ruta:</p><br/><br/><pre><code>config.MapHttpAttributeRoutes(new AutomaticExtensionRouteProvider());<br/></code></pre><br/><br/><p>El código del proveedor personalizado es:</p><br/><br/><pre><code>public class AutomaticExtensionRouteProvider : DefaultDirectRouteProvider<br/>{<br/>    protected override IReadOnlyList<RouteEntry> GetActionDirectRoutes(<br/>      HttpActionDescriptor actionDescriptor,<br/>      IReadOnlyList<IDirectRouteFactory> factories,<br/>      IInlineConstraintResolver constraintResolver)<br/>    {<br/>        var result = base.GetActionDirectRoutes(actionDescriptor, factories, constraintResolver);<br/>        var list = new List<RouteEntry>(result);<br/>        foreach(var route in result.Where(r => !r.Route.RouteTemplate.EndsWith(\".{ext}\")))<br/>        {<br/>            var newTemplate = route.Route.RouteTemplate + \".{ext}\";<br/>            if (!result.Any(r => r.Route.RouteTemplate == newTemplate))<br/>            {<br/>                var entry = new RouteEntry(null, new HttpRoute(newTemplate,<br/>                    new HttpRouteValueDictionary(route.Route.Defaults),<br/>                    new HttpRouteValueDictionary(route.Route.Constraints),<br/>                    new HttpRouteValueDictionary(route.Route.DataTokens)));<br/>                list.Add(entry);<br/>            }<br/>        }<br/>        return list.AsReadOnly();<br/>    }<br/>}<br/></code></pre><br/><br/><p>El problema es que esto funciona bien, pero falla en un caso: <strong>Cuando la última parte de la ruta es un parámetro sin restricciones</strong>. Así pues, en el ejemplo anterior, la creación de rutas para <code>GetItemDetails</code> funciona, pero para <code>CreateItem</code> lanza lo siguiente:</p><br/><br/><pre><code>System.InvalidOperationException: Multiple actions were found that match the request: <br/>CreateItem on type FooBar.Api.Controllers.ItemsController<br/>CreateItem on type FooBar.Api.Controllers.ItemsController<br/>   at System.Web.Http.Controllers.ApiControllerActionSelector.ActionSelectorCacheItem.SelectAction(HttpControllerContext controllerContext)<br/>   at System.Web.Http.Controllers.ApiControllerActionSelector.SelectAction(HttpControllerContext controllerContext)<br/></code></pre><br/><br/><p>Me imagino de dónde puede venir el problema: Una cadena arbitraria cumple los patrones <code>{name}</code> y <code>{name}.{ext}</code>, por lo que el motor de <em>WebApi</em> se confunde al intentar seleccionar la ruta adecuada. <strong>Pero entonces, ¿Por qué funciona cuando se especifican las dos rutas explícitamente en atributos?</strong> Por lo que yo entiendo, la ruta que yo creo en la clase <code>AutomaticExtensionRouteProvider</code> es idéntica a la que se crea explícitamente con un atributo (y si depuro veo que en efecto así es).</p><br/><br/><p>Así pues, ¿Qué está pasando aquí?</p><br/>',\n",
       " 'ClosedDate': None,\n",
       " 'CommentCount': 2,\n",
       " 'CommunityOwnedDate': None,\n",
       " 'ContentLicense': 'CC BY-SA 4.0',\n",
       " 'CreationDate': datetime.datetime(2015, 10, 29, 15, 56, 52, 933000),\n",
       " 'FavoriteCount': '',\n",
       " 'LastActivityDate': datetime.datetime(2021, 3, 12, 17, 49, 40, 687000),\n",
       " 'LastEditDate': datetime.datetime(2019, 7, 7, 21, 36, 17, 737000),\n",
       " 'LastEditorDisplayName': 'user13558',\n",
       " 'LastEditorUserId': '',\n",
       " 'OwnerDisplayName': '',\n",
       " 'OwnerUserId': 23,\n",
       " 'ParentId': '',\n",
       " 'PostTypeId': 1,\n",
       " 'Score': 40,\n",
       " 'Tags': '<.net><asp.net-web-api><asp.net>',\n",
       " 'Title': 'La creación manual de un alias de ruta con un DirectRouteProvider personalizado causa un error \"Multiple actions were found that match the request\"',\n",
       " 'ViewCount': 780}"
      ]
     },
     "execution_count": 26,
     "metadata": {},
     "output_type": "execute_result"
    }
   ],
   "source": [
    "post = posts.find_one()\n",
    "post"
   ]
  },
  {
   "cell_type": "markdown",
   "metadata": {
    "id": "0BlhT5EXXK3y"
   },
   "source": [
    "Utilizo la librería `pp` para imprimir los objetos grandes de una manera amigable."
   ]
  },
  {
   "cell_type": "code",
   "execution_count": 27,
   "metadata": {
    "id": "PdeMzw8MXK3z",
    "scrolled": true
   },
   "outputs": [
    {
     "name": "stdout",
     "output_type": "stream",
     "text": [
      "{'AboutMe': '<p>Hola, no soy una persona real.</p><br/><br/><p>¡Soy un proceso '\n",
      "            'que ayuda a mantener el sitio limpio!</p><br/><br/><p>Hago cosas '\n",
      "            'como:</p><br/><br/><ul><br/><li>Dar empujoncitos a preguntas '\n",
      "            'antiguas sin respuesta aproximadamente cada hora, para que '\n",
      "            'atraigan algo de atención.</li><br/><li>Tener la propiedad de las '\n",
      "            'preguntas y respuestas wiki para que nadie se lleve reputación '\n",
      "            'por ellas</li><br/><li>Recibir la propiedad de los votos '\n",
      "            'negativos en las publicaciones de spam o dañinas que son borradas '\n",
      "            'permanentemente</li><br/><li>Tener la propiedad de las ediciones '\n",
      "            'sugeridas por usuarios anónimos</li><br/><li><a '\n",
      "            'href=\"http://meta.stackoverflow.com/a/92006\">Quitar preguntas '\n",
      "            'abandonadas</a></li><br/></ul><br/>',\n",
      " 'AccountId': -1,\n",
      " 'CreationDate': datetime.datetime(2015, 10, 26, 21, 36, 24, 767000),\n",
      " 'DisplayName': 'Comunidad',\n",
      " 'DownVotes': 22504,\n",
      " 'Id': -1,\n",
      " 'LastAccessDate': datetime.datetime(2015, 10, 26, 21, 36, 24, 767000),\n",
      " 'Location': 'en la granja de servidores',\n",
      " 'Reputation': 1,\n",
      " 'UpVotes': 10211,\n",
      " 'Views': 2516,\n",
      " 'WebsiteUrl': '',\n",
      " '_id': ObjectId('671278c10e27c77fce37ea89')}\n"
     ]
    }
   ],
   "source": [
    "users = db.users\n",
    "pp(users.find_one())"
   ]
  },
  {
   "cell_type": "markdown",
   "metadata": {
    "id": "bIE2Gv9sXK32"
   },
   "source": [
    "A cada objeto se le asigna una clave implícita con nombre \"`_id`\" (si el objeto no lo incluye)."
   ]
  },
  {
   "cell_type": "code",
   "execution_count": 28,
   "metadata": {
    "id": "H9aJ6YSAXK32"
   },
   "outputs": [
    {
     "name": "stdout",
     "output_type": "stream",
     "text": [
      "<class 'bson.objectid.ObjectId'>\n"
     ]
    },
    {
     "data": {
      "text/plain": [
       "ObjectId('671278740e27c77fce31a79f')"
      ]
     },
     "execution_count": 28,
     "metadata": {},
     "output_type": "execute_result"
    }
   ],
   "source": [
    "print (type(post['_id']))\n",
    "post['_id']"
   ]
  },
  {
   "cell_type": "markdown",
   "metadata": {
    "id": "n-PbOm7HXK36"
   },
   "source": [
    "La siguiente sintaxis está descatalogada en las nuevas versiones, pero era más conveniente:"
   ]
  },
  {
   "cell_type": "code",
   "execution_count": 29,
   "metadata": {
    "id": "-Tn9YI4kXK36",
    "scrolled": true
   },
   "outputs": [],
   "source": [
    "#posts.save(post)"
   ]
  },
  {
   "cell_type": "markdown",
   "metadata": {
    "id": "IiQ1Wl3QXK3-"
   },
   "source": [
    "Ahora hay que hacerlo así (el resultado será 0 porque el documento no ha sido modificado desde que se leyó, pero sería 1 si el documento se modificó):"
   ]
  },
  {
   "cell_type": "code",
   "execution_count": 30,
   "metadata": {
    "id": "Uk21YQGyXK3-"
   },
   "outputs": [
    {
     "data": {
      "text/plain": [
       "0"
      ]
     },
     "execution_count": 30,
     "metadata": {},
     "output_type": "execute_result"
    }
   ],
   "source": [
    "result = posts.replace_one({\"_id\": post['_id']}, post)\n",
    "result.modified_count"
   ]
  },
  {
   "cell_type": "code",
   "execution_count": 31,
   "metadata": {
    "id": "k7CsMmRhXK4D"
   },
   "outputs": [
    {
     "name": "stdout",
     "output_type": "stream",
     "text": [
      "{'AcceptedAnswerId': 2,\n",
      " 'AnswerCount': 1,\n",
      " 'Body': '<p>Estoy creando un servicio usando <em>ASP.NET WebApi</em>. Quiero '\n",
      "         'añadir soporte para la negociación del tipo de contenido basado en '\n",
      "         'extensiones en el <em>URI</em>, así que he añadido lo siguiente al '\n",
      "         'código de inicialización del '\n",
      "         'servicio:</p><br/><br/><pre><code>public static class '\n",
      "         'WebApiConfig<br/>{<br/>  public static void '\n",
      "         'Register(HttpConfiguration config)<br/>  {<br/>    '\n",
      "         'config.Formatters.JsonFormatter.AddUriPathExtensionMapping(\"json\", '\n",
      "         '\"application/json\");<br/>    '\n",
      "         'config.Formatters.XmlFormatter.AddUriPathExtensionMapping(\"xml\", '\n",
      "         '\"application/xml\");<br/>  }<br/>}<br/></code></pre><br/><br/><p>Para '\n",
      "         'que esto funcione necesito crear dos rutas para cada acción del '\n",
      "         'controlador (estoy usando exclusivamente enrutamiento basado en '\n",
      "         'atributos):</p><br/><br/><pre><code>[Route(\"item/{id}/details\")]<br/>[Route(\"item/{id}/details.{ext}\")]<br/>[HttpGet]<br/>public '\n",
      "         'ItemDetail[] GetItemDetails(int id)<br/>{<br/>  return '\n",
      "         'itemsService.GetItemDetails(id);<br/>}<br/><br/>[Route(\"item/{name}\")]<br/>[Route(\"item/{name}.{ext}\")]<br/>[HttpPost]<br/>public '\n",
      "         'int CreateItem(string name)<br/>{<br/>  return '\n",
      "         'itemsService.Create(name);<br/>}<br/></code></pre><br/><br/><p>Esto '\n",
      "         'queda feo y hace que el código sea innecesariamente largo, así que '\n",
      "         'investigué una forma de añadir la ruta con la extensión, '\n",
      "         'automáticamente cuando se crea la ruta normal. Como resultado '\n",
      "         'desarrollé una implementación personalizada de '\n",
      "         '<code>IDirectRouteProvider</code> que puedo usar al registrar los '\n",
      "         'atributos de '\n",
      "         'ruta:</p><br/><br/><pre><code>config.MapHttpAttributeRoutes(new '\n",
      "         'AutomaticExtensionRouteProvider());<br/></code></pre><br/><br/><p>El '\n",
      "         'código del proveedor personalizado '\n",
      "         'es:</p><br/><br/><pre><code>public class '\n",
      "         'AutomaticExtensionRouteProvider : '\n",
      "         'DefaultDirectRouteProvider<br/>{<br/>    protected override '\n",
      "         'IReadOnlyList<RouteEntry> GetActionDirectRoutes(<br/>      '\n",
      "         'HttpActionDescriptor actionDescriptor,<br/>      '\n",
      "         'IReadOnlyList<IDirectRouteFactory> factories,<br/>      '\n",
      "         'IInlineConstraintResolver constraintResolver)<br/>    {<br/>        '\n",
      "         'var result = base.GetActionDirectRoutes(actionDescriptor, factories, '\n",
      "         'constraintResolver);<br/>        var list = new '\n",
      "         'List<RouteEntry>(result);<br/>        foreach(var route in '\n",
      "         'result.Where(r => '\n",
      "         '!r.Route.RouteTemplate.EndsWith(\".{ext}\")))<br/>        '\n",
      "         '{<br/>            var newTemplate = route.Route.RouteTemplate + '\n",
      "         '\".{ext}\";<br/>            if (!result.Any(r => r.Route.RouteTemplate '\n",
      "         '== newTemplate))<br/>            {<br/>                var entry = '\n",
      "         'new RouteEntry(null, new '\n",
      "         'HttpRoute(newTemplate,<br/>                    new '\n",
      "         'HttpRouteValueDictionary(route.Route.Defaults),<br/>                    '\n",
      "         'new '\n",
      "         'HttpRouteValueDictionary(route.Route.Constraints),<br/>                    '\n",
      "         'new '\n",
      "         'HttpRouteValueDictionary(route.Route.DataTokens)));<br/>                '\n",
      "         'list.Add(entry);<br/>            }<br/>        }<br/>        return '\n",
      "         'list.AsReadOnly();<br/>    }<br/>}<br/></code></pre><br/><br/><p>El '\n",
      "         'problema es que esto funciona bien, pero falla en un caso: '\n",
      "         '<strong>Cuando la última parte de la ruta es un parámetro sin '\n",
      "         'restricciones</strong>. Así pues, en el ejemplo anterior, la '\n",
      "         'creación de rutas para <code>GetItemDetails</code> funciona, pero '\n",
      "         'para <code>CreateItem</code> lanza lo '\n",
      "         'siguiente:</p><br/><br/><pre><code>System.InvalidOperationException: '\n",
      "         'Multiple actions were found that match the request: <br/>CreateItem '\n",
      "         'on type FooBar.Api.Controllers.ItemsController<br/>CreateItem on '\n",
      "         'type FooBar.Api.Controllers.ItemsController<br/>   at '\n",
      "         'System.Web.Http.Controllers.ApiControllerActionSelector.ActionSelectorCacheItem.SelectAction(HttpControllerContext '\n",
      "         'controllerContext)<br/>   at '\n",
      "         'System.Web.Http.Controllers.ApiControllerActionSelector.SelectAction(HttpControllerContext '\n",
      "         'controllerContext)<br/></code></pre><br/><br/><p>Me imagino de dónde '\n",
      "         'puede venir el problema: Una cadena arbitraria cumple los patrones '\n",
      "         '<code>{name}</code> y <code>{name}.{ext}</code>, por lo que el motor '\n",
      "         'de <em>WebApi</em> se confunde al intentar seleccionar la ruta '\n",
      "         'adecuada. <strong>Pero entonces, ¿Por qué funciona cuando se '\n",
      "         'especifican las dos rutas explícitamente en atributos?</strong> Por '\n",
      "         'lo que yo entiendo, la ruta que yo creo en la clase '\n",
      "         '<code>AutomaticExtensionRouteProvider</code> es idéntica a la que se '\n",
      "         'crea explícitamente con un atributo (y si depuro veo que en efecto '\n",
      "         'así es).</p><br/><br/><p>Así pues, ¿Qué está pasando aquí?</p><br/>',\n",
      " 'ClosedDate': None,\n",
      " 'CommentCount': 2,\n",
      " 'CommunityOwnedDate': None,\n",
      " 'ContentLicense': 'CC BY-SA 4.0',\n",
      " 'CreationDate': datetime.datetime(2015, 10, 29, 15, 56, 52, 933000),\n",
      " 'FavoriteCount': '',\n",
      " 'Id': 1,\n",
      " 'LastActivityDate': datetime.datetime(2021, 3, 12, 17, 49, 40, 687000),\n",
      " 'LastEditDate': datetime.datetime(2019, 7, 7, 21, 36, 17, 737000),\n",
      " 'LastEditorDisplayName': 'user13558',\n",
      " 'LastEditorUserId': '',\n",
      " 'OwnerDisplayName': '',\n",
      " 'OwnerUserId': 23,\n",
      " 'ParentId': '',\n",
      " 'PostTypeId': 1,\n",
      " 'Score': 40,\n",
      " 'Tags': '<.net><asp.net-web-api><asp.net>',\n",
      " 'Title': 'La creación manual de un alias de ruta con un DirectRouteProvider '\n",
      "          'personalizado causa un error \"Multiple actions were found that '\n",
      "          'match the request\"',\n",
      " 'ViewCount': 780,\n",
      " '_id': ObjectId('671278740e27c77fce31a79f')}\n"
     ]
    }
   ],
   "source": [
    "post = posts.find_one()\n",
    "pp(post)"
   ]
  },
  {
   "cell_type": "code",
   "execution_count": 32,
   "metadata": {
    "id": "N3UfvDXNXK4G",
    "scrolled": true
   },
   "outputs": [
    {
     "name": "stdout",
     "output_type": "stream",
     "text": [
      "_id: 671278740e27c77fce31a79f\n",
      "Id: 1\n",
      "AcceptedAnswerId: 2\n",
      "AnswerCount: 1\n",
      "Body: <p>Estoy creando un servicio usando <em>ASP.NET WebApi</em>. Quiero añadir soporte para la negociación del tipo de contenido basado en extensiones en el <em>URI</em>, así que he añadido lo siguiente al código de inicialización del servicio:</p><br/><br/><pre><code>public static class WebApiConfig<br/>{<br/>  public static void Register(HttpConfiguration config)<br/>  {<br/>    config.Formatters.JsonFormatter.AddUriPathExtensionMapping(\"json\", \"application/json\");<br/>    config.Formatters.XmlFormatter.AddUriPathExtensionMapping(\"xml\", \"application/xml\");<br/>  }<br/>}<br/></code></pre><br/><br/><p>Para que esto funcione necesito crear dos rutas para cada acción del controlador (estoy usando exclusivamente enrutamiento basado en atributos):</p><br/><br/><pre><code>[Route(\"item/{id}/details\")]<br/>[Route(\"item/{id}/details.{ext}\")]<br/>[HttpGet]<br/>public ItemDetail[] GetItemDetails(int id)<br/>{<br/>  return itemsService.GetItemDetails(id);<br/>}<br/><br/>[Route(\"item/{name}\")]<br/>[Route(\"item/{name}.{ext}\")]<br/>[HttpPost]<br/>public int CreateItem(string name)<br/>{<br/>  return itemsService.Create(name);<br/>}<br/></code></pre><br/><br/><p>Esto queda feo y hace que el código sea innecesariamente largo, así que investigué una forma de añadir la ruta con la extensión, automáticamente cuando se crea la ruta normal. Como resultado desarrollé una implementación personalizada de <code>IDirectRouteProvider</code> que puedo usar al registrar los atributos de ruta:</p><br/><br/><pre><code>config.MapHttpAttributeRoutes(new AutomaticExtensionRouteProvider());<br/></code></pre><br/><br/><p>El código del proveedor personalizado es:</p><br/><br/><pre><code>public class AutomaticExtensionRouteProvider : DefaultDirectRouteProvider<br/>{<br/>    protected override IReadOnlyList<RouteEntry> GetActionDirectRoutes(<br/>      HttpActionDescriptor actionDescriptor,<br/>      IReadOnlyList<IDirectRouteFactory> factories,<br/>      IInlineConstraintResolver constraintResolver)<br/>    {<br/>        var result = base.GetActionDirectRoutes(actionDescriptor, factories, constraintResolver);<br/>        var list = new List<RouteEntry>(result);<br/>        foreach(var route in result.Where(r => !r.Route.RouteTemplate.EndsWith(\".{ext}\")))<br/>        {<br/>            var newTemplate = route.Route.RouteTemplate + \".{ext}\";<br/>            if (!result.Any(r => r.Route.RouteTemplate == newTemplate))<br/>            {<br/>                var entry = new RouteEntry(null, new HttpRoute(newTemplate,<br/>                    new HttpRouteValueDictionary(route.Route.Defaults),<br/>                    new HttpRouteValueDictionary(route.Route.Constraints),<br/>                    new HttpRouteValueDictionary(route.Route.DataTokens)));<br/>                list.Add(entry);<br/>            }<br/>        }<br/>        return list.AsReadOnly();<br/>    }<br/>}<br/></code></pre><br/><br/><p>El problema es que esto funciona bien, pero falla en un caso: <strong>Cuando la última parte de la ruta es un parámetro sin restricciones</strong>. Así pues, en el ejemplo anterior, la creación de rutas para <code>GetItemDetails</code> funciona, pero para <code>CreateItem</code> lanza lo siguiente:</p><br/><br/><pre><code>System.InvalidOperationException: Multiple actions were found that match the request: <br/>CreateItem on type FooBar.Api.Controllers.ItemsController<br/>CreateItem on type FooBar.Api.Controllers.ItemsController<br/>   at System.Web.Http.Controllers.ApiControllerActionSelector.ActionSelectorCacheItem.SelectAction(HttpControllerContext controllerContext)<br/>   at System.Web.Http.Controllers.ApiControllerActionSelector.SelectAction(HttpControllerContext controllerContext)<br/></code></pre><br/><br/><p>Me imagino de dónde puede venir el problema: Una cadena arbitraria cumple los patrones <code>{name}</code> y <code>{name}.{ext}</code>, por lo que el motor de <em>WebApi</em> se confunde al intentar seleccionar la ruta adecuada. <strong>Pero entonces, ¿Por qué funciona cuando se especifican las dos rutas explícitamente en atributos?</strong> Por lo que yo entiendo, la ruta que yo creo en la clase <code>AutomaticExtensionRouteProvider</code> es idéntica a la que se crea explícitamente con un atributo (y si depuro veo que en efecto así es).</p><br/><br/><p>Así pues, ¿Qué está pasando aquí?</p><br/>\n",
      "ClosedDate: None\n",
      "CommentCount: 2\n",
      "CommunityOwnedDate: None\n",
      "ContentLicense: CC BY-SA 4.0\n",
      "CreationDate: 2015-10-29 15:56:52.933000\n",
      "FavoriteCount: \n",
      "LastActivityDate: 2021-03-12 17:49:40.687000\n",
      "LastEditDate: 2019-07-07 21:36:17.737000\n",
      "LastEditorDisplayName: user13558\n",
      "LastEditorUserId: \n",
      "OwnerDisplayName: \n",
      "OwnerUserId: 23\n",
      "ParentId: \n",
      "PostTypeId: 1\n",
      "Score: 40\n",
      "Tags: <.net><asp.net-web-api><asp.net>\n",
      "Title: La creación manual de un alias de ruta con un DirectRouteProvider personalizado causa un error \"Multiple actions were found that match the request\"\n",
      "ViewCount: 780\n"
     ]
    }
   ],
   "source": [
    "for k,v in post.items():\n",
    "    print(\"%s: %s\" % (k,v))"
   ]
  },
  {
   "cell_type": "markdown",
   "metadata": {
    "id": "IVShFHvnXK4J"
   },
   "source": [
    "Además de `find_one()`, la función principal de búsqueda es `find()`. Esta función ofrece un conjunto muy ámplio de opciones para búsqueda, que estudiaremos a continuación.\n",
    "\n",
    "Primero, una consulta sencilla, con el valor de un campo:"
   ]
  },
  {
   "cell_type": "code",
   "execution_count": 33,
   "metadata": {
    "id": "2PKMP9d1XK4J"
   },
   "outputs": [
    {
     "data": {
      "text/plain": [
       "211615"
      ]
     },
     "execution_count": 33,
     "metadata": {},
     "output_type": "execute_result"
    }
   ],
   "source": [
    "posts.count_documents({'PostTypeId':2})"
   ]
  },
  {
   "cell_type": "markdown",
   "metadata": {
    "id": "jTBq7CmiXK4N"
   },
   "source": [
    "También existe `explain()`, al estilo de SQL."
   ]
  },
  {
   "cell_type": "code",
   "execution_count": 50,
   "metadata": {
    "id": "m0iF81EEXK4N",
    "scrolled": true
   },
   "outputs": [
    {
     "data": {
      "text/plain": [
       "{'explainVersion': '1',\n",
       " 'queryPlanner': {'namespace': 'stackoverflow.posts',\n",
       "  'indexFilterSet': False,\n",
       "  'parsedQuery': {'PostTypeId': {'$eq': 2}},\n",
       "  'queryHash': 'D71919F9',\n",
       "  'planCacheKey': 'D71919F9',\n",
       "  'maxIndexedOrSolutionsReached': False,\n",
       "  'maxIndexedAndSolutionsReached': False,\n",
       "  'maxScansToExplodeReached': False,\n",
       "  'winningPlan': {'stage': 'COLLSCAN',\n",
       "   'filter': {'PostTypeId': {'$eq': 2}},\n",
       "   'direction': 'forward'},\n",
       "  'rejectedPlans': []},\n",
       " 'executionStats': {'executionSuccess': True,\n",
       "  'nReturned': 211615,\n",
       "  'executionTimeMillis': 501,\n",
       "  'totalKeysExamined': 0,\n",
       "  'totalDocsExamined': 410346,\n",
       "  'executionStages': {'stage': 'COLLSCAN',\n",
       "   'filter': {'PostTypeId': {'$eq': 2}},\n",
       "   'nReturned': 211615,\n",
       "   'executionTimeMillisEstimate': 141,\n",
       "   'works': 410347,\n",
       "   'advanced': 211615,\n",
       "   'needTime': 198731,\n",
       "   'needYield': 0,\n",
       "   'saveState': 410,\n",
       "   'restoreState': 410,\n",
       "   'isEOF': 1,\n",
       "   'direction': 'forward',\n",
       "   'docsExamined': 410346},\n",
       "  'allPlansExecution': []},\n",
       " 'command': {'find': 'posts',\n",
       "  'filter': {'PostTypeId': 2},\n",
       "  '$db': 'stackoverflow'},\n",
       " 'serverInfo': {'host': 'c7c8ca29bd71',\n",
       "  'port': 27017,\n",
       "  'version': '7.0.14',\n",
       "  'gitVersion': 'ce59cfc6a3c5e5c067dca0d30697edd68d4f5188'},\n",
       " 'serverParameters': {'internalQueryFacetBufferSizeBytes': 104857600,\n",
       "  'internalQueryFacetMaxOutputDocSizeBytes': 104857600,\n",
       "  'internalLookupStageIntermediateDocumentMaxSizeBytes': 104857600,\n",
       "  'internalDocumentSourceGroupMaxMemoryBytes': 104857600,\n",
       "  'internalQueryMaxBlockingSortMemoryUsageBytes': 104857600,\n",
       "  'internalQueryProhibitBlockingMergeOnMongoS': 0,\n",
       "  'internalQueryMaxAddToSetBytes': 104857600,\n",
       "  'internalDocumentSourceSetWindowFieldsMaxMemoryBytes': 104857600,\n",
       "  'internalQueryFrameworkControl': 'trySbeRestricted'},\n",
       " 'ok': 1.0}"
      ]
     },
     "execution_count": 50,
     "metadata": {},
     "output_type": "execute_result"
    }
   ],
   "source": [
    "posts.find({\"PostTypeId\": 2}).explain()"
   ]
  },
  {
   "cell_type": "markdown",
   "metadata": {
    "id": "onM1DoExXK4Q"
   },
   "source": [
    "También se puede limitar la búsqueda."
   ]
  },
  {
   "cell_type": "code",
   "execution_count": 73,
   "metadata": {
    "id": "gbqfnOusXK4R"
   },
   "outputs": [],
   "source": [
    "respuestas = posts.find({'PostTypeId': 2}).limit(10)"
   ]
  },
  {
   "cell_type": "markdown",
   "metadata": {
    "id": "GWqOek7JXK4U"
   },
   "source": [
    "La respuesta no es un conjunto de elementos, sino un cursor que puede ir recorriéndose."
   ]
  },
  {
   "cell_type": "code",
   "execution_count": 71,
   "metadata": {
    "id": "VmIDFzQzXK4U",
    "scrolled": true
   },
   "outputs": [
    {
     "data": {
      "text/plain": [
       "<pymongo.synchronous.cursor.Cursor at 0x161e3c288d0>"
      ]
     },
     "execution_count": 71,
     "metadata": {},
     "output_type": "execute_result"
    }
   ],
   "source": [
    "respuestas"
   ]
  },
  {
   "cell_type": "code",
   "execution_count": 74,
   "metadata": {},
   "outputs": [
    {
     "name": "stdout",
     "output_type": "stream",
     "text": [
      "{'_id': ObjectId('671278740e27c77fce31a7a0'), 'Id': 2, 'AcceptedAnswerId': '', 'AnswerCount': '', 'Body': '<p>He encontrado la solución.</p><br/><br/><p>Resulta que las rutas tienen asignada una <strong>precedencia</strong> numérica asignada, que el motor de enrutamiento de WebApi usa para decidir qué ruta usar en caso de conflicto. Las rutas creadas automáticamente para una misma acción siempre tienen una precedencia distinta, ¡pero la ruta que yo estaba creando manualmente tenía la misma precedencia que la ya existente!</p><br/><br/><p>Así pues la solución es añadir lo siguiente a <code>GetActionDirectRoutes</code>, inmediatamente después de <code>new RouteEntry</code>:</p><br/><br/><pre><code>entry.Route.DataTokens[\"precedence\"] = <br/>    ((decimal)route.Route.DataTokens[\"precedence\"]) - 0.1M;<br/></code></pre><br/>', 'ClosedDate': None, 'CommentCount': 2, 'CommunityOwnedDate': None, 'ContentLicense': 'CC BY-SA 3.0', 'CreationDate': datetime.datetime(2015, 10, 29, 19, 14, 23, 673000), 'FavoriteCount': '', 'LastActivityDate': datetime.datetime(2015, 10, 29, 19, 14, 23, 673000), 'LastEditDate': None, 'LastEditorDisplayName': '', 'LastEditorUserId': '', 'OwnerDisplayName': '', 'OwnerUserId': 23, 'ParentId': 1, 'PostTypeId': 2, 'Score': 31, 'Tags': '', 'Title': '', 'ViewCount': ''}\n",
      "{'_id': ObjectId('671278740e27c77fce31a7a2'), 'Id': 4, 'AcceptedAnswerId': '', 'AnswerCount': '', 'Body': '<p><code>.AsString</code> devuelve el mismo \"<em>string</em>\" que la propiedad <code>.Text</code> si no existe ningún controlador de eventos \"Event Handler\", <code>OnGetText</code>, pero de existir uno puede darse el caso de ser diferente, o quizás un descendiente en <code>TField</code> que no sea el estándar podría ocasionar que fuera diferente.</p><br/><br/><p>Saludos y espero ayude.</p><br/><br/><p>P.D: Sobre si hay una razón para usar una u otra no sabría decirle con total certeza eso dependería del uso que tenga previsto para el valor de retorno.</p><br/>', 'ClosedDate': None, 'CommentCount': 0, 'CommunityOwnedDate': None, 'ContentLicense': 'CC BY-SA 3.0', 'CreationDate': datetime.datetime(2015, 10, 30, 0, 45, 47, 640000), 'FavoriteCount': '', 'LastActivityDate': datetime.datetime(2015, 12, 14, 0, 58, 15, 613000), 'LastEditDate': datetime.datetime(2015, 12, 14, 0, 58, 15, 613000), 'LastEditorDisplayName': '', 'LastEditorUserId': 25, 'OwnerDisplayName': '', 'OwnerUserId': 24, 'ParentId': 3, 'PostTypeId': 2, 'Score': 6, 'Tags': '', 'Title': '', 'ViewCount': ''}\n",
      "{'_id': ObjectId('671278740e27c77fce31a7a5'), 'Id': 7, 'AcceptedAnswerId': '', 'AnswerCount': '', 'Body': '<p>Lo de elegancia es algo difícil de decir, es cuestión de gustos. Pero la legibilidad del código siempre es importante. Por eso, este código se puede simplificar así: (a mi me parece más legible)</p><br/><br/><pre><code>std::string tempStr;<br/>while(isstream >> tempStr) {<br/>    std::cout << tempStr << std::endl;<br/>}<br/></code></pre><br/><br/><p>Con lo cual, metiendo todo en una función quedaría algo así:</p><br/><br/><pre><code>std::vector<std::string> split_istringstream(std::string str) {<br/>    std::vector<std::string> resultado;<br/>    std::istringstream isstream(str);<br/>    std::string palabra;<br/><br/>    while(isstream >> palabra){<br/>        resultado.push_back(palabra);<br/>    }<br/><br/>    return resultado;<br/>}<br/></code></pre><br/><br/><p>Otra alternativa, que incluso permite definir el delimitador (el operador >> de <code>istringstream</code> solo divide la cadena por los espacios - ASCII 32) es utilizar <a href=\"http://es.cppreference.com/w/cpp/string/basic_string/getline\" rel=\"noreferrer\">std::getline</a>. </p><br/><br/><pre><code>std::vector<std::string> split_getline(std::string str, char delim) {<br/>    std::vector<std::string> resultado;<br/>    std::istringstream isstream(str);<br/>    std::string palabra;<br/><br/>    while(std::getline(isstream, palabra, delim)){<br/>        resultado.push_back(palabra);<br/>    }<br/><br/>    return resultado;<br/>}<br/></code></pre><br/><br/><p>Aquí abajo te dejo una comparativa entre ambas opciones, son prácticamente iguales en eficiencia, dejando de un lado los vectores, reservan prácticamente la misma memoria.</p><br/><br/><p><a href=\"http://cpp.sh/3jtw\" rel=\"noreferrer\">http://cpp.sh/3jtw</a></p><br/>', 'ClosedDate': None, 'CommentCount': 0, 'CommunityOwnedDate': None, 'ContentLicense': 'CC BY-SA 3.0', 'CreationDate': datetime.datetime(2015, 10, 30, 5, 30, 50, 993000), 'FavoriteCount': '', 'LastActivityDate': datetime.datetime(2017, 3, 4, 4, 16, 19, 167000), 'LastEditDate': datetime.datetime(2017, 3, 4, 4, 16, 19, 167000), 'LastEditorDisplayName': '', 'LastEditorUserId': 29967, 'OwnerDisplayName': '', 'OwnerUserId': 25, 'ParentId': 5, 'PostTypeId': 2, 'Score': 29, 'Tags': '', 'Title': '', 'ViewCount': ''}\n",
      "{'_id': ObjectId('671278740e27c77fce31a7a7'), 'Id': 9, 'AcceptedAnswerId': '', 'AnswerCount': '', 'Body': '<p>Antes de responder directamente la respuesta, hablaremos de las propiedades relevantes de TField y sus descendientes.</p><br/><br/><h1><code>Text</code>/<code>DisplayText</code></h1><br/><br/><p>Ambas propiedades sirven para obtener una representación textual del valor del campo para su uso en la Interfaz de Usuario. <br/>El propósito de la propiedad <code>Text</code> es el de obtener una representación textual del campo cuándo está siendo editado en un control asociado a datos (Data Aware), en contraste con la propiedad <code>DisplayText</code> que proporciona el valor del campo con formato de visualización para el usuario, por ejemplo, puede contener caracteres de puntuación u otra decoración al valor plano. (1234.50 en contraste con 1,234.50).</p><br/><br/><p>En otras palabras, un <code>TdbEdit</code> o controles similares, mostrarán el valor de <code>DisplayText</code> cuándo no están siendo editados, y al recibir el foco, cambiarán el valor al de la propiedad <code>Text</code> y es este valor el que el usuario \"edita\". Un TdbLabel solamente tira de la propiedad <code>DisplayText</code>, ya que no es editable.</p><br/><br/><p>La documentación para <code>Text</code> dice:</p><br/><br/><blockquote><br/>  <p>Contains the string to display in a data-aware control when the field is in edit mode</p><br/></blockquote><br/><br/><p>Un ejemplo típico es un <code>TFloatField</code> con la propiedad <code>Currency</code> establecida a <code>True</code>. La propiedad DisplayText te devuelve el string con el número conteniendo separadores de miles, el separador decimal y el símbolo de la moneda. La propiedad Text, te devuelve una cadena que no contiene separadores de miles ni símbolo de moneda.</p><br/><br/><pre><code>begin<br/>  MyFloatField.Currency := True;<br/>  MyFloatField.AsFloat := 1234.56;<br/>  A := MyFloatField.Text; //\\'1234.56\\'<br/>  B := MyFloatField.DisplayText; //\\'$1,234.56\\', depends on your locale<br/>  ShowMessage(A + #13 + B);<br/>end;<br/></code></pre><br/><br/><p>El comportamiento de ambas propiedades puede ser personalizado escribiendo un manejador de eventos para <code>OnGetText</code>, dónde se puede escribir la lógica para convertir el valor del campo en una de ambas representaciones textuales. El parámetro booleano <code>DisplayText</code> indica si la cadena solicitada es para representar el valor en la interfaz de usuario o para edición. </p><br/><br/><p>De esta manera, podemos lograr que la representación en la interfaz de usuario para un campo entero con valor 1 sea \\'uno\\', y su valor para edición sea \\'one\\'</p><br/><br/><h1><code>AsString</code></h1><br/><br/><p>Por otro lado, la propiedad AsString utiliza una conversión plana entre el tipo de dato base del campo y una cadena de caracteres. Cada descendiente de <code>TField</code> implementa el método virtual <code>GetAsString</code> que típicamente utiliza funciones de la RTL para realizar la conversión. Siguiendo con el ejemplo de TFloatField, esta clase llama a la función FloatToStr() para realizar la conversión.</p><br/><br/><h1>La respuesta</h1><br/><br/><p>Dicho todo esto, la respuesta a la pregunta sería:</p><br/><br/><p>AsString retorna usualmente el mismo valor que retorna la propiedad Text, siempre que no haya un manejador de evento para OnGetText, pero la representación podría ser diferente si hubiese un manejador de evento o un descendiente no estándar de TField.</p><br/><br/><p>Con la información dada, no puede decirse cuál es más apropiado, ya que esto depende de cuál es el uso que se le dará al valor retornado. Si se está utilizando para mostrar valores en la Interfaz de usuario, como se muestra en los ejemplos de código proporcionados, mi consejo es que utilices la propiedad <code>DisplayText</code>.</p><br/>', 'ClosedDate': None, 'CommentCount': 1, 'CommunityOwnedDate': None, 'ContentLicense': 'CC BY-SA 3.0', 'CreationDate': datetime.datetime(2015, 10, 30, 13, 59, 47, 113000), 'FavoriteCount': '', 'LastActivityDate': datetime.datetime(2015, 10, 30, 13, 59, 47, 113000), 'LastEditDate': None, 'LastEditorDisplayName': '', 'LastEditorUserId': '', 'OwnerDisplayName': '', 'OwnerUserId': 21, 'ParentId': 3, 'PostTypeId': 2, 'Score': 12, 'Tags': '', 'Title': '', 'ViewCount': ''}\n",
      "{'_id': ObjectId('671278740e27c77fce31a7a9'), 'Id': 11, 'AcceptedAnswerId': '', 'AnswerCount': '', 'Body': '<p>En el primer caso:</p><br/><br/><pre><code>nombreCompleto1 = () => {<br/>    return this.nombre + \" \" + this.apellido;<br/>}<br/></code></pre><br/><br/><p>estás creando un <em>método de instancia</em>, es equivalente a ejecutar <code>this.nombreCompleto1 = function() {...}</code> en JavaScript.</p><br/><br/><p>En el segundo caso:</p><br/><br/><pre><code>nombreCompleto2() {<br/>    return this.nombre + \" \" + this.apellido;<br/>}<br/></code></pre><br/><br/><p>estás creando un <em>método de prototipo</em>, es equivalente a <code>Persona.prototype.nombreCompleto2 = function() {...}</code> en JavaScript.</p><br/><br/><p>En general es preferible crear métodos de prototipo: en tal caso el método se define una sola vez, mientras que los métodos de instancia se crean una vez por instancia, consumiendo más memoria.</p><br/><br/><p>Más información: <a href=\"http://www.johnpapa.net/typescriptpost3\" rel=\"noreferrer\">TypeScript Classes and Interfaces</a></p><br/>', 'ClosedDate': None, 'CommentCount': 2, 'CommunityOwnedDate': None, 'ContentLicense': 'CC BY-SA 3.0', 'CreationDate': datetime.datetime(2015, 10, 30, 14, 43, 43, 737000), 'FavoriteCount': '', 'LastActivityDate': datetime.datetime(2015, 12, 14, 1, 5, 34, 960000), 'LastEditDate': datetime.datetime(2015, 12, 14, 1, 5, 34, 960000), 'LastEditorDisplayName': '', 'LastEditorUserId': 25, 'OwnerDisplayName': '', 'OwnerUserId': 23, 'ParentId': 10, 'PostTypeId': 2, 'Score': 25, 'Tags': '', 'Title': '', 'ViewCount': ''}\n",
      "{'_id': ObjectId('671278740e27c77fce31a7ae'), 'Id': 17, 'AcceptedAnswerId': '', 'AnswerCount': '', 'Body': '<p>Para realizar esta operación, ejecuta <code>Xcode</code> como <code>root</code> con el comando <a href=\"https://es.wikipedia.org/wiki/Sudo\" rel=\"nofollow\"><code>sudo</code></a> e instala dentro de esa sesión:</p><br/><br/><pre><code>sudo /Applications/Xcode.app/Contents/MacOS/Xcode<br/></code></pre><br/><br/><p>Una vez hayas instalados debes salir e iniciar normalmente.</p><br/><br/><p>Debes tener precaución si tienes proyectos abiertos cuando usas sudo para lanzar Xcode.</p><br/>', 'ClosedDate': None, 'CommentCount': 0, 'CommunityOwnedDate': None, 'ContentLicense': 'CC BY-SA 3.0', 'CreationDate': datetime.datetime(2015, 10, 30, 20, 36, 12, 323000), 'FavoriteCount': '', 'LastActivityDate': datetime.datetime(2015, 11, 2, 17, 8, 36, 167000), 'LastEditDate': datetime.datetime(2015, 11, 2, 17, 8, 36, 167000), 'LastEditorDisplayName': '', 'LastEditorUserId': 21, 'OwnerDisplayName': '', 'OwnerUserId': 24, 'ParentId': 16, 'PostTypeId': 2, 'Score': 5, 'Tags': '', 'Title': '', 'ViewCount': ''}\n",
      "{'_id': ObjectId('671278740e27c77fce31a7af'), 'Id': 18, 'AcceptedAnswerId': '', 'AnswerCount': '', 'Body': '<p>Como ya mencioné yo no uso Perl, pero mirando la documentación en una parte de ella dice lo siguiente:</p><br/><br/><blockquote><br/>  <p>\"Si el desplazamiento es más allá del final de la matriz, Perl emite<br/>  una advertencia, y (Perl) empalma/splice en el extremo de la matriz.\"</p><br/></blockquote><br/><br/><p><em>...If OFFSET is past the end of the array, Perl issues a warning, and splices at the end of the array.</em></p><br/><br/><p>De echo he revisado en varias versiones y es lo mismo por lo menos la documentación advierten sobre el <em>warning</em>.</p><br/><br/><p>Aquí le dejo los links (en Inglés); </p><br/><br/><ul><br/><li><p><a href=\"http://perldoc.perl.org/5.16.2/functions/splice.html\" rel=\"noreferrer\" title=\"http://perldoc.perl.org/5.16.2/functions/splice.html\">Perl v 5.16.2</a></p></li><br/><li><p><a href=\"http://perldoc.perl.org/5.20.0/functions/splice.html\" rel=\"noreferrer\" title=\"http://perldoc.perl.org/5.20.0/functions/splice.html\">Perl v 5.20.0</a></p></li><br/><li><p><a href=\"http://perldoc.perl.org/functions/splice.html\" rel=\"noreferrer\" title=\"http://perldoc.perl.org/functions/splice.html\">Perl v 5.22</a></p></li><br/></ul><br/><br/><p>Según lo anterior lo normal es el <em>warning</em>, pero por lo que se puede ver en el siguiente link, no en todas las versiones es así y también depende del OS.</p><br/><br/><p><a href=\"http://www.nntp.perl.org/group/perl.perl5.porters/2013/04/msg201134.html\" rel=\"noreferrer\">http://www.nntp.perl.org/group/perl.perl5.porters/2013/04/msg201134.html</a></p><br/><br/><p>Creo que eso ocurre entre la <code>5.14</code> y <code>5.16</code> en algunos sistemas, aquí puede ver la notificación de bug pero quizás también le suceda a usted en la <code>5.20</code> debido a su OS y no es que haya cambiado algo. </p><br/><br/><p><a href=\"https://rt.perl.org/Public/Bug/Display.html?id=117729\" rel=\"noreferrer\">https://rt.perl.org/Public/Bug/Display.html?id=117729</a></p><br/>', 'ClosedDate': None, 'CommentCount': 1, 'CommunityOwnedDate': None, 'ContentLicense': 'CC BY-SA 3.0', 'CreationDate': datetime.datetime(2015, 10, 31, 1, 15, 2, 47000), 'FavoriteCount': '', 'LastActivityDate': datetime.datetime(2015, 12, 15, 22, 22, 22, 80000), 'LastEditDate': datetime.datetime(2015, 12, 15, 22, 22, 22, 80000), 'LastEditorDisplayName': '', 'LastEditorUserId': 264, 'OwnerDisplayName': '', 'OwnerUserId': 24, 'ParentId': 12, 'PostTypeId': 2, 'Score': 13, 'Tags': '', 'Title': '', 'ViewCount': ''}\n",
      "{'_id': ObjectId('671278740e27c77fce31a7b4'), 'Id': 23, 'AcceptedAnswerId': '', 'AnswerCount': '', 'Body': '<p><em>voy a sumarme con la parte de la pregunta que no se ha respondido aun: <strong>¿Por qué cambió?</em></strong></p><br/><br/><p>Cambio por que la intención de este código:</p><br/><br/><pre><code>my @x = qw( 1 2 3 4 5 );<br/>splice(@x, 3);<br/></code></pre><br/><br/><p>es claramente truncar el array si es demasiado largo y <em>no hay razon para emitir una advertencia si el array tiene <strong>menos</strong> elementos que el máximo especificado</em> (como en el caso citado en la pregunta)</p><br/><br/><p><a href=\"http://perl5.git.perl.org/perl.git/commitdiff/5cd408a276e19848774860967c3ec06b67b863ee?hp=0890f1a536cff0aff68038cae78e02c9d9b6a2b2\">Fuente (en Inglés)</a> </p><br/>', 'ClosedDate': None, 'CommentCount': 0, 'CommunityOwnedDate': None, 'ContentLicense': 'CC BY-SA 3.0', 'CreationDate': datetime.datetime(2015, 10, 31, 2, 54, 43, 877000), 'FavoriteCount': '', 'LastActivityDate': datetime.datetime(2015, 10, 31, 5, 6, 45, 243000), 'LastEditDate': datetime.datetime(2015, 10, 31, 5, 6, 45, 243000), 'LastEditorDisplayName': '', 'LastEditorUserId': 25, 'OwnerDisplayName': '', 'OwnerUserId': 25, 'ParentId': 12, 'PostTypeId': 2, 'Score': 9, 'Tags': '', 'Title': '', 'ViewCount': ''}\n",
      "{'_id': ObjectId('671278740e27c77fce31a7b6'), 'Id': 25, 'AcceptedAnswerId': '', 'AnswerCount': '', 'Body': '<p>Creo que <a href=\"https://hexdocs.pm/elixir/Enum.html#to_list/1\" rel=\"noreferrer\">esto</a> es lo que usted esta buscando</p><br/><br/><p><strong>to_list (colección)</strong></p><br/><br/><p><strong><em>Convierte la colección a una lista</em></strong></p><br/><br/><pre><code>iex> Enum.to_list 1..5<br/>[1, 2, 3, 4, 5]<br/></code></pre><br/><br/><p>espero le ayude</p><br/>', 'ClosedDate': None, 'CommentCount': 0, 'CommunityOwnedDate': None, 'ContentLicense': 'CC BY-SA 4.0', 'CreationDate': datetime.datetime(2015, 10, 31, 19, 39, 29, 827000), 'FavoriteCount': '', 'LastActivityDate': datetime.datetime(2018, 11, 10, 2, 25, 30, 193000), 'LastEditDate': datetime.datetime(2018, 11, 10, 2, 25, 30, 193000), 'LastEditorDisplayName': '', 'LastEditorUserId': 29186, 'OwnerDisplayName': '', 'OwnerUserId': 24, 'ParentId': 24, 'PostTypeId': 2, 'Score': 12, 'Tags': '', 'Title': '', 'ViewCount': ''}\n",
      "{'_id': ObjectId('671278740e27c77fce31a7b9'), 'Id': 30, 'AcceptedAnswerId': '', 'AnswerCount': '', 'Body': '<p>Los <code>FPS</code> varian porque solo se solicita un marco cuando es necesario. por ejemplo si la imagen no cambia o es un fondo oscuro la tasa se puede reducir a una tasa más baja, ademas cuando se ejecuta en las pestañas de fondo tambien pude darse el caso para mejorar el rendimiento y la duración de la batería.</p><br/><br/><p>Puede mirar este caso como se \"ajustan los frames\" usando: <code>startAnimating(5)</code>;<br/><a href=\"http://jsfiddle.net/m1erickson/CtsY3/\" rel=\"noreferrer\">jsfiddle</a></p><br/><br/><p><div class=\"snippet\" data-lang=\"js\" data-hide=\"false\" data-console=\"true\" data-babel=\"false\"><br/><div class=\"snippet-code\"><br/><pre class=\"snippet-code-js lang-js prettyprint-override\"><code>var stop = false;<br/>var frameCount = 0;<br/>var $results = $(\"#results\");<br/>var fps, fpsInterval, startTime, now, then, elapsed;<br/><br/>startAnimating(5);<br/><br/>function startAnimating(fps) {<br/>    fpsInterval = 1000 / fps;<br/>    then = Date.now();<br/>    startTime = then;<br/>    console.log(startTime);<br/>    animate();<br/>}<br/><br/><br/>function animate() {<br/><br/>    // stop<br/>    if (stop) {<br/>        return;<br/>    }<br/><br/>    // request another frame<br/><br/>    requestAnimationFrame(animate);<br/><br/>    // calc elapsed time since last loop<br/><br/>    now = Date.now();<br/>    elapsed = now - then;<br/><br/>    // if enough time has elapsed, draw the next frame<br/><br/>    if (elapsed > fpsInterval) {<br/><br/>        // Get ready for next frame by setting then=now, but...<br/>        // Also, adjust for fpsInterval not being multiple of 16.67<br/>        then = now - (elapsed % fpsInterval);<br/><br/>        // draw stuff here<br/><br/><br/>        // TESTING...Report #seconds since start and achieved fps.<br/>        var sinceStart = now - startTime;<br/>        var currentFps = Math.round(1000 / (sinceStart / ++frameCount) * 100) / 100;<br/>        $results.text(\"Elapsed time= \" + Math.round(sinceStart / 1000 * 100) / 100 + \" secs @ \" + currentFps + \" fps.\");<br/><br/>    }<br/>}</code></pre><br/><pre class=\"snippet-code-html lang-html prettyprint-override\"><code><script src=\"https://ajax.googleapis.com/ajax/libs/jquery/1.9.1/jquery.min.js\"></script><br/><h3>Throttling requestAnimationFrame to a FPS</h3><br/><p>This test:  Results should be approximately 5 fps<br/><p id=\"results\">Results:</p><br/><canvas id=\"canvas\" width=300 height=300></canvas></code></pre><br/></div><br/></div><br/></p><br/>', 'ClosedDate': None, 'CommentCount': 1, 'CommunityOwnedDate': None, 'ContentLicense': 'CC BY-SA 3.0', 'CreationDate': datetime.datetime(2015, 11, 1, 16, 27, 13, 990000), 'FavoriteCount': '', 'LastActivityDate': datetime.datetime(2016, 11, 10, 23, 45, 37, 783000), 'LastEditDate': datetime.datetime(2016, 11, 10, 23, 45, 37, 783000), 'LastEditorDisplayName': '', 'LastEditorUserId': 22635, 'OwnerDisplayName': '', 'OwnerUserId': 24, 'ParentId': 29, 'PostTypeId': 2, 'Score': 6, 'Tags': '', 'Title': '', 'ViewCount': ''}\n"
     ]
    }
   ],
   "source": [
    "# Los cursores son como iteradores. \n",
    "# Por lo que si le pedimos next, nos \n",
    "# proporcionará la siguiente consulta generada\n",
    "for document in respuestas:\n",
    "    print(document)"
   ]
  },
  {
   "cell_type": "code",
   "execution_count": 78,
   "metadata": {
    "id": "unyEux3PXK4X"
   },
   "outputs": [
    {
     "data": {
      "text/plain": [
       "[{'_id': ObjectId('671278740e27c77fce31a7a0'),\n",
       "  'Id': 2,\n",
       "  'AcceptedAnswerId': '',\n",
       "  'AnswerCount': '',\n",
       "  'Body': '<p>He encontrado la solución.</p><br/><br/><p>Resulta que las rutas tienen asignada una <strong>precedencia</strong> numérica asignada, que el motor de enrutamiento de WebApi usa para decidir qué ruta usar en caso de conflicto. Las rutas creadas automáticamente para una misma acción siempre tienen una precedencia distinta, ¡pero la ruta que yo estaba creando manualmente tenía la misma precedencia que la ya existente!</p><br/><br/><p>Así pues la solución es añadir lo siguiente a <code>GetActionDirectRoutes</code>, inmediatamente después de <code>new RouteEntry</code>:</p><br/><br/><pre><code>entry.Route.DataTokens[\"precedence\"] = <br/>    ((decimal)route.Route.DataTokens[\"precedence\"]) - 0.1M;<br/></code></pre><br/>',\n",
       "  'ClosedDate': None,\n",
       "  'CommentCount': 2,\n",
       "  'CommunityOwnedDate': None,\n",
       "  'ContentLicense': 'CC BY-SA 3.0',\n",
       "  'CreationDate': datetime.datetime(2015, 10, 29, 19, 14, 23, 673000),\n",
       "  'FavoriteCount': '',\n",
       "  'LastActivityDate': datetime.datetime(2015, 10, 29, 19, 14, 23, 673000),\n",
       "  'LastEditDate': None,\n",
       "  'LastEditorDisplayName': '',\n",
       "  'LastEditorUserId': '',\n",
       "  'OwnerDisplayName': '',\n",
       "  'OwnerUserId': 23,\n",
       "  'ParentId': 1,\n",
       "  'PostTypeId': 2,\n",
       "  'Score': 31,\n",
       "  'Tags': '',\n",
       "  'Title': '',\n",
       "  'ViewCount': ''},\n",
       " {'_id': ObjectId('671278740e27c77fce31a7a2'),\n",
       "  'Id': 4,\n",
       "  'AcceptedAnswerId': '',\n",
       "  'AnswerCount': '',\n",
       "  'Body': '<p><code>.AsString</code> devuelve el mismo \"<em>string</em>\" que la propiedad <code>.Text</code> si no existe ningún controlador de eventos \"Event Handler\", <code>OnGetText</code>, pero de existir uno puede darse el caso de ser diferente, o quizás un descendiente en <code>TField</code> que no sea el estándar podría ocasionar que fuera diferente.</p><br/><br/><p>Saludos y espero ayude.</p><br/><br/><p>P.D: Sobre si hay una razón para usar una u otra no sabría decirle con total certeza eso dependería del uso que tenga previsto para el valor de retorno.</p><br/>',\n",
       "  'ClosedDate': None,\n",
       "  'CommentCount': 0,\n",
       "  'CommunityOwnedDate': None,\n",
       "  'ContentLicense': 'CC BY-SA 3.0',\n",
       "  'CreationDate': datetime.datetime(2015, 10, 30, 0, 45, 47, 640000),\n",
       "  'FavoriteCount': '',\n",
       "  'LastActivityDate': datetime.datetime(2015, 12, 14, 0, 58, 15, 613000),\n",
       "  'LastEditDate': datetime.datetime(2015, 12, 14, 0, 58, 15, 613000),\n",
       "  'LastEditorDisplayName': '',\n",
       "  'LastEditorUserId': 25,\n",
       "  'OwnerDisplayName': '',\n",
       "  'OwnerUserId': 24,\n",
       "  'ParentId': 3,\n",
       "  'PostTypeId': 2,\n",
       "  'Score': 6,\n",
       "  'Tags': '',\n",
       "  'Title': '',\n",
       "  'ViewCount': ''},\n",
       " {'_id': ObjectId('671278740e27c77fce31a7a5'),\n",
       "  'Id': 7,\n",
       "  'AcceptedAnswerId': '',\n",
       "  'AnswerCount': '',\n",
       "  'Body': '<p>Lo de elegancia es algo difícil de decir, es cuestión de gustos. Pero la legibilidad del código siempre es importante. Por eso, este código se puede simplificar así: (a mi me parece más legible)</p><br/><br/><pre><code>std::string tempStr;<br/>while(isstream >> tempStr) {<br/>    std::cout << tempStr << std::endl;<br/>}<br/></code></pre><br/><br/><p>Con lo cual, metiendo todo en una función quedaría algo así:</p><br/><br/><pre><code>std::vector<std::string> split_istringstream(std::string str) {<br/>    std::vector<std::string> resultado;<br/>    std::istringstream isstream(str);<br/>    std::string palabra;<br/><br/>    while(isstream >> palabra){<br/>        resultado.push_back(palabra);<br/>    }<br/><br/>    return resultado;<br/>}<br/></code></pre><br/><br/><p>Otra alternativa, que incluso permite definir el delimitador (el operador >> de <code>istringstream</code> solo divide la cadena por los espacios - ASCII 32) es utilizar <a href=\"http://es.cppreference.com/w/cpp/string/basic_string/getline\" rel=\"noreferrer\">std::getline</a>. </p><br/><br/><pre><code>std::vector<std::string> split_getline(std::string str, char delim) {<br/>    std::vector<std::string> resultado;<br/>    std::istringstream isstream(str);<br/>    std::string palabra;<br/><br/>    while(std::getline(isstream, palabra, delim)){<br/>        resultado.push_back(palabra);<br/>    }<br/><br/>    return resultado;<br/>}<br/></code></pre><br/><br/><p>Aquí abajo te dejo una comparativa entre ambas opciones, son prácticamente iguales en eficiencia, dejando de un lado los vectores, reservan prácticamente la misma memoria.</p><br/><br/><p><a href=\"http://cpp.sh/3jtw\" rel=\"noreferrer\">http://cpp.sh/3jtw</a></p><br/>',\n",
       "  'ClosedDate': None,\n",
       "  'CommentCount': 0,\n",
       "  'CommunityOwnedDate': None,\n",
       "  'ContentLicense': 'CC BY-SA 3.0',\n",
       "  'CreationDate': datetime.datetime(2015, 10, 30, 5, 30, 50, 993000),\n",
       "  'FavoriteCount': '',\n",
       "  'LastActivityDate': datetime.datetime(2017, 3, 4, 4, 16, 19, 167000),\n",
       "  'LastEditDate': datetime.datetime(2017, 3, 4, 4, 16, 19, 167000),\n",
       "  'LastEditorDisplayName': '',\n",
       "  'LastEditorUserId': 29967,\n",
       "  'OwnerDisplayName': '',\n",
       "  'OwnerUserId': 25,\n",
       "  'ParentId': 5,\n",
       "  'PostTypeId': 2,\n",
       "  'Score': 29,\n",
       "  'Tags': '',\n",
       "  'Title': '',\n",
       "  'ViewCount': ''},\n",
       " {'_id': ObjectId('671278740e27c77fce31a7a7'),\n",
       "  'Id': 9,\n",
       "  'AcceptedAnswerId': '',\n",
       "  'AnswerCount': '',\n",
       "  'Body': '<p>Antes de responder directamente la respuesta, hablaremos de las propiedades relevantes de TField y sus descendientes.</p><br/><br/><h1><code>Text</code>/<code>DisplayText</code></h1><br/><br/><p>Ambas propiedades sirven para obtener una representación textual del valor del campo para su uso en la Interfaz de Usuario. <br/>El propósito de la propiedad <code>Text</code> es el de obtener una representación textual del campo cuándo está siendo editado en un control asociado a datos (Data Aware), en contraste con la propiedad <code>DisplayText</code> que proporciona el valor del campo con formato de visualización para el usuario, por ejemplo, puede contener caracteres de puntuación u otra decoración al valor plano. (1234.50 en contraste con 1,234.50).</p><br/><br/><p>En otras palabras, un <code>TdbEdit</code> o controles similares, mostrarán el valor de <code>DisplayText</code> cuándo no están siendo editados, y al recibir el foco, cambiarán el valor al de la propiedad <code>Text</code> y es este valor el que el usuario \"edita\". Un TdbLabel solamente tira de la propiedad <code>DisplayText</code>, ya que no es editable.</p><br/><br/><p>La documentación para <code>Text</code> dice:</p><br/><br/><blockquote><br/>  <p>Contains the string to display in a data-aware control when the field is in edit mode</p><br/></blockquote><br/><br/><p>Un ejemplo típico es un <code>TFloatField</code> con la propiedad <code>Currency</code> establecida a <code>True</code>. La propiedad DisplayText te devuelve el string con el número conteniendo separadores de miles, el separador decimal y el símbolo de la moneda. La propiedad Text, te devuelve una cadena que no contiene separadores de miles ni símbolo de moneda.</p><br/><br/><pre><code>begin<br/>  MyFloatField.Currency := True;<br/>  MyFloatField.AsFloat := 1234.56;<br/>  A := MyFloatField.Text; //\\'1234.56\\'<br/>  B := MyFloatField.DisplayText; //\\'$1,234.56\\', depends on your locale<br/>  ShowMessage(A + #13 + B);<br/>end;<br/></code></pre><br/><br/><p>El comportamiento de ambas propiedades puede ser personalizado escribiendo un manejador de eventos para <code>OnGetText</code>, dónde se puede escribir la lógica para convertir el valor del campo en una de ambas representaciones textuales. El parámetro booleano <code>DisplayText</code> indica si la cadena solicitada es para representar el valor en la interfaz de usuario o para edición. </p><br/><br/><p>De esta manera, podemos lograr que la representación en la interfaz de usuario para un campo entero con valor 1 sea \\'uno\\', y su valor para edición sea \\'one\\'</p><br/><br/><h1><code>AsString</code></h1><br/><br/><p>Por otro lado, la propiedad AsString utiliza una conversión plana entre el tipo de dato base del campo y una cadena de caracteres. Cada descendiente de <code>TField</code> implementa el método virtual <code>GetAsString</code> que típicamente utiliza funciones de la RTL para realizar la conversión. Siguiendo con el ejemplo de TFloatField, esta clase llama a la función FloatToStr() para realizar la conversión.</p><br/><br/><h1>La respuesta</h1><br/><br/><p>Dicho todo esto, la respuesta a la pregunta sería:</p><br/><br/><p>AsString retorna usualmente el mismo valor que retorna la propiedad Text, siempre que no haya un manejador de evento para OnGetText, pero la representación podría ser diferente si hubiese un manejador de evento o un descendiente no estándar de TField.</p><br/><br/><p>Con la información dada, no puede decirse cuál es más apropiado, ya que esto depende de cuál es el uso que se le dará al valor retornado. Si se está utilizando para mostrar valores en la Interfaz de usuario, como se muestra en los ejemplos de código proporcionados, mi consejo es que utilices la propiedad <code>DisplayText</code>.</p><br/>',\n",
       "  'ClosedDate': None,\n",
       "  'CommentCount': 1,\n",
       "  'CommunityOwnedDate': None,\n",
       "  'ContentLicense': 'CC BY-SA 3.0',\n",
       "  'CreationDate': datetime.datetime(2015, 10, 30, 13, 59, 47, 113000),\n",
       "  'FavoriteCount': '',\n",
       "  'LastActivityDate': datetime.datetime(2015, 10, 30, 13, 59, 47, 113000),\n",
       "  'LastEditDate': None,\n",
       "  'LastEditorDisplayName': '',\n",
       "  'LastEditorUserId': '',\n",
       "  'OwnerDisplayName': '',\n",
       "  'OwnerUserId': 21,\n",
       "  'ParentId': 3,\n",
       "  'PostTypeId': 2,\n",
       "  'Score': 12,\n",
       "  'Tags': '',\n",
       "  'Title': '',\n",
       "  'ViewCount': ''},\n",
       " {'_id': ObjectId('671278740e27c77fce31a7a9'),\n",
       "  'Id': 11,\n",
       "  'AcceptedAnswerId': '',\n",
       "  'AnswerCount': '',\n",
       "  'Body': '<p>En el primer caso:</p><br/><br/><pre><code>nombreCompleto1 = () => {<br/>    return this.nombre + \" \" + this.apellido;<br/>}<br/></code></pre><br/><br/><p>estás creando un <em>método de instancia</em>, es equivalente a ejecutar <code>this.nombreCompleto1 = function() {...}</code> en JavaScript.</p><br/><br/><p>En el segundo caso:</p><br/><br/><pre><code>nombreCompleto2() {<br/>    return this.nombre + \" \" + this.apellido;<br/>}<br/></code></pre><br/><br/><p>estás creando un <em>método de prototipo</em>, es equivalente a <code>Persona.prototype.nombreCompleto2 = function() {...}</code> en JavaScript.</p><br/><br/><p>En general es preferible crear métodos de prototipo: en tal caso el método se define una sola vez, mientras que los métodos de instancia se crean una vez por instancia, consumiendo más memoria.</p><br/><br/><p>Más información: <a href=\"http://www.johnpapa.net/typescriptpost3\" rel=\"noreferrer\">TypeScript Classes and Interfaces</a></p><br/>',\n",
       "  'ClosedDate': None,\n",
       "  'CommentCount': 2,\n",
       "  'CommunityOwnedDate': None,\n",
       "  'ContentLicense': 'CC BY-SA 3.0',\n",
       "  'CreationDate': datetime.datetime(2015, 10, 30, 14, 43, 43, 737000),\n",
       "  'FavoriteCount': '',\n",
       "  'LastActivityDate': datetime.datetime(2015, 12, 14, 1, 5, 34, 960000),\n",
       "  'LastEditDate': datetime.datetime(2015, 12, 14, 1, 5, 34, 960000),\n",
       "  'LastEditorDisplayName': '',\n",
       "  'LastEditorUserId': 25,\n",
       "  'OwnerDisplayName': '',\n",
       "  'OwnerUserId': 23,\n",
       "  'ParentId': 10,\n",
       "  'PostTypeId': 2,\n",
       "  'Score': 25,\n",
       "  'Tags': '',\n",
       "  'Title': '',\n",
       "  'ViewCount': ''},\n",
       " {'_id': ObjectId('671278740e27c77fce31a7ae'),\n",
       "  'Id': 17,\n",
       "  'AcceptedAnswerId': '',\n",
       "  'AnswerCount': '',\n",
       "  'Body': '<p>Para realizar esta operación, ejecuta <code>Xcode</code> como <code>root</code> con el comando <a href=\"https://es.wikipedia.org/wiki/Sudo\" rel=\"nofollow\"><code>sudo</code></a> e instala dentro de esa sesión:</p><br/><br/><pre><code>sudo /Applications/Xcode.app/Contents/MacOS/Xcode<br/></code></pre><br/><br/><p>Una vez hayas instalados debes salir e iniciar normalmente.</p><br/><br/><p>Debes tener precaución si tienes proyectos abiertos cuando usas sudo para lanzar Xcode.</p><br/>',\n",
       "  'ClosedDate': None,\n",
       "  'CommentCount': 0,\n",
       "  'CommunityOwnedDate': None,\n",
       "  'ContentLicense': 'CC BY-SA 3.0',\n",
       "  'CreationDate': datetime.datetime(2015, 10, 30, 20, 36, 12, 323000),\n",
       "  'FavoriteCount': '',\n",
       "  'LastActivityDate': datetime.datetime(2015, 11, 2, 17, 8, 36, 167000),\n",
       "  'LastEditDate': datetime.datetime(2015, 11, 2, 17, 8, 36, 167000),\n",
       "  'LastEditorDisplayName': '',\n",
       "  'LastEditorUserId': 21,\n",
       "  'OwnerDisplayName': '',\n",
       "  'OwnerUserId': 24,\n",
       "  'ParentId': 16,\n",
       "  'PostTypeId': 2,\n",
       "  'Score': 5,\n",
       "  'Tags': '',\n",
       "  'Title': '',\n",
       "  'ViewCount': ''},\n",
       " {'_id': ObjectId('671278740e27c77fce31a7af'),\n",
       "  'Id': 18,\n",
       "  'AcceptedAnswerId': '',\n",
       "  'AnswerCount': '',\n",
       "  'Body': '<p>Como ya mencioné yo no uso Perl, pero mirando la documentación en una parte de ella dice lo siguiente:</p><br/><br/><blockquote><br/>  <p>\"Si el desplazamiento es más allá del final de la matriz, Perl emite<br/>  una advertencia, y (Perl) empalma/splice en el extremo de la matriz.\"</p><br/></blockquote><br/><br/><p><em>...If OFFSET is past the end of the array, Perl issues a warning, and splices at the end of the array.</em></p><br/><br/><p>De echo he revisado en varias versiones y es lo mismo por lo menos la documentación advierten sobre el <em>warning</em>.</p><br/><br/><p>Aquí le dejo los links (en Inglés); </p><br/><br/><ul><br/><li><p><a href=\"http://perldoc.perl.org/5.16.2/functions/splice.html\" rel=\"noreferrer\" title=\"http://perldoc.perl.org/5.16.2/functions/splice.html\">Perl v 5.16.2</a></p></li><br/><li><p><a href=\"http://perldoc.perl.org/5.20.0/functions/splice.html\" rel=\"noreferrer\" title=\"http://perldoc.perl.org/5.20.0/functions/splice.html\">Perl v 5.20.0</a></p></li><br/><li><p><a href=\"http://perldoc.perl.org/functions/splice.html\" rel=\"noreferrer\" title=\"http://perldoc.perl.org/functions/splice.html\">Perl v 5.22</a></p></li><br/></ul><br/><br/><p>Según lo anterior lo normal es el <em>warning</em>, pero por lo que se puede ver en el siguiente link, no en todas las versiones es así y también depende del OS.</p><br/><br/><p><a href=\"http://www.nntp.perl.org/group/perl.perl5.porters/2013/04/msg201134.html\" rel=\"noreferrer\">http://www.nntp.perl.org/group/perl.perl5.porters/2013/04/msg201134.html</a></p><br/><br/><p>Creo que eso ocurre entre la <code>5.14</code> y <code>5.16</code> en algunos sistemas, aquí puede ver la notificación de bug pero quizás también le suceda a usted en la <code>5.20</code> debido a su OS y no es que haya cambiado algo. </p><br/><br/><p><a href=\"https://rt.perl.org/Public/Bug/Display.html?id=117729\" rel=\"noreferrer\">https://rt.perl.org/Public/Bug/Display.html?id=117729</a></p><br/>',\n",
       "  'ClosedDate': None,\n",
       "  'CommentCount': 1,\n",
       "  'CommunityOwnedDate': None,\n",
       "  'ContentLicense': 'CC BY-SA 3.0',\n",
       "  'CreationDate': datetime.datetime(2015, 10, 31, 1, 15, 2, 47000),\n",
       "  'FavoriteCount': '',\n",
       "  'LastActivityDate': datetime.datetime(2015, 12, 15, 22, 22, 22, 80000),\n",
       "  'LastEditDate': datetime.datetime(2015, 12, 15, 22, 22, 22, 80000),\n",
       "  'LastEditorDisplayName': '',\n",
       "  'LastEditorUserId': 264,\n",
       "  'OwnerDisplayName': '',\n",
       "  'OwnerUserId': 24,\n",
       "  'ParentId': 12,\n",
       "  'PostTypeId': 2,\n",
       "  'Score': 13,\n",
       "  'Tags': '',\n",
       "  'Title': '',\n",
       "  'ViewCount': ''},\n",
       " {'_id': ObjectId('671278740e27c77fce31a7b4'),\n",
       "  'Id': 23,\n",
       "  'AcceptedAnswerId': '',\n",
       "  'AnswerCount': '',\n",
       "  'Body': '<p><em>voy a sumarme con la parte de la pregunta que no se ha respondido aun: <strong>¿Por qué cambió?</em></strong></p><br/><br/><p>Cambio por que la intención de este código:</p><br/><br/><pre><code>my @x = qw( 1 2 3 4 5 );<br/>splice(@x, 3);<br/></code></pre><br/><br/><p>es claramente truncar el array si es demasiado largo y <em>no hay razon para emitir una advertencia si el array tiene <strong>menos</strong> elementos que el máximo especificado</em> (como en el caso citado en la pregunta)</p><br/><br/><p><a href=\"http://perl5.git.perl.org/perl.git/commitdiff/5cd408a276e19848774860967c3ec06b67b863ee?hp=0890f1a536cff0aff68038cae78e02c9d9b6a2b2\">Fuente (en Inglés)</a> </p><br/>',\n",
       "  'ClosedDate': None,\n",
       "  'CommentCount': 0,\n",
       "  'CommunityOwnedDate': None,\n",
       "  'ContentLicense': 'CC BY-SA 3.0',\n",
       "  'CreationDate': datetime.datetime(2015, 10, 31, 2, 54, 43, 877000),\n",
       "  'FavoriteCount': '',\n",
       "  'LastActivityDate': datetime.datetime(2015, 10, 31, 5, 6, 45, 243000),\n",
       "  'LastEditDate': datetime.datetime(2015, 10, 31, 5, 6, 45, 243000),\n",
       "  'LastEditorDisplayName': '',\n",
       "  'LastEditorUserId': 25,\n",
       "  'OwnerDisplayName': '',\n",
       "  'OwnerUserId': 25,\n",
       "  'ParentId': 12,\n",
       "  'PostTypeId': 2,\n",
       "  'Score': 9,\n",
       "  'Tags': '',\n",
       "  'Title': '',\n",
       "  'ViewCount': ''},\n",
       " {'_id': ObjectId('671278740e27c77fce31a7b6'),\n",
       "  'Id': 25,\n",
       "  'AcceptedAnswerId': '',\n",
       "  'AnswerCount': '',\n",
       "  'Body': '<p>Creo que <a href=\"https://hexdocs.pm/elixir/Enum.html#to_list/1\" rel=\"noreferrer\">esto</a> es lo que usted esta buscando</p><br/><br/><p><strong>to_list (colección)</strong></p><br/><br/><p><strong><em>Convierte la colección a una lista</em></strong></p><br/><br/><pre><code>iex> Enum.to_list 1..5<br/>[1, 2, 3, 4, 5]<br/></code></pre><br/><br/><p>espero le ayude</p><br/>',\n",
       "  'ClosedDate': None,\n",
       "  'CommentCount': 0,\n",
       "  'CommunityOwnedDate': None,\n",
       "  'ContentLicense': 'CC BY-SA 4.0',\n",
       "  'CreationDate': datetime.datetime(2015, 10, 31, 19, 39, 29, 827000),\n",
       "  'FavoriteCount': '',\n",
       "  'LastActivityDate': datetime.datetime(2018, 11, 10, 2, 25, 30, 193000),\n",
       "  'LastEditDate': datetime.datetime(2018, 11, 10, 2, 25, 30, 193000),\n",
       "  'LastEditorDisplayName': '',\n",
       "  'LastEditorUserId': 29186,\n",
       "  'OwnerDisplayName': '',\n",
       "  'OwnerUserId': 24,\n",
       "  'ParentId': 24,\n",
       "  'PostTypeId': 2,\n",
       "  'Score': 12,\n",
       "  'Tags': '',\n",
       "  'Title': '',\n",
       "  'ViewCount': ''},\n",
       " {'_id': ObjectId('671278740e27c77fce31a7b9'),\n",
       "  'Id': 30,\n",
       "  'AcceptedAnswerId': '',\n",
       "  'AnswerCount': '',\n",
       "  'Body': '<p>Los <code>FPS</code> varian porque solo se solicita un marco cuando es necesario. por ejemplo si la imagen no cambia o es un fondo oscuro la tasa se puede reducir a una tasa más baja, ademas cuando se ejecuta en las pestañas de fondo tambien pude darse el caso para mejorar el rendimiento y la duración de la batería.</p><br/><br/><p>Puede mirar este caso como se \"ajustan los frames\" usando: <code>startAnimating(5)</code>;<br/><a href=\"http://jsfiddle.net/m1erickson/CtsY3/\" rel=\"noreferrer\">jsfiddle</a></p><br/><br/><p><div class=\"snippet\" data-lang=\"js\" data-hide=\"false\" data-console=\"true\" data-babel=\"false\"><br/><div class=\"snippet-code\"><br/><pre class=\"snippet-code-js lang-js prettyprint-override\"><code>var stop = false;<br/>var frameCount = 0;<br/>var $results = $(\"#results\");<br/>var fps, fpsInterval, startTime, now, then, elapsed;<br/><br/>startAnimating(5);<br/><br/>function startAnimating(fps) {<br/>    fpsInterval = 1000 / fps;<br/>    then = Date.now();<br/>    startTime = then;<br/>    console.log(startTime);<br/>    animate();<br/>}<br/><br/><br/>function animate() {<br/><br/>    // stop<br/>    if (stop) {<br/>        return;<br/>    }<br/><br/>    // request another frame<br/><br/>    requestAnimationFrame(animate);<br/><br/>    // calc elapsed time since last loop<br/><br/>    now = Date.now();<br/>    elapsed = now - then;<br/><br/>    // if enough time has elapsed, draw the next frame<br/><br/>    if (elapsed > fpsInterval) {<br/><br/>        // Get ready for next frame by setting then=now, but...<br/>        // Also, adjust for fpsInterval not being multiple of 16.67<br/>        then = now - (elapsed % fpsInterval);<br/><br/>        // draw stuff here<br/><br/><br/>        // TESTING...Report #seconds since start and achieved fps.<br/>        var sinceStart = now - startTime;<br/>        var currentFps = Math.round(1000 / (sinceStart / ++frameCount) * 100) / 100;<br/>        $results.text(\"Elapsed time= \" + Math.round(sinceStart / 1000 * 100) / 100 + \" secs @ \" + currentFps + \" fps.\");<br/><br/>    }<br/>}</code></pre><br/><pre class=\"snippet-code-html lang-html prettyprint-override\"><code><script src=\"https://ajax.googleapis.com/ajax/libs/jquery/1.9.1/jquery.min.js\"></script><br/><h3>Throttling requestAnimationFrame to a FPS</h3><br/><p>This test:  Results should be approximately 5 fps<br/><p id=\"results\">Results:</p><br/><canvas id=\"canvas\" width=300 height=300></canvas></code></pre><br/></div><br/></div><br/></p><br/>',\n",
       "  'ClosedDate': None,\n",
       "  'CommentCount': 1,\n",
       "  'CommunityOwnedDate': None,\n",
       "  'ContentLicense': 'CC BY-SA 3.0',\n",
       "  'CreationDate': datetime.datetime(2015, 11, 1, 16, 27, 13, 990000),\n",
       "  'FavoriteCount': '',\n",
       "  'LastActivityDate': datetime.datetime(2016, 11, 10, 23, 45, 37, 783000),\n",
       "  'LastEditDate': datetime.datetime(2016, 11, 10, 23, 45, 37, 783000),\n",
       "  'LastEditorDisplayName': '',\n",
       "  'LastEditorUserId': 22635,\n",
       "  'OwnerDisplayName': '',\n",
       "  'OwnerUserId': 24,\n",
       "  'ParentId': 29,\n",
       "  'PostTypeId': 2,\n",
       "  'Score': 6,\n",
       "  'Tags': '',\n",
       "  'Title': '',\n",
       "  'ViewCount': ''}]"
      ]
     },
     "execution_count": 78,
     "metadata": {},
     "output_type": "execute_result"
    }
   ],
   "source": [
    "respuestas = posts.find({'PostTypeId': 2}).limit(10)\n",
    "list(respuestas)"
   ]
  },
  {
   "cell_type": "markdown",
   "metadata": {
    "id": "55kzbjTDXK4Z"
   },
   "source": [
    "También se puede importar en un dataframe de pandas:"
   ]
  },
  {
   "cell_type": "code",
   "execution_count": 80,
   "metadata": {
    "id": "oSdgwy9FXK4a"
   },
   "outputs": [
    {
     "data": {
      "text/plain": [
       "<Axes: >"
      ]
     },
     "execution_count": 80,
     "metadata": {},
     "output_type": "execute_result"
    },
    {
     "data": {
      "image/png": "[encoded data removed]",
      "text/plain": [
       "<Figure size 640x480 with 1 Axes>"
      ]
     },
     "metadata": {},
     "output_type": "display_data"
    }
   ],
   "source": [
    "respuestas = posts.find({\"PostTypeId\": 2}).limit(30)\n",
    "df = pd.DataFrame(respuestas)\n",
    "df['Id'].plot()"
   ]
  },
  {
   "cell_type": "markdown",
   "metadata": {
    "id": "Rr2WveazXK4d"
   },
   "source": [
    "La función `find()` tiene un gran número de posibilidades para especificar la búsqueda. Se pueden utilizar cualificadores complejos como:\n",
    "\n",
    "- `$and`\n",
    "- `$or`\n",
    "- `$not`\n",
    "\n",
    "Estos calificadores unen \"objetos\", no valores. Por otro lado, hay otros calificadores que se refieren a valores:\n",
    "\n",
    "- `$lt` (menor)\n",
    "- `$lte` (menor o igual)\n",
    "- `$gt` (mayor)\n",
    "- `$gte` (mayor o igual)"
   ]
  },
  {
   "cell_type": "code",
   "execution_count": 86,
   "metadata": {
    "id": "bUOQcTXuXK4d",
    "scrolled": true
   },
   "outputs": [
    {
     "data": {
      "text/plain": [
       "[{'_id': ObjectId('671278740e27c77fce31a7ed'),\n",
       "  'Id': 102,\n",
       "  'AcceptedAnswerId': '',\n",
       "  'AnswerCount': '',\n",
       "  'Body': '<pre><code>$ git reset --soft HEAD~  o $ git reset --soft HEAD~1       #1<br/>// Cambios necesarios //                                    #2<br/>$ git add ...                                               #3<br/>$ git commit ...                                            #4<br/></code></pre><br/><br/><p>Simplemente haces un reset soft, con lo que te quedas con los cambios en local pero deshaces el commit, después haces lo que quieras y vuelves a hacer el commit como querías la primera vez.</p><br/>',\n",
       "  'ClosedDate': None,\n",
       "  'CommentCount': 0,\n",
       "  'CommunityOwnedDate': None,\n",
       "  'ContentLicense': 'CC BY-SA 3.0',\n",
       "  'CreationDate': datetime.datetime(2015, 12, 1, 19, 0, 31, 680000),\n",
       "  'FavoriteCount': '',\n",
       "  'LastActivityDate': datetime.datetime(2015, 12, 1, 19, 0, 31, 680000),\n",
       "  'LastEditDate': None,\n",
       "  'LastEditorDisplayName': '',\n",
       "  'LastEditorUserId': '',\n",
       "  'OwnerDisplayName': '',\n",
       "  'OwnerUserId': 178,\n",
       "  'ParentId': 90,\n",
       "  'PostTypeId': 2,\n",
       "  'Score': 17,\n",
       "  'Tags': '',\n",
       "  'Title': '',\n",
       "  'ViewCount': ''},\n",
       " {'_id': ObjectId('671278740e27c77fce31a7ef'),\n",
       "  'Id': 104,\n",
       "  'AcceptedAnswerId': '',\n",
       "  'AnswerCount': '',\n",
       "  'Body': '<p>Pues, no creo que esto sea posible sin recurrir a la altamante no recomendada <code>global</code>. El caso específico que muestras aplica perfectamente en la Programación Orientada a Objetos, sería bueno que expliques la razón por la cual estás tratando de evitarla:</p><br/><br/><pre><code>import serial<br/><br/><br/>class Clase():<br/>    def __init__(self, puerto, baud_rate, buffer) # inicializacion()<br/>        self.puerto = puerto<br/>        self.baud_rate = baud_rate<br/>        self.buffer = buffer<br/>        self.serial = serial.Serial(puerto, baudRate, timeout=1)<br/><br/>    def leer_datos(self):<br/>        # Tu código<br/></code></pre><br/><br/><p>Si estas intentando usar los parámetros de configuración, podrías crear un archivo específico el cual será importado a demanda:</p><br/><br/><p><em>settings.py</em></p><br/><br/><pre><code>puerto = \\'/dev/ttyACM0\\'<br/>baudRate = 115200<br/>buffer = \\'\\'<br/></code></pre><br/><br/><p><em>main.py</em></p><br/><br/><pre><code>import serial<br/>import settings<br/><br/><br/>def main():<br/>    ser = serial.Serial(settings.puerto, settings.baudRate, timeout=1)<br/>    buffer = settings.buffer + leerDatos(ser)<br/></code></pre><br/><br/><p>Otra opción es la mencionada por @Carlangueitor en la cual tu configuración la mueves a un archivo <code>.env</code> dentro de tu proyecto y así evitas exponer la configuración en uno de los archivos. Puedes usar <a href=\"https://github.com/theskumar/python-dotenv\">dotenv</a>.</p><br/>',\n",
       "  'ClosedDate': None,\n",
       "  'CommentCount': 0,\n",
       "  'CommunityOwnedDate': None,\n",
       "  'ContentLicense': 'CC BY-SA 3.0',\n",
       "  'CreationDate': datetime.datetime(2015, 12, 1, 19, 7, 0, 763000),\n",
       "  'FavoriteCount': '',\n",
       "  'LastActivityDate': datetime.datetime(2015, 12, 1, 19, 7, 0, 763000),\n",
       "  'LastEditDate': None,\n",
       "  'LastEditorDisplayName': '',\n",
       "  'LastEditorUserId': '',\n",
       "  'OwnerDisplayName': '',\n",
       "  'OwnerUserId': 100,\n",
       "  'ParentId': 87,\n",
       "  'PostTypeId': 2,\n",
       "  'Score': 13,\n",
       "  'Tags': '',\n",
       "  'Title': '',\n",
       "  'ViewCount': ''},\n",
       " {'_id': ObjectId('671278740e27c77fce31a7f0'),\n",
       "  'Id': 105,\n",
       "  'AcceptedAnswerId': '',\n",
       "  'AnswerCount': '',\n",
       "  'Body': '<p>Usa márgenes laterales automáticos.</p><br/><br/><p><div class=\"snippet\" data-lang=\"js\" data-hide=\"false\"><br/><div class=\"snippet-code\"><br/><pre class=\"snippet-code-css lang-css prettyprint-override\"><code>.externo {<br/>  border: 1px solid blue;<br/>}<br/>.interno {<br/>  border: 1px dashed goldenrod;<br/>  margin: auto;<br/>}</code></pre><br/><pre class=\"snippet-code-html lang-html prettyprint-override\"><code><div class=\"externo\"><br/>  <div class=\"interno\"><br/>    Hola<br/>  </div><br/></div></code></pre><br/></div><br/></div><br/></p><br/><br/><p>Realmente solo debes de ponerlos en sus valores <code>margin-left</code> y <code>margin-right</code>, pero en tu caso al no requerir margen superior y/o inferior, te valdría de esa forma, ya que según la documentación si se espefica de esa forma sería igual que hacer:</p><br/><br/><pre><code>.interno {<br/>  margin: 0 auto;<br/>}<br/></code></pre><br/><br/><p>Es decir, el superior e inferior es igual a cero.</p><br/>',\n",
       "  'ClosedDate': None,\n",
       "  'CommentCount': 2,\n",
       "  'CommunityOwnedDate': None,\n",
       "  'ContentLicense': 'CC BY-SA 3.0',\n",
       "  'CreationDate': datetime.datetime(2015, 12, 1, 19, 8, 31, 660000),\n",
       "  'FavoriteCount': '',\n",
       "  'LastActivityDate': datetime.datetime(2015, 12, 7, 18, 16, 45, 97000),\n",
       "  'LastEditDate': datetime.datetime(2015, 12, 7, 18, 16, 45, 97000),\n",
       "  'LastEditorDisplayName': '',\n",
       "  'LastEditorUserId': 342,\n",
       "  'OwnerDisplayName': '',\n",
       "  'OwnerUserId': 280,\n",
       "  'ParentId': 103,\n",
       "  'PostTypeId': 2,\n",
       "  'Score': 38,\n",
       "  'Tags': '',\n",
       "  'Title': '',\n",
       "  'ViewCount': ''},\n",
       " {'_id': ObjectId('671278740e27c77fce31a7f1'),\n",
       "  'Id': 106,\n",
       "  'AcceptedAnswerId': '',\n",
       "  'AnswerCount': '',\n",
       "  'Body': '<p><div class=\"snippet\" data-lang=\"js\" data-hide=\"false\"><br/><div class=\"snippet-code\"><br/><pre class=\"snippet-code-css lang-css prettyprint-override\"><code>.interno {<br/>  background-color: green;<br/>  height: 20px;<br/>  width: 50%;<br/>  margin: 0 auto;<br/>}<br/>.externo {<br/>  border: 1px solid blue;<br/>}</code></pre><br/><pre class=\"snippet-code-html lang-html prettyprint-override\"><code><div class=\"externo\"><br/>  <div class=\"interno\"><br/>    Hola<br/>  </div><br/></div></code></pre><br/></div><br/></div><br/></p><br/><br/><p>Simplemente añadiendo la última línea, se centra con respecto a su padre.</p><br/>',\n",
       "  'ClosedDate': None,\n",
       "  'CommentCount': 0,\n",
       "  'CommunityOwnedDate': None,\n",
       "  'ContentLicense': 'CC BY-SA 3.0',\n",
       "  'CreationDate': datetime.datetime(2015, 12, 1, 19, 10, 9, 660000),\n",
       "  'FavoriteCount': '',\n",
       "  'LastActivityDate': datetime.datetime(2015, 12, 7, 18, 16, 48, 710000),\n",
       "  'LastEditDate': datetime.datetime(2015, 12, 7, 18, 16, 48, 710000),\n",
       "  'LastEditorDisplayName': '',\n",
       "  'LastEditorUserId': 342,\n",
       "  'OwnerDisplayName': '',\n",
       "  'OwnerUserId': 178,\n",
       "  'ParentId': 103,\n",
       "  'PostTypeId': 2,\n",
       "  'Score': 5,\n",
       "  'Tags': '',\n",
       "  'Title': '',\n",
       "  'ViewCount': ''},\n",
       " {'_id': ObjectId('671278740e27c77fce31a7f2'),\n",
       "  'Id': 107,\n",
       "  'AcceptedAnswerId': '',\n",
       "  'AnswerCount': '',\n",
       "  'Body': '<p>Agrega un <code>margin:0 auto;</code> a la clase <code>interno</code> en el CSS para lograr centrarlo horizontalmente dentro del div externo</p><br/><br/><p><div class=\"snippet\" data-lang=\"js\" data-hide=\"false\"><br/><div class=\"snippet-code\"><br/><pre class=\"snippet-code-css lang-css prettyprint-override\"><code>.interno {<br/>  background-color: green;<br/>  height: 20px;<br/>  width: 50%;<br/>  margin: 0 auto;/*esto fue lo que se agregó*/<br/>}<br/>.externo {<br/>  background-color: red;<br/>  width: 200px;<br/>  padding: 20px;<br/>  text-align:center;<br/>}</code></pre><br/><pre class=\"snippet-code-html lang-html prettyprint-override\"><code><div class=\"externo\"><br/>  <div class=\"interno\"><br/>    Hola<br/>  </div><br/></div></code></pre><br/></div><br/></div><br/></p><br/>',\n",
       "  'ClosedDate': None,\n",
       "  'CommentCount': 0,\n",
       "  'CommunityOwnedDate': None,\n",
       "  'ContentLicense': 'CC BY-SA 3.0',\n",
       "  'CreationDate': datetime.datetime(2015, 12, 1, 19, 11, 46, 373000),\n",
       "  'FavoriteCount': '',\n",
       "  'LastActivityDate': datetime.datetime(2016, 1, 5, 18, 40, 20, 503000),\n",
       "  'LastEditDate': datetime.datetime(2016, 1, 5, 18, 40, 20, 503000),\n",
       "  'LastEditorDisplayName': '',\n",
       "  'LastEditorUserId': 98,\n",
       "  'OwnerDisplayName': '',\n",
       "  'OwnerUserId': 98,\n",
       "  'ParentId': 103,\n",
       "  'PostTypeId': 2,\n",
       "  'Score': 15,\n",
       "  'Tags': '',\n",
       "  'Title': '',\n",
       "  'ViewCount': ''},\n",
       " {'_id': ObjectId('671278740e27c77fce31a7f3'),\n",
       "  'Id': 108,\n",
       "  'AcceptedAnswerId': '',\n",
       "  'AnswerCount': '',\n",
       "  'Body': '<p>Puedes aplicar este CSS al <code>div</code> interno:</p><br/><br/><p><div class=\"snippet\" data-lang=\"js\" data-hide=\"false\" data-console=\"false\" data-babel=\"false\"><br/><div class=\"snippet-code\"><br/><pre class=\"snippet-code-css lang-css prettyprint-override\"><code>.interno {<br/>  width: 50%;<br/>  margin: 0 auto;<br/>  border: 1px dashed goldenrod;<br/>}<br/>.externo {<br/>  border: 1px solid blue;<br/>}</code></pre><br/><pre class=\"snippet-code-html lang-html prettyprint-override\"><code><div class=\"externo\"><br/>  <div class=\"interno\"><br/>    Hola<br/>  </div><br/></div></code></pre><br/></div><br/></div><br/></p><br/><br/><p>Por supuesto, no tienes que establecer el ancho al 50%. Cualquier ancho inferior al del <code>div</code> padre funcionará. El <code>margin: 0 auto</code> es lo que hace el centrado en sí.</p><br/><br/><p>Si quieres incluir IE8+, puede que sea mejor usar esto en su lugar:</p><br/><br/><p><div class=\"snippet\" data-lang=\"js\" data-hide=\"false\" data-console=\"false\" data-babel=\"false\"><br/><div class=\"snippet-code\"><br/><pre class=\"snippet-code-css lang-css prettyprint-override\"><code>.interno {<br/>  display: table;<br/>  margin: 0 auto;<br/>  border: 1px dashed goldenrod;<br/>}<br/>.externo {<br/>  border: 1px solid blue;<br/>}</code></pre><br/><pre class=\"snippet-code-html lang-html prettyprint-override\"><code><div class=\"externo\"><br/>  <div class=\"interno\"><br/>    Hola<br/>  </div><br/></div></code></pre><br/></div><br/></div><br/></p><br/><br/><p>Hará que el elemento interno se centre horizontalmente, y funciona sin especificar un ancho concreto.</p><br/><br/><p><a href=\"https://stackoverflow.com/a/114549\"><strong>Fuente</strong></a></p><br/><br/><p><a href=\"https://jsfiddle.net/vLkdgwnv/\" rel=\"nofollow noreferrer\"><strong>JSFiddle</strong></a></p><br/>',\n",
       "  'ClosedDate': None,\n",
       "  'CommentCount': 0,\n",
       "  'CommunityOwnedDate': datetime.datetime(2017, 6, 22, 13, 59, 18, 587000),\n",
       "  'ContentLicense': 'CC BY-SA 3.0',\n",
       "  'CreationDate': datetime.datetime(2015, 12, 1, 19, 14, 0, 683000),\n",
       "  'FavoriteCount': '',\n",
       "  'LastActivityDate': datetime.datetime(2015, 12, 19, 6, 37, 23, 277000),\n",
       "  'LastEditDate': datetime.datetime(2017, 5, 23, 12, 39, 21, 413000),\n",
       "  'LastEditorDisplayName': '',\n",
       "  'LastEditorUserId': -1,\n",
       "  'OwnerDisplayName': '',\n",
       "  'OwnerUserId': 149,\n",
       "  'ParentId': 103,\n",
       "  'PostTypeId': 2,\n",
       "  'Score': 7,\n",
       "  'Tags': '',\n",
       "  'Title': '',\n",
       "  'ViewCount': ''},\n",
       " {'_id': ObjectId('671278740e27c77fce31a7f4'),\n",
       "  'Id': 109,\n",
       "  'AcceptedAnswerId': '',\n",
       "  'AnswerCount': '',\n",
       "  'Body': '<p>Puedes usar un <a href=\"https://developer.mozilla.org/es/docs/Web/CSS/CSS_Flexible_Box_Layout/Usando_las_cajas_flexibles_CSS\" rel=\"noreferrer\">flexbox</a> en el <code>div</code> externo.</p><br/><br/><p><div class=\"snippet\" data-lang=\"js\" data-hide=\"false\"><br/><div class=\"snippet-code\"><br/><pre class=\"snippet-code-css lang-css prettyprint-override\"><code>.externo {<br/>  display: flex;<br/>  justify-content: center;<br/>  border: 1px solid blue;<br/>}<br/>.interno {<br/>  border: 1px dashed goldenrod;<br/>}</code></pre><br/><pre class=\"snippet-code-html lang-html prettyprint-override\"><code><div class=\"externo\"><br/>  <div class=\"interno\"><br/>    Hola<br/>  </div><br/></div></code></pre><br/></div><br/></div><br/></p><br/>',\n",
       "  'ClosedDate': None,\n",
       "  'CommentCount': 0,\n",
       "  'CommunityOwnedDate': None,\n",
       "  'ContentLicense': 'CC BY-SA 3.0',\n",
       "  'CreationDate': datetime.datetime(2015, 12, 1, 19, 14, 47, 937000),\n",
       "  'FavoriteCount': '',\n",
       "  'LastActivityDate': datetime.datetime(2015, 12, 7, 18, 25, 51, 847000),\n",
       "  'LastEditDate': datetime.datetime(2015, 12, 7, 18, 25, 51, 847000),\n",
       "  'LastEditorDisplayName': '',\n",
       "  'LastEditorUserId': 342,\n",
       "  'OwnerDisplayName': '',\n",
       "  'OwnerUserId': 302,\n",
       "  'ParentId': 103,\n",
       "  'PostTypeId': 2,\n",
       "  'Score': 6,\n",
       "  'Tags': '',\n",
       "  'Title': '',\n",
       "  'ViewCount': ''},\n",
       " {'_id': ObjectId('671278740e27c77fce31a7f6'),\n",
       "  'Id': 111,\n",
       "  'AcceptedAnswerId': '',\n",
       "  'AnswerCount': '',\n",
       "  'Body': \"<p>La forma más sencilla de lograrlo, es decir sin procedimientos ni cosas complejas, es ejecutar la siguiente consulta:</p><br/><br/><pre><code>SELECT owner, table_name, num_rows, sample_size, last_analyzed <br/>FROM all_tables<br/>WHERE owner = 'nombre_de_tu_esquema';<br/></code></pre><br/><br/><p>La columna <code>num_rows</code> contiene el número de filas o registros de cada una de las tablas.</p><br/><br/><hr><br/><br/><p>Actualización:</p><br/><br/><p>Como destaca @jpertejo: </p><br/><br/><blockquote><br/>  <p>Hay que tener en cuenta que la columna <code>NUM_ROWS</code> de la vista<br/>  <code>ALL_TABLES</code> obtiene la información de las estadísticas de la tabla.<br/>  Si las estadísticas no están actualizadas puede ser que el número de<br/>  filas que devuelve el <code>NUM_ROWS</code> no se corresponda con el real. Para<br/>  saber con exactitud en número real de filas habría que hacer un<br/>  <code>COUNT(*)</code>. La consulta del <code>NUM_ROWS</code> es más rápida que el<br/>  <code>COUNT(*)</code>, pero puede no dar datos correctos en algunos casos.</p><br/></blockquote><br/><br/><p>De aquí que en la consulta se incluya la columna <code>last_analyzed</code> cuyo fin es informar la fecha en la que se hizo el más reciente análisis estadístico para cada tabla.</p><br/>\",\n",
       "  'ClosedDate': None,\n",
       "  'CommentCount': 10,\n",
       "  'CommunityOwnedDate': None,\n",
       "  'ContentLicense': 'CC BY-SA 3.0',\n",
       "  'CreationDate': datetime.datetime(2015, 12, 1, 19, 15, 58, 153000),\n",
       "  'FavoriteCount': '',\n",
       "  'LastActivityDate': datetime.datetime(2015, 12, 1, 23, 57, 13, 763000),\n",
       "  'LastEditDate': datetime.datetime(2015, 12, 1, 23, 57, 13, 763000),\n",
       "  'LastEditorDisplayName': '',\n",
       "  'LastEditorUserId': 264,\n",
       "  'OwnerDisplayName': '',\n",
       "  'OwnerUserId': 264,\n",
       "  'ParentId': 110,\n",
       "  'PostTypeId': 2,\n",
       "  'Score': 12,\n",
       "  'Tags': '',\n",
       "  'Title': '',\n",
       "  'ViewCount': ''},\n",
       " {'_id': ObjectId('671278740e27c77fce31a7f7'),\n",
       "  'Id': 112,\n",
       "  'AcceptedAnswerId': '',\n",
       "  'AnswerCount': '',\n",
       "  'Body': '<p>Existen muchas formas de centrar elementos con <strong>CSS</strong>, sin embargo una de las que mayor fuerza han tomado en el último año es el uso de <strong>Flexbox</strong>.</p><br/><br/><p>Usando Flexbox el contenedor no necesita tener ninguna propiedad especifica para ubicarse en el espacio, sin embargo usando las propiedades de Flexbox para los hijos se puede hacer cosas impensables con el CSS tradicional.</p><br/><br/><p><div class=\"snippet\" data-lang=\"js\" data-hide=\"false\"><br/><div class=\"snippet-code\"><br/><pre class=\"snippet-code-css lang-css prettyprint-override\"><code>.externo {<br/>  border: 1px solid blue;<br/>  align-items: center;<br/>  display: flex;<br/>  justify-content: center;<br/>}<br/>.interno {<br/>  border: 1px dashed goldenrod;<br/>}</code></pre><br/><pre class=\"snippet-code-html lang-html prettyprint-override\"><code><div class=\"externo\"><br/>  <div class=\"interno\"><br/>    Hola<br/>  </div><br/></div></code></pre><br/></div><br/></div><br/></p><br/><br/><p>Para conocer más acerca de Flexbox te recomiendo visitar los siguientes enlaces:</p><br/><br/><ul><br/><li><strong>CSS-Tricks</strong> - <a href=\"https://css-tricks.com/snippets/css/a-guide-to-flexbox/\">A Complete Guide to Flexbox</a></li><br/><li><strong>Codrops</strong> - <a href=\"http://tympanus.net/codrops/css_reference/flexbox/\">Flexbox</a></li><br/></ul><br/><br/><hr><br/><br/><p>Si buscas una solución que no incluya Flexbox entonces te recomiendo visitar <a href=\"https://css-tricks.com/centering-css-complete-guide/\">Centering in CSS: A Complete Guide</a>. Esta es la guía absoluta de como centrar elementos utilizando CSS sin importar el navegador que necesites soportar.</p><br/>',\n",
       "  'ClosedDate': None,\n",
       "  'CommentCount': 10,\n",
       "  'CommunityOwnedDate': None,\n",
       "  'ContentLicense': 'CC BY-SA 3.0',\n",
       "  'CreationDate': datetime.datetime(2015, 12, 1, 19, 16, 3, 973000),\n",
       "  'FavoriteCount': '',\n",
       "  'LastActivityDate': datetime.datetime(2015, 12, 7, 18, 15, 35, 950000),\n",
       "  'LastEditDate': datetime.datetime(2015, 12, 7, 18, 15, 35, 950000),\n",
       "  'LastEditorDisplayName': '',\n",
       "  'LastEditorUserId': 342,\n",
       "  'OwnerDisplayName': '',\n",
       "  'OwnerUserId': 296,\n",
       "  'ParentId': 103,\n",
       "  'PostTypeId': 2,\n",
       "  'Score': 22,\n",
       "  'Tags': '',\n",
       "  'Title': '',\n",
       "  'ViewCount': ''},\n",
       " {'_id': ObjectId('671278740e27c77fce31a7fc'),\n",
       "  'Id': 117,\n",
       "  'AcceptedAnswerId': '',\n",
       "  'AnswerCount': '',\n",
       "  'Body': '<p>Lo que responde Elenasys es correcto. <code>LoginTask</code> es una <code>AsyncTask</code>, con lo cual no es una <code>Activity</code>. No puedes \"volver a ella\".<br/>Si quieres entender algo más sobre el estado de tu <em>stack</em> de activities, puedes correr el siguiente comando de adb:</p><br/><br/><pre><code>adb shell dumpsys activities<br/></code></pre><br/><br/><p>Ahí podrás ver cómo están tus actividades y comprender qué pasará cuando pulsas \"back\".</p><br/>',\n",
       "  'ClosedDate': None,\n",
       "  'CommentCount': 0,\n",
       "  'CommunityOwnedDate': None,\n",
       "  'ContentLicense': 'CC BY-SA 3.0',\n",
       "  'CreationDate': datetime.datetime(2015, 12, 1, 19, 29, 43, 757000),\n",
       "  'FavoriteCount': '',\n",
       "  'LastActivityDate': datetime.datetime(2015, 12, 4, 16, 32, 7, 947000),\n",
       "  'LastEditDate': datetime.datetime(2015, 12, 4, 16, 32, 7, 947000),\n",
       "  'LastEditorDisplayName': '',\n",
       "  'LastEditorUserId': 95,\n",
       "  'OwnerDisplayName': '',\n",
       "  'OwnerUserId': 309,\n",
       "  'ParentId': 89,\n",
       "  'PostTypeId': 2,\n",
       "  'Score': -1,\n",
       "  'Tags': '',\n",
       "  'Title': '',\n",
       "  'ViewCount': ''}]"
      ]
     },
     "execution_count": 86,
     "metadata": {},
     "output_type": "execute_result"
    }
   ],
   "source": [
    "respuestas = posts.find(\n",
    "    {\n",
    "        '$and': [ \n",
    "                    {\"PostTypeId\": 2} ,\n",
    "                    {\"Id\": {'$gte': 100}} \n",
    "                ]\n",
    "    }\n",
    ").limit(10)\n",
    "list(respuestas)"
   ]
  },
  {
   "cell_type": "markdown",
   "metadata": {
    "id": "v9fkqQyEXK43"
   },
   "source": [
    "También hay operaciones específicas de la coleción, como `count()`, `groupby()` y `distinct()`:![distinct.bakedsvg.svg](https://github.com/dsevilla/bdge-data/raw/master/misc/mongo-distinct.png)"
   ]
  },
  {
   "cell_type": "code",
   "execution_count": 40,
   "metadata": {
    "id": "Le1hoZ79XK45",
    "scrolled": true
   },
   "outputs": [
    {
     "data": {
      "text/plain": [
       "[-28,\n",
       " -14,\n",
       " -12,\n",
       " -10,\n",
       " -9,\n",
       " -8,\n",
       " -7,\n",
       " -6,\n",
       " -5,\n",
       " -4,\n",
       " -3,\n",
       " -2,\n",
       " -1,\n",
       " 0,\n",
       " 1,\n",
       " 2,\n",
       " 3,\n",
       " 4,\n",
       " 5,\n",
       " 6,\n",
       " 7,\n",
       " 8,\n",
       " 9,\n",
       " 10,\n",
       " 11,\n",
       " 12,\n",
       " 13,\n",
       " 14,\n",
       " 15,\n",
       " 16,\n",
       " 17,\n",
       " 18,\n",
       " 19,\n",
       " 20,\n",
       " 21,\n",
       " 22,\n",
       " 23,\n",
       " 24,\n",
       " 25,\n",
       " 26,\n",
       " 27,\n",
       " 28,\n",
       " 29,\n",
       " 30,\n",
       " 31,\n",
       " 32,\n",
       " 33,\n",
       " 34,\n",
       " 35,\n",
       " 36,\n",
       " 37,\n",
       " 38,\n",
       " 39,\n",
       " 40,\n",
       " 41,\n",
       " 42,\n",
       " 43,\n",
       " 44,\n",
       " 45,\n",
       " 46,\n",
       " 47,\n",
       " 48,\n",
       " 49,\n",
       " 50,\n",
       " 51,\n",
       " 52,\n",
       " 54,\n",
       " 55,\n",
       " 56,\n",
       " 57,\n",
       " 58,\n",
       " 59,\n",
       " 60,\n",
       " 61,\n",
       " 62,\n",
       " 64,\n",
       " 65,\n",
       " 66,\n",
       " 68,\n",
       " 70,\n",
       " 71,\n",
       " 76,\n",
       " 77,\n",
       " 78,\n",
       " 79,\n",
       " 80,\n",
       " 82,\n",
       " 86,\n",
       " 88,\n",
       " 89,\n",
       " 90,\n",
       " 91,\n",
       " 93,\n",
       " 94,\n",
       " 101,\n",
       " 106,\n",
       " 107,\n",
       " 108,\n",
       " 111,\n",
       " 112,\n",
       " 113,\n",
       " 116,\n",
       " 117,\n",
       " 118,\n",
       " 119,\n",
       " 124,\n",
       " 141,\n",
       " 173,\n",
       " 176,\n",
       " 195,\n",
       " 206,\n",
       " 219,\n",
       " 232]"
      ]
     },
     "execution_count": 40,
     "metadata": {},
     "output_type": "execute_result"
    }
   ],
   "source": [
    "db.posts.distinct('Score')"
   ]
  },
  {
   "cell_type": "markdown",
   "metadata": {
    "id": "rwrJSwdffbrI"
   },
   "source": [
    "## Framework de Agregación\n",
    "\n",
    "Framework de agregación: https://docs.mongodb.com/manual/reference/operator/aggregation/. Y aquí incluso un libro completo con usos prácticos de ejecutar agregación: https://www.practical-mongodb-aggregations.com/. A continuación otro vídeo interseante:"
   ]
  },
  {
   "cell_type": "code",
   "execution_count": 41,
   "metadata": {
    "id": "4om0lizwCHJZ"
   },
   "outputs": [
    {
     "data": {
      "image/jpeg": "[encoded data removed]",
      "text/html": [
       "\n",
       "        <iframe\n",
       "            width=\"600\"\n",
       "            height=\"300\"\n",
       "            src=\"https://www.youtube.com/embed/VSX4a3h4SmQ\"\n",
       "            frameborder=\"0\"\n",
       "            allowfullscreen\n",
       "            \n",
       "        ></iframe>\n",
       "        "
      ],
      "text/plain": [
       "<IPython.lib.display.YouTubeVideo at 0x161c626e450>"
      ]
     },
     "execution_count": 41,
     "metadata": {},
     "output_type": "execute_result"
    }
   ],
   "source": [
    "from IPython.display import YouTubeVideo\n",
    "YouTubeVideo('VSX4a3h4SmQ',width=600)"
   ]
  },
  {
   "cell_type": "markdown",
   "metadata": {
    "id": "7D-qyfvZXK48",
    "tags": []
   },
   "source": [
    "![](https://miro.medium.com/max/1060/1*2lDBxvZ8Cr3JYkoODTa0lQ.png)"
   ]
  },
  {
   "cell_type": "markdown",
   "metadata": {
    "id": "uXVupHnTXK48"
   },
   "source": [
    "Proyección:"
   ]
  },
  {
   "cell_type": "code",
   "execution_count": 42,
   "metadata": {
    "id": "hHjF49GqXK48"
   },
   "outputs": [
    {
     "data": {
      "text/plain": [
       "[{'_id': ObjectId('671278740e27c77fce31a79f'), 'Id': 1},\n",
       " {'_id': ObjectId('671278740e27c77fce31a7a0'), 'Id': 2},\n",
       " {'_id': ObjectId('671278740e27c77fce31a7a1'), 'Id': 3},\n",
       " {'_id': ObjectId('671278740e27c77fce31a7a2'), 'Id': 4},\n",
       " {'_id': ObjectId('671278740e27c77fce31a7a3'), 'Id': 5},\n",
       " {'_id': ObjectId('671278740e27c77fce31a7a4'), 'Id': 6},\n",
       " {'_id': ObjectId('671278740e27c77fce31a7a5'), 'Id': 7},\n",
       " {'_id': ObjectId('671278740e27c77fce31a7a6'), 'Id': 8},\n",
       " {'_id': ObjectId('671278740e27c77fce31a7a7'), 'Id': 9},\n",
       " {'_id': ObjectId('671278740e27c77fce31a7a8'), 'Id': 10},\n",
       " {'_id': ObjectId('671278740e27c77fce31a7a9'), 'Id': 11},\n",
       " {'_id': ObjectId('671278740e27c77fce31a7aa'), 'Id': 12},\n",
       " {'_id': ObjectId('671278740e27c77fce31a7ab'), 'Id': 14},\n",
       " {'_id': ObjectId('671278740e27c77fce31a7ac'), 'Id': 15},\n",
       " {'_id': ObjectId('671278740e27c77fce31a7ad'), 'Id': 16},\n",
       " {'_id': ObjectId('671278740e27c77fce31a7ae'), 'Id': 17},\n",
       " {'_id': ObjectId('671278740e27c77fce31a7af'), 'Id': 18},\n",
       " {'_id': ObjectId('671278740e27c77fce31a7b0'), 'Id': 19},\n",
       " {'_id': ObjectId('671278740e27c77fce31a7b1'), 'Id': 20},\n",
       " {'_id': ObjectId('671278740e27c77fce31a7b2'), 'Id': 21}]"
      ]
     },
     "execution_count": 42,
     "metadata": {},
     "output_type": "execute_result"
    }
   ],
   "source": [
    "respuestas = db['posts'].aggregate( [\n",
    "    {'$project' : { 'Id' : True }},\n",
    "    {'$limit': 20} ])\n",
    "list(respuestas)"
   ]
  },
  {
   "cell_type": "markdown",
   "metadata": {
    "id": "dkaF-MXPXK4_"
   },
   "source": [
    "_Lookup_!"
   ]
  },
  {
   "cell_type": "code",
   "execution_count": 43,
   "metadata": {
    "id": "CFH1_XvOXK5A",
    "scrolled": true
   },
   "outputs": [
    {
     "data": {
      "text/plain": [
       "[{'_id': ObjectId('671278740e27c77fce31a79f'),\n",
       "  'Id': 1,\n",
       "  'AcceptedAnswerId': 2,\n",
       "  'AnswerCount': 1,\n",
       "  'Body': '<p>Estoy creando un servicio usando <em>ASP.NET WebApi</em>. Quiero añadir soporte para la negociación del tipo de contenido basado en extensiones en el <em>URI</em>, así que he añadido lo siguiente al código de inicialización del servicio:</p><br/><br/><pre><code>public static class WebApiConfig<br/>{<br/>  public static void Register(HttpConfiguration config)<br/>  {<br/>    config.Formatters.JsonFormatter.AddUriPathExtensionMapping(\"json\", \"application/json\");<br/>    config.Formatters.XmlFormatter.AddUriPathExtensionMapping(\"xml\", \"application/xml\");<br/>  }<br/>}<br/></code></pre><br/><br/><p>Para que esto funcione necesito crear dos rutas para cada acción del controlador (estoy usando exclusivamente enrutamiento basado en atributos):</p><br/><br/><pre><code>[Route(\"item/{id}/details\")]<br/>[Route(\"item/{id}/details.{ext}\")]<br/>[HttpGet]<br/>public ItemDetail[] GetItemDetails(int id)<br/>{<br/>  return itemsService.GetItemDetails(id);<br/>}<br/><br/>[Route(\"item/{name}\")]<br/>[Route(\"item/{name}.{ext}\")]<br/>[HttpPost]<br/>public int CreateItem(string name)<br/>{<br/>  return itemsService.Create(name);<br/>}<br/></code></pre><br/><br/><p>Esto queda feo y hace que el código sea innecesariamente largo, así que investigué una forma de añadir la ruta con la extensión, automáticamente cuando se crea la ruta normal. Como resultado desarrollé una implementación personalizada de <code>IDirectRouteProvider</code> que puedo usar al registrar los atributos de ruta:</p><br/><br/><pre><code>config.MapHttpAttributeRoutes(new AutomaticExtensionRouteProvider());<br/></code></pre><br/><br/><p>El código del proveedor personalizado es:</p><br/><br/><pre><code>public class AutomaticExtensionRouteProvider : DefaultDirectRouteProvider<br/>{<br/>    protected override IReadOnlyList<RouteEntry> GetActionDirectRoutes(<br/>      HttpActionDescriptor actionDescriptor,<br/>      IReadOnlyList<IDirectRouteFactory> factories,<br/>      IInlineConstraintResolver constraintResolver)<br/>    {<br/>        var result = base.GetActionDirectRoutes(actionDescriptor, factories, constraintResolver);<br/>        var list = new List<RouteEntry>(result);<br/>        foreach(var route in result.Where(r => !r.Route.RouteTemplate.EndsWith(\".{ext}\")))<br/>        {<br/>            var newTemplate = route.Route.RouteTemplate + \".{ext}\";<br/>            if (!result.Any(r => r.Route.RouteTemplate == newTemplate))<br/>            {<br/>                var entry = new RouteEntry(null, new HttpRoute(newTemplate,<br/>                    new HttpRouteValueDictionary(route.Route.Defaults),<br/>                    new HttpRouteValueDictionary(route.Route.Constraints),<br/>                    new HttpRouteValueDictionary(route.Route.DataTokens)));<br/>                list.Add(entry);<br/>            }<br/>        }<br/>        return list.AsReadOnly();<br/>    }<br/>}<br/></code></pre><br/><br/><p>El problema es que esto funciona bien, pero falla en un caso: <strong>Cuando la última parte de la ruta es un parámetro sin restricciones</strong>. Así pues, en el ejemplo anterior, la creación de rutas para <code>GetItemDetails</code> funciona, pero para <code>CreateItem</code> lanza lo siguiente:</p><br/><br/><pre><code>System.InvalidOperationException: Multiple actions were found that match the request: <br/>CreateItem on type FooBar.Api.Controllers.ItemsController<br/>CreateItem on type FooBar.Api.Controllers.ItemsController<br/>   at System.Web.Http.Controllers.ApiControllerActionSelector.ActionSelectorCacheItem.SelectAction(HttpControllerContext controllerContext)<br/>   at System.Web.Http.Controllers.ApiControllerActionSelector.SelectAction(HttpControllerContext controllerContext)<br/></code></pre><br/><br/><p>Me imagino de dónde puede venir el problema: Una cadena arbitraria cumple los patrones <code>{name}</code> y <code>{name}.{ext}</code>, por lo que el motor de <em>WebApi</em> se confunde al intentar seleccionar la ruta adecuada. <strong>Pero entonces, ¿Por qué funciona cuando se especifican las dos rutas explícitamente en atributos?</strong> Por lo que yo entiendo, la ruta que yo creo en la clase <code>AutomaticExtensionRouteProvider</code> es idéntica a la que se crea explícitamente con un atributo (y si depuro veo que en efecto así es).</p><br/><br/><p>Así pues, ¿Qué está pasando aquí?</p><br/>',\n",
       "  'ClosedDate': None,\n",
       "  'CommentCount': 2,\n",
       "  'CommunityOwnedDate': None,\n",
       "  'ContentLicense': 'CC BY-SA 4.0',\n",
       "  'CreationDate': datetime.datetime(2015, 10, 29, 15, 56, 52, 933000),\n",
       "  'FavoriteCount': '',\n",
       "  'LastActivityDate': datetime.datetime(2021, 3, 12, 17, 49, 40, 687000),\n",
       "  'LastEditDate': datetime.datetime(2019, 7, 7, 21, 36, 17, 737000),\n",
       "  'LastEditorDisplayName': 'user13558',\n",
       "  'LastEditorUserId': '',\n",
       "  'OwnerDisplayName': '',\n",
       "  'OwnerUserId': 23,\n",
       "  'ParentId': '',\n",
       "  'PostTypeId': 1,\n",
       "  'Score': 40,\n",
       "  'Tags': '<.net><asp.net-web-api><asp.net>',\n",
       "  'Title': 'La creación manual de un alias de ruta con un DirectRouteProvider personalizado causa un error \"Multiple actions were found that match the request\"',\n",
       "  'ViewCount': 780,\n",
       "  'owner': [{'_id': ObjectId('671278c10e27c77fce37eaa0'),\n",
       "    'Id': 23,\n",
       "    'AboutMe': '<p>Empecemos por lo importante: me encantan los <a href=\"http://en.wikipedia.org/wiki/MSX\" rel=\"nofollow noreferrer\">ordenadores MSX</a> y el <a href=\"https://en.wikipedia.org/wiki/Renault_Twingo#Twingo_I_.281993.E2.80.932007.29\" rel=\"nofollow noreferrer\">Renault Twingo clásico</a> (sólo el modelo 1993-2007; los modelos más nuevos son tan aburridos como cualquier otro coche).<br/></p><br/><p>Y ahora la parte aburrida. Soy ingeniero de telecomunicaciones pero trabajo como programador, principalmente en C#. He hecho mucho desarrollo en Windows Forms en el pasado, también WPF y Silverlight, pero ahora estoy más metido en el desarrollo web (al principio sólo backend, pero ahora estoy en el mundo del frontend también).<br/></p><br/><p><del>Cuando tengo tiempo libre me gusta</del> Cuando <em>tenía</em> tiempo libre me gustaba programar mi MSX Turbo-R en ensamblador de Z80. De hecho he desarrollado incluso <a href=\"http://konamiman.com/msx/msx-s.html#inl\" rel=\"nofollow noreferrer\">una pila TCP/IP completa para MSX</a> (<a href=\"https://bitbucket.org/konamiman/msx/src/cf8fc0cc652e1ff79b1a2fc657b2f10d4e0c72fb/SRC/INL/?at=default\" rel=\"nofollow noreferrer\">las fuentes están disponibles</a>, ¡échales un ojo!), que presenté como mi proyecto de final de carrera en la universidad, con muy buenos resultados.</p><br/><p>Puedes ver mis proyectos de software aquí:<br/><br/><a href=\"http://www.konamiman.com\" rel=\"nofollow noreferrer\">http://www.konamiman.com</a><br/><br/><a href=\"http://github.com/konamiman\" rel=\"nofollow noreferrer\">http://github.com/konamiman</a></p><br/><p>Y si quieres puedes escribirme: konamiman@konamiman.com</p><br/>',\n",
       "    'AccountId': 3201,\n",
       "    'CreationDate': datetime.datetime(2015, 10, 29, 14, 53, 36, 233000),\n",
       "    'DisplayName': 'Konamiman',\n",
       "    'DownVotes': 4,\n",
       "    'LastAccessDate': datetime.datetime(2023, 11, 13, 20, 49, 46, 673000),\n",
       "    'Location': 'Palma de Mallorca, Spain',\n",
       "    'Reputation': 5278,\n",
       "    'UpVotes': 367,\n",
       "    'Views': 787,\n",
       "    'WebsiteUrl': 'http://www.konamiman.com'}]},\n",
       " {'_id': ObjectId('671278740e27c77fce31a7bc'),\n",
       "  'Id': 33,\n",
       "  'AcceptedAnswerId': 852,\n",
       "  'AnswerCount': 6,\n",
       "  'Body': '<p>Ya que en <em>jQuery</em> es posible cambiar la visibilidad de un elemento, ¿Cómo puedo saber si un elemento está visible o no en tiempo de ejecución?</p><br/>',\n",
       "  'ClosedDate': None,\n",
       "  'CommentCount': 0,\n",
       "  'CommunityOwnedDate': None,\n",
       "  'ContentLicense': 'CC BY-SA 3.0',\n",
       "  'CreationDate': datetime.datetime(2015, 11, 2, 15, 20, 4, 967000),\n",
       "  'FavoriteCount': '',\n",
       "  'LastActivityDate': datetime.datetime(2023, 4, 27, 19, 59, 55, 147000),\n",
       "  'LastEditDate': datetime.datetime(2016, 11, 10, 22, 18, 50, 7000),\n",
       "  'LastEditorDisplayName': 'user13558',\n",
       "  'LastEditorUserId': '',\n",
       "  'OwnerDisplayName': '',\n",
       "  'OwnerUserId': 21,\n",
       "  'ParentId': '',\n",
       "  'PostTypeId': 1,\n",
       "  'Score': 79,\n",
       "  'Tags': '<javascript><jquery>',\n",
       "  'Title': '¿Cómo puedo saber si un elemento está visible con jQuery?',\n",
       "  'ViewCount': 45766,\n",
       "  'owner': [{'_id': ObjectId('671278c10e27c77fce37ea9e'),\n",
       "    'Id': 21,\n",
       "    'AboutMe': '<p>Entrepreneur, software developer and <strong>traveler</strong>. :)</p><br/>',\n",
       "    'AccountId': 93263,\n",
       "    'CreationDate': datetime.datetime(2015, 10, 29, 13, 46, 46, 317000),\n",
       "    'DisplayName': 'jachguate',\n",
       "    'DownVotes': 281,\n",
       "    'LastAccessDate': datetime.datetime(2023, 11, 28, 16, 55, 27, 633000),\n",
       "    'Location': 'Guatemala',\n",
       "    'Reputation': 30128,\n",
       "    'UpVotes': 2727,\n",
       "    'Views': 2892,\n",
       "    'WebsiteUrl': 'http://jachguate.wordpress.com'}]},\n",
       " {'_id': ObjectId('671278740e27c77fce31a7bf'),\n",
       "  'Id': 36,\n",
       "  'AcceptedAnswerId': 40,\n",
       "  'AnswerCount': 3,\n",
       "  'Body': '<p>¿Cuál es la diferencia entre un <code>inner</code> y un <code>outer join</code>?</p><br/><p>Y ¿cuál es la función de los modificadores?</p><br/><ul><br/><li><code>left</code></li><br/><li><code>right</code></li><br/><li><code>full</code></li><br/></ul><br/>',\n",
       "  'ClosedDate': None,\n",
       "  'CommentCount': 1,\n",
       "  'CommunityOwnedDate': None,\n",
       "  'ContentLicense': 'CC BY-SA 4.0',\n",
       "  'CreationDate': datetime.datetime(2015, 11, 2, 15, 31, 51, 453000),\n",
       "  'FavoriteCount': '',\n",
       "  'LastActivityDate': datetime.datetime(2023, 7, 12, 6, 22, 59, 157000),\n",
       "  'LastEditDate': datetime.datetime(2020, 7, 23, 3, 20, 28, 683000),\n",
       "  'LastEditorDisplayName': '',\n",
       "  'LastEditorUserId': 128299,\n",
       "  'OwnerDisplayName': '',\n",
       "  'OwnerUserId': 21,\n",
       "  'ParentId': '',\n",
       "  'PostTypeId': 1,\n",
       "  'Score': 141,\n",
       "  'Tags': '<mysql><sql><join>',\n",
       "  'Title': '¿Cuál es la diferencia entre un inner y un outer join?',\n",
       "  'ViewCount': 98529,\n",
       "  'owner': [{'_id': ObjectId('671278c10e27c77fce37ea9e'),\n",
       "    'Id': 21,\n",
       "    'AboutMe': '<p>Entrepreneur, software developer and <strong>traveler</strong>. :)</p><br/>',\n",
       "    'AccountId': 93263,\n",
       "    'CreationDate': datetime.datetime(2015, 10, 29, 13, 46, 46, 317000),\n",
       "    'DisplayName': 'jachguate',\n",
       "    'DownVotes': 281,\n",
       "    'LastAccessDate': datetime.datetime(2023, 11, 28, 16, 55, 27, 633000),\n",
       "    'Location': 'Guatemala',\n",
       "    'Reputation': 30128,\n",
       "    'UpVotes': 2727,\n",
       "    'Views': 2892,\n",
       "    'WebsiteUrl': 'http://jachguate.wordpress.com'}]},\n",
       " {'_id': ObjectId('671278740e27c77fce31a7c1'),\n",
       "  'Id': 38,\n",
       "  'AcceptedAnswerId': '',\n",
       "  'AnswerCount': '',\n",
       "  'Body': '<p>Puedes usar la función <code>is()</code> junto con el selector <code>:visible</code> sobre un objeto <code>jQuery</code> ya existente.</p><br/><p>Por ejemplo, si tienes un <code>div</code> con <code>id</code>: <code>\"elemento\"</code> puedes saber si éste está visible o no de esta manera:</p><br/><pre class=\"lang-js prettyprint-override\"><code>var esVisible = $(\"#elemento\").is(\":visible\");<br/></code></pre><br/><p>Para mas información revisa la documentación de <a href=\"http://api.jquery.com/is/\" rel=\"nofollow noreferrer\">is</a> y <a href=\"https://api.jquery.com/visible-selector/\" rel=\"nofollow noreferrer\">:visible</a></p><br/>',\n",
       "  'ClosedDate': None,\n",
       "  'CommentCount': 2,\n",
       "  'CommunityOwnedDate': None,\n",
       "  'ContentLicense': 'CC BY-SA 4.0',\n",
       "  'CreationDate': datetime.datetime(2015, 11, 2, 16, 4, 43, 910000),\n",
       "  'FavoriteCount': '',\n",
       "  'LastActivityDate': datetime.datetime(2021, 9, 20, 4, 21, 12, 357000),\n",
       "  'LastEditDate': datetime.datetime(2021, 9, 20, 4, 21, 12, 357000),\n",
       "  'LastEditorDisplayName': '',\n",
       "  'LastEditorUserId': 20,\n",
       "  'OwnerDisplayName': '',\n",
       "  'OwnerUserId': 20,\n",
       "  'ParentId': 33,\n",
       "  'PostTypeId': 2,\n",
       "  'Score': 44,\n",
       "  'Tags': '',\n",
       "  'Title': '',\n",
       "  'ViewCount': '',\n",
       "  'owner': [{'_id': ObjectId('671278c10e27c77fce37ea9d'),\n",
       "    'Id': 20,\n",
       "    'AboutMe': '',\n",
       "    'AccountId': 62733,\n",
       "    'CreationDate': datetime.datetime(2015, 10, 28, 21, 24, 53, 730000),\n",
       "    'DisplayName': 'Carlos Muñoz',\n",
       "    'DownVotes': 523,\n",
       "    'LastAccessDate': datetime.datetime(2023, 11, 27, 20, 53, 58, 743000),\n",
       "    'Location': 'Lima, Peru',\n",
       "    'Reputation': 13368,\n",
       "    'UpVotes': 493,\n",
       "    'Views': 2231,\n",
       "    'WebsiteUrl': 'http://stackoverflow.com/users/186133/carlos-muoz'}]},\n",
       " {'_id': ObjectId('671278740e27c77fce31a7c3'),\n",
       "  'Id': 40,\n",
       "  'AcceptedAnswerId': '',\n",
       "  'AnswerCount': '',\n",
       "  'Body': '<p>Asumiendo que se está haciendo un <code>join</code> de columnas sin duplicados, lo cuál es un caso común:</p><br/><ul><br/><li><p>Un <strong>inner join</strong> de A y B entregará el resultado de la intersección de los conjuntos A y B. En otras palabras, la parte <em>interna</em> –intersección– en un diagrama de Venn.</p><br/></li><br/><li><p>Un <strong>full outer join</strong> entre A y B entregará el resultado de la unión de A y B. En otras palabras, la parte <em>externa</em> –unión– en un diagrama de Venn .</p><br/></li><br/></ul><br/><h1>Ejemplos:</h1><br/><p>Supongamos que tenemos dos tablas, con una sola columna cada una y los siguientes datos:</p><br/><pre><code>A    B<br/>-    -<br/>1    3<br/>2    4<br/>3    5<br/>4    6<br/></code></pre><br/><p>Nota que (1,2) solo se encuentran en A, (3,4) son comunes y (5,6) solamente se encuentran en B.</p><br/><h1>Inner Join</h1><br/><p>Un inner join –utilizando cualquiera de las sintaxis de consulta equivalente– te entrega la intersección de ambas tablas, es decir, las filas que ambas tablas tienen en común.</p><br/><pre><code>select * from a INNER JOIN b on a.a = b.b;<br/>select a.*, b.*  from a, b where a.a = b.b;<br/><br/>a | b<br/>--+--<br/>3 | 3<br/>4 | 4<br/></code></pre><br/><h1>Left outer join</h1><br/><p>Un <code>outer join</code> por la izquierda, te dará todas las filas de A, incluyendo las filas comunes entre A y B.</p><br/><pre><code>select * from a LEFT OUTER JOIN b on a.a = b.b;<br/>select a.*,b.*  from a,b where a.a = b.b(+);<br/><br/>a |  b<br/>--+-----<br/>1 | null<br/>2 | null<br/>3 |    3<br/>4 |    4<br/></code></pre><br/><h1>Right outer join</h1><br/><p>Un <code>outer join</code> por la derecha te dará todas las filas de B, incluyendo las filas comunes con A.</p><br/><pre><code>select * from a RIGHT OUTER JOIN b on a.a = b.b;<br/>select a.*,b.*  from a,b where a.a(+) = b.b;<br/><br/>a    |  b<br/>-----+----<br/>3    |  3<br/>4    |  4<br/>null |  5<br/>null |  6<br/></code></pre><br/><h1>Full outer join</h1><br/><p>Un <code>outer join</code> completo (full) te entregará la unión de A y B; es decir, todas las filas de A y todas las filas de B. Si una fila en A no tiene una fila correspondiente en B, la porción de B es null, y vice versa.</p><br/><pre><code>select * from a FULL OUTER JOIN b on a.a = b.b;<br/><br/> a   |  b<br/>-----+-----<br/>   1 | null<br/>   2 | null<br/>   3 |    3<br/>   4 |    4<br/>null |    5<br/>null |    6<br/></code></pre><br/><h1>Diagramas de Venn</h1><br/><p>Esto mismo, podemos verlo con diagramas de Venn:</p><br/><p><img src=\"https://upload.wikimedia.org/wikipedia/commons/e/eb/SQL_Joins_es.svg\" alt=\"Explicación visual de joins\" /><br/>Imagen <a href=\"https://commons.wikimedia.org/wiki/File:SQL_Joins_es.svg\" rel=\"nofollow noreferrer\">SQL_Joins_es.svg</a> de <a href=\"https://es.stackoverflow.com/users/21/jachguate\">jachguate</a>/<a href=\"https://commons.wikimedia.org/wiki/User:Arbeck\" rel=\"nofollow noreferrer\">Arbeck</a>, compartida bajo licencia <a href=\"https://creativecommons.org/licenses/by/3.0/deed.en\" rel=\"nofollow noreferrer\">CC BY 3.0</a>.</p><br/>',\n",
       "  'ClosedDate': None,\n",
       "  'CommentCount': 4,\n",
       "  'CommunityOwnedDate': None,\n",
       "  'ContentLicense': 'CC BY-SA 4.0',\n",
       "  'CreationDate': datetime.datetime(2015, 11, 2, 17, 8, 19, 893000),\n",
       "  'FavoriteCount': '',\n",
       "  'LastActivityDate': datetime.datetime(2023, 7, 12, 6, 22, 59, 157000),\n",
       "  'LastEditDate': datetime.datetime(2023, 7, 12, 6, 22, 59, 157000),\n",
       "  'LastEditorDisplayName': '',\n",
       "  'LastEditorUserId': 21,\n",
       "  'OwnerDisplayName': '',\n",
       "  'OwnerUserId': 21,\n",
       "  'ParentId': 36,\n",
       "  'PostTypeId': 2,\n",
       "  'Score': 206,\n",
       "  'Tags': '',\n",
       "  'Title': '',\n",
       "  'ViewCount': '',\n",
       "  'owner': [{'_id': ObjectId('671278c10e27c77fce37ea9e'),\n",
       "    'Id': 21,\n",
       "    'AboutMe': '<p>Entrepreneur, software developer and <strong>traveler</strong>. :)</p><br/>',\n",
       "    'AccountId': 93263,\n",
       "    'CreationDate': datetime.datetime(2015, 10, 29, 13, 46, 46, 317000),\n",
       "    'DisplayName': 'jachguate',\n",
       "    'DownVotes': 281,\n",
       "    'LastAccessDate': datetime.datetime(2023, 11, 28, 16, 55, 27, 633000),\n",
       "    'Location': 'Guatemala',\n",
       "    'Reputation': 30128,\n",
       "    'UpVotes': 2727,\n",
       "    'Views': 2892,\n",
       "    'WebsiteUrl': 'http://jachguate.wordpress.com'}]},\n",
       " {'_id': ObjectId('671278740e27c77fce31a7c6'),\n",
       "  'Id': 43,\n",
       "  'AcceptedAnswerId': '',\n",
       "  'AnswerCount': '',\n",
       "  'Body': '<p>En algún punto de esta documentación de MySQL expone algo así:<br/><a href=\"http://dev.mysql.com/doc/refman/5.7/en/datetime.html\" rel=\"noreferrer\">http://dev.mysql.com/doc/refman/5.7/en/datetime.html</a> (link inglés)</p><br/><br/><blockquote><br/>  <p>TIMESTAMP tiene un rango de \\'1970-01-01 00:00:01\\' GMT a \\'01/09/2038<br/>  03:14:07\\' GMT.</p><br/>  <br/>  <p>DATETIME se usa cuando se necesita valores que contienen tanto la<br/>  fecha y la hora. MySQL recupera y muestra los valores DATETIME en<br/>  \\'AAAA-MM-DD HH: MM: SS\\' formato. El rango admitido es \\'01/01/1000<br/>  00:00:00\\' a \\'9999-12-31 23:59:59\\'.</p><br/></blockquote><br/><br/><p>Partiendo de lo anterior y teniéndolo en cuenta es el posible que el rango de los datos que podría almacenar o estar interesado en ello le inclinen a favor de uno u otro, por ejemplo si usted trabaja con hipotecas por decir algo es fácil que usted supere el rango de <code>TIMESTAMP</code> a día de hoy.</p><br/><br/><p><code>TIMESTAMP</code> es afectada por las configuraciones/ajustes de la zona horaria. Mientras que <code>DATETIME</code> es constante.</p><br/><br/><p><code>TIMESTAMP</code> es de cuatro bytes y <code>DATETIME</code> de ocho bytes, por consecuencia las marcas de tiempo (<code>TIMESTAMP</code>) son también más ligeras en la base de datos, con indexados más rápidos.</p><br/><br/><p>Teniendo en cuenta todo lo anterior si usted desea almacenar un valor específico \"podría que fuese mejor\" usar <code>DATATIME</code>, pero si lo que desea es almacenar para realizar algún seguimento de posibles cambios en los registro quizás le convenga usar <code>TIMESTAMP</code> cuando cambia un registro.</p><br/><br/><p>Si esta trabajando sobre <code>MySQL 5</code> o superior, los valores de <code>TIMESTAMP</code> se convierten de la zona horaria actual a UTC para el <code>almacenamiento</code>, y se convierten de nuevo de UTC a la zona horaria actual para la <code>recuperación</code>. sólo para el tipo de datos TIMESTAMP.</p><br/><br/><p>(NOTA si encuentro el link de lo anterior lo intentaré poner por aquí)</p><br/><br/><p>Espero le ayude.</p><br/>',\n",
       "  'ClosedDate': None,\n",
       "  'CommentCount': 0,\n",
       "  'CommunityOwnedDate': None,\n",
       "  'ContentLicense': 'CC BY-SA 3.0',\n",
       "  'CreationDate': datetime.datetime(2015, 11, 2, 17, 57, 1, 243000),\n",
       "  'FavoriteCount': '',\n",
       "  'LastActivityDate': datetime.datetime(2016, 5, 22, 18, 56, 27, 993000),\n",
       "  'LastEditDate': datetime.datetime(2016, 5, 22, 18, 56, 27, 993000),\n",
       "  'LastEditorDisplayName': '',\n",
       "  'LastEditorUserId': 3275,\n",
       "  'OwnerDisplayName': '',\n",
       "  'OwnerUserId': 24,\n",
       "  'ParentId': 35,\n",
       "  'PostTypeId': 2,\n",
       "  'Score': 41,\n",
       "  'Tags': '',\n",
       "  'Title': '',\n",
       "  'ViewCount': '',\n",
       "  'owner': [{'_id': ObjectId('671278c10e27c77fce37eaa1'),\n",
       "    'Id': 24,\n",
       "    'AboutMe': '',\n",
       "    'AccountId': 5172481,\n",
       "    'CreationDate': datetime.datetime(2015, 10, 29, 17, 15, 22, 197000),\n",
       "    'DisplayName': 'Angel Angel',\n",
       "    'DownVotes': 1,\n",
       "    'LastAccessDate': datetime.datetime(2017, 7, 5, 15, 59, 49, 780000),\n",
       "    'Location': '',\n",
       "    'Reputation': 10093,\n",
       "    'UpVotes': 985,\n",
       "    'Views': 1023,\n",
       "    'WebsiteUrl': ''}]},\n",
       " {'_id': ObjectId('671278740e27c77fce31a7e2'),\n",
       "  'Id': 90,\n",
       "  'AcceptedAnswerId': 94,\n",
       "  'AnswerCount': 4,\n",
       "  'Body': '<p>Hice un commit e inmediatamente después noté que <em>commiteé</em> cambios que no quiero <em>pushear</em> al <em>remote</em>.</p><br/><br/><p>¿Hay alguna manera de deshacer el mismo manteniendo esos cambios en mi copia local para volver a <em>commitearlos</em> correctamente?</p><br/>',\n",
       "  'ClosedDate': None,\n",
       "  'CommentCount': 1,\n",
       "  'CommunityOwnedDate': None,\n",
       "  'ContentLicense': 'CC BY-SA 3.0',\n",
       "  'CreationDate': datetime.datetime(2015, 12, 1, 18, 28, 1, 73000),\n",
       "  'FavoriteCount': '',\n",
       "  'LastActivityDate': datetime.datetime(2021, 9, 20, 4, 26, 25, 977000),\n",
       "  'LastEditDate': datetime.datetime(2020, 9, 29, 8, 38, 23, 503000),\n",
       "  'LastEditorDisplayName': '',\n",
       "  'LastEditorUserId': 83,\n",
       "  'OwnerDisplayName': '',\n",
       "  'OwnerUserId': 260,\n",
       "  'ParentId': '',\n",
       "  'PostTypeId': 1,\n",
       "  'Score': 91,\n",
       "  'Tags': '<git><git-commit>',\n",
       "  'Title': '¿Cómo puedo deshacer el último commit en Git?',\n",
       "  'ViewCount': 59307,\n",
       "  'owner': [{'_id': ObjectId('671278c10e27c77fce37eb7b'),\n",
       "    'Id': 260,\n",
       "    'AboutMe': '<h1>Useful online tools for StackOverflow</h1><br/><br/><p><strong>SQL</strong></p><br/><br/><p><a href=\"http://sqlfiddle.com/#!2/a2581/1\" rel=\"nofollow noreferrer\">SQLFiddle</a><br><br/><a href=\"http://data.stackexchange.com/stackoverflow/query/new\" rel=\"nofollow noreferrer\">StackOverflow MSSQL</a><br><br/><a href=\"http://sqlize.com\" rel=\"nofollow noreferrer\">SQLize</a><br><br/><a href=\"http://sqlzoo.net/create_view.htm\" rel=\"nofollow noreferrer\">SQLZoo</a>  </p><br/><br/><p><strong>Regex</strong></p><br/><br/><p><a href=\"http://regexpal.com\" rel=\"nofollow noreferrer\">RegexPal</a> (Generic)<br><br/><a href=\"http://www.regexr.com\" rel=\"nofollow noreferrer\">Regexr</a> (Generic)<br><br/><a href=\"http://regex101.com\" rel=\"nofollow noreferrer\">Regex101</a> (Generic)<br><br/><a href=\"http://rubular.com\" rel=\"nofollow noreferrer\">Rubular</a> (Ruby)<br><br/><a href=\"http://regex.larsolavtorvik.com\" rel=\"nofollow noreferrer\">LarsoLavtorvik</a> (PHP)<br><br/><a href=\"http://myregextester.com\" rel=\"nofollow noreferrer\">MyRegexTester</a> (.NET, PHP, JS, JAVA)</p><br/><br/><p><strong>Programing Languages</strong></p><br/><br/><p><a href=\"http://ideone.com\" rel=\"nofollow noreferrer\">IDEOne</a>  </p><br/><br/><p><strong>Others</strong></p><br/><br/><p><a href=\"http://ondras.zarovi.cz/sql/demo/\" rel=\"nofollow noreferrer\">Table modeller</a><br><br/><a href=\"http://www.sensefulsolutions.com/2010/10/format-text-as-table.html\" rel=\"nofollow noreferrer\">Text as table</a><br><br/><a href=\"http://json.parser.online.fr\" rel=\"nofollow noreferrer\">Json Parser</a><br><br/><a href=\"http://videlibri.sourceforge.net/cgi-bin/xidelcgi\" rel=\"nofollow noreferrer\">XPath</a></p><br/>',\n",
       "    'AccountId': 99289,\n",
       "    'CreationDate': datetime.datetime(2015, 12, 1, 18, 17, 19, 347000),\n",
       "    'DisplayName': 'Mosty Mostacho',\n",
       "    'DownVotes': 1,\n",
       "    'LastAccessDate': datetime.datetime(2022, 9, 12, 1, 39, 58, 933000),\n",
       "    'Location': 'La Plata, Argentina',\n",
       "    'Reputation': 1696,\n",
       "    'UpVotes': 11,\n",
       "    'Views': 42,\n",
       "    'WebsiteUrl': ''}]},\n",
       " {'_id': ObjectId('671278740e27c77fce31a7e6'),\n",
       "  'Id': 94,\n",
       "  'AcceptedAnswerId': '',\n",
       "  'AnswerCount': '',\n",
       "  'Body': '<p>Si quieres mantener los cambios:</p><br/><br/><pre><code>git reset [--mixed] HEAD~1<br/></code></pre><br/><br/><p>Si además no quieres cargarte el commit (sólo mover el head al anterior):</p><br/><br/><pre><code>git reset --soft HEAD~1<br/></code></pre><br/><br/><p>Y si no quieres mantenerlos (y volver al estado del commit anterior, en la práctica, destruir el último commit completamente como si nunca hubiera existido):</p><br/><br/><pre><code>git reset --hard HEAD~1<br/></code></pre><br/>',\n",
       "  'ClosedDate': None,\n",
       "  'CommentCount': 3,\n",
       "  'CommunityOwnedDate': None,\n",
       "  'ContentLicense': 'CC BY-SA 3.0',\n",
       "  'CreationDate': datetime.datetime(2015, 12, 1, 18, 36, 17, 250000),\n",
       "  'FavoriteCount': '',\n",
       "  'LastActivityDate': datetime.datetime(2015, 12, 1, 19, 10, 37, 377000),\n",
       "  'LastEditDate': datetime.datetime(2015, 12, 1, 19, 10, 37, 377000),\n",
       "  'LastEditorDisplayName': '',\n",
       "  'LastEditorUserId': 175,\n",
       "  'OwnerDisplayName': '',\n",
       "  'OwnerUserId': 175,\n",
       "  'ParentId': 90,\n",
       "  'PostTypeId': 2,\n",
       "  'Score': 107,\n",
       "  'Tags': '',\n",
       "  'Title': '',\n",
       "  'ViewCount': '',\n",
       "  'owner': [{'_id': ObjectId('671278c10e27c77fce37eb2b'),\n",
       "    'Id': 175,\n",
       "    'AboutMe': '<p>Forty-something wannabe programmer from Murcia, Spain</p><br/>',\n",
       "    'AccountId': 26496,\n",
       "    'CreationDate': datetime.datetime(2015, 12, 1, 17, 13, 47, 890000),\n",
       "    'DisplayName': 'Jcl',\n",
       "    'DownVotes': 2,\n",
       "    'LastAccessDate': datetime.datetime(2023, 10, 24, 19, 20, 32, 197000),\n",
       "    'Location': 'Murcia, Spain',\n",
       "    'Reputation': 1373,\n",
       "    'UpVotes': 2,\n",
       "    'Views': 44,\n",
       "    'WebsiteUrl': 'https://javiercampos.info'}]},\n",
       " {'_id': ObjectId('671278740e27c77fce31a7ee'),\n",
       "  'Id': 103,\n",
       "  'AcceptedAnswerId': 105,\n",
       "  'AnswerCount': 12,\n",
       "  'Body': '<p>Necesito centrar horizontalmente el <code>div</code> <em>interno</em> dentro del <em>externo</em> tomando como base este código HTML y CSS:</p><br/><br/><pre class=\"lang-html prettyprint-override\"><code><div class=\"externo\"><br/>    <div class=\"interno\"><br/>    </div><br/></div><br/></code></pre><br/><br/><pre class=\"lang-css prettyprint-override\"><code>.interno {<br/>    background-color: green;<br/>    height: 20px;<br/>    width: 50%;<br/>}<br/><br/>.externo {<br/>    background-color: red;<br/>    width: 200px;<br/>    padding: 20px;<br/>}<br/></code></pre><br/><br/><p>JSFiddle: <a href=\"https://jsfiddle.net/fpvkcrkg/\">https://jsfiddle.net/fpvkcrkg/</a></p><br/>',\n",
       "  'ClosedDate': None,\n",
       "  'CommentCount': 4,\n",
       "  'CommunityOwnedDate': None,\n",
       "  'ContentLicense': 'CC BY-SA 3.0',\n",
       "  'CreationDate': datetime.datetime(2015, 12, 1, 19, 6, 56, 597000),\n",
       "  'FavoriteCount': '',\n",
       "  'LastActivityDate': datetime.datetime(2018, 10, 6, 6, 46, 25, 133000),\n",
       "  'LastEditDate': datetime.datetime(2015, 12, 1, 19, 9, 47, 807000),\n",
       "  'LastEditorDisplayName': '',\n",
       "  'LastEditorUserId': 260,\n",
       "  'OwnerDisplayName': '',\n",
       "  'OwnerUserId': 260,\n",
       "  'ParentId': '',\n",
       "  'PostTypeId': 1,\n",
       "  'Score': 46,\n",
       "  'Tags': '<html><css>',\n",
       "  'Title': '¿Cómo puedo centrar horizontalmente un div dentro de otro div?',\n",
       "  'ViewCount': 32935,\n",
       "  'owner': [{'_id': ObjectId('671278c10e27c77fce37eb7b'),\n",
       "    'Id': 260,\n",
       "    'AboutMe': '<h1>Useful online tools for StackOverflow</h1><br/><br/><p><strong>SQL</strong></p><br/><br/><p><a href=\"http://sqlfiddle.com/#!2/a2581/1\" rel=\"nofollow noreferrer\">SQLFiddle</a><br><br/><a href=\"http://data.stackexchange.com/stackoverflow/query/new\" rel=\"nofollow noreferrer\">StackOverflow MSSQL</a><br><br/><a href=\"http://sqlize.com\" rel=\"nofollow noreferrer\">SQLize</a><br><br/><a href=\"http://sqlzoo.net/create_view.htm\" rel=\"nofollow noreferrer\">SQLZoo</a>  </p><br/><br/><p><strong>Regex</strong></p><br/><br/><p><a href=\"http://regexpal.com\" rel=\"nofollow noreferrer\">RegexPal</a> (Generic)<br><br/><a href=\"http://www.regexr.com\" rel=\"nofollow noreferrer\">Regexr</a> (Generic)<br><br/><a href=\"http://regex101.com\" rel=\"nofollow noreferrer\">Regex101</a> (Generic)<br><br/><a href=\"http://rubular.com\" rel=\"nofollow noreferrer\">Rubular</a> (Ruby)<br><br/><a href=\"http://regex.larsolavtorvik.com\" rel=\"nofollow noreferrer\">LarsoLavtorvik</a> (PHP)<br><br/><a href=\"http://myregextester.com\" rel=\"nofollow noreferrer\">MyRegexTester</a> (.NET, PHP, JS, JAVA)</p><br/><br/><p><strong>Programing Languages</strong></p><br/><br/><p><a href=\"http://ideone.com\" rel=\"nofollow noreferrer\">IDEOne</a>  </p><br/><br/><p><strong>Others</strong></p><br/><br/><p><a href=\"http://ondras.zarovi.cz/sql/demo/\" rel=\"nofollow noreferrer\">Table modeller</a><br><br/><a href=\"http://www.sensefulsolutions.com/2010/10/format-text-as-table.html\" rel=\"nofollow noreferrer\">Text as table</a><br><br/><a href=\"http://json.parser.online.fr\" rel=\"nofollow noreferrer\">Json Parser</a><br><br/><a href=\"http://videlibri.sourceforge.net/cgi-bin/xidelcgi\" rel=\"nofollow noreferrer\">XPath</a></p><br/>',\n",
       "    'AccountId': 99289,\n",
       "    'CreationDate': datetime.datetime(2015, 12, 1, 18, 17, 19, 347000),\n",
       "    'DisplayName': 'Mosty Mostacho',\n",
       "    'DownVotes': 1,\n",
       "    'LastAccessDate': datetime.datetime(2022, 9, 12, 1, 39, 58, 933000),\n",
       "    'Location': 'La Plata, Argentina',\n",
       "    'Reputation': 1696,\n",
       "    'UpVotes': 11,\n",
       "    'Views': 42,\n",
       "    'WebsiteUrl': ''}]},\n",
       " {'_id': ObjectId('671278740e27c77fce31a814'),\n",
       "  'Id': 142,\n",
       "  'AcceptedAnswerId': 151,\n",
       "  'AnswerCount': 7,\n",
       "  'Body': '<h3>Pregunta</h3><br/><br/><p>¿Cómo validar un e-mail que acepte todos los caracteres latinos?</p><br/><br/><ul><br/><li>Por caracteres latinos me refiero a letras acentuadas, <code>ñ</code>, <code>ç</code>, y todas las usadas por idiomas como español, portugués, italiano... latinos.</li><br/></ul><br/><br/><h3>Contexto</h3><br/><br/><ul><br/><li>El objetivo es mostrar un icono al lado del texto a medida que el usuario va tipeando su dirección de mail.</li><br/><li>No me interesa aceptar todos los casos válidos. Fue una decisión de diseño abarcar sólo los mails más frecuentes. Es decir, letras (incluyendo acentos y similares) y los símbolos <code>._%+-</code>.</li><br/><li>Puedo usar código de otras fuentes, siempre y cuando sean populares (ej: jQuery).</li><br/></ul><br/><br/><h3>Código</h3><br/><br/><p><div class=\"snippet\" data-lang=\"js\" data-hide=\"false\" data-console=\"false\" data-babel=\"false\"><br/><div class=\"snippet-code\"><br/><pre class=\"snippet-code-js lang-js prettyprint-override\"><code>document.getElementById(\\'email\\').addEventListener(\\'input\\', function() {<br/>    campo = event.target;<br/>    valido = document.getElementById(\\'emailOK\\');<br/>        <br/>    emailRegex = /^[-\\\\w.%+]{1,64}@(?:[A-Z0-9-]{1,63}\\\\.){1,125}[A-Z]{2,63}$/i;<br/>    //Se muestra un texto a modo de ejemplo, luego va a ser un icono<br/>    if (emailRegex.test(campo.value)) {<br/>      valido.innerText = \"válido\";<br/>    } else {<br/>      valido.innerText = \"incorrecto\";<br/>    }<br/>});</code></pre><br/><pre class=\"snippet-code-html lang-html prettyprint-override\"><code><p><br/>    Email:<br/>    <input id=\"email\"><br/>    <span id=\"emailOK\"></span><br/></p></code></pre><br/></div><br/></div><br/></p><br/><br/><h3>Casos</h3><br/><br/><p>Estoy usando el regex</p><br/><br/><pre><code>/^[-\\\\w.%+]{1,64}@(?:[A-Z0-9-]{1,63}\\\\.){1,125}[A-Z]{2,63}$/i<br/></code></pre><br/><br/><p>Que funciona perfecto en casos como</p><br/><br/><pre><code>abcde.fghi@gmail.com<br/>nombre-apellido@do-mi-nio.info<br/></code></pre><br/><br/><p>Pero falla con acentos y otras letras latinas</p><br/><br/><pre><code>germán@bla.com<br/>yo@mi-compañía.com<br/>estação@brasil.com.br<br/></code></pre><br/>',\n",
       "  'ClosedDate': None,\n",
       "  'CommentCount': 6,\n",
       "  'CommunityOwnedDate': None,\n",
       "  'ContentLicense': 'CC BY-SA 4.0',\n",
       "  'CreationDate': datetime.datetime(2015, 12, 1, 20, 55, 26, 860000),\n",
       "  'FavoriteCount': '',\n",
       "  'LastActivityDate': datetime.datetime(2023, 5, 16, 21, 45, 17, 317000),\n",
       "  'LastEditDate': datetime.datetime(2018, 9, 29, 18, 8, 16, 547000),\n",
       "  'LastEditorDisplayName': '',\n",
       "  'LastEditorUserId': 71015,\n",
       "  'OwnerDisplayName': '',\n",
       "  'OwnerUserId': 127,\n",
       "  'ParentId': '',\n",
       "  'PostTypeId': 1,\n",
       "  'Score': 112,\n",
       "  'Tags': '<javascript><validación><email><regex>',\n",
       "  'Title': 'Validar un email en JavaScript que acepte todos los caracteres latinos',\n",
       "  'ViewCount': 173982,\n",
       "  'owner': [{'_id': ObjectId('671278c10e27c77fce37eafe'),\n",
       "    'Id': 127,\n",
       "    'AboutMe': '<blockquote><br/>  <p>Que otros se jacten de las páginas que han escrito;<br><br/>  a mí me enorgullecen las que he leído.</p><br/></blockquote><br/><br/><p><sup> <em>--- Jorge Luis Borges</em></sup></p><br/>',\n",
       "    'AccountId': 6885817,\n",
       "    'CreationDate': datetime.datetime(2015, 12, 1, 17, 2, 16, 160000),\n",
       "    'DisplayName': 'Mariano',\n",
       "    'DownVotes': 1208,\n",
       "    'LastAccessDate': datetime.datetime(2023, 12, 2, 13, 33, 15, 257000),\n",
       "    'Location': 'Buenos Aires, Argentina',\n",
       "    'Reputation': 24464,\n",
       "    'UpVotes': 6437,\n",
       "    'Views': 4283,\n",
       "    'WebsiteUrl': ''}]},\n",
       " {'_id': ObjectId('671278740e27c77fce31a817'),\n",
       "  'Id': 145,\n",
       "  'AcceptedAnswerId': 154,\n",
       "  'AnswerCount': 4,\n",
       "  'Body': '<p>En C#, ¿cuál es la diferencia entre <code>String</code> y <code>string</code>? <em>(véase la mayúscula)</em></p><br/><br/><p>Ejemplo:</p><br/><br/><pre><code>string s = \"¡Hola mundo!\";<br/>String S = \"¡Hola mundo!\";<br/></code></pre><br/><br/><p>¿Cuáles son las reglas de uso para cada una? ¿Y cuáles son las diferencias?</p><br/><br/><hr><br/><br/><p>Pregunta original: <a href=\"https://stackoverflow.com/questions/7074/whats-the-difference-between-string-and-string\">What\\'s the difference between String and string?</a></p><br/>',\n",
       "  'ClosedDate': None,\n",
       "  'CommentCount': 3,\n",
       "  'CommunityOwnedDate': None,\n",
       "  'ContentLicense': 'CC BY-SA 3.0',\n",
       "  'CreationDate': datetime.datetime(2015, 12, 1, 20, 59, 34, 93000),\n",
       "  'FavoriteCount': '',\n",
       "  'LastActivityDate': datetime.datetime(2021, 9, 20, 4, 17, 30, 943000),\n",
       "  'LastEditDate': datetime.datetime(2017, 5, 23, 12, 39, 20, 733000),\n",
       "  'LastEditorDisplayName': '',\n",
       "  'LastEditorUserId': -1,\n",
       "  'OwnerDisplayName': '',\n",
       "  'OwnerUserId': 149,\n",
       "  'ParentId': '',\n",
       "  'PostTypeId': 1,\n",
       "  'Score': 55,\n",
       "  'Tags': '<string><c#>',\n",
       "  'Title': '¿Cuál es la diferencia entre String y string?',\n",
       "  'ViewCount': 19037,\n",
       "  'owner': [{'_id': ObjectId('671278c10e27c77fce37eb11'),\n",
       "    'Id': 149,\n",
       "    'AboutMe': '',\n",
       "    'AccountId': 6725052,\n",
       "    'CreationDate': datetime.datetime(2015, 12, 1, 17, 6, 44, 570000),\n",
       "    'DisplayName': 'Hewbot',\n",
       "    'DownVotes': 0,\n",
       "    'LastAccessDate': datetime.datetime(2020, 4, 22, 11, 9, 6, 130000),\n",
       "    'Location': '',\n",
       "    'Reputation': 1487,\n",
       "    'UpVotes': 9,\n",
       "    'Views': 66,\n",
       "    'WebsiteUrl': ''}]},\n",
       " {'_id': ObjectId('671278740e27c77fce31a81a'),\n",
       "  'Id': 151,\n",
       "  'AcceptedAnswerId': '',\n",
       "  'AnswerCount': '',\n",
       "  'Body': '<p>Con esta expresión regular puedes validar cualquier dirección de correo elecrónico que contenga caracteres Unicode:</p><br/><br/><pre><code>/^(([^<>()[\\\\]\\\\.,;:\\\\s@\\\\\"]+(\\\\.[^<>()[\\\\]\\\\.,;:\\\\s@\\\\\"]+)*)|(\\\\\".+\\\\\"))@(([^<>()[\\\\]\\\\.,;:\\\\s@\\\\\"]+\\\\.)+[^<>()[\\\\]\\\\.,;:\\\\s@\\\\\"]{2,})$/i<br/></code></pre><br/><br/><p>Si lo pruebas en una consola de JavaScript:</p><br/><br/><pre><code>> emailRegex.test(\"abcde.fghi@gmail.com\");<br/>< true<br/>> emailRegex.test(\"germán@bla.com\");<br/>< true<br/></code></pre><br/><br/><p><a href=\"https://stackoverflow.com/a/46181\"><strong>Fuente</strong></a></p><br/><br/><hr><br/><br/><p>A partir de ahí, y como muy bien has mencionado, una expresión que se ajusta más a tus necesidades sería la siguiente:</p><br/><br/><pre><code>/^(?:[^<>()[\\\\].,;:\\\\s@\"]+(\\\\.[^<>()[\\\\].,;:\\\\s@\"]+)*|\"[^\\\\n\"]+\")@(?:[^<>()[\\\\].,;:\\\\s@\"]+\\\\.)+[^<>()[\\\\]\\\\.,;:\\\\s@\"]{2,63}$/i<br/></code></pre><br/>',\n",
       "  'ClosedDate': None,\n",
       "  'CommentCount': 2,\n",
       "  'CommunityOwnedDate': datetime.datetime(2017, 6, 22, 13, 57, 57, 983000),\n",
       "  'ContentLicense': 'CC BY-SA 3.0',\n",
       "  'CreationDate': datetime.datetime(2015, 12, 1, 21, 13, 37, 470000),\n",
       "  'FavoriteCount': '',\n",
       "  'LastActivityDate': datetime.datetime(2017, 6, 22, 13, 57, 57, 983000),\n",
       "  'LastEditDate': datetime.datetime(2017, 6, 22, 13, 57, 57, 983000),\n",
       "  'LastEditorDisplayName': '',\n",
       "  'LastEditorUserId': 149,\n",
       "  'OwnerDisplayName': '',\n",
       "  'OwnerUserId': 149,\n",
       "  'ParentId': 142,\n",
       "  'PostTypeId': 2,\n",
       "  'Score': 111,\n",
       "  'Tags': '',\n",
       "  'Title': '',\n",
       "  'ViewCount': '',\n",
       "  'owner': [{'_id': ObjectId('671278c10e27c77fce37eb11'),\n",
       "    'Id': 149,\n",
       "    'AboutMe': '',\n",
       "    'AccountId': 6725052,\n",
       "    'CreationDate': datetime.datetime(2015, 12, 1, 17, 6, 44, 570000),\n",
       "    'DisplayName': 'Hewbot',\n",
       "    'DownVotes': 0,\n",
       "    'LastAccessDate': datetime.datetime(2020, 4, 22, 11, 9, 6, 130000),\n",
       "    'Location': '',\n",
       "    'Reputation': 1487,\n",
       "    'UpVotes': 9,\n",
       "    'Views': 66,\n",
       "    'WebsiteUrl': ''}]},\n",
       " {'_id': ObjectId('671278740e27c77fce31a81d'),\n",
       "  'Id': 154,\n",
       "  'AcceptedAnswerId': '',\n",
       "  'AnswerCount': '',\n",
       "  'Body': '<p><code>String</code> es el nombre de la clase <a href=\"https://msdn.microsoft.com/es-es/library/system.string.aspx\" rel=\"nofollow noreferrer\"><code>System.String</code></a></p><br/><p><code>string</code> es el alias de <code>System.String</code> en C#: <a href=\"https://msdn.microsoft.com/en-us/library/362314fe.aspx\" rel=\"nofollow noreferrer\">string (C# Reference)</a></p><br/><p>A nivel de ejecución no existe diferencia alguna ya que el compilador convierte ambas líneas en lo mismo.</p><br/><p>Por ejemplo esto es lo que genera LINQPad con las sgtes dos declaraciones:</p><br/><pre><code>String S = \"Hola mundo\";<br/>string s = \"Hola mundo\";<br/></code></pre><br/><p><a href=\"https://i.stack.imgur.com/cMtev.png\" rel=\"nofollow noreferrer\"><img src=\"https://i.stack.imgur.com/cMtev.png\" alt=\"IL generado\" /></a></p><br/><p>Cómo pueden ver ambas línas generan la instrucción:</p><br/><pre><code>ldstr \"Hola mundo\"<br/></code></pre><br/><p>De la misma manera por ejemplo al invocar alguno de sus métodos</p><br/><pre><code>String.Format(\"Hola\");<br/>string.Format(\"Hola\");<br/></code></pre><br/><p>Ambas líneas hacen referencia a la misma clase <code>System.String</code> y generan el mismo código</p><br/><p><a href=\"https://i.stack.imgur.com/E1Ybm.png\" rel=\"nofollow noreferrer\"><img src=\"https://i.stack.imgur.com/E1Ybm.png\" alt=\"IL generado 2\" /></a></p><br/>',\n",
       "  'ClosedDate': None,\n",
       "  'CommentCount': 2,\n",
       "  'CommunityOwnedDate': None,\n",
       "  'ContentLicense': 'CC BY-SA 4.0',\n",
       "  'CreationDate': datetime.datetime(2015, 12, 1, 21, 26, 51, 183000),\n",
       "  'FavoriteCount': '',\n",
       "  'LastActivityDate': datetime.datetime(2021, 9, 20, 4, 17, 30, 943000),\n",
       "  'LastEditDate': datetime.datetime(2021, 9, 20, 4, 17, 30, 943000),\n",
       "  'LastEditorDisplayName': '',\n",
       "  'LastEditorUserId': 20,\n",
       "  'OwnerDisplayName': '',\n",
       "  'OwnerUserId': 20,\n",
       "  'ParentId': 145,\n",
       "  'PostTypeId': 2,\n",
       "  'Score': 58,\n",
       "  'Tags': '',\n",
       "  'Title': '',\n",
       "  'ViewCount': '',\n",
       "  'owner': [{'_id': ObjectId('671278c10e27c77fce37ea9d'),\n",
       "    'Id': 20,\n",
       "    'AboutMe': '',\n",
       "    'AccountId': 62733,\n",
       "    'CreationDate': datetime.datetime(2015, 10, 28, 21, 24, 53, 730000),\n",
       "    'DisplayName': 'Carlos Muñoz',\n",
       "    'DownVotes': 523,\n",
       "    'LastAccessDate': datetime.datetime(2023, 11, 27, 20, 53, 58, 743000),\n",
       "    'Location': 'Lima, Peru',\n",
       "    'Reputation': 13368,\n",
       "    'UpVotes': 493,\n",
       "    'Views': 2231,\n",
       "    'WebsiteUrl': 'http://stackoverflow.com/users/186133/carlos-muoz'}]},\n",
       " {'_id': ObjectId('671278740e27c77fce31a82b'),\n",
       "  'Id': 171,\n",
       "  'AcceptedAnswerId': '',\n",
       "  'AnswerCount': '',\n",
       "  'Body': '<p>La opción más práctica y rápida es usar:</p><br/><br/><pre><code>git commit --amend<br/></code></pre><br/><br/><p>Tras lo cual se te abrirá el editor para que puedas modificar el mensaje.</p><br/><br/><p>Si quieres escribir algo totalmente nuevo, puedes decir directamente:</p><br/><br/><pre><code>git commit --amend -m \"Este es el nuevo comentario\"<br/></code></pre><br/><br/><p>Puedes ver más detalles en la respuesta en la versión inglesa a <a href=\"https://stackoverflow.com/a/179147/1983854\">Edit an incorrect commit message in Git</a>.</p><br/>',\n",
       "  'ClosedDate': None,\n",
       "  'CommentCount': 0,\n",
       "  'CommunityOwnedDate': None,\n",
       "  'ContentLicense': 'CC BY-SA 3.0',\n",
       "  'CreationDate': datetime.datetime(2015, 12, 1, 22, 40, 3, 380000),\n",
       "  'FavoriteCount': '',\n",
       "  'LastActivityDate': datetime.datetime(2015, 12, 1, 22, 40, 3, 380000),\n",
       "  'LastEditDate': datetime.datetime(2017, 5, 23, 12, 39, 20, 930000),\n",
       "  'LastEditorDisplayName': '',\n",
       "  'LastEditorUserId': -1,\n",
       "  'OwnerDisplayName': '',\n",
       "  'OwnerUserId': 83,\n",
       "  'ParentId': 170,\n",
       "  'PostTypeId': 2,\n",
       "  'Score': 40,\n",
       "  'Tags': '',\n",
       "  'Title': '',\n",
       "  'ViewCount': '',\n",
       "  'owner': [{'_id': ObjectId('671278c10e27c77fce37ead3'),\n",
       "    'Id': 83,\n",
       "    'AboutMe': '<p>Fui usuario bastante activo de este sitio durante unos cuantos años, pero las decisiones que tomó Stack Exchange a finales de 2019 me hicieron perder la confianza que tenía en la empresa que gestiona todo esto.</p><br/><p>Sigo de cerca la evolución del sitio y me encanta debatir tanto sobre código como sobre el sitio en sí, así que si quieres que hablemos estaré encantado de recibir un comentario tuyo a mis publicaciones o un email a <code><mi nombre de usuario>.se@gmail.com</code>, donde \"fedorqui\" es la parte que falta antes del \".se\".</p><br/><hr /><br/><p>Mi imagen de perfil es una mariposa amarilla, símbolo de la libertad y expresión de apoyo a los presos políticos que trajo consigo el <a href=\"https://ca.wikipedia.org/wiki/Proc%C3%A9s_independentista_catal%C3%A0\" rel=\"nofollow noreferrer\"><em>procés</em></a>. Cansado de un país que reprime y persigue, me gusta el símbolo que enfatiza las ganas de volar alto y en libertad.</p><br/>',\n",
       "    'AccountId': 2251762,\n",
       "    'CreationDate': datetime.datetime(2015, 12, 1, 16, 46, 53, 243000),\n",
       "    'DisplayName': 'fedorqui',\n",
       "    'DownVotes': 480,\n",
       "    'LastAccessDate': datetime.datetime(2023, 12, 1, 21, 7, 58, 513000),\n",
       "    'Location': '',\n",
       "    'Reputation': 16620,\n",
       "    'UpVotes': 1833,\n",
       "    'Views': 3261,\n",
       "    'WebsiteUrl': ''}]},\n",
       " {'_id': ObjectId('671278740e27c77fce31a843'),\n",
       "  'Id': 197,\n",
       "  'AcceptedAnswerId': '',\n",
       "  'AnswerCount': 13,\n",
       "  'Body': '<p>Unas veces los cálculos funcionan correctamente, pero otras veces no:</p><br/><br/><pre><code>> 0.1 + 0.1<br/>0.2 // correcto<br/>> 0.1 + 0.2<br/>0.30000000000000004 // ¿qué?<br/>> 10 * 0.67<br/>6.7 // correcto<br/>> 10 * 0.68<br/>6.800000000000001 // demasiado grande<br/>> 10 * 0.69<br/>6.8999999999999995 // demasiado pequeño<br/></code></pre><br/><br/><p>(Estos ejemplos están escritos en JavaScript, pero el mismo problema existe en muchos lenguajes de programación)</p><br/><br/><p>Estos cálculos son bastante fáciles: creo que todos podemos hacerlos en un momento. ¿Por qué mis programas no pueden hacer cálculos aritméticos correctamente, y qué puedo hacer si necesito resultados más precisos?</p><br/>',\n",
       "  'ClosedDate': None,\n",
       "  'CommentCount': 10,\n",
       "  'CommunityOwnedDate': None,\n",
       "  'ContentLicense': 'CC BY-SA 3.0',\n",
       "  'CreationDate': datetime.datetime(2015, 12, 2, 6, 15, 7, 957000),\n",
       "  'FavoriteCount': '',\n",
       "  'LastActivityDate': datetime.datetime(2023, 2, 6, 22, 11, 20, 880000),\n",
       "  'LastEditDate': datetime.datetime(2015, 12, 5, 20, 22, 47, 177000),\n",
       "  'LastEditorDisplayName': '',\n",
       "  'LastEditorUserId': 20,\n",
       "  'OwnerDisplayName': '',\n",
       "  'OwnerUserId': 416,\n",
       "  'ParentId': '',\n",
       "  'PostTypeId': 1,\n",
       "  'Score': 176,\n",
       "  'Tags': '<matemáticas><coma-flotante><lenguaje-agnóstico>',\n",
       "  'Title': '¿Por qué mis programas no pueden hacer cálculos aritméticos correctamente?',\n",
       "  'ViewCount': 9091,\n",
       "  'owner': [{'_id': ObjectId('671278c10e27c77fce37ec08'),\n",
       "    'Id': 416,\n",
       "    'AboutMe': '<p><strong>Projects</strong></p><br/><br/><ul><br/><li><a href=\"https://www.dong-chinese.com/\" rel=\"nofollow noreferrer\">Dong Chinese</a></li><br/><li><a href=\"https://github.com/peterolson/BigInteger.js\" rel=\"nofollow noreferrer\">BigInteger.js</a></li><br/><li><a href=\"http://www.virtualtrebuchet.com/\" rel=\"nofollow noreferrer\">Virtual Trebuchet</a></li><br/><li><a href=\"https://play.google.com/store/apps/details?id=com.peterolson.magnetpuzzle\" rel=\"nofollow noreferrer\">The Magnet Puzzle</a></li><br/></ul><br/><br/><h2><img src=\"https://projecteuler.net/profile/peter.olson.png\" alt=\"enter image description here\"></h2><br/><br/><p>You can contact me at </p><br/><br/><pre><code>peter.e.c.olson+stackexchange@gmail.com<br/></code></pre><br/>',\n",
       "    'AccountId': 262054,\n",
       "    'CreationDate': datetime.datetime(2015, 12, 2, 0, 35, 33, 333000),\n",
       "    'DisplayName': 'Peter Olson',\n",
       "    'DownVotes': 0,\n",
       "    'LastAccessDate': datetime.datetime(2022, 12, 5, 14, 52, 5, 970000),\n",
       "    'Location': 'Qingdao, China',\n",
       "    'Reputation': 4795,\n",
       "    'UpVotes': 7,\n",
       "    'Views': 178,\n",
       "    'WebsiteUrl': 'https://www.dong-chinese.com'}]},\n",
       " {'_id': ObjectId('671278740e27c77fce31a847'),\n",
       "  'Id': 204,\n",
       "  'AcceptedAnswerId': '',\n",
       "  'AnswerCount': '',\n",
       "  'Body': '<p>El problema viene de la limitación que los ordenadores tienen para representar números de <a href=\"https://es.wikipedia.org/wiki/Coma_flotante\">coma flotante</a> usando un número finito de bits.</p><br/><br/><p><a href=\"http://www.exploringbinary.com/why-0-point-1-does-not-exist-in-floating-point\">En este artículo en inglés</a> hay una muy buena explicación. Básicamente, para representar el número 0.1 en coma flotante necesitamos un número infinito de dígitos binarios:</p><br/><br/><p><a href=\"https://i.stack.imgur.com/e5fNJ.png\"><img src=\"https://i.stack.imgur.com/e5fNJ.png\" alt=\"Dividiendo 1 entre 10 en binario\"></a></p><br/><br/><p><em>Dividiendo 1 entre 10 en binario</em></p><br/><br/><p><a href=\"https://i.stack.imgur.com/rvPPD.png\"><img src=\"https://i.stack.imgur.com/rvPPD.png\" alt=\"1/10 en binario (primeros 1369 dígitos)\"></a></p><br/><br/><p><em>1/10 en binario (primeros 1369 dígitos)</em></p><br/><br/><p>Si suponemos que nuestro ordenador es capaz de almacenar hasta 53 dígitos, una vez truncado nuestro 0.1 queda representado en binario como:</p><br/><br/><p>0.0001100110011001100110011001100110011001100110011001101</p><br/><br/><p>...que en decimal es</p><br/><br/><p>0.1000000000000000055511151231257827021181583404541015625</p><br/><br/><p>Para este problema hay básicamente dos soluciones:</p><br/><br/><ul><br/><li>Usar un tipo decimal exacto en vez de coma flotante. Hay lenguajes que proporcionan estos tipos nativamente (por ejemplo, .NET tiene el tipo <a href=\"https://msdn.microsoft.com/en-us/library/364x0z75.aspx\">decimal</a>); para los que no, suele haber librerías especializadas para ello (por ejemplo <a href=\"https://github.com/MikeMcl/decimal.js\">decimal.js</a> para Javascript).</li><br/><li>Si el número de decimales se conoce por adelantado (por ejemplo al tratar con valores monetarios), los valores se pueden representar como enteros. Así, 123.45€ se representaría como 12345 céntimos. El punto decimal se añadiría al final, a la hora de mostrar el valor al usuario.</li><br/></ul><br/><br/><p>Un buen sitio con más información sobre este tema: <a href=\"http://puntoflotante.org\">http://puntoflotante.org</a></p><br/>',\n",
       "  'ClosedDate': None,\n",
       "  'CommentCount': 3,\n",
       "  'CommunityOwnedDate': None,\n",
       "  'ContentLicense': 'CC BY-SA 3.0',\n",
       "  'CreationDate': datetime.datetime(2015, 12, 2, 7, 43, 50, 70000),\n",
       "  'FavoriteCount': '',\n",
       "  'LastActivityDate': datetime.datetime(2015, 12, 2, 9, 56, 34, 630000),\n",
       "  'LastEditDate': datetime.datetime(2015, 12, 2, 9, 56, 34, 630000),\n",
       "  'LastEditorDisplayName': '',\n",
       "  'LastEditorUserId': 23,\n",
       "  'OwnerDisplayName': '',\n",
       "  'OwnerUserId': 23,\n",
       "  'ParentId': 197,\n",
       "  'PostTypeId': 2,\n",
       "  'Score': 195,\n",
       "  'Tags': '',\n",
       "  'Title': '',\n",
       "  'ViewCount': '',\n",
       "  'owner': [{'_id': ObjectId('671278c10e27c77fce37eaa0'),\n",
       "    'Id': 23,\n",
       "    'AboutMe': '<p>Empecemos por lo importante: me encantan los <a href=\"http://en.wikipedia.org/wiki/MSX\" rel=\"nofollow noreferrer\">ordenadores MSX</a> y el <a href=\"https://en.wikipedia.org/wiki/Renault_Twingo#Twingo_I_.281993.E2.80.932007.29\" rel=\"nofollow noreferrer\">Renault Twingo clásico</a> (sólo el modelo 1993-2007; los modelos más nuevos son tan aburridos como cualquier otro coche).<br/></p><br/><p>Y ahora la parte aburrida. Soy ingeniero de telecomunicaciones pero trabajo como programador, principalmente en C#. He hecho mucho desarrollo en Windows Forms en el pasado, también WPF y Silverlight, pero ahora estoy más metido en el desarrollo web (al principio sólo backend, pero ahora estoy en el mundo del frontend también).<br/></p><br/><p><del>Cuando tengo tiempo libre me gusta</del> Cuando <em>tenía</em> tiempo libre me gustaba programar mi MSX Turbo-R en ensamblador de Z80. De hecho he desarrollado incluso <a href=\"http://konamiman.com/msx/msx-s.html#inl\" rel=\"nofollow noreferrer\">una pila TCP/IP completa para MSX</a> (<a href=\"https://bitbucket.org/konamiman/msx/src/cf8fc0cc652e1ff79b1a2fc657b2f10d4e0c72fb/SRC/INL/?at=default\" rel=\"nofollow noreferrer\">las fuentes están disponibles</a>, ¡échales un ojo!), que presenté como mi proyecto de final de carrera en la universidad, con muy buenos resultados.</p><br/><p>Puedes ver mis proyectos de software aquí:<br/><br/><a href=\"http://www.konamiman.com\" rel=\"nofollow noreferrer\">http://www.konamiman.com</a><br/><br/><a href=\"http://github.com/konamiman\" rel=\"nofollow noreferrer\">http://github.com/konamiman</a></p><br/><p>Y si quieres puedes escribirme: konamiman@konamiman.com</p><br/>',\n",
       "    'AccountId': 3201,\n",
       "    'CreationDate': datetime.datetime(2015, 10, 29, 14, 53, 36, 233000),\n",
       "    'DisplayName': 'Konamiman',\n",
       "    'DownVotes': 4,\n",
       "    'LastAccessDate': datetime.datetime(2023, 11, 13, 20, 49, 46, 673000),\n",
       "    'Location': 'Palma de Mallorca, Spain',\n",
       "    'Reputation': 5278,\n",
       "    'UpVotes': 367,\n",
       "    'Views': 787,\n",
       "    'WebsiteUrl': 'http://www.konamiman.com'}]},\n",
       " {'_id': ObjectId('671278740e27c77fce31a84c'),\n",
       "  'Id': 209,\n",
       "  'AcceptedAnswerId': '',\n",
       "  'AnswerCount': '',\n",
       "  'Body': '<p>Muchos lenguajes de programación, según <a href=\"https://es.wikipedia.org/wiki/IEEE_coma_flotante\" rel=\"noreferrer\">el estándar IEE754</a>, representan números en una representación de <a href=\"https://es.wikipedia.org/wiki/Coma_flotante\" rel=\"noreferrer\">coma flotante</a> en la base binaria.</p><br/><br/><p>Este sistema es similar a <a href=\"https://es.wikipedia.org/wiki/Notaci%C3%B3n_cient%C3%ADfica\" rel=\"noreferrer\">la notación científica</a>. En ese sistema se pueden representar números así:</p><br/><br/><ul><br/><li>1,23 x 10<sup>-5</sup> para <code>0,0000123</code></li><br/><li>1,23 x 10<sup>1</sup> para <code>12,30</code></li><br/><li>1,23 x 10<sup>8</sup> para <code>123.000.000</code></li><br/></ul><br/><br/><p>En este sistema (realmente, en <em>cualquier sistema</em> finito), hay números que no se pueden representar con exactitud. Por ejemplo, 1/3 o 543/37 o pi. Sólo podemos representar aproximaciones. Con diez dígitos significativos:</p><br/><br/><ul><br/><li>0,3333333333 x 10<sup>0</sup> para 1/3</li><br/><li>1,467567568 x 10<sup>-1</sup> para 543/37</li><br/><li>3,141592654 x 10<sup>0</sup> para pi</li><br/></ul><br/><br/><p>De la misma manera, las programas que usan el sistema binario pueden representar algunos números exactamente:</p><br/><br/><ul><br/><li>1,1101 x 2<sup>8</sup> para 111010000<sub>2</sub> (464<sub>10</sub>)</li><br/><li>1,1101 x 2<sup>1</sup> para 11,101<sub>2</sub> (3,625<sub>10</sub>)</li><br/><li>1,1101 x 2<sup>-5</sup> para 0,000011101<sub>2</sub> (0,056640625<sub>10</sub>)</li><br/></ul><br/><br/><p>pero algunos números no. Con 16 bits significativos, podemos representar aproximaciones de números así:</p><br/><br/><ul><br/><li>1,1001100110011001 x 2<sup>-4</sup> (igual a 0,09999942779541015625<sub>10</sub>) para 1/10</li><br/><li>1,0101010101010101 x 2<sup>-2</sup>  (igual a 0,333332061767578125<sub>10</sub>) para 1/3</li><br/><li>1,1001001000011111 x 2<sup>1</sup> (igual a 3,141571044921875<sub>10</sub>) para pi</li><br/></ul><br/><br/><hr><br/><br/><p>A veces parece que los cálculos son exactos cuando en realidad no lo son, por ejemplo:</p><br/><br/><pre><code>> 0.1 + 0.1<br/>0.2<br/></code></pre><br/><br/><p>0,1 y 0,2 no tienen representación exacta en binario, pero en este programa parece que no hay problemas. Esto es una consecuencia del algoritmo para la presentación de los números. Bajo el capó se calcula así:</p><br/><br/><pre><code>> 0.100000000000000005551115123126 + 0.100000000000000005551115123126<br/>0.200000000000000011102230246252<br/></code></pre><br/><br/><p>pero se presentan como <code>0.1</code> y <code>0.2</code> porque son más o menos \"bastante cercanos\".</p><br/><br/><hr><br/><br/><blockquote><br/>  <p>¿Qué puedo hacer si necesito resultados más precisos?</p><br/></blockquote><br/><br/><p>Hay diferentes soluciones con diferentes tecnologías:</p><br/><br/><ul><br/><li>Algunos lenguajes y bibliotecas proporcionan un tipo decimal, por ejemplo lenguajes de .NET, Python, y Ruby. Todavía no se pueden representar todos los números racionales (por ejemplo 1/3) exactamente, pero este tipo es útil para representar cantidades de dinero. Para dinero también se puede usar números enteros.</li><br/><li>Hay bibliotecas en diferentes lenguajes si necesitas <a href=\"https://es.wikipedia.org/wiki/Precisi%C3%B3n_arbitraria\" rel=\"noreferrer\">precisión arbitraria</a> (por ejemplo <code>BigDecimal</code> en Java o <code>BigRational.js</code> en JavaScript).</li><br/></ul><br/>',\n",
       "  'ClosedDate': None,\n",
       "  'CommentCount': 2,\n",
       "  'CommunityOwnedDate': None,\n",
       "  'ContentLicense': 'CC BY-SA 3.0',\n",
       "  'CreationDate': datetime.datetime(2015, 12, 2, 9, 10, 55, 440000),\n",
       "  'FavoriteCount': '',\n",
       "  'LastActivityDate': datetime.datetime(2017, 3, 4, 4, 22, 32, 597000),\n",
       "  'LastEditDate': datetime.datetime(2017, 3, 4, 4, 22, 32, 597000),\n",
       "  'LastEditorDisplayName': '',\n",
       "  'LastEditorUserId': 29967,\n",
       "  'OwnerDisplayName': '',\n",
       "  'OwnerUserId': 416,\n",
       "  'ParentId': 197,\n",
       "  'PostTypeId': 2,\n",
       "  'Score': 66,\n",
       "  'Tags': '',\n",
       "  'Title': '',\n",
       "  'ViewCount': '',\n",
       "  'owner': [{'_id': ObjectId('671278c10e27c77fce37ec08'),\n",
       "    'Id': 416,\n",
       "    'AboutMe': '<p><strong>Projects</strong></p><br/><br/><ul><br/><li><a href=\"https://www.dong-chinese.com/\" rel=\"nofollow noreferrer\">Dong Chinese</a></li><br/><li><a href=\"https://github.com/peterolson/BigInteger.js\" rel=\"nofollow noreferrer\">BigInteger.js</a></li><br/><li><a href=\"http://www.virtualtrebuchet.com/\" rel=\"nofollow noreferrer\">Virtual Trebuchet</a></li><br/><li><a href=\"https://play.google.com/store/apps/details?id=com.peterolson.magnetpuzzle\" rel=\"nofollow noreferrer\">The Magnet Puzzle</a></li><br/></ul><br/><br/><h2><img src=\"https://projecteuler.net/profile/peter.olson.png\" alt=\"enter image description here\"></h2><br/><br/><p>You can contact me at </p><br/><br/><pre><code>peter.e.c.olson+stackexchange@gmail.com<br/></code></pre><br/>',\n",
       "    'AccountId': 262054,\n",
       "    'CreationDate': datetime.datetime(2015, 12, 2, 0, 35, 33, 333000),\n",
       "    'DisplayName': 'Peter Olson',\n",
       "    'DownVotes': 0,\n",
       "    'LastAccessDate': datetime.datetime(2022, 12, 5, 14, 52, 5, 970000),\n",
       "    'Location': 'Qingdao, China',\n",
       "    'Reputation': 4795,\n",
       "    'UpVotes': 7,\n",
       "    'Views': 178,\n",
       "    'WebsiteUrl': 'https://www.dong-chinese.com'}]},\n",
       " {'_id': ObjectId('671278740e27c77fce31a85b'),\n",
       "  'Id': 225,\n",
       "  'AcceptedAnswerId': 226,\n",
       "  'AnswerCount': 12,\n",
       "  'Body': '<p>Estoy creando un mini juego en el que el usuario intenta adivinar un nombre. Pero cuando quiero comparar dos cadenas de texto para ver si son iguales no parece funcionar.</p><br/><br/><pre><code>final String miNombre = \"Jordi\";<br/>Scanner input = new Scanner(System.in);<br/>System.out.println(\"Adivina mi nombre: \");<br/><br/>while (true) {<br/>    String intento = input.next();<br/>    if(intento == miNombre) {<br/>        System.out.println(\"Acertaste!\");<br/>        break;<br/>    } else {<br/>        System.out.println(\"Intentalo de nuevo!\");<br/>    }<br/>}<br/></code></pre><br/><br/><p>SALIDA:</p><br/><br/><pre><code>Adivina mi nombre: <br/>manuel<br/>Intentalo de nuevo!<br/>jordi<br/>Intentalo de nuevo!<br/>Jordi<br/>Intentalo de nuevo!<br/></code></pre><br/>',\n",
       "  'ClosedDate': None,\n",
       "  'CommentCount': 1,\n",
       "  'CommunityOwnedDate': None,\n",
       "  'ContentLicense': 'CC BY-SA 3.0',\n",
       "  'CreationDate': datetime.datetime(2015, 12, 2, 12, 35, 37, 430000),\n",
       "  'FavoriteCount': '',\n",
       "  'LastActivityDate': datetime.datetime(2017, 9, 13, 19, 14, 33),\n",
       "  'LastEditDate': datetime.datetime(2017, 8, 10, 2, 33, 50, 373000),\n",
       "  'LastEditorDisplayName': 'user227',\n",
       "  'LastEditorUserId': '',\n",
       "  'OwnerDisplayName': '',\n",
       "  'OwnerUserId': 517,\n",
       "  'ParentId': '',\n",
       "  'PostTypeId': 1,\n",
       "  'Score': 94,\n",
       "  'Tags': '<java><string><comparaciones>',\n",
       "  'Title': '¿Cómo comparar correctamente Strings (y objetos) en Java?',\n",
       "  'ViewCount': 256224,\n",
       "  'owner': [{'_id': ObjectId('671278c10e27c77fce37ec5e'),\n",
       "    'Id': 517,\n",
       "    'AboutMe': '<p>Beer and programming freak.</p><br/><p><a href=\"https://www.thecbdside.com\" rel=\"nofollow noreferrer\">https://www.thecbdside.com</a><br><br/><a href=\"http://www.greenardo.cat\" rel=\"nofollow noreferrer\">http://www.greenardo.cat</a><br></p><br/>',\n",
       "    'AccountId': 4763924,\n",
       "    'CreationDate': datetime.datetime(2015, 12, 2, 12, 7, 58, 183000),\n",
       "    'DisplayName': 'Jordi Castilla',\n",
       "    'DownVotes': 168,\n",
       "    'LastAccessDate': datetime.datetime(2023, 11, 14, 17, 40, 56, 667000),\n",
       "    'Location': 'Barcelona',\n",
       "    'Reputation': 7399,\n",
       "    'UpVotes': 412,\n",
       "    'Views': 528,\n",
       "    'WebsiteUrl': 'http://www.thecbdside.com'}]},\n",
       " {'_id': ObjectId('671278740e27c77fce31a85c'),\n",
       "  'Id': 226,\n",
       "  'AcceptedAnswerId': '',\n",
       "  'AnswerCount': '',\n",
       "  'Body': '<p>En <code>Java</code> solo los tipos primitivos (Descritos en el <a href=\"https://docs.oracle.com/javase/specs/jls/se7/html/jls-4.html#jls-4.2\">JLS (§4.2)</a>, por ejemplo <code>int</code> o <code>char</code>) se comparan con <code>==</code>, los <code>String</code>s (y los demas objetos) en <code>Java</code> se comparan entre ellos con el metodo <code>equals</code>.</p><br/><br/><p><a href=\"http://docs.oracle.com/javase/7/docs/api/java/lang/String.html#equals(java.lang.Object)\"><code>String#equals(Object)</code></a></p><br/><br/><blockquote><br/>  <p>Compara este <code>String</code> con el objeto especificado. El resultado es <code>true</code> si, y solo si el argumento no es <code>null</code> y es un objeto del tipo <code>String</code> que representa la misma secuencia de caracteres que este objecto.</p><br/></blockquote><br/><br/><hr><br/><br/><ul><br/><li><a href=\"https://docs.oracle.com/javase/specs/jls/se8/html/jls-15.html#jls-15.21.3\">JLS (§15.21.3)</a> Si bien puede utilizarse <code>==</code> para comparar referencias de tipo <code>String</code>, una prueba de igualdad <strong>determina si los dos operandos refieren al mismo objeto <code>String</code></strong>. El resultado es <code>false</code> si los operandos son distintos objetos String, incluso si contienen la misma secuencia de caracteres.</li><br/></ul><br/><br/><hr><br/><br/><p>Por lo tanto tu comparacion debe ser:</p><br/><br/><pre><code>if(miNombre.equals(intento)) {<br/></code></pre><br/><br/><p><strong>SALIDA:</strong></p><br/><br/><pre><code>Adivina mi nombre: <br/>manuel<br/>Intentalo de nuevo!<br/>Jordi<br/>Acertaste!<br/></code></pre><br/><br/><p><strong>ACLARACIONES:</strong></p><br/><br/><ul><br/><li><p>He puesto la variable <code>miNombre</code> al principio de la comparación para evitar una <a href=\"http://docs.oracle.com/javase/7/docs/api/java/lang/NullPointerException.html\"><code>NullPointerException</code></a> si <code>intento == null</code>  (si, las comparaciones con <code>null</code> tambien se hacen con <code>==</code>).</p><br/><br/><p><strong>Como extra:</strong> si <code>null</code> es un valor válido en la representación (y por tanto queremos evitar una <a href=\"http://docs.oracle.com/javase/7/docs/api/java/lang/NullPointerException.html\"><code>NPE</code></a>), <code>Objects.equals</code> está disponible a partir de <code>Java 7</code> y se encarga de devolver true si ambas son <code>null</code> o <code>false</code> si sólo lo es una. </p></li><br/></ul><br/><br/><p></p><br/><br/><ul><br/><li><p>En este caso se puede usar el metodo <a href=\"http://docs.oracle.com/javase/7/docs/api/java/lang/String.html#equalsIgnoreCase(java.lang.String)\"><code>String#equalsIgnoreCase(Object)</code></a> que ignorara <code>MAYUSCULAS</code> o <code>MINUSCULAS</code> al hacer la comparacion:</p><br/><br/><pre><code>if(miNombre.equalsIgnoreCase(intento)) {       <br/></code></pre></li><br/><li><p><a href=\"https://docs.oracle.com/javase/specs/jls/se8/html/jls-15.html#jls-15.21\">JLS (§15.21)</a> Los operadores de igualdad (<code>==</code> y <code>!=</code>) se pueden utilizar para comparar dos operandos que son convertibles (§5.1.8) de tipo numérico, o los dos operandos de tipo <code>boolean</code> o <code>Boolean</code> o dos operandos que <code>></code> son de tipo de referencia o el tipo <code>null</code>. Todos los demás casos causan un error en tiempo de compilación.</p></li><br/></ul><br/>',\n",
       "  'ClosedDate': None,\n",
       "  'CommentCount': 2,\n",
       "  'CommunityOwnedDate': None,\n",
       "  'ContentLicense': 'CC BY-SA 3.0',\n",
       "  'CreationDate': datetime.datetime(2015, 12, 2, 12, 35, 37, 430000),\n",
       "  'FavoriteCount': '',\n",
       "  'LastActivityDate': datetime.datetime(2015, 12, 16, 8, 7, 7, 77000),\n",
       "  'LastEditDate': datetime.datetime(2015, 12, 16, 8, 7, 7, 77000),\n",
       "  'LastEditorDisplayName': '',\n",
       "  'LastEditorUserId': 517,\n",
       "  'OwnerDisplayName': '',\n",
       "  'OwnerUserId': 517,\n",
       "  'ParentId': 225,\n",
       "  'PostTypeId': 2,\n",
       "  'Score': 119,\n",
       "  'Tags': '',\n",
       "  'Title': '',\n",
       "  'ViewCount': '',\n",
       "  'owner': [{'_id': ObjectId('671278c10e27c77fce37ec5e'),\n",
       "    'Id': 517,\n",
       "    'AboutMe': '<p>Beer and programming freak.</p><br/><p><a href=\"https://www.thecbdside.com\" rel=\"nofollow noreferrer\">https://www.thecbdside.com</a><br><br/><a href=\"http://www.greenardo.cat\" rel=\"nofollow noreferrer\">http://www.greenardo.cat</a><br></p><br/>',\n",
       "    'AccountId': 4763924,\n",
       "    'CreationDate': datetime.datetime(2015, 12, 2, 12, 7, 58, 183000),\n",
       "    'DisplayName': 'Jordi Castilla',\n",
       "    'DownVotes': 168,\n",
       "    'LastAccessDate': datetime.datetime(2023, 11, 14, 17, 40, 56, 667000),\n",
       "    'Location': 'Barcelona',\n",
       "    'Reputation': 7399,\n",
       "    'UpVotes': 412,\n",
       "    'Views': 528,\n",
       "    'WebsiteUrl': 'http://www.thecbdside.com'}]},\n",
       " {'_id': ObjectId('671278740e27c77fce31a86d'),\n",
       "  'Id': 245,\n",
       "  'AcceptedAnswerId': 246,\n",
       "  'AnswerCount': 5,\n",
       "  'Body': '<p>¿Cuáles son específicamente las diferencias entre hacer un <code>git pull</code> y un <code>git fetch</code>?</p><br/>',\n",
       "  'ClosedDate': None,\n",
       "  'CommentCount': 1,\n",
       "  'CommunityOwnedDate': None,\n",
       "  'ContentLicense': 'CC BY-SA 3.0',\n",
       "  'CreationDate': datetime.datetime(2015, 12, 2, 15, 17, 31, 710000),\n",
       "  'FavoriteCount': '',\n",
       "  'LastActivityDate': datetime.datetime(2019, 7, 8, 1, 41, 1, 587000),\n",
       "  'LastEditDate': datetime.datetime(2017, 7, 4, 11, 11, 14, 337000),\n",
       "  'LastEditorDisplayName': '',\n",
       "  'LastEditorUserId': 83,\n",
       "  'OwnerDisplayName': '',\n",
       "  'OwnerUserId': 555,\n",
       "  'ParentId': '',\n",
       "  'PostTypeId': 1,\n",
       "  'Score': 68,\n",
       "  'Tags': '<git><git-push>',\n",
       "  'Title': '¿Cuál es la diferencia entre pull y fetch en git?',\n",
       "  'ViewCount': 140034,\n",
       "  'owner': [{'_id': ObjectId('671278c10e27c77fce37ec7e'),\n",
       "    'Id': 555,\n",
       "    'AboutMe': '',\n",
       "    'AccountId': 1164600,\n",
       "    'CreationDate': datetime.datetime(2015, 12, 2, 15, 11, 27, 253000),\n",
       "    'DisplayName': 'jpganz18',\n",
       "    'DownVotes': 2,\n",
       "    'LastAccessDate': datetime.datetime(2023, 2, 12, 20, 55, 7, 660000),\n",
       "    'Location': 'Guatemala',\n",
       "    'Reputation': 1070,\n",
       "    'UpVotes': 12,\n",
       "    'Views': 34,\n",
       "    'WebsiteUrl': ''}]}]"
      ]
     },
     "execution_count": 43,
     "metadata": {},
     "output_type": "execute_result"
    }
   ],
   "source": [
    "respuestas = posts.aggregate( [\n",
    "        {'$match': { 'Score' : {'$gte': 40}}},\n",
    "        {'$lookup': {\n",
    "            'from': \"users\",\n",
    "            'localField': \"OwnerUserId\",\n",
    "            'foreignField': \"Id\",\n",
    "            'as': \"owner\"}\n",
    "        },\n",
    "        {'$limit': 20}\n",
    "        ])\n",
    "list(respuestas)"
   ]
  },
  {
   "cell_type": "markdown",
   "metadata": {
    "id": "UoBeNpgdXK5D"
   },
   "source": [
    "El `$lookup` genera un _array_ con todos los resultados. El operador `$arrayElementAt` accede al primer elemento."
   ]
  },
  {
   "cell_type": "code",
   "execution_count": 44,
   "metadata": {
    "id": "Kbg5QWiaXK5D"
   },
   "outputs": [
    {
     "data": {
      "text/plain": [
       "[{'_id': ObjectId('671278740e27c77fce31a79f'),\n",
       "  'Id': 1,\n",
       "  'Score': 40,\n",
       "  'owner': [{'DisplayName': 'Konamiman'}],\n",
       "  'username': 'Konamiman'},\n",
       " {'_id': ObjectId('671278740e27c77fce31a7bc'),\n",
       "  'Id': 33,\n",
       "  'Score': 79,\n",
       "  'owner': [{'DisplayName': 'jachguate'}],\n",
       "  'username': 'jachguate'},\n",
       " {'_id': ObjectId('671278740e27c77fce31a7bf'),\n",
       "  'Id': 36,\n",
       "  'Score': 141,\n",
       "  'owner': [{'DisplayName': 'jachguate'}],\n",
       "  'username': 'jachguate'},\n",
       " {'_id': ObjectId('671278740e27c77fce31a7c1'),\n",
       "  'Id': 38,\n",
       "  'Score': 44,\n",
       "  'owner': [{'DisplayName': 'Carlos Muñoz'}],\n",
       "  'username': 'Carlos Muñoz'},\n",
       " {'_id': ObjectId('671278740e27c77fce31a7c3'),\n",
       "  'Id': 40,\n",
       "  'Score': 206,\n",
       "  'owner': [{'DisplayName': 'jachguate'}],\n",
       "  'username': 'jachguate'},\n",
       " {'_id': ObjectId('671278740e27c77fce31a7c6'),\n",
       "  'Id': 43,\n",
       "  'Score': 41,\n",
       "  'owner': [{'DisplayName': 'Angel Angel'}],\n",
       "  'username': 'Angel Angel'},\n",
       " {'_id': ObjectId('671278740e27c77fce31a7e2'),\n",
       "  'Id': 90,\n",
       "  'Score': 91,\n",
       "  'owner': [{'DisplayName': 'Mosty Mostacho'}],\n",
       "  'username': 'Mosty Mostacho'},\n",
       " {'_id': ObjectId('671278740e27c77fce31a7e6'),\n",
       "  'Id': 94,\n",
       "  'Score': 107,\n",
       "  'owner': [{'DisplayName': 'Jcl'}],\n",
       "  'username': 'Jcl'},\n",
       " {'_id': ObjectId('671278740e27c77fce31a7ee'),\n",
       "  'Id': 103,\n",
       "  'Score': 46,\n",
       "  'owner': [{'DisplayName': 'Mosty Mostacho'}],\n",
       "  'username': 'Mosty Mostacho'},\n",
       " {'_id': ObjectId('671278740e27c77fce31a814'),\n",
       "  'Id': 142,\n",
       "  'Score': 112,\n",
       "  'owner': [{'DisplayName': 'Mariano'}],\n",
       "  'username': 'Mariano'},\n",
       " {'_id': ObjectId('671278740e27c77fce31a817'),\n",
       "  'Id': 145,\n",
       "  'Score': 55,\n",
       "  'owner': [{'DisplayName': 'Hewbot'}],\n",
       "  'username': 'Hewbot'},\n",
       " {'_id': ObjectId('671278740e27c77fce31a81a'),\n",
       "  'Id': 151,\n",
       "  'Score': 111,\n",
       "  'owner': [{'DisplayName': 'Hewbot'}],\n",
       "  'username': 'Hewbot'},\n",
       " {'_id': ObjectId('671278740e27c77fce31a81d'),\n",
       "  'Id': 154,\n",
       "  'Score': 58,\n",
       "  'owner': [{'DisplayName': 'Carlos Muñoz'}],\n",
       "  'username': 'Carlos Muñoz'},\n",
       " {'_id': ObjectId('671278740e27c77fce31a82b'),\n",
       "  'Id': 171,\n",
       "  'Score': 40,\n",
       "  'owner': [{'DisplayName': 'fedorqui'}],\n",
       "  'username': 'fedorqui'},\n",
       " {'_id': ObjectId('671278740e27c77fce31a843'),\n",
       "  'Id': 197,\n",
       "  'Score': 176,\n",
       "  'owner': [{'DisplayName': 'Peter Olson'}],\n",
       "  'username': 'Peter Olson'},\n",
       " {'_id': ObjectId('671278740e27c77fce31a847'),\n",
       "  'Id': 204,\n",
       "  'Score': 195,\n",
       "  'owner': [{'DisplayName': 'Konamiman'}],\n",
       "  'username': 'Konamiman'},\n",
       " {'_id': ObjectId('671278740e27c77fce31a84c'),\n",
       "  'Id': 209,\n",
       "  'Score': 66,\n",
       "  'owner': [{'DisplayName': 'Peter Olson'}],\n",
       "  'username': 'Peter Olson'},\n",
       " {'_id': ObjectId('671278740e27c77fce31a85b'),\n",
       "  'Id': 225,\n",
       "  'Score': 94,\n",
       "  'owner': [{'DisplayName': 'Jordi Castilla'}],\n",
       "  'username': 'Jordi Castilla'},\n",
       " {'_id': ObjectId('671278740e27c77fce31a85c'),\n",
       "  'Id': 226,\n",
       "  'Score': 119,\n",
       "  'owner': [{'DisplayName': 'Jordi Castilla'}],\n",
       "  'username': 'Jordi Castilla'},\n",
       " {'_id': ObjectId('671278740e27c77fce31a86d'),\n",
       "  'Id': 245,\n",
       "  'Score': 68,\n",
       "  'owner': [{'DisplayName': 'jpganz18'}],\n",
       "  'username': 'jpganz18'}]"
      ]
     },
     "execution_count": 44,
     "metadata": {},
     "output_type": "execute_result"
    }
   ],
   "source": [
    "respuestas = db.posts.aggregate( [\n",
    "        {'$match': { 'Score' : {'$gte': 40}}},\n",
    "        {'$lookup': {\n",
    "            'from': \"users\",\n",
    "            'localField': \"OwnerUserId\",\n",
    "            'foreignField': \"Id\",\n",
    "            'as': \"owner\"}\n",
    "        },\n",
    "        { '$project' :\n",
    "        {\n",
    "            'Id' : True,\n",
    "            'Score' : True,\n",
    "            'username' : {'$arrayElemAt' : ['$owner.DisplayName', 0]},\n",
    "            'owner.DisplayName'  : True\n",
    "        }},\n",
    "        {'$limit': 20}\n",
    "        ])\n",
    "list(respuestas)"
   ]
  },
  {
   "cell_type": "markdown",
   "metadata": {
    "id": "5fJwA3gMXK5F"
   },
   "source": [
    "`$unwind` también puede usarse. \"Desdobla\" cada fila por cada elemento del array. En este caso, como sabemos que el array sólo contiene un elemento, sólo habrá una fila por fila original, pero sin el _array_. Finalmente se puede proyectar el campo que se quiera."
   ]
  },
  {
   "cell_type": "code",
   "execution_count": 45,
   "metadata": {
    "id": "vNuMIDTMXK5F"
   },
   "outputs": [
    {
     "data": {
      "text/plain": [
       "[{'_id': ObjectId('671278740e27c77fce31a79f'),\n",
       "  'Id': 1,\n",
       "  'Score': 40,\n",
       "  'username': 'Konamiman'},\n",
       " {'_id': ObjectId('671278740e27c77fce31a7bc'),\n",
       "  'Id': 33,\n",
       "  'Score': 79,\n",
       "  'username': 'jachguate'},\n",
       " {'_id': ObjectId('671278740e27c77fce31a7bf'),\n",
       "  'Id': 36,\n",
       "  'Score': 141,\n",
       "  'username': 'jachguate'},\n",
       " {'_id': ObjectId('671278740e27c77fce31a7c1'),\n",
       "  'Id': 38,\n",
       "  'Score': 44,\n",
       "  'username': 'Carlos Muñoz'},\n",
       " {'_id': ObjectId('671278740e27c77fce31a7c3'),\n",
       "  'Id': 40,\n",
       "  'Score': 206,\n",
       "  'username': 'jachguate'},\n",
       " {'_id': ObjectId('671278740e27c77fce31a7c6'),\n",
       "  'Id': 43,\n",
       "  'Score': 41,\n",
       "  'username': 'Angel Angel'},\n",
       " {'_id': ObjectId('671278740e27c77fce31a7e2'),\n",
       "  'Id': 90,\n",
       "  'Score': 91,\n",
       "  'username': 'Mosty Mostacho'},\n",
       " {'_id': ObjectId('671278740e27c77fce31a7e6'),\n",
       "  'Id': 94,\n",
       "  'Score': 107,\n",
       "  'username': 'Jcl'},\n",
       " {'_id': ObjectId('671278740e27c77fce31a7ee'),\n",
       "  'Id': 103,\n",
       "  'Score': 46,\n",
       "  'username': 'Mosty Mostacho'},\n",
       " {'_id': ObjectId('671278740e27c77fce31a814'),\n",
       "  'Id': 142,\n",
       "  'Score': 112,\n",
       "  'username': 'Mariano'},\n",
       " {'_id': ObjectId('671278740e27c77fce31a817'),\n",
       "  'Id': 145,\n",
       "  'Score': 55,\n",
       "  'username': 'Hewbot'},\n",
       " {'_id': ObjectId('671278740e27c77fce31a81a'),\n",
       "  'Id': 151,\n",
       "  'Score': 111,\n",
       "  'username': 'Hewbot'},\n",
       " {'_id': ObjectId('671278740e27c77fce31a81d'),\n",
       "  'Id': 154,\n",
       "  'Score': 58,\n",
       "  'username': 'Carlos Muñoz'},\n",
       " {'_id': ObjectId('671278740e27c77fce31a82b'),\n",
       "  'Id': 171,\n",
       "  'Score': 40,\n",
       "  'username': 'fedorqui'},\n",
       " {'_id': ObjectId('671278740e27c77fce31a843'),\n",
       "  'Id': 197,\n",
       "  'Score': 176,\n",
       "  'username': 'Peter Olson'},\n",
       " {'_id': ObjectId('671278740e27c77fce31a847'),\n",
       "  'Id': 204,\n",
       "  'Score': 195,\n",
       "  'username': 'Konamiman'},\n",
       " {'_id': ObjectId('671278740e27c77fce31a84c'),\n",
       "  'Id': 209,\n",
       "  'Score': 66,\n",
       "  'username': 'Peter Olson'},\n",
       " {'_id': ObjectId('671278740e27c77fce31a85b'),\n",
       "  'Id': 225,\n",
       "  'Score': 94,\n",
       "  'username': 'Jordi Castilla'},\n",
       " {'_id': ObjectId('671278740e27c77fce31a85c'),\n",
       "  'Id': 226,\n",
       "  'Score': 119,\n",
       "  'username': 'Jordi Castilla'},\n",
       " {'_id': ObjectId('671278740e27c77fce31a86d'),\n",
       "  'Id': 245,\n",
       "  'Score': 68,\n",
       "  'username': 'jpganz18'}]"
      ]
     },
     "execution_count": 45,
     "metadata": {},
     "output_type": "execute_result"
    }
   ],
   "source": [
    "respuestas = db.posts.aggregate( [\n",
    "        { '$match': { 'Score' : {'$gte': 40}}},\n",
    "        { '$lookup': {\n",
    "            'from': \"users\",\n",
    "            'localField': \"OwnerUserId\",\n",
    "            'foreignField': \"Id\",\n",
    "            'as': \"owner\"}\n",
    "        },\n",
    "        { '$unwind': '$owner'},\n",
    "        { '$project' :\n",
    "         {\n",
    "             'Id' : True,\n",
    "             'Score': True,\n",
    "             'username': '$owner.DisplayName'\n",
    "         }\n",
    "        },\n",
    "        { '$limit' : 20 }\n",
    "        ])\n",
    "list(respuestas)"
   ]
  },
  {
   "cell_type": "markdown",
   "metadata": {
    "id": "nGQdY8W9XK5I"
   },
   "source": [
    "Se pueden crear más índices, de tipos `ASCENDING`, `DESCENDING`, `HASHED`, y otros geoespaciales. https://api.mongodb.com/python/current/api/pymongo/collection.html#pymongo.collection.Collection.create_index"
   ]
  },
  {
   "cell_type": "code",
   "execution_count": 46,
   "metadata": {
    "id": "4w4la0MhXK5K"
   },
   "outputs": [
    {
     "data": {
      "text/plain": [
       "'Id_hashed'"
      ]
     },
     "execution_count": 46,
     "metadata": {},
     "output_type": "execute_result"
    }
   ],
   "source": [
    "posts.create_index([('Id', pymongo.HASHED)])"
   ]
  },
  {
   "cell_type": "markdown",
   "metadata": {
    "id": "zrIqOPuLXK5M"
   },
   "source": [
    "## EJERCICIO: Separar en dos colecciones las preguntas de las respuestas"
   ]
  },
  {
   "cell_type": "code",
   "execution_count": null,
   "metadata": {
    "id": "_2c_HBO_XK5N"
   },
   "outputs": [],
   "source": []
  },
  {
   "cell_type": "markdown",
   "metadata": {
    "id": "OR0aB5K-XK5R"
   },
   "source": [
    "## EJERCICIO: Con Agregación, mostrar las consulta RQ1 de la sesión 2"
   ]
  },
  {
   "cell_type": "code",
   "execution_count": null,
   "metadata": {
    "id": "8KrKiRl1XK5R"
   },
   "outputs": [],
   "source": []
  }
 ],
 "metadata": {
  "colab": {
   "name": "sesion3.ipynb",
   "provenance": []
  },
  "kernelspec": {
   "display_name": "Python 3",
   "language": "python",
   "name": "python3"
  },
  "language_info": {
   "codemirror_mode": {
    "name": "ipython",
    "version": 3
   },
   "file_extension": ".py",
   "mimetype": "text/x-python",
   "name": "python",
   "nbconvert_exporter": "python",
   "pygments_lexer": "ipython3",
   "version": "3.11.9"
  }
 },
 "nbformat": 4,
 "nbformat_minor": 4
}
