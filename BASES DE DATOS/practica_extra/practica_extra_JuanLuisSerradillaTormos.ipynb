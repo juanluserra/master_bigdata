{
 "cells": [
  {
   "cell_type": "markdown",
   "metadata": {},
   "source": [
    "# Elasticsearch"
   ]
  },
  {
   "cell_type": "markdown",
   "metadata": {},
   "source": [
    "**ACLARACIÓN:**\n",
    "\n",
    "El cuaderno no está preparado para ser ejecutado dentro de Colab. En su lugar, hay que seguir las instrucciones que se detallan en los respectivos apartados para instalar y ejecutar Elasticsearch en un entorno local."
   ]
  },
  {
   "cell_type": "markdown",
   "metadata": {},
   "source": [
    "## Implementación de ElasticSearch"
   ]
  },
  {
   "cell_type": "markdown",
   "metadata": {},
   "source": [
    "Para la instalación de Elasticsearch se ha usdo el contenido del resopositorio [docker-elk](https://github.com/deviantony/docker-elk?tab=readme-ov-file). Cualquier duda sobre la instalación que no aparezca en este documento se puede consultar en el repositorio."
   ]
  },
  {
   "cell_type": "markdown",
   "metadata": {},
   "source": [
    "### Instalación del repositorio"
   ]
  },
  {
   "cell_type": "markdown",
   "metadata": {},
   "source": [
    "Lo primero de todo es clonar el repositorio en el directorio de trabajo:\n",
    "\n",
    "```bash\n",
    "git clone https://github.com/deviantony/docker-elk?tab=readme-ov-file\n",
    "```\n",
    "\n",
    "Una vez tenemos el direcotorio clonado, nos movemos a la carpeta `docker-elk`. Podemos ver en esta carpeta dos archivos importantes:\n",
    "- `docker-compose.yml`: Archivo de configuración de docker-compose.\n",
    "- `.env`: Archivo de configuración del cluster."
   ]
  },
  {
   "cell_type": "markdown",
   "metadata": {},
   "source": [
    "### Modificación de credenciales <a id=\"modificacion-de-credenciales\"></a>"
   ]
  },
  {
   "cell_type": "markdown",
   "metadata": {},
   "source": [
    "Para modificar las credenciales de acceso a la interfaz web, debemos modificar el archivo `.env`. En este archivo podemos encontrar las siguientes líneas:\n",
    "\n",
    "```bash\n",
    "## Passwords for stack users\n",
    "#\n",
    "\n",
    "# User 'elastic' (built-in)\n",
    "#\n",
    "# Superuser role, full access to cluster management and data indices.\n",
    "# https://www.elastic.co/guide/en/elasticsearch/reference/current/built-in-users.html\n",
    "ELASTIC_PASSWORD='changeme'\n",
    "\n",
    "# User 'logstash_internal' (custom)\n",
    "#\n",
    "# The user Logstash uses to connect and send data to Elasticsearch.\n",
    "# https://www.elastic.co/guide/en/logstash/current/ls-security.html\n",
    "LOGSTASH_INTERNAL_PASSWORD='changeme'\n",
    "\n",
    "# User 'kibana_system' (built-in)\n",
    "#\n",
    "# The user Kibana uses to connect and communicate with Elasticsearch.\n",
    "# https://www.elastic.co/guide/en/elasticsearch/reference/current/built-in-users.html\n",
    "KIBANA_SYSTEM_PASSWORD='changeme'\n",
    "```"
   ]
  },
  {
   "cell_type": "markdown",
   "metadata": {},
   "source": [
    "De esta forma se pueden modificar los valores de las contraseñas antes de instalar e iniciar el cluster. Sin embargo, los usuarios son los que hay por defecto y no se pueden cambiar."
   ]
  },
  {
   "cell_type": "markdown",
   "metadata": {},
   "source": [
    "### Instalación de Elasticsearch"
   ]
  },
  {
   "cell_type": "markdown",
   "metadata": {},
   "source": [
    "Para iniciar la instlación de Elasticsearch, simplemente ejecutamos el siguiente comando dentro de la carpeta `docker-elk`:\n",
    "\n",
    "```bash\n",
    "docker-compose up setup\n",
    "```\n",
    "\n",
    "Luego, una vez se haya terminado de instalar, iniciamos el docker-compose de forma normal:\n",
    "\n",
    "```bash\n",
    "docker-compose up\n",
    "```\n",
    "\n",
    "Para comprobar que todo ha ido bien y está el cluster funcionando, podemos acceder a la dirección `http://localhost:9200` y veremos la información del cluster (hay que meterse con las credenciales: `elastic` y `changeme`, en el caso de no haber cambiaddo la contraseña como se indica enel [apartado anterior](#modificacion-de-credenciales)). Se puede ejeccutar en Bash como:\n",
    "\n",
    "```bash\n",
    "# En el caso de Powershell \"curl.exe\" en vez de solo \"curl\"\n",
    "curl -u elastic:changeme http://localhost:9200\n",
    "```\n",
    "\n",
    "Debería devolver algo similar a lo siguiente:\n",
    "\n",
    "```json\n",
    "{\n",
    "  \"name\": \"elasticsearch\",\n",
    "  \"cluster_name\": \"docker-cluster\",\n",
    "  \"cluster_uuid\": \"CeqMQi1oRvqLxuKa9Lejlg\",\n",
    "  \"version\": {\n",
    "    \"number\": \"8.17.0\",\n",
    "    \"build_flavor\": \"default\",\n",
    "    \"build_type\": \"docker\",\n",
    "    \"build_hash\": \"2b6a7fed44faa321997703718f07ee0420804b41\",\n",
    "    \"build_date\": \"2024-12-11T12:08:05.663969764Z\",\n",
    "    \"build_snapshot\": false,\n",
    "    \"lucene_version\": \"9.12.0\",\n",
    "    \"minimum_wire_compatibility_version\": \"7.17.0\",\n",
    "    \"minimum_index_compatibility_version\": \"7.0.0\"\n",
    "  },\n",
    "  \"tagline\": \"You Know, for Search\"\n",
    "}\n",
    "```"
   ]
  },
  {
   "cell_type": "markdown",
   "metadata": {},
   "source": [
    "## Uso de Elasticsearch"
   ]
  },
  {
   "cell_type": "markdown",
   "metadata": {},
   "source": [
    "### Instalación de librerías"
   ]
  },
  {
   "cell_type": "markdown",
   "metadata": {},
   "source": [
    "Para poder usar Elasticsearch necesitaremos instalar la librería elastisearch de Python. Para ello, simplemente ejecutamos el siguiente comando:\n",
    "\n",
    "```bash\n",
    "pip install elasticsearch\n",
    "```"
   ]
  },
  {
   "cell_type": "markdown",
   "metadata": {},
   "source": [
    "Comprobamos que está ejecutándose correctamente:"
   ]
  },
  {
   "cell_type": "code",
   "execution_count": 27,
   "metadata": {},
   "outputs": [
    {
     "name": "stdout",
     "output_type": "stream",
     "text": [
      "Información del clúster:\n",
      "\t- cluster_name : docker-cluster\n",
      "\t- status : green\n",
      "\t- timed_out : False\n",
      "\t- number_of_nodes : 1\n",
      "\t- number_of_data_nodes : 1\n",
      "\t- active_primary_shards : 33\n",
      "\t- active_shards : 33\n",
      "\t- relocating_shards : 0\n",
      "\t- initializing_shards : 0\n",
      "\t- unassigned_shards : 0\n",
      "\t- unassigned_primary_shards : 0\n",
      "\t- delayed_unassigned_shards : 0\n",
      "\t- number_of_pending_tasks : 0\n",
      "\t- number_of_in_flight_fetch : 0\n",
      "\t- task_max_waiting_in_queue_millis : 0\n",
      "\t- active_shards_percent_as_number : 100.0\n"
     ]
    }
   ],
   "source": [
    "from elasticsearch import Elasticsearch, helpers\n",
    "import uuid\n",
    "\n",
    "# Conexión a Elasticsearch con autenticación\n",
    "client = Elasticsearch(\n",
    "    ['http://localhost:9200'],\n",
    "    basic_auth=('elastic', 'changeme')\n",
    ")\n",
    "\n",
    "def obtener_informacion_cluster():\n",
    "    try:\n",
    "        # Obtener información sobre el clúster de Elasticsearch\n",
    "        info_cluster = client.cluster.health()\n",
    "        print(\"Información del clúster:\")\n",
    "        for element in info_cluster:\n",
    "            print(\"\\t-\", element, \":\", info_cluster[element])\n",
    "    except Exception as e:\n",
    "        print(\"Error al obtener información del clúster:\", e)\n",
    "\n",
    "# Llamar a la función para obtener información del clúster\n",
    "obtener_informacion_cluster();"
   ]
  },
  {
   "cell_type": "code",
   "execution_count": null,
   "metadata": {},
   "outputs": [],
   "source": []
  }
 ],
 "metadata": {
  "kernelspec": {
   "display_name": ".venv",
   "language": "python",
   "name": "python3"
  },
  "language_info": {
   "codemirror_mode": {
    "name": "ipython",
    "version": 3
   },
   "file_extension": ".py",
   "mimetype": "text/x-python",
   "name": "python",
   "nbconvert_exporter": "python",
   "pygments_lexer": "ipython3",
   "version": "3.10.2"
  }
 },
 "nbformat": 4,
 "nbformat_minor": 2
}
