{
  "cells": [
    {
      "cell_type": "markdown",
      "metadata": {
        "id": "JEdGLPXLdvCG"
      },
      "source": [
        "# Sesión 4.1 - Procesamiento de texto con la librería scikit-learn\n",
        "En esta sesión de prácticas vamos a ver cómo podemo usar las funciones de tratamiento de texto de la librería scikit-learn para calcular TF, TF-IDF y BM25.\n",
        "\n",
        "Primero, instalaremos la librerías necesarias."
      ]
    },
    {
      "cell_type": "code",
      "execution_count": null,
      "metadata": {
        "id": "an8uq5WbeOZ6",
        "colab": {
          "base_uri": "https://localhost:8080/"
        },
        "outputId": "9fe0bd14-0188-4560-aef5-c9cd66740e35"
      },
      "outputs": [
        {
          "output_type": "stream",
          "name": "stdout",
          "text": [
            "Requirement already satisfied: scikit-learn in /usr/local/lib/python3.10/dist-packages (1.5.2)\n",
            "Requirement already satisfied: numpy>=1.19.5 in /usr/local/lib/python3.10/dist-packages (from scikit-learn) (1.26.4)\n",
            "Requirement already satisfied: scipy>=1.6.0 in /usr/local/lib/python3.10/dist-packages (from scikit-learn) (1.13.1)\n",
            "Requirement already satisfied: joblib>=1.2.0 in /usr/local/lib/python3.10/dist-packages (from scikit-learn) (1.4.2)\n",
            "Requirement already satisfied: threadpoolctl>=3.1.0 in /usr/local/lib/python3.10/dist-packages (from scikit-learn) (3.5.0)\n",
            "--2024-10-24 16:07:22--  https://valencia.inf.um.es/valencia-tgine/BM25.py\n",
            "Resolving valencia.inf.um.es (valencia.inf.um.es)... 155.54.204.133\n",
            "Connecting to valencia.inf.um.es (valencia.inf.um.es)|155.54.204.133|:443... connected.\n",
            "HTTP request sent, awaiting response... 200 OK\n",
            "Length: 3049 (3.0K) [text/x-python]\n",
            "Saving to: ‘BM25.py’\n",
            "\n",
            "BM25.py             100%[===================>]   2.98K  --.-KB/s    in 0s      \n",
            "\n",
            "2024-10-24 16:07:23 (576 MB/s) - ‘BM25.py’ saved [3049/3049]\n",
            "\n",
            "--2024-10-24 16:07:23--  https://valencia.inf.um.es/valencia-tgine/datasetEspa%C3%B1ol.csv\n",
            "Resolving valencia.inf.um.es (valencia.inf.um.es)... 155.54.204.133\n",
            "Connecting to valencia.inf.um.es (valencia.inf.um.es)|155.54.204.133|:443... connected.\n",
            "HTTP request sent, awaiting response... 200 OK\n",
            "Length: 1953117 (1.9M) [text/csv]\n",
            "Saving to: ‘datasetEspañol.csv’\n",
            "\n",
            "datasetEspañol.csv  100%[===================>]   1.86M  2.51MB/s    in 0.7s    \n",
            "\n",
            "2024-10-24 16:07:24 (2.51 MB/s) - ‘datasetEspañol.csv’ saved [1953117/1953117]\n",
            "\n"
          ]
        }
      ],
      "source": [
        "!pip3 install -U scikit-learn\n",
        "# Descargamos un fichero python con la implementación del BM25\n",
        "!wget --no-check-certificate https://valencia.inf.um.es/valencia-tgine/BM25.py\n",
        "\n",
        "# Descargamos el fichero datasetEspañol.csv\n",
        "!wget --no-check-certificate https://valencia.inf.um.es/valencia-tgine/datasetEspañol.csv\n"
      ]
    },
    {
      "cell_type": "code",
      "execution_count": null,
      "metadata": {
        "id": "n8Wt0FkzyW19"
      },
      "outputs": [],
      "source": [
        "import numpy as np\n",
        "import pandas as pd\n",
        "from sklearn.feature_extraction.text import CountVectorizer\n",
        "from sklearn.metrics.pairwise import cosine_similarity"
      ]
    },
    {
      "cell_type": "code",
      "execution_count": null,
      "metadata": {
        "id": "MarKmlc0Cyaj"
      },
      "outputs": [],
      "source": [
        "# Importamos del fichero BM25.py\n",
        "from BM25 import BM25Transformer"
      ]
    },
    {
      "cell_type": "code",
      "execution_count": null,
      "metadata": {
        "id": "p1ldLK4Hye0H",
        "colab": {
          "base_uri": "https://localhost:8080/",
          "height": 573
        },
        "outputId": "2d433b4f-dcc1-4634-9bf5-710289708805"
      },
      "outputs": [
        {
          "output_type": "execute_result",
          "data": {
            "text/plain": [
              "               twitter_id   twitter_created_at  \\\n",
              "5954  1274324047581581316  2020-06-20 16:51:43   \n",
              "5955  1274321386446733315  2020-06-20 16:41:08   \n",
              "5956  1274340519271858178  2020-06-20 17:57:10   \n",
              "5957  1274367246979211269  2020-06-20 19:43:22   \n",
              "5958  1274368625047220224  2020-06-20 19:48:51   \n",
              "\n",
              "                                                  tweet  \\\n",
              "5954  No me fío nada! ? en #estadodealarma demostrar...   \n",
              "5955  @roldanfj1 @MikiyDuarte @diariocadiz @realDona...   \n",
              "5956  Con el fin del #EstadodeAlarma se acaban, tamb...   \n",
              "5957  @horaciorlarreta. @AsisOberdan. @luisnovaresio...   \n",
              "5958  En la última semana se han registrado 36 falle...   \n",
              "\n",
              "                                   corpus             user  agreement  votes  \\\n",
              "5954  Estado de alarma nacional (oficial)   GuzmanitaMaria        100      1   \n",
              "5955  Estado de alarma nacional (oficial)        ByChanchi        100      1   \n",
              "5956  Estado de alarma nacional (oficial)  Javiersilvestre        100      1   \n",
              "5957  Estado de alarma nacional (oficial)     juliodebarna        100      1   \n",
              "5958  Estado de alarma nacional (oficial)   mallorcadiario        100      1   \n",
              "\n",
              "      score     label __split  \n",
              "5954     -1  negative    test  \n",
              "5955     -1  negative   train  \n",
              "5956     -1  negative     val  \n",
              "5957     -1  negative   train  \n",
              "5958     -1  negative   train  "
            ],
            "text/html": [
              "\n",
              "  <div id=\"df-11324c32-a68d-4d59-bcf7-3e01a293728f\" class=\"colab-df-container\">\n",
              "    <div>\n",
              "<style scoped>\n",
              "    .dataframe tbody tr th:only-of-type {\n",
              "        vertical-align: middle;\n",
              "    }\n",
              "\n",
              "    .dataframe tbody tr th {\n",
              "        vertical-align: top;\n",
              "    }\n",
              "\n",
              "    .dataframe thead th {\n",
              "        text-align: right;\n",
              "    }\n",
              "</style>\n",
              "<table border=\"1\" class=\"dataframe\">\n",
              "  <thead>\n",
              "    <tr style=\"text-align: right;\">\n",
              "      <th></th>\n",
              "      <th>twitter_id</th>\n",
              "      <th>twitter_created_at</th>\n",
              "      <th>tweet</th>\n",
              "      <th>corpus</th>\n",
              "      <th>user</th>\n",
              "      <th>agreement</th>\n",
              "      <th>votes</th>\n",
              "      <th>score</th>\n",
              "      <th>label</th>\n",
              "      <th>__split</th>\n",
              "    </tr>\n",
              "  </thead>\n",
              "  <tbody>\n",
              "    <tr>\n",
              "      <th>5954</th>\n",
              "      <td>1274324047581581316</td>\n",
              "      <td>2020-06-20 16:51:43</td>\n",
              "      <td>No me fío nada! ? en #estadodealarma demostrar...</td>\n",
              "      <td>Estado de alarma nacional (oficial)</td>\n",
              "      <td>GuzmanitaMaria</td>\n",
              "      <td>100</td>\n",
              "      <td>1</td>\n",
              "      <td>-1</td>\n",
              "      <td>negative</td>\n",
              "      <td>test</td>\n",
              "    </tr>\n",
              "    <tr>\n",
              "      <th>5955</th>\n",
              "      <td>1274321386446733315</td>\n",
              "      <td>2020-06-20 16:41:08</td>\n",
              "      <td>@roldanfj1 @MikiyDuarte @diariocadiz @realDona...</td>\n",
              "      <td>Estado de alarma nacional (oficial)</td>\n",
              "      <td>ByChanchi</td>\n",
              "      <td>100</td>\n",
              "      <td>1</td>\n",
              "      <td>-1</td>\n",
              "      <td>negative</td>\n",
              "      <td>train</td>\n",
              "    </tr>\n",
              "    <tr>\n",
              "      <th>5956</th>\n",
              "      <td>1274340519271858178</td>\n",
              "      <td>2020-06-20 17:57:10</td>\n",
              "      <td>Con el fin del #EstadodeAlarma se acaban, tamb...</td>\n",
              "      <td>Estado de alarma nacional (oficial)</td>\n",
              "      <td>Javiersilvestre</td>\n",
              "      <td>100</td>\n",
              "      <td>1</td>\n",
              "      <td>-1</td>\n",
              "      <td>negative</td>\n",
              "      <td>val</td>\n",
              "    </tr>\n",
              "    <tr>\n",
              "      <th>5957</th>\n",
              "      <td>1274367246979211269</td>\n",
              "      <td>2020-06-20 19:43:22</td>\n",
              "      <td>@horaciorlarreta. @AsisOberdan. @luisnovaresio...</td>\n",
              "      <td>Estado de alarma nacional (oficial)</td>\n",
              "      <td>juliodebarna</td>\n",
              "      <td>100</td>\n",
              "      <td>1</td>\n",
              "      <td>-1</td>\n",
              "      <td>negative</td>\n",
              "      <td>train</td>\n",
              "    </tr>\n",
              "    <tr>\n",
              "      <th>5958</th>\n",
              "      <td>1274368625047220224</td>\n",
              "      <td>2020-06-20 19:48:51</td>\n",
              "      <td>En la última semana se han registrado 36 falle...</td>\n",
              "      <td>Estado de alarma nacional (oficial)</td>\n",
              "      <td>mallorcadiario</td>\n",
              "      <td>100</td>\n",
              "      <td>1</td>\n",
              "      <td>-1</td>\n",
              "      <td>negative</td>\n",
              "      <td>train</td>\n",
              "    </tr>\n",
              "  </tbody>\n",
              "</table>\n",
              "</div>\n",
              "    <div class=\"colab-df-buttons\">\n",
              "\n",
              "  <div class=\"colab-df-container\">\n",
              "    <button class=\"colab-df-convert\" onclick=\"convertToInteractive('df-11324c32-a68d-4d59-bcf7-3e01a293728f')\"\n",
              "            title=\"Convert this dataframe to an interactive table.\"\n",
              "            style=\"display:none;\">\n",
              "\n",
              "  <svg xmlns=\"http://www.w3.org/2000/svg\" height=\"24px\" viewBox=\"0 -960 960 960\">\n",
              "    <path d=\"M120-120v-720h720v720H120Zm60-500h600v-160H180v160Zm220 220h160v-160H400v160Zm0 220h160v-160H400v160ZM180-400h160v-160H180v160Zm440 0h160v-160H620v160ZM180-180h160v-160H180v160Zm440 0h160v-160H620v160Z\"/>\n",
              "  </svg>\n",
              "    </button>\n",
              "\n",
              "  <style>\n",
              "    .colab-df-container {\n",
              "      display:flex;\n",
              "      gap: 12px;\n",
              "    }\n",
              "\n",
              "    .colab-df-convert {\n",
              "      background-color: #E8F0FE;\n",
              "      border: none;\n",
              "      border-radius: 50%;\n",
              "      cursor: pointer;\n",
              "      display: none;\n",
              "      fill: #1967D2;\n",
              "      height: 32px;\n",
              "      padding: 0 0 0 0;\n",
              "      width: 32px;\n",
              "    }\n",
              "\n",
              "    .colab-df-convert:hover {\n",
              "      background-color: #E2EBFA;\n",
              "      box-shadow: 0px 1px 2px rgba(60, 64, 67, 0.3), 0px 1px 3px 1px rgba(60, 64, 67, 0.15);\n",
              "      fill: #174EA6;\n",
              "    }\n",
              "\n",
              "    .colab-df-buttons div {\n",
              "      margin-bottom: 4px;\n",
              "    }\n",
              "\n",
              "    [theme=dark] .colab-df-convert {\n",
              "      background-color: #3B4455;\n",
              "      fill: #D2E3FC;\n",
              "    }\n",
              "\n",
              "    [theme=dark] .colab-df-convert:hover {\n",
              "      background-color: #434B5C;\n",
              "      box-shadow: 0px 1px 3px 1px rgba(0, 0, 0, 0.15);\n",
              "      filter: drop-shadow(0px 1px 2px rgba(0, 0, 0, 0.3));\n",
              "      fill: #FFFFFF;\n",
              "    }\n",
              "  </style>\n",
              "\n",
              "    <script>\n",
              "      const buttonEl =\n",
              "        document.querySelector('#df-11324c32-a68d-4d59-bcf7-3e01a293728f button.colab-df-convert');\n",
              "      buttonEl.style.display =\n",
              "        google.colab.kernel.accessAllowed ? 'block' : 'none';\n",
              "\n",
              "      async function convertToInteractive(key) {\n",
              "        const element = document.querySelector('#df-11324c32-a68d-4d59-bcf7-3e01a293728f');\n",
              "        const dataTable =\n",
              "          await google.colab.kernel.invokeFunction('convertToInteractive',\n",
              "                                                    [key], {});\n",
              "        if (!dataTable) return;\n",
              "\n",
              "        const docLinkHtml = 'Like what you see? Visit the ' +\n",
              "          '<a target=\"_blank\" href=https://colab.research.google.com/notebooks/data_table.ipynb>data table notebook</a>'\n",
              "          + ' to learn more about interactive tables.';\n",
              "        element.innerHTML = '';\n",
              "        dataTable['output_type'] = 'display_data';\n",
              "        await google.colab.output.renderOutput(dataTable, element);\n",
              "        const docLink = document.createElement('div');\n",
              "        docLink.innerHTML = docLinkHtml;\n",
              "        element.appendChild(docLink);\n",
              "      }\n",
              "    </script>\n",
              "  </div>\n",
              "\n",
              "\n",
              "<div id=\"df-d06a9c78-86cc-4c6b-be8e-720c14ddb6db\">\n",
              "  <button class=\"colab-df-quickchart\" onclick=\"quickchart('df-d06a9c78-86cc-4c6b-be8e-720c14ddb6db')\"\n",
              "            title=\"Suggest charts\"\n",
              "            style=\"display:none;\">\n",
              "\n",
              "<svg xmlns=\"http://www.w3.org/2000/svg\" height=\"24px\"viewBox=\"0 0 24 24\"\n",
              "     width=\"24px\">\n",
              "    <g>\n",
              "        <path d=\"M19 3H5c-1.1 0-2 .9-2 2v14c0 1.1.9 2 2 2h14c1.1 0 2-.9 2-2V5c0-1.1-.9-2-2-2zM9 17H7v-7h2v7zm4 0h-2V7h2v10zm4 0h-2v-4h2v4z\"/>\n",
              "    </g>\n",
              "</svg>\n",
              "  </button>\n",
              "\n",
              "<style>\n",
              "  .colab-df-quickchart {\n",
              "      --bg-color: #E8F0FE;\n",
              "      --fill-color: #1967D2;\n",
              "      --hover-bg-color: #E2EBFA;\n",
              "      --hover-fill-color: #174EA6;\n",
              "      --disabled-fill-color: #AAA;\n",
              "      --disabled-bg-color: #DDD;\n",
              "  }\n",
              "\n",
              "  [theme=dark] .colab-df-quickchart {\n",
              "      --bg-color: #3B4455;\n",
              "      --fill-color: #D2E3FC;\n",
              "      --hover-bg-color: #434B5C;\n",
              "      --hover-fill-color: #FFFFFF;\n",
              "      --disabled-bg-color: #3B4455;\n",
              "      --disabled-fill-color: #666;\n",
              "  }\n",
              "\n",
              "  .colab-df-quickchart {\n",
              "    background-color: var(--bg-color);\n",
              "    border: none;\n",
              "    border-radius: 50%;\n",
              "    cursor: pointer;\n",
              "    display: none;\n",
              "    fill: var(--fill-color);\n",
              "    height: 32px;\n",
              "    padding: 0;\n",
              "    width: 32px;\n",
              "  }\n",
              "\n",
              "  .colab-df-quickchart:hover {\n",
              "    background-color: var(--hover-bg-color);\n",
              "    box-shadow: 0 1px 2px rgba(60, 64, 67, 0.3), 0 1px 3px 1px rgba(60, 64, 67, 0.15);\n",
              "    fill: var(--button-hover-fill-color);\n",
              "  }\n",
              "\n",
              "  .colab-df-quickchart-complete:disabled,\n",
              "  .colab-df-quickchart-complete:disabled:hover {\n",
              "    background-color: var(--disabled-bg-color);\n",
              "    fill: var(--disabled-fill-color);\n",
              "    box-shadow: none;\n",
              "  }\n",
              "\n",
              "  .colab-df-spinner {\n",
              "    border: 2px solid var(--fill-color);\n",
              "    border-color: transparent;\n",
              "    border-bottom-color: var(--fill-color);\n",
              "    animation:\n",
              "      spin 1s steps(1) infinite;\n",
              "  }\n",
              "\n",
              "  @keyframes spin {\n",
              "    0% {\n",
              "      border-color: transparent;\n",
              "      border-bottom-color: var(--fill-color);\n",
              "      border-left-color: var(--fill-color);\n",
              "    }\n",
              "    20% {\n",
              "      border-color: transparent;\n",
              "      border-left-color: var(--fill-color);\n",
              "      border-top-color: var(--fill-color);\n",
              "    }\n",
              "    30% {\n",
              "      border-color: transparent;\n",
              "      border-left-color: var(--fill-color);\n",
              "      border-top-color: var(--fill-color);\n",
              "      border-right-color: var(--fill-color);\n",
              "    }\n",
              "    40% {\n",
              "      border-color: transparent;\n",
              "      border-right-color: var(--fill-color);\n",
              "      border-top-color: var(--fill-color);\n",
              "    }\n",
              "    60% {\n",
              "      border-color: transparent;\n",
              "      border-right-color: var(--fill-color);\n",
              "    }\n",
              "    80% {\n",
              "      border-color: transparent;\n",
              "      border-right-color: var(--fill-color);\n",
              "      border-bottom-color: var(--fill-color);\n",
              "    }\n",
              "    90% {\n",
              "      border-color: transparent;\n",
              "      border-bottom-color: var(--fill-color);\n",
              "    }\n",
              "  }\n",
              "</style>\n",
              "\n",
              "  <script>\n",
              "    async function quickchart(key) {\n",
              "      const quickchartButtonEl =\n",
              "        document.querySelector('#' + key + ' button');\n",
              "      quickchartButtonEl.disabled = true;  // To prevent multiple clicks.\n",
              "      quickchartButtonEl.classList.add('colab-df-spinner');\n",
              "      try {\n",
              "        const charts = await google.colab.kernel.invokeFunction(\n",
              "            'suggestCharts', [key], {});\n",
              "      } catch (error) {\n",
              "        console.error('Error during call to suggestCharts:', error);\n",
              "      }\n",
              "      quickchartButtonEl.classList.remove('colab-df-spinner');\n",
              "      quickchartButtonEl.classList.add('colab-df-quickchart-complete');\n",
              "    }\n",
              "    (() => {\n",
              "      let quickchartButtonEl =\n",
              "        document.querySelector('#df-d06a9c78-86cc-4c6b-be8e-720c14ddb6db button');\n",
              "      quickchartButtonEl.style.display =\n",
              "        google.colab.kernel.accessAllowed ? 'block' : 'none';\n",
              "    })();\n",
              "  </script>\n",
              "</div>\n",
              "\n",
              "    </div>\n",
              "  </div>\n"
            ],
            "application/vnd.google.colaboratory.intrinsic+json": {
              "type": "dataframe",
              "repr_error": "0"
            }
          },
          "metadata": {},
          "execution_count": 4
        }
      ],
      "source": [
        "# Leemos los datos del dataset en español de la primera sesión\n",
        "data = pd.read_csv(\"datasetEspañol.csv\",encoding=\"UTF-8\")\n",
        "data.tail()"
      ]
    },
    {
      "cell_type": "markdown",
      "metadata": {
        "id": "-oPOoOqEf5NG"
      },
      "source": [
        "## Apartado 1.1 - Obtener TF del conjunto de texto (Resuelto)\n",
        "\n",
        "Calculamos la matriz de TF usando la clase CountVectorizer sobre un conjunto de textos.\n",
        "\n",
        "Se puede consultar información de esta clase en la siguiente URL:\n",
        "https://scikit-learn.org/stable/modules/generated/sklearn.feature_extraction.text.CountVectorizer.html#sklearn.feature_extraction.text.CountVectorizer\n",
        "\n",
        "Hay que tener en cuenta que esta clase tiene muchos parámetros en su método de creación."
      ]
    },
    {
      "cell_type": "code",
      "execution_count": null,
      "metadata": {
        "id": "g1axNe99hQG0",
        "colab": {
          "base_uri": "https://localhost:8080/"
        },
        "outputId": "4d3d72c0-9fd7-4149-b816-35bed7bb76f6"
      },
      "outputs": [
        {
          "output_type": "stream",
          "name": "stdout",
          "text": [
            "(3, 36)\n",
            "La asignatura de TGINE es una asignatura del máster de BigData que se estudia en la Universidad de Murcia.\n",
            "En la asignatura de máster vemos una introducción al procesamiento del lenguaje natural y tecnologías de procesamiento\n",
            "de información no estructurada.\n",
            "\n",
            "  (0, 16)\t3\n",
            "  (0, 1)\t3\n",
            "  (0, 4)\t6\n",
            "  (0, 31)\t1\n",
            "  (0, 8)\t1\n",
            "  (0, 32)\t2\n",
            "  (0, 5)\t2\n",
            "  (0, 21)\t2\n",
            "  (0, 2)\t1\n",
            "  (0, 27)\t1\n",
            "  (0, 29)\t1\n",
            "  (0, 10)\t1\n",
            "  (0, 7)\t2\n",
            "  (0, 33)\t1\n",
            "  (0, 20)\t1\n",
            "  (0, 35)\t1\n",
            "  (0, 15)\t1\n",
            "  (0, 0)\t1\n",
            "  (0, 25)\t2\n",
            "  (0, 18)\t1\n",
            "  (0, 22)\t1\n",
            "  (0, 30)\t1\n",
            "  (0, 14)\t1\n",
            "  (0, 24)\t1\n",
            "  (0, 9)\t1\n",
            "No me gusta el chocolate ni las fresas\n",
            "  (0, 24)\t1\n",
            "  (0, 19)\t1\n",
            "  (0, 13)\t1\n",
            "  (0, 6)\t1\n",
            "  (0, 3)\t1\n",
            "  (0, 23)\t1\n",
            "  (0, 17)\t1\n",
            "  (0, 11)\t1\n",
            "El profesor de la asignatura TGINE es Rafael Valencia García.\n",
            "\n",
            "  (0, 16)\t1\n",
            "  (0, 1)\t1\n",
            "  (0, 4)\t1\n",
            "  (0, 31)\t1\n",
            "  (0, 8)\t1\n",
            "  (0, 6)\t1\n",
            "  (0, 26)\t1\n",
            "  (0, 28)\t1\n",
            "  (0, 34)\t1\n",
            "  (0, 12)\t1\n",
            "Mostramos los items del diccionario\n",
            "dict_items([('la', 16), ('asignatura', 1), ('de', 4), ('tgine', 31), ('es', 8), ('una', 32), ('del', 5), ('máster', 21), ('bigdata', 2), ('que', 27), ('se', 29), ('estudia', 10), ('en', 7), ('universidad', 33), ('murcia', 20), ('vemos', 35), ('introducción', 15), ('al', 0), ('procesamiento', 25), ('lenguaje', 18), ('natural', 22), ('tecnologías', 30), ('información', 14), ('no', 24), ('estructurada', 9), ('me', 19), ('gusta', 13), ('el', 6), ('chocolate', 3), ('ni', 23), ('las', 17), ('fresas', 11), ('profesor', 26), ('rafael', 28), ('valencia', 34), ('garcía', 12)])\n",
            "Tamaño vocabulario: 36\n",
            "Código de la palabra TGINE es: 31\n"
          ]
        }
      ],
      "source": [
        "texto = \"\"\"La asignatura de TGINE es una asignatura del máster de BigData que se estudia en la Universidad de Murcia.\n",
        "En la asignatura de máster vemos una introducción al procesamiento del lenguaje natural y tecnologías de procesamiento\n",
        "de información no estructurada.\n",
        "\"\"\"\n",
        "texto2 = \"No me gusta el chocolate ni las fresas\"\n",
        "\n",
        "texto3 = \"\"\"El profesor de la asignatura TGINE es Rafael Valencia García.\n",
        "\"\"\"\n",
        "# Calculamos la matriz de TF usando la función fit_transform\n",
        "count_vect = CountVectorizer()\n",
        "X_counts = count_vect.fit_transform([texto,texto2,texto3])\n",
        "\n",
        "# Mostramos entonces el número de textos y el número de tokens únicos\n",
        "print(X_counts.shape)\n",
        "\n",
        "# X_counts es una matriz dispersa con el TF de cada token en cada texto\n",
        "# Imprimimos los textos y su correspondientes TF\n",
        "print(texto)\n",
        "print(X_counts[0])\n",
        "print(texto2)\n",
        "print(X_counts[1])\n",
        "print(texto3)\n",
        "print(X_counts[2])\n",
        "\n",
        "#Los tokens de todo el vocabulario se representan con ids que hacen referencia a cada token.\n",
        "print(\"Mostramos los items del diccionario\")\n",
        "print(count_vect.vocabulary_.items())\n",
        "print(\"Tamaño vocabulario:\", str(len(count_vect.vocabulary_.items())))\n",
        "\n",
        "#Mostramos el código de una palabra determinada\n",
        "#hay que tener en cuenta que todos los tokens se guardan en minúsculas\n",
        "palabra_a_buscar=\"TGINE\"\n",
        "print(\"Código de la palabra\", palabra_a_buscar, \"es:\", count_vect.vocabulary_.get(palabra_a_buscar.lower()))"
      ]
    },
    {
      "cell_type": "markdown",
      "metadata": {
        "id": "r1hMjf7pTYDl"
      },
      "source": [
        "## Apartado 1.2 Calculamos el TF sin tener en cuenta las stopwords\n",
        "Para eso hacemos uso del parámetro stop_words de CountVectorizer"
      ]
    },
    {
      "cell_type": "code",
      "execution_count": null,
      "metadata": {
        "id": "2xBK8v0wTYDl",
        "colab": {
          "base_uri": "https://localhost:8080/"
        },
        "outputId": "b0bcb99f-f64f-4455-c1d1-e5933e19bb99"
      },
      "outputs": [
        {
          "output_type": "stream",
          "name": "stdout",
          "text": [
            "(3, 22)\n",
            "La asignatura de TGINE es una asignatura del máster de BigData que se estudia en la Universidad de Murcia.\n",
            "En la asignatura de máster vemos una introducción al procesamiento del lenguaje natural y tecnologías de procesamiento\n",
            "de información no estructurada.\n",
            "\n",
            "  (0, 0)\t3\n",
            "  (0, 18)\t1\n",
            "  (0, 12)\t2\n",
            "  (0, 1)\t1\n",
            "  (0, 4)\t1\n",
            "  (0, 19)\t1\n",
            "  (0, 11)\t1\n",
            "  (0, 21)\t1\n",
            "  (0, 9)\t1\n",
            "  (0, 14)\t2\n",
            "  (0, 10)\t1\n",
            "  (0, 13)\t1\n",
            "  (0, 17)\t1\n",
            "  (0, 8)\t1\n",
            "  (0, 3)\t1\n",
            "No me gusta el chocolate ni las fresas\n",
            "  (0, 7)\t1\n",
            "  (0, 2)\t1\n",
            "  (0, 5)\t1\n",
            "El profesor de la asignatura TGINE es Rafael Valencia García.\n",
            "\n",
            "  (0, 0)\t1\n",
            "  (0, 18)\t1\n",
            "  (0, 15)\t1\n",
            "  (0, 16)\t1\n",
            "  (0, 20)\t1\n",
            "  (0, 6)\t1\n",
            "Mostramos los items del diccionario\n",
            "dict_items([('asignatura', 0), ('tgine', 18), ('máster', 12), ('bigdata', 1), ('estudia', 4), ('universidad', 19), ('murcia', 11), ('vemos', 21), ('introducción', 9), ('procesamiento', 14), ('lenguaje', 10), ('natural', 13), ('tecnologías', 17), ('información', 8), ('estructurada', 3), ('gusta', 7), ('chocolate', 2), ('fresas', 5), ('profesor', 15), ('rafael', 16), ('valencia', 20), ('garcía', 6)])\n"
          ]
        },
        {
          "output_type": "stream",
          "name": "stderr",
          "text": [
            "[nltk_data] Downloading package stopwords to /root/nltk_data...\n",
            "[nltk_data]   Unzipping corpora/stopwords.zip.\n"
          ]
        }
      ],
      "source": [
        "import nltk\n",
        "# Descargamos las stopwords de NLTK\n",
        "# Si no tenemos instalado NLTK lo instalamos\n",
        "# !pip3 install -U nltk\n",
        "nltk.download('stopwords')\n",
        "stopwords_sp = nltk.corpus.stopwords.words('spanish')\n",
        "\n",
        "# Calculamos la matriz de TF usando la función fit_transform quitando las stopwords\n",
        "count_vect = CountVectorizer(stop_words=stopwords_sp)\n",
        "X_counts = count_vect.fit_transform([texto,texto2,texto3])\n",
        "\n",
        "# Mostramos entonces el número de textos y el número de tokens únicos\n",
        "print(X_counts.shape)\n",
        "\n",
        "# X_counts es una matriz dispersa con el TF de cada token en cada texto\n",
        "# Imprimimos los textos y su correspondientes TF\n",
        "print(texto)\n",
        "print(X_counts[0])\n",
        "print(texto2)\n",
        "print(X_counts[1])\n",
        "print(texto3)\n",
        "print(X_counts[2])\n",
        "\n",
        "#Los tokens de todo el vocabulario se representan con ids que hacen referencia a cada token.\n",
        "print(\"Mostramos los items del diccionario\")\n",
        "print(count_vect.vocabulary_.items())"
      ]
    },
    {
      "cell_type": "markdown",
      "metadata": {
        "id": "fn7dSDhxjE4R"
      },
      "source": [
        "## Apartado 1.3 TF-IDF (Resuelto)\n",
        "Obtenemos el TF-IDF utilizando la clase TfidfTransformer"
      ]
    },
    {
      "cell_type": "code",
      "execution_count": null,
      "metadata": {
        "id": "03E_i6avjAiz",
        "colab": {
          "base_uri": "https://localhost:8080/"
        },
        "outputId": "d17e970f-fca1-4004-fa60-c361e76e4bbd"
      },
      "outputs": [
        {
          "output_type": "stream",
          "name": "stdout",
          "text": [
            "(3, 22)\n",
            "La asignatura de TGINE es una asignatura del máster de BigData que se estudia en la Universidad de Murcia.\n",
            "En la asignatura de máster vemos una introducción al procesamiento del lenguaje natural y tecnologías de procesamiento\n",
            "de información no estructurada.\n",
            "\n",
            "  (0, 0)\t0.4582996650455791\n",
            "  (0, 1)\t0.20086966141832005\n",
            "  (0, 3)\t0.20086966141832005\n",
            "  (0, 4)\t0.20086966141832005\n",
            "  (0, 8)\t0.20086966141832005\n",
            "  (0, 9)\t0.20086966141832005\n",
            "  (0, 10)\t0.20086966141832005\n",
            "  (0, 11)\t0.20086966141832005\n",
            "  (0, 12)\t0.4017393228366401\n",
            "  (0, 13)\t0.20086966141832005\n",
            "  (0, 14)\t0.4017393228366401\n",
            "  (0, 17)\t0.20086966141832005\n",
            "  (0, 18)\t0.15276655501519304\n",
            "  (0, 19)\t0.20086966141832005\n",
            "  (0, 21)\t0.20086966141832005\n",
            "No me gusta el chocolate ni las fresas\n",
            "  (0, 2)\t0.5773502691896257\n",
            "  (0, 5)\t0.5773502691896257\n",
            "  (0, 7)\t0.5773502691896257\n",
            "El profesor de la asignatura TGINE es Rafael Valencia García.\n",
            "\n",
            "  (0, 0)\t0.3349067026613031\n",
            "  (0, 6)\t0.4403620672313486\n",
            "  (0, 15)\t0.4403620672313486\n",
            "  (0, 16)\t0.4403620672313486\n",
            "  (0, 18)\t0.3349067026613031\n",
            "  (0, 20)\t0.4403620672313486\n"
          ]
        }
      ],
      "source": [
        "from sklearn.feature_extraction.text import TfidfTransformer\n",
        "\n",
        "tfidf_transformer = TfidfTransformer()\n",
        "X_TFIDF = tfidf_transformer.fit_transform(X_counts)\n",
        "\n",
        "# Mostramos entonces el número de textos y el número de tokens únicos\n",
        "print(X_TFIDF.shape)\n",
        "\n",
        "# X_counts es una matriz dispersa con el TF de cada token en cada texto\n",
        "# Imprimimos los textos y su correspondientes TF\n",
        "print(texto)\n",
        "print(X_TFIDF[0])\n",
        "print(texto2)\n",
        "print(X_TFIDF[1])\n",
        "print(texto3)\n",
        "print(X_TFIDF[2])"
      ]
    },
    {
      "cell_type": "markdown",
      "metadata": {
        "id": "liEFSQ-rpfBd"
      },
      "source": [
        "## Apartado 1.4 BM25 (Resuelto)\n",
        "\n",
        "Calculamos el BM25 que tiene en cuenta tanto la transformación del TF como la normalización de la longitud del documento."
      ]
    },
    {
      "cell_type": "code",
      "execution_count": null,
      "metadata": {
        "id": "fCDDgaBwpepN",
        "colab": {
          "base_uri": "https://localhost:8080/"
        },
        "outputId": "bf0aad14-a92b-4f6b-a271-87871eb830f0"
      },
      "outputs": [
        {
          "output_type": "stream",
          "name": "stdout",
          "text": [
            "(5959, 23922)\n",
            "La asignatura de TGINE es una asignatura del máster de BigData que se estudia en la Universidad de Murcia.\n",
            "En la asignatura de máster vemos una introducción al procesamiento del lenguaje natural y tecnologías de procesamiento\n",
            "de información no estructurada.\n",
            "\n",
            "  (0, 1018)\t0.23567948820698148\n",
            "  (0, 4063)\t0.25534600903507787\n",
            "  (0, 5362)\t0.25534600903507787\n",
            "  (0, 6839)\t0.25534600903507787\n",
            "  (0, 6843)\t0.2293482826237298\n",
            "  (0, 10888)\t0.36099317521931923\n",
            "  (0, 11621)\t0.09914438208836628\n",
            "  (0, 13387)\t0.25534600903507787\n",
            "  (0, 13388)\t0.25534600903507787\n",
            "  (0, 13452)\t0.22417531100289353\n",
            "  (0, 14082)\t0.25534600903507787\n",
            "  (0, 14830)\t0.25534600903507787\n",
            "  (0, 20860)\t0.2293482826237298\n",
            "  (0, 21278)\t0.25534600903507787\n",
            "  (0, 21279)\t0.25534600903507787\n",
            "  (0, 22067)\t0.1598064246119052\n",
            "  (0, 22606)\t0.1836840353842854\n",
            "  (0, 23725)\t0.052549796023945355\n",
            "No me gusta el chocolate ni las fresas\n",
            "  (0, 5191)\t0.26673983724063893\n",
            "  (0, 5661)\t0.3427032604519152\n",
            "  (0, 5850)\t0.2442433252391363\n",
            "  (0, 5980)\t0.3427032604519152\n",
            "  (0, 7436)\t0.3643602203908617\n",
            "  (0, 11621)\t0.1481463153265317\n",
            "  (0, 18110)\t0.2450828773016924\n",
            "  (0, 20184)\t0.2220905000718006\n",
            "  (0, 20257)\t0.3427032604519152\n",
            "  (0, 22219)\t0.2267770326850309\n",
            "  (0, 22775)\t0.3521636530528547\n",
            "  (0, 23725)\t0.07852243857014102\n",
            "  (0, 23863)\t0.26673983724063893\n",
            "El profesor de la asignatura TGINE es Rafael Valencia García.\n",
            "\n",
            "  (0, 876)\t0.24766744869568838\n",
            "  (0, 3213)\t0.24766744869568838\n",
            "  (0, 4174)\t0.14918826902377377\n",
            "  (0, 4682)\t0.19044207372365043\n",
            "  (0, 4903)\t0.20951719871432975\n",
            "  (0, 5226)\t0.24766744869568838\n",
            "  (0, 5927)\t0.15453042224423966\n",
            "  (0, 6900)\t0.16969858410408095\n",
            "  (0, 7486)\t0.21319192765492012\n",
            "  (0, 7878)\t0.20337638006634204\n",
            "  (0, 9023)\t0.21319192765492012\n",
            "  (0, 9378)\t0.2285923237050091\n",
            "  (0, 11238)\t0.1770810985516729\n",
            "  (0, 11259)\t0.11881712529394262\n",
            "  (0, 12948)\t0.18720073308209698\n",
            "  (0, 13472)\t0.17928384090753402\n",
            "  (0, 13619)\t0.18571282541608572\n",
            "  (0, 13658)\t0.21319192765492012\n",
            "  (0, 15997)\t0.1356895079287608\n",
            "  (0, 16345)\t0.21319192765492012\n",
            "  (0, 18415)\t0.15361301768546698\n",
            "  (0, 18575)\t0.15646241453480686\n",
            "  (0, 20560)\t0.20951719871432975\n",
            "  (0, 21537)\t0.16198478944342992\n",
            "  (0, 21624)\t0.20627585807277626\n",
            "  (0, 21774)\t0.20075348316415323\n",
            "  (0, 23024)\t0.12742204301037216\n",
            "  (0, 23725)\t0.05096956071454195\n"
          ]
        }
      ],
      "source": [
        "bm25_transformer = BM25Transformer(k=1.2, b=0.75)\n",
        "X_BM25 = bm25_transformer.fit_transform(X_counts)\n",
        "\n",
        "# Mostramos entonces el número de textos y el número de tokens únicos\n",
        "print(X_BM25.shape)\n",
        "\n",
        "# X_counts es una matriz dispersa con el TF de cada token en cada texto\n",
        "# Imprimimos los textos y su correspondientes TF\n",
        "print(texto)\n",
        "print(X_BM25[0])\n",
        "print(texto2)\n",
        "print(X_BM25[1])\n",
        "print(texto3)\n",
        "print(X_BM25[2])"
      ]
    },
    {
      "cell_type": "markdown",
      "metadata": {
        "id": "EHsOfKhgeaCw"
      },
      "source": [
        "# Apartado 1.5 Desarrollamos un simple buscador con TFIDF y BM25 (Resuelto)\n",
        "\n",
        "A continuación vamos a procesar los tuits del archivo de la primera sesión \"datosEspañol.csv\" y calculamos el TF, el TFIDF y el BM25 de manera similar a como se ha hecho anteriormente."
      ]
    },
    {
      "cell_type": "code",
      "execution_count": null,
      "metadata": {
        "id": "Sxt-6GdmzVlA",
        "colab": {
          "base_uri": "https://localhost:8080/"
        },
        "outputId": "7116e7c9-dc1d-40b2-c24f-fc012f75ae6a"
      },
      "outputs": [
        {
          "output_type": "stream",
          "name": "stdout",
          "text": [
            "(5959, 23922)\n",
            "Hoy merendola deliciosa! Latte Macchiato Caramelo con Leche Condensada y Gofre! ???. #yomequedoencasa #todovaasalirbien #undiamenos #actitudpositiva #lattemacchiato #gofre #delicious #strong #stronger #smile…\n",
            "  (0, 11621)\t1\n",
            "  (0, 14830)\t1\n",
            "  (0, 6839)\t1\n",
            "  (0, 13387)\t1\n",
            "  (0, 14082)\t1\n",
            "  (0, 4063)\t1\n",
            "  (0, 13452)\t1\n",
            "  (0, 5362)\t1\n",
            "  (0, 10888)\t2\n",
            "  (0, 23725)\t1\n",
            "  (0, 22067)\t1\n",
            "  (0, 22606)\t1\n",
            "  (0, 1018)\t1\n",
            "  (0, 13388)\t1\n",
            "  (0, 6843)\t1\n",
            "  (0, 21278)\t1\n",
            "  (0, 21279)\t1\n",
            "  (0, 20860)\t1\n"
          ]
        }
      ],
      "source": [
        "# Calculamos la matriz de TF usando la función fit_transform\n",
        "count_vect = CountVectorizer(stop_words=stopwords_sp)\n",
        "X_counts = count_vect.fit_transform(data['tweet'])\n",
        "\n",
        "# Mostramos entonces el número de textos y el número de tokens únicos\n",
        "print(X_counts.shape)\n",
        "\n",
        "# X_counts es una matriz dispersa con el TF de cada token en cada texto\n",
        "# Imprimimos el primer tuit y su correspondientes TF\n",
        "print(data['tweet'][0])\n",
        "print(X_counts[0])"
      ]
    },
    {
      "cell_type": "code",
      "execution_count": null,
      "metadata": {
        "id": "CC1CNRQlATwZ",
        "colab": {
          "base_uri": "https://localhost:8080/"
        },
        "outputId": "d3344e41-54ae-4a97-b2a4-4974c26151a8"
      },
      "outputs": [
        {
          "output_type": "execute_result",
          "data": {
            "text/plain": [
              "14830"
            ]
          },
          "metadata": {},
          "execution_count": 29
        }
      ],
      "source": [
        "# El vocabulario que forma los tokens del objeto vectorizer se puede obtener de la siguiente manera\n",
        "# obtenemos el id del token 'buenosdias' que proviene de un hashtag\n",
        "count_vect.vocabulary_.get('merendola')"
      ]
    },
    {
      "cell_type": "code",
      "execution_count": null,
      "metadata": {
        "id": "R9in80glzWGo",
        "colab": {
          "base_uri": "https://localhost:8080/"
        },
        "outputId": "757d1f8f-ea2c-4b36-8d07-63da44344553"
      },
      "outputs": [
        {
          "output_type": "stream",
          "name": "stdout",
          "text": [
            "(5959, 23922)\n",
            "Hoy merendola deliciosa! Latte Macchiato Caramelo con Leche Condensada y Gofre! ???. #yomequedoencasa #todovaasalirbien #undiamenos #actitudpositiva #lattemacchiato #gofre #delicious #strong #stronger #smile…\n",
            "  (0, 1018)\t0.22166053291045124\n",
            "  (0, 4063)\t0.24015722738486325\n",
            "  (0, 5362)\t0.24015722738486325\n",
            "  (0, 6839)\t0.24015722738486325\n",
            "  (0, 6843)\t0.2157059272965902\n",
            "  (0, 10888)\t0.4803144547697265\n",
            "  (0, 11621)\t0.09324696322101765\n",
            "  (0, 13387)\t0.24015722738486325\n",
            "  (0, 13388)\t0.24015722738486325\n",
            "  (0, 13452)\t0.21084066025562398\n",
            "  (0, 14082)\t0.24015722738486325\n",
            "  (0, 14830)\t0.24015722738486325\n",
            "  (0, 20860)\t0.2157059272965902\n",
            "  (0, 21278)\t0.24015722738486325\n",
            "  (0, 21279)\t0.24015722738486325\n",
            "  (0, 22067)\t0.1503006371554885\n",
            "  (0, 22606)\t0.17275793273390508\n",
            "  (0, 23725)\t0.049423969305183627\n",
            "(5959, 23922)\n",
            "Hoy merendola deliciosa! Latte Macchiato Caramelo con Leche Condensada y Gofre! ???. #yomequedoencasa #todovaasalirbien #undiamenos #actitudpositiva #lattemacchiato #gofre #delicious #strong #stronger #smile…\n",
            "  (0, 1018)\t0.23567948820698148\n",
            "  (0, 4063)\t0.25534600903507787\n",
            "  (0, 5362)\t0.25534600903507787\n",
            "  (0, 6839)\t0.25534600903507787\n",
            "  (0, 6843)\t0.2293482826237298\n",
            "  (0, 10888)\t0.36099317521931923\n",
            "  (0, 11621)\t0.09914438208836628\n",
            "  (0, 13387)\t0.25534600903507787\n",
            "  (0, 13388)\t0.25534600903507787\n",
            "  (0, 13452)\t0.22417531100289353\n",
            "  (0, 14082)\t0.25534600903507787\n",
            "  (0, 14830)\t0.25534600903507787\n",
            "  (0, 20860)\t0.2293482826237298\n",
            "  (0, 21278)\t0.25534600903507787\n",
            "  (0, 21279)\t0.25534600903507787\n",
            "  (0, 22067)\t0.1598064246119052\n",
            "  (0, 22606)\t0.1836840353842854\n",
            "  (0, 23725)\t0.052549796023945355\n"
          ]
        }
      ],
      "source": [
        "# Calculamos ahora el TFIDF\n",
        "X_TFIDF = tfidf_transformer.fit_transform(X_counts)\n",
        "# Mostramos entonces el número de textos y el número de tokens únicos\n",
        "print(X_TFIDF.shape)\n",
        "\n",
        "# X_counts es una matriz dispersa con el TF de cada token en cada texto\n",
        "# Imprimimos el primer tuit y su correspondientes TF\n",
        "print(data['tweet'][0])\n",
        "print(X_TFIDF[0])\n",
        "\n",
        "# Calculamos también el BM25\n",
        "X_BM25 = bm25_transformer.fit_transform(X_counts)\n",
        "# Mostramos entonces el número de textos y el número de tokens únicos\n",
        "print(X_BM25.shape)\n",
        "\n",
        "# X_counts es una matriz dispersa con el TF de cada token en cada texto\n",
        "# Imprimimos el primer tuit y su correspondientes TF\n",
        "print(data['tweet'][0])\n",
        "print(X_BM25[0])"
      ]
    },
    {
      "cell_type": "code",
      "execution_count": null,
      "metadata": {
        "id": "0b40Vpc8zjAl",
        "colab": {
          "base_uri": "https://localhost:8080/"
        },
        "outputId": "7caa84bc-e5dd-457a-89f4-48f659a06567"
      },
      "outputs": [
        {
          "output_type": "stream",
          "name": "stdout",
          "text": [
            "(5959, 23922)\n",
            "(5959, 23922)\n"
          ]
        }
      ],
      "source": [
        "# Podemos ver que el tamaño de la matriz de textos y el número total de tokens es el mismo tanto\n",
        "# para TFIDF como para BM25\n",
        "print(X_TFIDF.shape) # (Number of tweets, Number of unique words)\n",
        "print(X_BM25.shape)"
      ]
    },
    {
      "cell_type": "markdown",
      "metadata": {
        "id": "bNqweJpqfpcS"
      },
      "source": [
        "Realizamos una consulta cualquiera y la metemos en el string \"query\" para a continuación calcular la similitud del coseno usando el TF-IDF y el BM25."
      ]
    },
    {
      "cell_type": "code",
      "execution_count": null,
      "metadata": {
        "id": "qQg-FiyLz1mZ"
      },
      "outputs": [],
      "source": [
        "query = \"semana santa\""
      ]
    },
    {
      "cell_type": "code",
      "execution_count": null,
      "metadata": {
        "id": "eS-z3SCdz7y6",
        "colab": {
          "base_uri": "https://localhost:8080/"
        },
        "outputId": "92c7098c-9a1f-43b1-b116-0d58fab9facc"
      },
      "outputs": [
        {
          "output_type": "stream",
          "name": "stdout",
          "text": [
            "Aunque sean unos momentos difíciles, debemos tomarlo con el mayor positivismo posible! La Semana Santa no es sólo salir a beber y a ver procesiones, es mucho más que eso. Disfrutemos de esta semana de una forma verdadera! Feliz Domingo de Ramos y Semana Santa!!! #YoMeQuedoEnCasa -- 0.5341953468689503 -- 804\n",
            "Es tiempo de recogimiento ?. Esta Semana Santa no se sale. #SemanaSanta #YoMeQuedoEnCasa #QuedateEnCasa -- 0.4618900044681435 -- 4863\n",
            "Buen dia amigos espero que estén todos bien!!! Feliz inicio de semana arriba ese ánimo todo lo mejor, que sea una Semana Santa de bendiciones!!! A cuidarse . #QuedateEnCasa -- 0.450087834395828 -- 31\n",
            "Esta Semana Santa quiero salvar vidas: #YoMeQuedoEnCasa . Si te vas de “vacaciones”, ¿cuántas muertes caerán sobre tus espaldas la semana que viene...?. #QuedateEnTuCasa ?? -- 0.40809989875165065 -- 1372\n",
            "¡Feliz Semana Santa! Aunque sea en casa ?. #AyudaADomicilio #Mayores #QuéDateEnCasa #Santander #Cantabria -- 0.4044128930022516 -- 1967\n",
            "La procesión de carros de compra que estoy viendo desde mi balcón sirve como Semana Santa? #YoMeQuedoEnCasa -- 0.38389199667649315 -- 156\n",
            "Último día de teletrabajo hasta después de Semana Santa ???. Gracias equipo TeSera por vuestro compromiso y responsabilidad #todosjuntospodemos #yomequedoencasa ?????? -- 0.3505556476212133 -- 1353\n",
            "#QuedateEnCasa #YoMeQuedoEnCasa #COVIDー19 #JuntosNosCuidamos Disfrutando de la Semana Santa atraves de la plataforma @NefliCofrades ¡MUCHAS GRACIAS A TODO EL EQUIPO! ???? -- 0.34283890481106116 -- 813\n",
            "¡Feliz Semana Santa en casa!. Laboratorios Mahen, ¡siente la conexión con la naturaleza! ?. #SemanaSanta #YoMeQuedoEnCasa #LaboratoriosMahen -- 0.33651344818376056 -- 1327\n",
            "A este paso no creo que las escuelas abran hasta después de Semana Santa y ya veremos si más allá. #coronavirus #COVID19 #quedatencasa #estadodealarma -- 0.33605409906504957 -- 4170\n"
          ]
        }
      ],
      "source": [
        "# Transformamos la query a TF-ID y sacamos los resultados de la comparación con la función del coseno\n",
        "# cosine_similarity\n",
        "query_vec = count_vect.transform([query]) # Ip -- (n_docs,x), Op -- (n_docs,n_Feats)\n",
        "query_vec_TFIDF = tfidf_transformer.fit_transform(query_vec)\n",
        "results = cosine_similarity(X_TFIDF,query_vec_TFIDF).reshape((-1,)) # Op -- (n_docs,1) -- Cosine Sim with each doc\n",
        "\n",
        "# Immprimimos a continuación los primeros 10 resultados ordenados por la similitud obtenida\n",
        "for i in results.argsort()[-10:][::-1]:\n",
        "    print(data.iloc[i,2],\"--\",results[i],\"--\",i)"
      ]
    },
    {
      "cell_type": "code",
      "execution_count": null,
      "metadata": {
        "id": "rOKu2It3FRq9",
        "colab": {
          "base_uri": "https://localhost:8080/"
        },
        "outputId": "ce5cade2-8034-4dd0-ac87-ca18aefa0b90"
      },
      "outputs": [
        {
          "output_type": "stream",
          "name": "stdout",
          "text": [
            "Es tiempo de recogimiento ?. Esta Semana Santa no se sale. #SemanaSanta #YoMeQuedoEnCasa #QuedateEnCasa -- 0.46189000446814343 -- 4863\n",
            "¡Feliz Semana Santa! Aunque sea en casa ?. #AyudaADomicilio #Mayores #QuéDateEnCasa #Santander #Cantabria -- 0.4044128930022516 -- 1967\n",
            "La procesión de carros de compra que estoy viendo desde mi balcón sirve como Semana Santa? #YoMeQuedoEnCasa -- 0.3838919966764931 -- 156\n",
            "Aunque sean unos momentos difíciles, debemos tomarlo con el mayor positivismo posible! La Semana Santa no es sólo salir a beber y a ver procesiones, es mucho más que eso. Disfrutemos de esta semana de una forma verdadera! Feliz Domingo de Ramos y Semana Santa!!! #YoMeQuedoEnCasa -- 0.38107895715467033 -- 804\n",
            "Buen dia amigos espero que estén todos bien!!! Feliz inicio de semana arriba ese ánimo todo lo mejor, que sea una Semana Santa de bendiciones!!! A cuidarse . #QuedateEnCasa -- 0.38098584294080773 -- 31\n",
            "Último día de teletrabajo hasta después de Semana Santa ???. Gracias equipo TeSera por vuestro compromiso y responsabilidad #todosjuntospodemos #yomequedoencasa ?????? -- 0.3505556476212133 -- 1353\n",
            "Esta Semana Santa quiero salvar vidas: #YoMeQuedoEnCasa . Si te vas de “vacaciones”, ¿cuántas muertes caerán sobre tus espaldas la semana que viene...?. #QuedateEnTuCasa ?? -- 0.3428907435411057 -- 1372\n",
            "#QuedateEnCasa #YoMeQuedoEnCasa #COVIDー19 #JuntosNosCuidamos Disfrutando de la Semana Santa atraves de la plataforma @NefliCofrades ¡MUCHAS GRACIAS A TODO EL EQUIPO! ???? -- 0.34283890481106116 -- 813\n",
            "¡Feliz Semana Santa en casa!. Laboratorios Mahen, ¡siente la conexión con la naturaleza! ?. #SemanaSanta #YoMeQuedoEnCasa #LaboratoriosMahen -- 0.33651344818376056 -- 1327\n",
            "A este paso no creo que las escuelas abran hasta después de Semana Santa y ya veremos si más allá. #coronavirus #COVID19 #quedatencasa #estadodealarma -- 0.33605409906504957 -- 4170\n"
          ]
        }
      ],
      "source": [
        "# Obtenemos ahora los resultados usando el BM25\n",
        "query_vec = count_vect.transform([query]) # Ip -- (n_docs,x), Op -- (n_docs,n_Feats)\n",
        "query_vec_BM25 = bm25_transformer.fit_transform(query_vec)\n",
        "results = cosine_similarity(X_BM25,query_vec_BM25).reshape((-1,)) # Op -- (n_docs,1) -- Cosine Sim with each doc\n",
        "\n",
        "# Immprimimos a continuación los primeros 10 resultados ordenados por la similitud obtenida\n",
        "for i in results.argsort()[-10:][::-1]:\n",
        "    print(data.iloc[i,2],\"--\",results[i],\"--\",i)"
      ]
    },
    {
      "cell_type": "markdown",
      "source": [
        "#Apartado 1.5 Modificamos el buscador anterior para trabajar con bigramas o trigramas\n",
        "\n",
        "Configuraremos el CountVectorizer para trabajar con unigramas, bigramas y trigramas y probamos distintas consultas."
      ],
      "metadata": {
        "id": "gHhl2wy4w8Ka"
      }
    },
    {
      "cell_type": "code",
      "source": [
        "# Calculamos la matriz de TF usando la función fit_transform\n",
        "###########################################################\n",
        "count_vect = CountVectorizer(stop_words=stopwords_sp, ngram_range=(1,2))\n",
        "X_counts = count_vect.fit_transform(data['tweet'])\n",
        "\n",
        "# Calculamos ahora el TFIDF\n",
        "X_TFIDF = tfidf_transformer.fit_transform(X_counts)\n",
        "\n",
        "# Calculamos también el BM25\n",
        "X_BM25 = bm25_transformer.fit_transform(X_counts)"
      ],
      "metadata": {
        "id": "U6wNn3uKw7qa"
      },
      "execution_count": null,
      "outputs": []
    },
    {
      "cell_type": "code",
      "source": [
        "X_BM25.shape"
      ],
      "metadata": {
        "colab": {
          "base_uri": "https://localhost:8080/"
        },
        "id": "76J-SRecbkOc",
        "outputId": "7e25c345-6522-4bd0-aa7f-0eb1a8dd49c2"
      },
      "execution_count": null,
      "outputs": [
        {
          "output_type": "execute_result",
          "data": {
            "text/plain": [
              "(5959, 95233)"
            ]
          },
          "metadata": {},
          "execution_count": 36
        }
      ]
    },
    {
      "cell_type": "code",
      "source": [
        "query = \"semana santa\""
      ],
      "metadata": {
        "id": "ExmVzvL-xcVJ"
      },
      "execution_count": null,
      "outputs": []
    },
    {
      "cell_type": "code",
      "source": [
        "# Transformamos la query a TF-ID y sacamos los resultados de la comparación con la función del coseno\n",
        "# cosine_similarity\n",
        "query_vec = count_vect.transform([query]) # Ip -- (n_docs,x), Op -- (n_docs,n_Feats)\n",
        "query_vec_TFIDF = tfidf_transformer.fit_transform(query_vec)\n",
        "results = cosine_similarity(X_TFIDF,query_vec_TFIDF).reshape((-1,)) # Op -- (n_docs,1) -- Cosine Sim with each doc\n",
        "\n",
        "# Immprimimos a continuación los primeros 10 resultados ordenados por la similitud obtenida\n",
        "for i in results.argsort()[-10:][::-1]:\n",
        "    print(data.iloc[i,2],\"--\",results[i],\"--\",i)"
      ],
      "metadata": {
        "id": "M5-TKMQBxc68",
        "colab": {
          "base_uri": "https://localhost:8080/"
        },
        "outputId": "e8459ab2-6f82-4ef7-eaa4-f537e4d467ed"
      },
      "execution_count": null,
      "outputs": [
        {
          "output_type": "stream",
          "name": "stdout",
          "text": [
            "Aunque sean unos momentos difíciles, debemos tomarlo con el mayor positivismo posible! La Semana Santa no es sólo salir a beber y a ver procesiones, es mucho más que eso. Disfrutemos de esta semana de una forma verdadera! Feliz Domingo de Ramos y Semana Santa!!! #YoMeQuedoEnCasa -- 0.4012318335324192 -- 804\n",
            "Es tiempo de recogimiento ?. Esta Semana Santa no se sale. #SemanaSanta #YoMeQuedoEnCasa #QuedateEnCasa -- 0.35849035607835267 -- 4863\n",
            "¡Feliz Semana Santa! Aunque sea en casa ?. #AyudaADomicilio #Mayores #QuéDateEnCasa #Santander #Cantabria -- 0.3106508238874546 -- 1967\n",
            "La procesión de carros de compra que estoy viendo desde mi balcón sirve como Semana Santa? #YoMeQuedoEnCasa -- 0.30936849351879286 -- 156\n",
            "Buen dia amigos espero que estén todos bien!!! Feliz inicio de semana arriba ese ánimo todo lo mejor, que sea una Semana Santa de bendiciones!!! A cuidarse . #QuedateEnCasa -- 0.30116382730689667 -- 31\n",
            "Esta Semana Santa quiero salvar vidas: #YoMeQuedoEnCasa . Si te vas de “vacaciones”, ¿cuántas muertes caerán sobre tus espaldas la semana que viene...?. #QuedateEnTuCasa ?? -- 0.2906753848388174 -- 1372\n",
            "¡Feliz Semana Santa en casa!. Laboratorios Mahen, ¡siente la conexión con la naturaleza! ?. #SemanaSanta #YoMeQuedoEnCasa #LaboratoriosMahen -- 0.2756890140361019 -- 1327\n",
            "#QuedateEnCasa #YoMeQuedoEnCasa #COVIDー19 #JuntosNosCuidamos Disfrutando de la Semana Santa atraves de la plataforma @NefliCofrades ¡MUCHAS GRACIAS A TODO EL EQUIPO! ???? -- 0.2722937605943965 -- 813\n",
            "Último día de teletrabajo hasta después de Semana Santa ???. Gracias equipo TeSera por vuestro compromiso y responsabilidad #todosjuntospodemos #yomequedoencasa ?????? -- 0.2634883303988429 -- 1353\n",
            "Como no podemos viajar por semana santa, nos hemos decantado por explorar el espacio ??‍?????‍? con SpaceCorp de @gmtgames #QuedateEnCasa #COVID19 #boardgames -- 0.2578457254494968 -- 1968\n"
          ]
        }
      ]
    },
    {
      "cell_type": "code",
      "source": [
        "# Obtenemos ahora los resultados usando el BM25\n",
        "query_vec = count_vect.transform([query]) # Ip -- (n_docs,x), Op -- (n_docs,n_Feats)\n",
        "query_vec_BM25 = bm25_transformer.fit_transform(query_vec)\n",
        "results = cosine_similarity(X_BM25,query_vec_BM25).reshape((-1,)) # Op -- (n_docs,1) -- Cosine Sim with each doc\n",
        "\n",
        "# Immprimimos a continuación los primeros 10 resultados ordenados por la similitud obtenida\n",
        "for i in results.argsort()[-10:][::-1]:\n",
        "    print(data.iloc[i,2],\"--\",results[i],\"--\",i)"
      ],
      "metadata": {
        "id": "gNTwbYEpxfbc",
        "colab": {
          "base_uri": "https://localhost:8080/"
        },
        "outputId": "7cbae5a5-0cf9-4ccb-b7dc-ecd7c7652b03"
      },
      "execution_count": null,
      "outputs": [
        {
          "output_type": "stream",
          "name": "stdout",
          "text": [
            "Es tiempo de recogimiento ?. Esta Semana Santa no se sale. #SemanaSanta #YoMeQuedoEnCasa #QuedateEnCasa -- 0.35849035607835267 -- 4863\n",
            "¡Feliz Semana Santa! Aunque sea en casa ?. #AyudaADomicilio #Mayores #QuéDateEnCasa #Santander #Cantabria -- 0.3106508238874545 -- 1967\n",
            "La procesión de carros de compra que estoy viendo desde mi balcón sirve como Semana Santa? #YoMeQuedoEnCasa -- 0.30936849351879286 -- 156\n",
            "Aunque sean unos momentos difíciles, debemos tomarlo con el mayor positivismo posible! La Semana Santa no es sólo salir a beber y a ver procesiones, es mucho más que eso. Disfrutemos de esta semana de una forma verdadera! Feliz Domingo de Ramos y Semana Santa!!! #YoMeQuedoEnCasa -- 0.2855317542921245 -- 804\n",
            "¡Feliz Semana Santa en casa!. Laboratorios Mahen, ¡siente la conexión con la naturaleza! ?. #SemanaSanta #YoMeQuedoEnCasa #LaboratoriosMahen -- 0.27568901403610196 -- 1327\n",
            "#QuedateEnCasa #YoMeQuedoEnCasa #COVIDー19 #JuntosNosCuidamos Disfrutando de la Semana Santa atraves de la plataforma @NefliCofrades ¡MUCHAS GRACIAS A TODO EL EQUIPO! ???? -- 0.2722937605943965 -- 813\n",
            "Buen dia amigos espero que estén todos bien!!! Feliz inicio de semana arriba ese ánimo todo lo mejor, que sea una Semana Santa de bendiciones!!! A cuidarse . #QuedateEnCasa -- 0.2646903052304026 -- 31\n",
            "Último día de teletrabajo hasta después de Semana Santa ???. Gracias equipo TeSera por vuestro compromiso y responsabilidad #todosjuntospodemos #yomequedoencasa ?????? -- 0.2634883303988429 -- 1353\n",
            "Como no podemos viajar por semana santa, nos hemos decantado por explorar el espacio ??‍?????‍? con SpaceCorp de @gmtgames #QuedateEnCasa #COVID19 #boardgames -- 0.25784572544949674 -- 1968\n",
            "A este paso no creo que las escuelas abran hasta después de Semana Santa y ya veremos si más allá. #coronavirus #COVID19 #quedatencasa #estadodealarma -- 0.2575311159391239 -- 4170\n"
          ]
        }
      ]
    },
    {
      "cell_type": "markdown",
      "metadata": {
        "id": "_5kye10CTYDn"
      },
      "source": [
        "## Apartado 1.6 Calculamos la similitud de varios textos con TF-IDF y BM25 (Resuelto)\n",
        "\n",
        "Vamos a calcular la similitud de el primer texto con respecto a los demás usando la similitud del coseno."
      ]
    },
    {
      "cell_type": "code",
      "execution_count": null,
      "metadata": {
        "id": "9sBC9HP8TYDn",
        "colab": {
          "base_uri": "https://localhost:8080/"
        },
        "outputId": "fa577c23-5c1b-4d23-ac02-b4cfd3163168"
      },
      "outputs": [
        {
          "output_type": "stream",
          "name": "stdout",
          "text": [
            "Similitud de textos con TFIDF: [0.82218193 0.16800859 0.03486424 0.15382285]\n",
            "Similitud de textos con BM25: [0.7465174  0.1372938  0.03771061 0.1419987 ]\n"
          ]
        }
      ],
      "source": [
        "# Definimos un conjunto de textos\n",
        "textos=['El procesamiento del lenguaje natural (PLN o NLP) es un campo dentro de la inteligencia artificial y la lingüística aplicada que estudia las interacciones mediante uso del lenguaje natural entre los seres humanos y las máquinas. \\\n",
        "Más concretamente se centra en el procesamiento de las comunicaciones humanas, dividiéndolas en partes, e identificando los elementos más relevantes del mensaje.\\\n",
        "Con la Comprensión y Generación de Lenguaje Natural, busca que las máquinas consigan entender, interpretar y manipular el lenguaje humano.'\n",
        ", 'El procesamiento del lenguaje natural (NLP, por sus siglas en inglés) es una rama de la inteligencia artificial que ayuda a las computadoras a entender, interpretar y manipular el lenguaje humano. \\\n",
        "NLP toma elementos prestados de muchas disciplinas, incluyendo la ciencia de la computación y la lingüística computacional, en su afán por cerrar la brecha entre la comunicación humana y el entendimiento de las computadoras.\"\"\"], \"\"\"El procesamiento del lenguaje natural (PLN o NLP) es un campo dentro de la inteligencia artificial y la lingüística aplicada que estudia las interacciones mediante uso del lenguaje natural entre los seres humanos y las máquinas. Más concretamente se centra en el procesamiento de las comunicaciones humanas, dividiéndolas en partes, e identificando los elementos más relevantes del mensaje. Con la Comprensión y Generación de Lenguaje Natural, busca que las máquinas consigan entender, interpretar y manipular el lenguaje humano.'\n",
        ", 'La lingüística computacional es un campo interdisciplinario que se ocupa del desarrollo de formalismos del funcionamiento del lenguaje natural, tales que puedan ser transformados en programas ejecutables para un ordenador. \\\n",
        "Dicho desarrollo se sitúa entre el modelado basado en reglas y el modelado estadístico del lenguaje natural desde una perspectiva computacional, y en él participan lingüistas e informáticos especializados en inteligencia artificial, psicólogos cognoscitivos y expertos en lógica, entre otros.'\n",
        ", 'El aprendizaje automático es un tipo de inteligencia artificial (AI) que proporciona a las computadoras la capacidad de aprender, sin ser programadas explícitamente. El aprendizaje automático se centra en el desarrollo de programas informáticos que pueden cambiar cuando se exponen a nuevos datos.'\n",
        ", 'El  aprendizaje profundo es un tema que cada vez adquiere mayor relevancia en el campo de la inteligencia artificial (IA). Siendo una subcategoría del aprendizaje automático, el aprendizaje profundo trata del uso de redes neuronales para mejorar cosas tales como el reconocimiento de voz, la visión por ordenador y el procesamiento del lenguaje natural. \\\n",
        "Rápidamente se está convirtiendo en uno de los campos más solicitados en informática. \\\n",
        "En los últimos años, el aprendizaje profundo ha ayudado a lograr avances en áreas tan diversas como la percepción de objetos, el procesamiento del lenguaje natural y el reconocimiento de voz (todas ellas áreas especialmente complejas para los investigadores en IA).'\n",
        "]\n",
        "\n",
        "# Calculamos la similitud usando TFIDF\n",
        "count_vect = CountVectorizer(stop_words=stopwords_sp)\n",
        "X_counts = count_vect.fit_transform(textos)\n",
        "\n",
        "# Calculamos ahora el TFIDF\n",
        "tfidf_transformer = TfidfTransformer()\n",
        "X_TFIDF = tfidf_transformer.fit_transform(X_counts)\n",
        "\n",
        "# Calculamos también el BM25\n",
        "BM25_transformer = BM25Transformer(k=1.2,b=0.75)\n",
        "X_BM25 = BM25_transformer.fit_transform(X_counts)\n",
        "\n",
        "# Calculamos la similitud de los documentos con el coseno para TFIDF\n",
        "results = cosine_similarity(X_TFIDF[1::],X_TFIDF[0]).reshape((-1,)) # Op -- (n_docs,1) -- Cosine Sim with each doc\n",
        "print(\"Similitud de textos con TFIDF:\", results)\n",
        "\n",
        "# Calculamos la similitud de los textos con el coseno para BM25\n",
        "results = cosine_similarity(X_BM25[1::],X_TFIDF[0]).reshape((-1,)) # Op -- (n_docs,1) -- Cosine Sim with each doc\n",
        "print(\"Similitud de textos con BM25:\",results)\n",
        "\n"
      ]
    },
    {
      "cell_type": "markdown",
      "source": [
        "##1.7 Cambiando a character n-grams\n",
        "Podemos usar en vez de palabras (words), character n-grams para crear el vocabulario. Lo vemos con el primer ejemplo"
      ],
      "metadata": {
        "id": "oxdP7JACcBqH"
      }
    },
    {
      "cell_type": "code",
      "execution_count": null,
      "metadata": {
        "id": "KtOJF8z9TYDn",
        "colab": {
          "base_uri": "https://localhost:8080/"
        },
        "outputId": "fd187e21-ac4a-41e9-c682-58471ddbe301"
      },
      "outputs": [
        {
          "output_type": "stream",
          "name": "stdout",
          "text": [
            "(3, 185)\n",
            "La asignatura de TGINE es una asignatura del máster de BigData que se estudia en la Universidad de Murcia.\n",
            "En la asignatura de máster vemos una introducción al procesamiento del lenguaje natural y tecnologías de procesamiento\n",
            "de información no estructurada.\n",
            "\n",
            "  (0, 12)\t3\n",
            "  (0, 100)\t3\n",
            "  (0, 1)\t3\n",
            "  (0, 42)\t3\n",
            "  (0, 152)\t3\n",
            "  (0, 93)\t3\n",
            "  (0, 83)\t3\n",
            "  (0, 112)\t4\n",
            "  (0, 45)\t4\n",
            "  (0, 167)\t5\n",
            "  (0, 175)\t5\n",
            "  (0, 135)\t3\n",
            "  (0, 4)\t8\n",
            "  (0, 59)\t6\n",
            "  (0, 25)\t1\n",
            "  (0, 162)\t1\n",
            "  (0, 82)\t1\n",
            "  (0, 94)\t1\n",
            "  (0, 114)\t1\n",
            "  (0, 7)\t3\n",
            "  (0, 72)\t1\n",
            "  (0, 26)\t3\n",
            "  (0, 173)\t2\n",
            "  (0, 111)\t2\n",
            "  (0, 60)\t2\n",
            "  :\t:\n",
            "  (0, 52)\t1\n",
            "  (0, 120)\t1\n",
            "  (0, 129)\t1\n",
            "  (0, 104)\t1\n",
            "  (0, 127)\t1\n",
            "  (0, 86)\t1\n",
            "  (0, 183)\t1\n",
            "  (0, 41)\t1\n",
            "  (0, 95)\t1\n",
            "  (0, 115)\t1\n",
            "  (0, 78)\t1\n",
            "  (0, 131)\t1\n",
            "  (0, 142)\t1\n",
            "  (0, 105)\t1\n",
            "  (0, 31)\t1\n",
            "  (0, 19)\t1\n",
            "  (0, 119)\t1\n",
            "  (0, 156)\t1\n",
            "  (0, 165)\t1\n",
            "  (0, 147)\t1\n",
            "  (0, 170)\t1\n",
            "  (0, 54)\t1\n",
            "  (0, 136)\t1\n",
            "  (0, 33)\t1\n",
            "  (0, 56)\t1\n",
            "No me gusta el chocolate ni las fresas\n",
            "  (0, 12)\t1\n",
            "  (0, 64)\t1\n",
            "  (0, 158)\t1\n",
            "  (0, 73)\t1\n",
            "  (0, 41)\t2\n",
            "  (0, 19)\t1\n",
            "  (0, 119)\t1\n",
            "  (0, 14)\t1\n",
            "  (0, 106)\t1\n",
            "  (0, 10)\t1\n",
            "  (0, 85)\t1\n",
            "  (0, 177)\t1\n",
            "  (0, 154)\t1\n",
            "  (0, 5)\t1\n",
            "  (0, 3)\t1\n",
            "  (0, 49)\t1\n",
            "  (0, 87)\t1\n",
            "  (0, 124)\t1\n",
            "  (0, 53)\t1\n",
            "  (0, 128)\t1\n",
            "  (0, 102)\t1\n",
            "  (0, 44)\t1\n",
            "  (0, 159)\t1\n",
            "  (0, 18)\t1\n",
            "  (0, 117)\t1\n",
            "  (0, 101)\t1\n",
            "  (0, 8)\t1\n",
            "  (0, 79)\t1\n",
            "  (0, 141)\t1\n",
            "  (0, 149)\t1\n",
            "El profesor de la asignatura TGINE es Rafael Valencia García.\n",
            "\n",
            "  (0, 12)\t1\n",
            "  (0, 100)\t1\n",
            "  (0, 1)\t1\n",
            "  (0, 42)\t1\n",
            "  (0, 152)\t1\n",
            "  (0, 93)\t1\n",
            "  (0, 83)\t1\n",
            "  (0, 112)\t1\n",
            "  (0, 45)\t1\n",
            "  (0, 167)\t1\n",
            "  (0, 175)\t1\n",
            "  (0, 135)\t1\n",
            "  (0, 4)\t1\n",
            "  (0, 59)\t1\n",
            "  (0, 25)\t1\n",
            "  (0, 162)\t1\n",
            "  (0, 82)\t1\n",
            "  (0, 94)\t1\n",
            "  (0, 114)\t1\n",
            "  (0, 7)\t1\n",
            "  (0, 72)\t1\n",
            "  (0, 64)\t2\n",
            "  (0, 88)\t1\n",
            "  (0, 50)\t1\n",
            "  (0, 30)\t1\n",
            "  :\t:\n",
            "  (0, 133)\t1\n",
            "  (0, 103)\t1\n",
            "  (0, 5)\t1\n",
            "  (0, 145)\t1\n",
            "  (0, 126)\t1\n",
            "  (0, 77)\t1\n",
            "  (0, 74)\t1\n",
            "  (0, 153)\t1\n",
            "  (0, 130)\t1\n",
            "  (0, 22)\t1\n",
            "  (0, 137)\t1\n",
            "  (0, 35)\t1\n",
            "  (0, 76)\t1\n",
            "  (0, 34)\t1\n",
            "  (0, 27)\t1\n",
            "  (0, 178)\t1\n",
            "  (0, 38)\t1\n",
            "  (0, 67)\t1\n",
            "  (0, 113)\t1\n",
            "  (0, 9)\t1\n",
            "  (0, 80)\t1\n",
            "  (0, 40)\t1\n",
            "  (0, 140)\t1\n",
            "  (0, 55)\t1\n",
            "  (0, 182)\t1\n",
            "Mostramos los items del diccionario\n",
            "dict_items([(' la', 12), ('la ', 100), (' as', 1), ('asi', 42), ('sig', 152), ('ign', 93), ('gna', 83), ('nat', 112), ('atu', 45), ('tur', 167), ('ura', 175), ('ra ', 135), (' de', 4), ('de ', 59), (' tg', 25), ('tgi', 162), ('gin', 82), ('ine', 94), ('ne ', 114), (' es', 7), ('es ', 72), (' un', 26), ('una', 173), ('na ', 111), ('del', 60), ('el ', 64), (' má', 16), ('más', 110), ('ást', 181), ('ste', 155), ('ter', 161), ('er ', 70), (' bi', 2), ('big', 46), ('igd', 92), ('gda', 81), ('dat', 58), ('ata', 43), ('ta ', 158), (' qu', 21), ('que', 134), ('ue ', 172), (' se', 23), ('se ', 150), ('est', 75), ('stu', 157), ('tud', 166), ('udi', 171), ('dia', 61), ('ia ', 88), (' en', 6), ('en ', 66), ('uni', 174), ('niv', 118), ('ive', 97), ('ver', 180), ('ers', 71), ('rsi', 146), ('sid', 151), ('ida', 90), ('dad', 57), ('ad ', 32), (' mu', 15), ('mur', 109), ('urc', 176), ('rci', 139), ('cia', 50), ('ia.', 89), ('a. ', 30), (' ve', 28), ('vem', 179), ('emo', 65), ('mos', 108), ('os ', 132), (' in', 11), ('int', 96), ('ntr', 122), ('tro', 164), ('rod', 144), ('odu', 125), ('duc', 62), ('ucc', 169), ('cci', 47), ('ció', 51), ('ión', 98), ('ón ', 184), (' al', 0), ('al ', 37), (' pr', 20), ('pro', 133), ('roc', 143), ('oce', 123), ('ces', 48), ('esa', 73), ('sam', 148), ('ami', 39), ('mie', 107), ('ien', 91), ('ent', 69), ('nto', 121), ('to ', 163), (' le', 13), ('len', 103), ('eng', 68), ('ngu', 116), ('gua', 84), ('uaj', 168), ('aje', 36), ('je ', 99), (' na', 17), ('ral', 138), (' y ', 29), (' te', 24), ('tec', 160), ('ecn', 63), ('cno', 52), ('nol', 120), ('olo', 129), ('log', 104), ('ogí', 127), ('gía', 86), ('ías', 183), ('as ', 41), ('inf', 95), ('nfo', 115), ('for', 78), ('orm', 131), ('rma', 142), ('mac', 105), ('aci', 31), (' no', 19), ('no ', 119), ('str', 156), ('tru', 165), ('ruc', 147), ('uct', 170), ('ctu', 54), ('rad', 136), ('ada', 33), ('da.', 56), (' me', 14), ('me ', 106), (' gu', 10), ('gus', 85), ('ust', 177), ('sta', 154), (' el', 5), (' ch', 3), ('cho', 49), ('hoc', 87), ('oco', 124), ('col', 53), ('ola', 128), ('lat', 102), ('ate', 44), ('te ', 159), (' ni', 18), ('ni ', 117), ('las', 101), (' fr', 8), ('fre', 79), ('res', 141), ('sas', 149), ('rof', 145), ('ofe', 126), ('fes', 77), ('eso', 74), ('sor', 153), ('or ', 130), (' ra', 22), ('raf', 137), ('afa', 35), ('fae', 76), ('ael', 34), (' va', 27), ('val', 178), ('ale', 38), ('enc', 67), ('nci', 113), (' ga', 9), ('gar', 80), ('arc', 40), ('rcí', 140), ('cía', 55), ('ía.', 182)])\n",
            "Tamaño vocabulario: 185\n",
            "Código de la palabra TGI es: 162\n"
          ]
        }
      ],
      "source": [
        "texto = \"\"\"La asignatura de TGINE es una asignatura del máster de BigData que se estudia en la Universidad de Murcia.\n",
        "En la asignatura de máster vemos una introducción al procesamiento del lenguaje natural y tecnologías de procesamiento\n",
        "de información no estructurada.\n",
        "\"\"\"\n",
        "texto2 = \"No me gusta el chocolate ni las fresas\"\n",
        "\n",
        "texto3 = \"\"\"El profesor de la asignatura TGINE es Rafael Valencia García.\n",
        "\"\"\"\n",
        "# Calculamos la matriz de TF usando la función fit_transform\n",
        "############################################################\n",
        "count_vect = CountVectorizer(analyzer=\"char_wb\", ngram_range=(3,3))\n",
        "X_counts = count_vect.fit_transform([texto,texto2,texto3])\n",
        "\n",
        "\n",
        "# Mostramos entonces el número de textos y el número de tokens únicos\n",
        "print(X_counts.shape)\n",
        "\n",
        "# X_counts es una matriz dispersa con el TF de cada token en cada texto\n",
        "# Imprimimos los textos y su correspondientes TF\n",
        "print(texto)\n",
        "print(X_counts[0])\n",
        "print(texto2)\n",
        "print(X_counts[1])\n",
        "print(texto3)\n",
        "print(X_counts[2])\n",
        "\n",
        "#Los tokens de todo el vocabulario se representan con ids que hacen referencia a cada token.\n",
        "print(\"Mostramos los items del diccionario\")\n",
        "print(count_vect.vocabulary_.items())\n",
        "print(\"Tamaño vocabulario:\", str(len(count_vect.vocabulary_.items())))\n",
        "\n",
        "#Mostramos el código de una palabra determinada\n",
        "#hay que tener en cuenta que todos los tokens se guardan en minúsculas\n",
        "palabra_a_buscar=\"TGI\"\n",
        "print(\"Código de la palabra\", palabra_a_buscar, \"es:\", count_vect.vocabulary_.get(palabra_a_buscar.lower()))"
      ]
    }
  ],
  "metadata": {
    "colab": {
      "provenance": []
    },
    "kernelspec": {
      "display_name": "Python 3 (ipykernel)",
      "language": "python",
      "name": "python3"
    },
    "language_info": {
      "codemirror_mode": {
        "name": "ipython",
        "version": 3
      },
      "file_extension": ".py",
      "mimetype": "text/x-python",
      "name": "python",
      "nbconvert_exporter": "python",
      "pygments_lexer": "ipython3",
      "version": "3.10.6"
    }
  },
  "nbformat": 4,
  "nbformat_minor": 0
}