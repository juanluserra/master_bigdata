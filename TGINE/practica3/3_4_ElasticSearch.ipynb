{
  "cells": [
    {
      "cell_type": "markdown",
      "id": "m4_UH9N-FL2y",
      "metadata": {
        "id": "m4_UH9N-FL2y"
      },
      "source": [
        "# Sesión 3.4 Elasticsearch\n",
        "Este es un simple ejemplo de uso de Elasticsearch como buscador usando la API de Python de Elasticsearch.\n",
        "\n",
        "Elasticsearch es un motor de búsqueda y análisis de datos basado en Lucene, diseñado para ofrecer un almacenamiento y búsqueda escalables en tiempo real. Es parte de la pila ELK (Elasticsearch, Logstash y Kibana) y se utiliza ampliamente para aplicaciones que requieren búsquedas de texto completo, análisis de datos en tiempo real y análisis de registros.\n",
        "\n",
        "Se ejecuta como un servicio independiente y proporciona una API REST que permite a los desarrolladores interactuar con él mediante solicitudes HTTP.\n",
        "\n",
        "Lo más sencillo para instalar es usar un contenedor Docker sencillo como el que se ha proporcionado en esta práctica mediante el fichero \"docker-compose.yml\"\n",
        "\n",
        "Una vez ejecutado el servicio, ya podemos acceder a él. En esta práctica se hará uso del servicio de un servidor del profesor ubicado en \"valencia2.inf.um.es\"\n",
        "\n",
        "Para utilizar Elasticsearch desde Python, lo primero que hacemos es instalar las librerías de Elasticsearch"
      ]
    },
    {
      "cell_type": "code",
      "execution_count": 11,
      "id": "wVpzSiBgTbQm",
      "metadata": {
        "id": "wVpzSiBgTbQm"
      },
      "outputs": [
        {
          "name": "stdout",
          "output_type": "stream",
          "text": [
            "Requirement already satisfied: elasticsearch in c:\\users\\x542ua\\appdata\\local\\programs\\python\\python313\\lib\\site-packages (8.15.1)\n",
            "Requirement already satisfied: elastic-transport<9,>=8.13 in c:\\users\\x542ua\\appdata\\local\\programs\\python\\python313\\lib\\site-packages (from elasticsearch) (8.15.1)\n",
            "Requirement already satisfied: urllib3<3,>=1.26.2 in c:\\users\\x542ua\\appdata\\local\\programs\\python\\python313\\lib\\site-packages (from elastic-transport<9,>=8.13->elasticsearch) (2.2.3)\n",
            "Requirement already satisfied: certifi in c:\\users\\x542ua\\appdata\\local\\programs\\python\\python313\\lib\\site-packages (from elastic-transport<9,>=8.13->elasticsearch) (2024.8.30)\n"
          ]
        }
      ],
      "source": [
        "!py -m pip install elasticsearch"
      ]
    },
    {
      "cell_type": "markdown",
      "id": "h_sTIStmOPGf",
      "metadata": {
        "id": "h_sTIStmOPGf"
      },
      "source": [
        "##Apartado 1.0 Resuelto\n",
        "\n",
        "Con este código obtenemos información del clúster de Elasticsearch"
      ]
    },
    {
      "cell_type": "code",
      "execution_count": 12,
      "id": "bc8c1dfc-a722-45b0-bd5b-7db9bc16a11f",
      "metadata": {
        "id": "bc8c1dfc-a722-45b0-bd5b-7db9bc16a11f"
      },
      "outputs": [
        {
          "name": "stdout",
          "output_type": "stream",
          "text": [
            "Información del clúster:\n",
            "{'cluster_name': 'docker-cluster', 'status': 'yellow', 'timed_out': False, 'number_of_nodes': 1, 'number_of_data_nodes': 1, 'active_primary_shards': 38, 'active_shards': 38, 'relocating_shards': 0, 'initializing_shards': 0, 'unassigned_shards': 12, 'delayed_unassigned_shards': 0, 'number_of_pending_tasks': 0, 'number_of_in_flight_fetch': 0, 'task_max_waiting_in_queue_millis': 0, 'active_shards_percent_as_number': 76.0}\n"
          ]
        }
      ],
      "source": [
        "from elasticsearch import Elasticsearch\n",
        "\n",
        "# Conexión a Elasticsearch\n",
        "client = Elasticsearch(['http://valencia2.inf.um.es:9200'])\n",
        "\n",
        "def obtener_informacion_cluster():\n",
        "    try:\n",
        "        # Obtener información sobre el clúster de Elasticsearch\n",
        "        info_cluster = client.cluster.health()\n",
        "        print(\"Información del clúster:\")\n",
        "        print(info_cluster)\n",
        "    except Exception as e:\n",
        "        print(\"Error al obtener información del clúster:\", e)\n",
        "\n",
        "# Llamar a la función para obtener información del clúster\n",
        "obtener_informacion_cluster()"
      ]
    },
    {
      "cell_type": "markdown",
      "id": "PvTWhYDkFcuP",
      "metadata": {
        "id": "PvTWhYDkFcuP"
      },
      "source": [
        "## Apartado 1.1 Resuelto\n",
        "\n",
        "Se define un esquema de texto formado por varios campos para representar los documentos. Podemos decir si queremos que se almacene o no.\n",
        "\n",
        "\n",
        "Después definimos la carpeta donde se va a guardar y crear el índice y vamos añadiendo documentos al índice."
      ]
    },
    {
      "cell_type": "code",
      "execution_count": 13,
      "id": "BZ5tvXqJF3r3",
      "metadata": {
        "id": "BZ5tvXqJF3r3"
      },
      "outputs": [
        {
          "name": "stdout",
          "output_type": "stream",
          "text": [
            "Documentos indexados correctamente.\n"
          ]
        }
      ],
      "source": [
        "from elasticsearch import Elasticsearch, helpers\n",
        "import json\n",
        "\n",
        "# Configuración de Elasticsearch (agrega verify_certs=False si no es necesario verificar certificados SSL)\n",
        "es = Elasticsearch(\n",
        "    [{'host': 'valencia2.inf.um.es', 'port': 9200, 'scheme': 'http'}],\n",
        "    verify_certs=False\n",
        ")\n",
        "\n",
        "# Definición del índice \"documents_index\" y el mapeo de los campos\n",
        "index_name = 'documents_index'\n",
        "\n",
        "# Comprobamos si el índice ya existe y, si es así, lo eliminamos para crearlo de nuevo\n",
        "if es.indices.exists(index=index_name):\n",
        "    es.indices.delete(index=index_name)\n",
        "\n",
        "# Creamos el índice con la configuración del mapeo\n",
        "es.indices.create(\n",
        "    index=index_name,\n",
        "    body={\n",
        "        'mappings': {\n",
        "            'properties': {\n",
        "                'id': {'type': 'keyword'},\n",
        "                'path': {'type': 'keyword'},\n",
        "                'title': {'type': 'text'},\n",
        "                'text': {'type': 'text'}\n",
        "            }\n",
        "        }\n",
        "    }\n",
        ")\n",
        "\n",
        "# Definimos los documentos que queremos añadir al índice\n",
        "documents = [\n",
        "    {\n",
        "        '_index': index_name,\n",
        "        '_id': '1',\n",
        "        '_source': {\n",
        "            'id': '1',\n",
        "            'path': '1.txt',\n",
        "            'title': 'Entrega de los primeros dos ejercicios evaluables',\n",
        "            'text': 'En el aulavirtual están los dos primeros ejercicios evaluables en la sección tareas'\n",
        "        }\n",
        "    },\n",
        "    {\n",
        "        '_index': index_name,\n",
        "        '_id': '2',\n",
        "        '_source': {\n",
        "            'id': '2',\n",
        "            'path': '2.txt',\n",
        "            'title': 'Ya podéis realizar la primera práctica evaluable hasta 3 puntos',\n",
        "            'text': 'Con la clase práctica hoy de Scrapy ya podéis empezar a realizar la primera práctica evaluable hasta 3 puntos de la asignatura. Se entregarán a través de tareas'\n",
        "        }\n",
        "    }\n",
        "]\n",
        "\n",
        "# Insertamos los documentos en Elasticsearch\n",
        "helpers.bulk(es, documents)\n",
        "\n",
        "print(\"Documentos indexados correctamente.\")\n",
        "\n"
      ]
    },
    {
      "cell_type": "markdown",
      "id": "_Spu6N6MMvRZ",
      "metadata": {
        "id": "_Spu6N6MMvRZ"
      },
      "source": [
        "## Apartado 1.2\n",
        "\n",
        "En el siguiente código se puede hacer una búsqueda sencilla con Elasticsearch.\n",
        "\n",
        "La documentación de esta librería se encuentra en: https://www.elastic.co/guide/en/elasticsearch/reference/current/search-your-data.html"
      ]
    },
    {
      "cell_type": "code",
      "execution_count": 15,
      "id": "lCrDZ3JbMufa",
      "metadata": {
        "id": "lCrDZ3JbMufa"
      },
      "outputs": [
        {
          "name": "stdout",
          "output_type": "stream",
          "text": [
            "Resultado:\n",
            "Score: 0.21441208\n",
            "Texto resaltado: En el aulavirtual están los dos primeros ejercicios evaluables en la sección <em>tareas</em>\n",
            "Resultado:\n",
            "Score: 0.15858637\n",
            "Texto resaltado: Se entregarán a través de <em>tareas</em>\n"
          ]
        }
      ],
      "source": [
        "from elasticsearch import Elasticsearch\n",
        "\n",
        "# Configuración de Elasticsearch (asegúrate de que esté en ejecución y accesible)\n",
        "es = Elasticsearch(\n",
        "    [{'host': 'valencia2.inf.um.es', 'port': 9200, 'scheme': 'http'}],\n",
        "    verify_certs=False\n",
        ")\n",
        "\n",
        "# Texto que se quiere buscar\n",
        "texto_a_buscar = 'tareas'\n",
        "\n",
        "# Definimos el índice donde realizaremos la búsqueda\n",
        "index_name = 'documents_index'\n",
        "\n",
        "# Construimos la consulta de búsqueda para buscar en \"title\" o \"text\"\n",
        "query = {\n",
        "    \"query\": {\n",
        "        \"multi_match\": {\n",
        "            \"query\": texto_a_buscar,\n",
        "            \"fields\": [\"title\", \"text\"]\n",
        "        }\n",
        "    },\n",
        "    \"highlight\": {\n",
        "        \"fields\": {\n",
        "            \"title\": {},\n",
        "            \"text\": {}\n",
        "        }\n",
        "    }\n",
        "}\n",
        "\n",
        "# Ejecutamos la búsqueda en Elasticsearch\n",
        "response = es.search(index=index_name, body=query)\n",
        "\n",
        "# Procesamos los resultados de la búsqueda\n",
        "for hit in response['hits']['hits']:\n",
        "    print(\"Resultado:\")\n",
        "    print(\"Score:\", hit['_score'])\n",
        "\n",
        "    # Comprobamos si hay resaltado en \"text\" o en \"title\"\n",
        "    highlighted_text = None\n",
        "    if 'highlight' in hit:\n",
        "        if 'text' in hit['highlight']:\n",
        "            highlighted_text = hit['highlight']['text'][0]\n",
        "        elif 'title' in hit['highlight']:\n",
        "            highlighted_text = hit['highlight']['title'][0]\n",
        "\n",
        "    # Mostramos el texto resaltado o un mensaje indicando que no hay resaltado\n",
        "    if highlighted_text:\n",
        "        print(\"Texto resaltado:\", highlighted_text)\n",
        "    else:\n",
        "        print(\"Sin resaltado\")\n"
      ]
    },
    {
      "cell_type": "markdown",
      "id": "bASIdFoORk3S",
      "metadata": {
        "id": "bASIdFoORk3S"
      },
      "source": [
        "## Apartado 1.3\n",
        "\n",
        "El índice se podría exportar en un fichero JSON usando un trozo de código parecido al siguiente."
      ]
    },
    {
      "cell_type": "code",
      "execution_count": 16,
      "id": "86c22f8a-097a-450f-8ab1-a5cf09f37c45",
      "metadata": {
        "id": "86c22f8a-097a-450f-8ab1-a5cf09f37c45"
      },
      "outputs": [
        {
          "name": "stdout",
          "output_type": "stream",
          "text": [
            "Exportación completada.\n"
          ]
        }
      ],
      "source": [
        "from elasticsearch import Elasticsearch, helpers\n",
        "import json\n",
        "\n",
        "# Configuración de Elasticsearch\n",
        "es = Elasticsearch(\n",
        "    [{'host': 'valencia2.inf.um.es', 'port': 9200, 'scheme': 'http'}],\n",
        "    verify_certs=False\n",
        ")\n",
        "\n",
        "# Nombre del índice a exportar\n",
        "index_name = 'documents_index'\n",
        "\n",
        "# Abrimos un archivo para guardar los datos\n",
        "with open('indice_exportado.json', 'w') as file:\n",
        "    # Usamos el helper scan para obtener todos los documentos del índice\n",
        "    for doc in helpers.scan(es, index=index_name):\n",
        "        # Escribimos cada documento en el archivo en formato JSON\n",
        "        file.write(json.dumps(doc) + '\\n')\n",
        "\n",
        "print(\"Exportación completada.\")\n"
      ]
    },
    {
      "cell_type": "markdown",
      "id": "FJVFCouuVNMO",
      "metadata": {
        "id": "FJVFCouuVNMO"
      },
      "source": [
        "## Apartado 1.4\n",
        "\n",
        "Con el siguiente código podemos importar de nuevo el índice."
      ]
    },
    {
      "cell_type": "code",
      "execution_count": 17,
      "id": "onBYTy2gR2hV",
      "metadata": {
        "id": "onBYTy2gR2hV"
      },
      "outputs": [
        {
          "name": "stdout",
          "output_type": "stream",
          "text": [
            "Importación completada.\n"
          ]
        }
      ],
      "source": [
        "from elasticsearch import Elasticsearch, helpers\n",
        "import json\n",
        "\n",
        "# Configuración de Elasticsearch\n",
        "es = Elasticsearch(\n",
        "    [{'host': 'valencia2.inf.um.es', 'port': 9200, 'scheme': 'http'}],\n",
        "    verify_certs=False\n",
        ")\n",
        "# Nombre del nuevo índice a crear\n",
        "new_index_name = 'documents_index'\n",
        "\n",
        "# Comprobamos si el índice ya existe y, si es así, lo eliminamos para crearlo de nuevo\n",
        "if es.indices.exists(index=index_name):\n",
        "    es.indices.delete(index=index_name)\n",
        "\n",
        "# Creamos el nuevo índice (opcionalmente, se puede definir un mapping)\n",
        "es.indices.create(index=new_index_name)\n",
        "\n",
        "# Abrimos el archivo que contiene los datos exportados\n",
        "with open('indice_exportado.json', 'r') as file:\n",
        "    # Leemos cada línea del archivo y cargamos los documentos en Elasticsearch\n",
        "    actions = [\n",
        "        {\n",
        "            \"_index\": new_index_name,\n",
        "            \"_id\": json.loads(line)['_id'],  # Utilizamos el mismo ID\n",
        "            \"_source\": json.loads(line)['_source']\n",
        "        }\n",
        "        for line in file\n",
        "    ]\n",
        "\n",
        "    # Usamos el helper bulk para cargar los documentos en Elasticsearch\n",
        "    helpers.bulk(es, actions)\n",
        "\n",
        "print(\"Importación completada.\")\n"
      ]
    },
    {
      "cell_type": "markdown",
      "id": "Clk9fAcP2lSh",
      "metadata": {
        "id": "Clk9fAcP2lSh"
      },
      "source": [
        "## Apartado 1.5\n",
        "\n",
        "Hacemos la misma búsqueda que el apartado 1.3 con este índice cargado."
      ]
    },
    {
      "cell_type": "code",
      "execution_count": 18,
      "id": "GCB7IUsb2kJn",
      "metadata": {
        "id": "GCB7IUsb2kJn"
      },
      "outputs": [
        {
          "name": "stdout",
          "output_type": "stream",
          "text": [
            "Resultado:\n",
            "Score: 0.21441208\n",
            "Texto resaltado: En el aulavirtual están los dos primeros ejercicios evaluables en la sección <em>tareas</em>\n",
            "Resultado:\n",
            "Score: 0.15858637\n",
            "Texto resaltado: Se entregarán a través de <em>tareas</em>\n"
          ]
        }
      ],
      "source": [
        "from elasticsearch import Elasticsearch\n",
        "\n",
        "# Configuración de Elasticsearch (asegúrate de que esté en ejecución y accesible)\n",
        "es = Elasticsearch(\n",
        "    [{'host': 'valencia2.inf.um.es', 'port': 9200, 'scheme': 'http'}],\n",
        "    verify_certs=False\n",
        ")\n",
        "\n",
        "# Texto que se quiere buscar\n",
        "texto_a_buscar = 'tareas'\n",
        "\n",
        "# Definimos el índice donde realizaremos la búsqueda\n",
        "index_name = 'documents_index'\n",
        "\n",
        "# Construimos la consulta de búsqueda para buscar en \"title\" o \"text\"\n",
        "query = {\n",
        "    \"query\": {\n",
        "        \"multi_match\": {\n",
        "            \"query\": texto_a_buscar,\n",
        "            \"fields\": [\"title\", \"text\"]\n",
        "        }\n",
        "    },\n",
        "    \"highlight\": {\n",
        "        \"fields\": {\n",
        "            \"title\": {},\n",
        "            \"text\": {}\n",
        "        }\n",
        "    }\n",
        "}\n",
        "\n",
        "# Ejecutamos la búsqueda en Elasticsearch\n",
        "response = es.search(index=index_name, body=query)\n",
        "\n",
        "# Procesamos los resultados de la búsqueda\n",
        "for hit in response['hits']['hits']:\n",
        "    print(\"Resultado:\")\n",
        "    print(\"Score:\", hit['_score'])\n",
        "\n",
        "    # Comprobamos si hay resaltado en \"text\" o en \"title\"\n",
        "    highlighted_text = None\n",
        "    if 'highlight' in hit:\n",
        "        if 'text' in hit['highlight']:\n",
        "            highlighted_text = hit['highlight']['text'][0]\n",
        "        elif 'title' in hit['highlight']:\n",
        "            highlighted_text = hit['highlight']['title'][0]\n",
        "\n",
        "    # Mostramos el texto resaltado o un mensaje indicando que no hay resaltado\n",
        "    if highlighted_text:\n",
        "        print(\"Texto resaltado:\", highlighted_text)\n",
        "    else:\n",
        "        print(\"Sin resaltado\")"
      ]
    }
  ],
  "metadata": {
    "colab": {
      "provenance": []
    },
    "kernelspec": {
      "display_name": "Python 3",
      "language": "python",
      "name": "python3"
    },
    "language_info": {
      "codemirror_mode": {
        "name": "ipython",
        "version": 3
      },
      "file_extension": ".py",
      "mimetype": "text/x-python",
      "name": "python",
      "nbconvert_exporter": "python",
      "pygments_lexer": "ipython3",
      "version": "3.13.0"
    }
  },
  "nbformat": 4,
  "nbformat_minor": 5
}
