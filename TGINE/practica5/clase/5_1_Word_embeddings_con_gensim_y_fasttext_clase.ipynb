{
  "cells": [
    {
      "cell_type": "markdown",
      "metadata": {
        "id": "CrajzBdoGAki"
      },
      "source": [
        "# Sesión 5 - Word embeddings (Wor2vec, Glove, Fasttext) y Doc2Vec con GENSIM\n",
        "En esta sesión se verá cómo utilizar la librería Gensim para el uso de word embeddings.\n",
        "\n",
        "Los word embeddings son vectores de dimensión n que tratan de capturar el significado de la palabra y de su contexto en ese vector.\n",
        "Hay distintos modelos de word embeddings preentrenados con grandes corpus que se pueden descargar y utilizar para distintos idiomas.\n",
        "\n",
        "Primero instalaremos la librería gensim."
      ]
    },
    {
      "cell_type": "code",
      "execution_count": null,
      "metadata": {
        "id": "aWLFpiTGDgWO",
        "colab": {
          "base_uri": "https://localhost:8080/"
        },
        "outputId": "488c99f0-c623-4882-847a-2defa6a9f0bc"
      },
      "outputs": [
        {
          "output_type": "stream",
          "name": "stdout",
          "text": [
            "Requirement already satisfied: gensim in /usr/local/lib/python3.10/dist-packages (4.3.3)\n",
            "Requirement already satisfied: numpy<2.0,>=1.18.5 in /usr/local/lib/python3.10/dist-packages (from gensim) (1.26.4)\n",
            "Requirement already satisfied: scipy<1.14.0,>=1.7.0 in /usr/local/lib/python3.10/dist-packages (from gensim) (1.13.1)\n",
            "Requirement already satisfied: smart-open>=1.8.1 in /usr/local/lib/python3.10/dist-packages (from gensim) (7.0.5)\n",
            "Requirement already satisfied: wrapt in /usr/local/lib/python3.10/dist-packages (from smart-open>=1.8.1->gensim) (1.16.0)\n"
          ]
        }
      ],
      "source": [
        "# Instalamos gensim\n",
        "!pip3 install -U gensim"
      ]
    },
    {
      "cell_type": "markdown",
      "metadata": {
        "id": "CwpkKOFzhlpV"
      },
      "source": [
        "## Apartado 1.1 Descargamos un modelo de word embeddings preentrenado (Resuelto)\n",
        "En la web https://github.com/dccuchile/spanish-word-embeddings existen distintos modelos de Word-embeddings preentrenados para el idioma español para poder utilizarse con la librería GENSIM.\n",
        "\n",
        "Se pueden descargar modelos preentrenados para otros idiomas y también se pueden generar modelos basados en Word2vec si se dispone de un corpus de entrenamiento.\n",
        "\n",
        "Descargamos distintos modelos y los descomprimimos."
      ]
    },
    {
      "cell_type": "code",
      "execution_count": null,
      "metadata": {
        "id": "nRnx9h7whlG4",
        "colab": {
          "base_uri": "https://localhost:8080/"
        },
        "outputId": "0072f8a5-0e17-47ba-8686-5d68c817a586"
      },
      "outputs": [
        {
          "output_type": "stream",
          "name": "stdout",
          "text": [
            "--2024-10-31 17:03:12--  https://valencia.inf.um.es/valencia-tgine/glove-sbwc.i25.vec.gz\n",
            "Resolving valencia.inf.um.es (valencia.inf.um.es)... 155.54.204.133\n",
            "Connecting to valencia.inf.um.es (valencia.inf.um.es)|155.54.204.133|:443... connected.\n",
            "HTTP request sent, awaiting response... 200 OK\n",
            "Length: 949886421 (906M) [application/x-gzip]\n",
            "Saving to: ‘glove-sbwc.i25.vec.gz’\n",
            "\n",
            "glove-sbwc.i25.vec. 100%[===================>] 905.88M  20.4MB/s    in 46s     \n",
            "\n",
            "2024-10-31 17:03:58 (19.8 MB/s) - ‘glove-sbwc.i25.vec.gz’ saved [949886421/949886421]\n",
            "\n",
            "--2024-10-31 17:04:29--  https://valencia.inf.um.es/valencia-tgine/embeddings-s-model.vec.gz\n",
            "Resolving valencia.inf.um.es (valencia.inf.um.es)... 155.54.204.133\n",
            "Connecting to valencia.inf.um.es (valencia.inf.um.es)|155.54.204.133|:443... connected.\n",
            "HTTP request sent, awaiting response... 200 OK\n",
            "Length: 142060017 (135M) [application/x-gzip]\n",
            "Saving to: ‘embeddings-s-model.vec.gz’\n",
            "\n",
            "embeddings-s-model. 100%[===================>] 135.48M  21.0MB/s    in 7.1s    \n",
            "\n",
            "2024-10-31 17:04:36 (19.1 MB/s) - ‘embeddings-s-model.vec.gz’ saved [142060017/142060017]\n",
            "\n",
            "--2024-10-31 17:04:40--  https://valencia.inf.um.es/valencia-tgine/embeddings-s-model.bin.gz\n",
            "Resolving valencia.inf.um.es (valencia.inf.um.es)... 155.54.204.133\n",
            "Connecting to valencia.inf.um.es (valencia.inf.um.es)|155.54.204.133|:443... connected.\n",
            "HTTP request sent, awaiting response... 200 OK\n",
            "Length: 526737315 (502M) [application/x-gzip]\n",
            "Saving to: ‘embeddings-s-model.bin.gz’\n",
            "\n",
            "embeddings-s-model. 100%[===================>] 502.33M  33.3MB/s    in 16s     \n",
            "\n",
            "2024-10-31 17:04:57 (30.8 MB/s) - ‘embeddings-s-model.bin.gz’ saved [526737315/526737315]\n",
            "\n",
            "--2024-10-31 17:05:04--  https://valencia.inf.um.es/valencia-tgine/datasetEspa%C3%B1ol.csv\n",
            "Resolving valencia.inf.um.es (valencia.inf.um.es)... 155.54.204.133\n",
            "Connecting to valencia.inf.um.es (valencia.inf.um.es)|155.54.204.133|:443... connected.\n",
            "HTTP request sent, awaiting response... 200 OK\n",
            "Length: 1953117 (1.9M) [text/csv]\n",
            "Saving to: ‘datasetEspañol.csv’\n",
            "\n",
            "datasetEspañol.csv  100%[===================>]   1.86M  2.84MB/s    in 0.7s    \n",
            "\n",
            "2024-10-31 17:05:05 (2.84 MB/s) - ‘datasetEspañol.csv’ saved [1953117/1953117]\n",
            "\n"
          ]
        }
      ],
      "source": [
        "# Descargamos Glove para español con formato vec para utilizarse con Gensim\n",
        "!wget --no-check-certificate https://valencia.inf.um.es/valencia-tgine/glove-sbwc.i25.vec.gz\n",
        "!gzip -d glove-sbwc.i25.vec.gz\n",
        "\n",
        "# Descargamos Fasttext con formato vec para utilizarse con Gensim\n",
        "#!wget --no-check-certificate https://valencia.inf.um.es/valencia-tgine/embeddings-m-model.vec.gz\n",
        "#!gzip -d embeddings-m-model.vec.gz\n",
        "# Descargamos Fasttext con formato binario para utilizarse con la librería Fasttext más adelante en este notebook\n",
        "#!wget --no-check-certificate https://valencia.inf.um.es/valencia-tgine/embeddings-m-model.vec.gz\n",
        "#!gzip -d embeddings-m-model.bin.gz\n",
        "\n",
        "# Esta es una versión muy reducida de fasttext\n",
        "# Descargamos esta versión muy reducida de fasttext desde un ordenador de la Facultad para ir más rápido.\n",
        "# Los enlaces originales son los siguientes\n",
        "# https://zenodo.org/record/3234051/files/embeddings-s-model.vec\n",
        "# https://zenodo.org/record/3234051/files/embeddings-s-model.bin\n",
        "\n",
        "!wget --no-check-certificate https://valencia.inf.um.es/valencia-tgine/embeddings-s-model.vec.gz\n",
        "!gzip -d embeddings-s-model.vec.gz\n",
        "!wget --no-check-certificate https://valencia.inf.um.es/valencia-tgine/embeddings-s-model.bin.gz\n",
        "!gzip -d embeddings-s-model.bin.gz\n",
        "\n",
        "# Descargamos el dataset en español que hemos usado en otras prácticas\n",
        "!wget --no-check-certificate https://valencia.inf.um.es/valencia-tgine/datasetEspañol.csv"
      ]
    },
    {
      "cell_type": "code",
      "execution_count": null,
      "metadata": {
        "id": "0as_MOVREyoL"
      },
      "outputs": [],
      "source": [
        " from gensim.models.keyedvectors import KeyedVectors\n",
        " import gensim\n",
        "# Cargamos el modelo de Glove en Gensim\n",
        " glove_gensim_model = KeyedVectors.load_word2vec_format(\"glove-sbwc.i25.vec\")\n",
        "\n",
        " # Podemos cargar también los embeddings de Fasttext\n",
        " #glove_gensim_model = KeyedVectors.load_word2vec_format(\"embeddings-m-model.vec\")\n",
        " #glove_gensim_model = KeyedVectors.load_word2vec_format(\"embeddings-s-model.vec\")\n"
      ]
    },
    {
      "cell_type": "markdown",
      "metadata": {
        "id": "WTTuZiM6UQeQ"
      },
      "source": [
        "# Apartado 1.2 Trabajando con los vectores de palabras\n",
        "\n",
        "Imprimimos los vectores de la palabra \"murcia\" con el conjunto preentrenado de embeddings cargado en la celda anterior."
      ]
    },
    {
      "cell_type": "code",
      "execution_count": null,
      "metadata": {
        "id": "S417MUK_lIzN",
        "colab": {
          "base_uri": "https://localhost:8080/"
        },
        "outputId": "e2501d39-1124-4bd9-e467-a0071098e4ec"
      },
      "outputs": [
        {
          "output_type": "stream",
          "name": "stdout",
          "text": [
            "[-3.656140e-01 -7.726400e-02 -3.453140e-01  3.784510e-01  5.509520e-01\n",
            "  7.791450e-01  1.930980e-01 -2.017900e-01  4.325410e-01 -3.591510e-01\n",
            " -2.171490e-01 -4.661000e-02 -1.507420e-01 -5.372530e-01 -6.381500e-02\n",
            " -1.682300e-02  3.247740e-01  6.102940e-01  1.771200e-02 -1.867500e-01\n",
            " -4.248650e-01 -5.492500e-02 -6.588880e-01 -9.319100e-02 -3.907310e-01\n",
            "  1.025280e-01  1.813590e-01 -8.561530e-01 -2.420600e-01 -2.670810e-01\n",
            "  1.172870e-01 -7.581530e-01 -6.400780e-01 -2.704500e-01  4.966670e-01\n",
            "  4.087800e-02  2.864520e-01 -1.676000e-01 -1.047870e-01 -1.315530e-01\n",
            "  2.766780e-01 -8.961800e-02  5.554080e-01  6.324280e-01 -5.707100e-02\n",
            "  5.473200e-02  6.542500e-02 -7.566900e-02  1.889600e-01  9.553340e-01\n",
            " -2.378920e-01  1.351420e-01 -1.230620e-01 -4.141340e-01  1.375230e-01\n",
            "  1.922550e-01 -1.487710e-01  6.967900e-02 -1.411010e-01 -7.715290e-01\n",
            "  2.090640e-01  1.305900e-01 -4.264560e-01 -1.915020e-01 -3.440000e-04\n",
            "  4.942900e-02  4.461290e-01 -9.311400e-02 -4.274040e-01  1.811320e-01\n",
            "  2.237100e-02  2.992760e-01  7.468000e-03 -2.399530e-01 -4.350960e-01\n",
            " -8.458700e-02  7.043190e-01  9.702800e-02 -2.358380e-01  2.419260e-01\n",
            " -4.431420e-01  8.285800e-02 -2.248800e-01  1.092420e-01 -1.027020e-01\n",
            " -3.004030e-01  4.741600e-02  5.592030e-01 -2.978350e-01 -2.773430e-01\n",
            " -2.801530e-01  2.025250e-01  3.794820e-01 -6.386630e-01 -5.232430e-01\n",
            "  1.354800e-01 -1.768620e-01 -1.605520e-01  3.386200e-01  8.051750e-01\n",
            " -3.772630e-01 -3.434000e-01  1.313180e-01  7.238900e-02 -1.279910e-01\n",
            "  2.424710e-01  9.611200e-02 -3.597840e-01  4.167920e-01  9.385500e-02\n",
            "  7.319090e-01  4.974800e-01  8.207300e-02  1.751570e-01  3.912660e-01\n",
            "  9.593200e-02  7.907100e-02 -4.776550e-01  2.086540e-01  6.770410e-01\n",
            "  5.912610e-01  7.698350e-01 -6.716220e-01 -3.057280e-01 -9.282360e-01\n",
            " -2.195580e-01  4.910340e-01  6.032380e-01 -1.473780e-01 -9.876770e-01\n",
            " -7.026600e-02 -2.189620e-01  6.484960e-01  1.062470e-01  7.322000e-03\n",
            " -1.471960e-01 -2.208200e-01  5.984220e-01  2.828100e-02  2.021390e-01\n",
            " -3.709140e-01  5.253810e-01  1.527760e-01 -9.681700e-02  2.972070e-01\n",
            " -7.360330e-01  4.033040e-01 -2.350180e-01  4.304520e-01  2.049180e-01\n",
            "  1.822240e-01  3.238800e-01  6.687200e-02  2.446570e-01 -2.174540e-01\n",
            " -5.274260e-01 -4.688520e-01 -2.605020e-01 -4.873950e-01 -3.455180e-01\n",
            " -5.717800e-02  1.627540e-01 -2.116570e-01  3.995660e-01 -1.166650e-01\n",
            " -2.376500e-02  1.438110e-01  3.500550e-01  1.810300e-02  2.572280e-01\n",
            "  8.415200e-02  5.778100e-02  7.622000e-02 -1.759230e-01  7.317000e-02\n",
            "  9.562410e-01  2.565410e-01 -2.636000e-01 -3.418670e-01  9.245000e-02\n",
            " -3.194160e-01 -3.237940e-01 -1.044710e-01 -6.969200e-02 -5.477480e-01\n",
            "  4.620030e-01  5.902100e-01  1.698980e-01  3.570210e-01 -4.407860e-01\n",
            "  2.273730e-01 -9.319000e-02 -2.497110e-01  1.409320e-01 -1.817870e-01\n",
            "  2.200420e-01  8.205400e-02 -1.132170e-01 -5.553410e-01 -5.528600e-01\n",
            " -2.591370e-01 -3.189660e-01 -8.999700e-02  6.924500e-02  6.292900e-02\n",
            "  3.419970e-01  6.366180e-01 -1.523590e-01 -4.268470e-01  1.720680e-01\n",
            "  9.494700e-02  3.090110e-01 -1.148600e-02 -4.048550e-01 -2.324840e-01\n",
            " -1.138370e-01 -1.799500e-02  7.816000e-02 -5.637660e-01  2.522980e-01\n",
            " -1.722300e-02 -6.291400e-02  3.836770e-01  1.626820e-01  1.330340e-01\n",
            "  5.382400e-02  3.455730e-01  6.676820e-01  8.947900e-02  2.490890e-01\n",
            " -3.439380e-01 -1.971700e-02 -1.234350e-01  2.734340e-01 -9.650000e-02\n",
            " -1.870780e-01 -4.517310e-01 -3.017600e-01  2.960900e-01 -2.503850e-01\n",
            "  4.421910e-01 -9.753900e-02 -1.896900e-01 -2.456486e+00  5.457790e-01\n",
            " -2.261280e-01  3.466750e-01  8.924700e-01 -1.976020e-01 -2.424040e-01\n",
            "  1.679250e-01  2.944280e-01  5.744100e-02  1.471720e-01 -5.297330e-01\n",
            "  9.712900e-02  4.951740e-01 -1.027610e-01  6.074120e-01  3.617260e-01\n",
            "  1.988490e-01 -5.647240e-01 -6.824090e-01 -3.280600e-02 -5.422000e-03\n",
            "  8.328200e-02  4.956020e-01 -5.120390e-01 -2.624500e-01 -5.739700e-02\n",
            " -2.470260e-01 -3.457760e-01 -4.295410e-01  1.085062e+00  8.812400e-02\n",
            " -2.039880e-01  1.160560e-01  5.164110e-01 -3.525230e-01 -2.467580e-01\n",
            " -9.878900e-02  3.388480e-01  1.024150e-01  8.574600e-02 -1.035250e-01\n",
            " -2.016900e-02 -4.255160e-01 -3.452000e-03  5.310910e-01  5.304700e-02\n",
            "  4.727590e-01  2.977160e-01  4.441340e-01 -1.979230e-01  9.920300e-02\n",
            "  4.996220e-01 -3.599670e-01  2.295720e-01 -3.003230e-01  1.122099e+00]\n"
          ]
        }
      ],
      "source": [
        "word = 'murcia'\n",
        "if (glove_gensim_model.has_index_for(word)):\n",
        "  word_embedding = glove_gensim_model.get_vector(word)\n",
        "print(word_embedding)"
      ]
    },
    {
      "cell_type": "markdown",
      "metadata": {
        "id": "jksvuENwVoTl"
      },
      "source": [
        "Con los word embeddings podemos calcular la similitud de distintos términos usando la similidud del coseno. Para eso Gensim proporciona una función para determinar su similitud."
      ]
    },
    {
      "cell_type": "code",
      "execution_count": null,
      "metadata": {
        "id": "c5l422svFE1l",
        "colab": {
          "base_uri": "https://localhost:8080/"
        },
        "outputId": "f51f0008-b7eb-4c38-bcd6-0b3b4f3a01a6"
      },
      "outputs": [
        {
          "output_type": "stream",
          "name": "stdout",
          "text": [
            "La similitud entre alumno y estudiante es: 0.7361078\n",
            "La similitud entre españa y francia es: 0.6711971\n",
            "La similitud entre españa y madrid es: 0.71405333\n",
            "La similitud entre españa y alumno es: 0.21474718\n",
            "La similitud entre rojo y azul es: 0.7384808\n"
          ]
        }
      ],
      "source": [
        "# Calculamos la similitud entre las palabras alumno y estudiante\n",
        "palabra1=\"alumno\"\n",
        "palabra2=\"estudiante\"\n",
        "sim = glove_gensim_model.similarity(palabra1, palabra2)\n",
        "print('La similitud entre '+palabra1+' y '+palabra2+' es:',sim)\n",
        "\n",
        "# Calculamos la similitud entre 'españa' y 'francia'\n",
        "palabra1=\"españa\"\n",
        "palabra2=\"francia\"\n",
        "sim = glove_gensim_model.similarity(palabra1, palabra2)\n",
        "print('La similitud entre '+palabra1+' y '+palabra2+' es:',sim)\n",
        "\n",
        "# Calculamos la similitud entre 'españa' y 'madrid'\n",
        "palabra1=\"españa\"\n",
        "palabra2=\"madrid\"\n",
        "sim = glove_gensim_model.similarity(palabra1, palabra2)\n",
        "print('La similitud entre '+palabra1+' y '+palabra2+' es:',sim)\n",
        "\n",
        "# Calculamos la similitud entre 'españa' y 'alumno'\n",
        "palabra1=\"españa\"\n",
        "palabra2=\"alumno\"\n",
        "sim = glove_gensim_model.similarity(palabra1, palabra2)\n",
        "print('La similitud entre '+palabra1+' y '+palabra2+' es:',sim)\n",
        "\n",
        "# Calculamos la similitud entre 'rojo' y 'azul'\n",
        "palabra1=\"rojo\"\n",
        "palabra2=\"azul\"\n",
        "sim = glove_gensim_model.similarity(palabra1, palabra2)\n",
        "print('La similitud entre '+palabra1+' y '+palabra2+' es:',sim)"
      ]
    },
    {
      "cell_type": "markdown",
      "metadata": {
        "id": "DCN-rv28XI8D"
      },
      "source": [
        "# Apartado 1.3 Obtenemos términos similares\n",
        "\n",
        "Con los word embeddings podemos obtener los términos más similares con respecto a uno dado."
      ]
    },
    {
      "cell_type": "code",
      "execution_count": null,
      "metadata": {
        "id": "cWcJBbYHXuBI",
        "colab": {
          "base_uri": "https://localhost:8080/"
        },
        "outputId": "b648029c-6dcb-4724-9aa3-c7e6896dc162"
      },
      "outputs": [
        {
          "output_type": "stream",
          "name": "stdout",
          "text": [
            "[('barcelona', 0.7481707334518433), ('valencia', 0.7286534309387207), ('sevilla', 0.7230772972106934), ('españa', 0.7140534520149231), ('valladolid', 0.6981064677238464), ('zaragoza', 0.680424690246582), ('málaga', 0.6680708527565002), ('bilbao', 0.665088951587677), ('real', 0.6523774862289429), ('española', 0.6463478803634644)]\n",
            "[('española', 0.7366926074028015), ('madrid', 0.7140533328056335), ('francia', 0.6711971759796143), ('portugal', 0.6674736738204956), ('europa', 0.6646955013275146), ('español', 0.662998378276825), ('país', 0.6526250839233398), ('espańa', 0.6497336030006409), ('españolas', 0.6376960873603821), ('italia', 0.6304250359535217)]\n",
            "[('baloncesto', 0.639200747013092), ('golf', 0.6366766095161438), ('voleibol', 0.624140739440918), ('atletismo', 0.614983856678009), ('canchas', 0.605154275894165), ('fútbol', 0.6021850109100342), ('torneos', 0.5784527659416199), ('natación', 0.5733251571655273), ('deporte', 0.5721799731254578), ('hockey', 0.5662410259246826)]\n",
            "[('amarillo', 0.7277384400367737), ('rojo', 0.6439691185951233), ('verde', 0.6072425842285156), ('azul', 0.6054183840751648), ('amarilla', 0.6044694185256958), ('color', 0.5930679440498352), ('marrón', 0.5846869349479675), ('blanco', 0.5726117491722107), ('roja', 0.5637237429618835), ('crema', 0.5629791617393494)]\n"
          ]
        }
      ],
      "source": [
        "# Imprimimos las palabras más similares a 'madrid'\n",
        "palabra = 'madrid'\n",
        "print(glove_gensim_model.most_similar(palabra))\n",
        "\n",
        "# Imprimimos las palabras más similares a 'españa'\n",
        "palabra = 'españa'\n",
        "print(glove_gensim_model.most_similar(palabra))\n",
        "\n",
        "# Imprimimos las palabras más similares a 'tenis'\n",
        "palabra = 'tenis'\n",
        "print(glove_gensim_model.most_similar(palabra))\n",
        "\n",
        "# Imprimimos las palabras más similares a 'amarillo'\n",
        "palabra = 'naranja'\n",
        "print(glove_gensim_model.most_similar(palabra))\n"
      ]
    },
    {
      "cell_type": "markdown",
      "metadata": {
        "id": "z_qlrQv3ZgGe"
      },
      "source": [
        "# Apartado 1.4 Haciendo analogías\n",
        "\n",
        "Con las similitudes de word embeddings se pueden hacer analogías haciendo operaciones con los vectores.\n",
        "\n",
        "Por ejemplo, podríamos hacer la siguiente analogía:\n",
        "\n",
        "*francés* es a *Francia* lo que *Italiano* es a ..."
      ]
    },
    {
      "cell_type": "code",
      "execution_count": null,
      "metadata": {
        "id": "8v-5rQE_H87d",
        "colab": {
          "base_uri": "https://localhost:8080/"
        },
        "outputId": "d81de5ae-446c-4d28-e07d-922ece9b93f3"
      },
      "outputs": [
        {
          "output_type": "stream",
          "name": "stdout",
          "text": [
            "[('italia', 0.8575731515884399)]\n",
            "[('madrid', 0.7791808843612671)]\n",
            "[('reina', 0.6732203364372253)]\n",
            "[('temía', 0.43924930691719055)]\n",
            "[('juzgado', 0.6214022636413574)]\n"
          ]
        }
      ],
      "source": [
        "  # Francés es a Francia lo que Italiano es a ...\n",
        "  print(glove_gensim_model.most_similar(positive=[\"italiano\", \"francia\"], negative=[\"francés\"], topn=1))\n",
        "\n",
        "  # Francia es a París lo que España es a ...\n",
        "  print(glove_gensim_model.most_similar(positive=[\"españa\", \"parís\"], negative=[\"francia\"], topn=1))\n",
        "\n",
        "  # Hombre es a rey lo que mujer es a ...\n",
        "  print(glove_gensim_model.most_similar(positive=[\"mujer\", \"rey\"], negative=[\"hombre\"], topn=1))\n",
        "\n",
        "  # Cantar es a cantaba lo que temer es a ...\n",
        "  print(glove_gensim_model.most_similar(positive=[\"temer\", \"cantaba\"], negative=[\"cantar\"], topn=1))\n",
        "\n",
        "  # Enfermera es a hospital lo que juez es a ...\n",
        "  print(glove_gensim_model.most_similar(positive=[\"juez\", \"hospital\"], negative=[\"enfermera\"], topn=1))\n"
      ]
    },
    {
      "cell_type": "markdown",
      "metadata": {
        "id": "r1OMyo3rcydV"
      },
      "source": [
        "También se pueden mostrar más de 1 opción y no solamente la primera opción de la analogía."
      ]
    },
    {
      "cell_type": "code",
      "execution_count": null,
      "metadata": {
        "id": "yp3z7_rFrcJ-",
        "colab": {
          "base_uri": "https://localhost:8080/"
        },
        "outputId": "88903bfd-5e61-46a1-a45f-2170018b132c"
      },
      "outputs": [
        {
          "output_type": "stream",
          "name": "stdout",
          "text": [
            "[('italia', 0.8575731515884399), ('italiana', 0.6234793066978455), ('roma', 0.6066861152648926), ('italianos', 0.5899349451065063), ('nápoles', 0.5797626376152039), ('milán', 0.5797608494758606), ('españa', 0.5516084432601929), ('portugal', 0.5490608811378479), ('alemania', 0.5487722754478455), ('grecia', 0.539060115814209)]\n",
            "[('madrid', 0.7791808843612671), ('barcelona', 0.681670606136322), ('española', 0.6255769729614258), ('sevilla', 0.6246100664138794), ('valencia', 0.6032580137252808), ('español', 0.6013212203979492), ('londres', 0.5997290015220642), ('bilbao', 0.5572124719619751), ('valladolid', 0.5506395101547241), ('habana', 0.5470088124275208)]\n",
            "[('reina', 0.6732203364372253), ('isabel', 0.5993215441703796), ('monarca', 0.5833542346954346), ('princesa', 0.5566388368606567), ('hija', 0.5369765162467957), ('infanta', 0.5317001938819885), ('esposa', 0.5256122350692749), ('alfonso', 0.5193145871162415), ('iv', 0.5174581408500671), ('ii', 0.5153015851974487)]\n",
            "[('temía', 0.43924930691719055), ('molestaba', 0.39898741245269775), ('sufría', 0.3945070505142212), ('advertía', 0.37816324830055237), ('sospechar', 0.3745952248573303), ('teme', 0.3706931173801422), ('corría', 0.36732810735702515), ('sabíamos', 0.36369967460632324), ('temor', 0.36232855916023254), ('temiendo', 0.36149901151657104)]\n",
            "[('juzgado', 0.6214022636413574), ('tribunal', 0.5856395363807678), ('judicial', 0.5762852430343628), ('trasladado', 0.5756161212921143), ('juicio', 0.5671319961547852), ('traslado', 0.5229966044425964), ('llevado', 0.5212432742118835), ('audiencia', 0.5209835767745972), ('fiscalía', 0.5167900323867798), ('éste', 0.5100947618484497)]\n",
            "[('universidad', 0.6503073573112488), ('instituto', 0.6199763417243958), ('catedrático', 0.5958188772201538), ('universitario', 0.5933181047439575), ('doctor', 0.5598978400230408), ('ciencias', 0.5504066348075867), ('facultad', 0.5435102581977844), ('investigador', 0.5394613146781921), ('director', 0.5358635187149048), ('medicina', 0.5336728096008301)]\n"
          ]
        }
      ],
      "source": [
        "  # Francés es a Francia lo que Italiano es a ...\n",
        "  print(glove_gensim_model.most_similar(positive=[\"italiano\", \"francia\"], negative=[\"francés\"], topn=10))\n",
        "\n",
        "  # Francia es a París lo que España es a ...\n",
        "  print(glove_gensim_model.most_similar(positive=[\"españa\", \"parís\"], negative=[\"francia\"], topn=10))\n",
        "\n",
        "  # Hombre es a rey lo que mujer es a ...\n",
        "  print(glove_gensim_model.most_similar(positive=[\"mujer\", \"rey\"], negative=[\"hombre\"], topn=10))\n",
        "\n",
        "  # Cantar es a cantaba lo que temer es a ...\n",
        "  print(glove_gensim_model.most_similar(positive=[\"temer\", \"cantaba\"], negative=[\"cantar\"], topn=10))\n",
        "\n",
        "  # Enfermera es a hospital lo que juez es a ...\n",
        "  print(glove_gensim_model.most_similar(positive=[\"juez\", \"hospital\"], negative=[\"enfermera\"], topn=10))\n",
        "\n",
        "  # Enfermera es a hospital lo que profesor es a ...\n",
        "  print(glove_gensim_model.most_similar(positive=[\"profesor\", \"hospital\"], negative=[\"enfermera\"], topn=10))\n"
      ]
    },
    {
      "cell_type": "markdown",
      "metadata": {
        "id": "wme5Mq0FfbQH"
      },
      "source": [
        "## Apartado 1.5 Detectando el término no relacionados\n",
        "\n",
        "También hay una función que permite determinar el término que no está relacionado con los demás términos"
      ]
    },
    {
      "cell_type": "code",
      "execution_count": null,
      "metadata": {
        "id": "PI2WxOn3sBmt",
        "colab": {
          "base_uri": "https://localhost:8080/"
        },
        "outputId": "90ae1e9e-7a26-4a7d-f3fc-6b54883642c1"
      },
      "outputs": [
        {
          "output_type": "stream",
          "name": "stdout",
          "text": [
            "calamar\n",
            "informática\n"
          ]
        }
      ],
      "source": [
        "print(glove_gensim_model.doesnt_match(['blanco','azul','rojo','amarillo','verde','calamar']))\n",
        "\n",
        "# Ver qué palabra no encaja en la siguiente lista 'tenis', 'fútbol', 'baloncesto', 'informática', 'gimnasia'\n",
        "print(glove_gensim_model.doesnt_match(['tenis', 'fútbol', 'baloncesto', 'informática', 'gimnasia']))"
      ]
    },
    {
      "cell_type": "markdown",
      "metadata": {
        "id": "E78IfUFzHpwZ"
      },
      "source": [
        "# Apartado 1.6 Visualización de *vectores de palabras*\n",
        "\n",
        "En el siguiente ejemplo, se puede ver la visualización gráfica en 2D de la distancia entre distintas familias de palabras."
      ]
    },
    {
      "cell_type": "code",
      "execution_count": null,
      "metadata": {
        "id": "jated7_bHpX9",
        "colab": {
          "base_uri": "https://localhost:8080/"
        },
        "outputId": "c92978c7-0b55-4669-ba9e-ed541148292d"
      },
      "outputs": [
        {
          "output_type": "stream",
          "name": "stdout",
          "text": [
            "Requirement already satisfied: pandas in /usr/local/lib/python3.10/dist-packages (2.2.2)\n",
            "Requirement already satisfied: numpy>=1.22.4 in /usr/local/lib/python3.10/dist-packages (from pandas) (1.26.4)\n",
            "Requirement already satisfied: python-dateutil>=2.8.2 in /usr/local/lib/python3.10/dist-packages (from pandas) (2.8.2)\n",
            "Requirement already satisfied: pytz>=2020.1 in /usr/local/lib/python3.10/dist-packages (from pandas) (2024.2)\n",
            "Requirement already satisfied: tzdata>=2022.7 in /usr/local/lib/python3.10/dist-packages (from pandas) (2024.2)\n",
            "Requirement already satisfied: six>=1.5 in /usr/local/lib/python3.10/dist-packages (from python-dateutil>=2.8.2->pandas) (1.16.0)\n",
            "Collecting sklearn\n",
            "  Downloading sklearn-0.0.post12.tar.gz (2.6 kB)\n",
            "  \u001b[1;31merror\u001b[0m: \u001b[1msubprocess-exited-with-error\u001b[0m\n",
            "  \n",
            "  \u001b[31m×\u001b[0m \u001b[32mpython setup.py egg_info\u001b[0m did not run successfully.\n",
            "  \u001b[31m│\u001b[0m exit code: \u001b[1;36m1\u001b[0m\n",
            "  \u001b[31m╰─>\u001b[0m See above for output.\n",
            "  \n",
            "  \u001b[1;35mnote\u001b[0m: This error originates from a subprocess, and is likely not a problem with pip.\n",
            "  Preparing metadata (setup.py) ... \u001b[?25l\u001b[?25herror\n",
            "\u001b[1;31merror\u001b[0m: \u001b[1mmetadata-generation-failed\u001b[0m\n",
            "\n",
            "\u001b[31m×\u001b[0m Encountered error while generating package metadata.\n",
            "\u001b[31m╰─>\u001b[0m See above for output.\n",
            "\n",
            "\u001b[1;35mnote\u001b[0m: This is an issue with the package mentioned above, not pip.\n",
            "\u001b[1;36mhint\u001b[0m: See above for details.\n",
            "Requirement already satisfied: nltk in /usr/local/lib/python3.10/dist-packages (3.8.1)\n",
            "Requirement already satisfied: click in /usr/local/lib/python3.10/dist-packages (from nltk) (8.1.7)\n",
            "Requirement already satisfied: joblib in /usr/local/lib/python3.10/dist-packages (from nltk) (1.4.2)\n",
            "Requirement already satisfied: regex>=2021.8.3 in /usr/local/lib/python3.10/dist-packages (from nltk) (2024.9.11)\n",
            "Requirement already satisfied: tqdm in /usr/local/lib/python3.10/dist-packages (from nltk) (4.66.6)\n"
          ]
        }
      ],
      "source": [
        "# Función para pintar las palabras en una gráfica\n",
        "!pip3 install pandas\n",
        "!pip3 install sklearn\n",
        "!pip3 install nltk\n",
        "import pandas as pd\n",
        "import numpy as np\n",
        "from sklearn.decomposition import PCA\n",
        "from sklearn.manifold import TSNE\n",
        "from matplotlib import pyplot as plt\n",
        "def display_wordlist(model, wordlist):\n",
        "    vectors = [model[word] for word in wordlist if model.has_index_for(word)]\n",
        "    word_labels = [word for word in wordlist if model.has_index_for(word)]\n",
        "    word_vec_zip = zip(word_labels, vectors)\n",
        "\n",
        "    # Convert to a dict and then to a DataFrame\n",
        "    word_vec_dict = dict(word_vec_zip)\n",
        "    df = pd.DataFrame.from_dict(word_vec_dict, orient='index')\n",
        "\n",
        "    # Reduces the dimensionality from 300 to 50 dimensions with PCA\n",
        "    reduc = PCA(n_components=len(wordlist)).fit_transform(df)\n",
        "\n",
        "    # Use tsne to reduce to 2 dimensions\n",
        "    tsne = TSNE(perplexity=5,n_components=2, random_state=0)\n",
        "    np.set_printoptions(suppress=True)\n",
        "    Y = tsne.fit_transform(reduc)\n",
        "\n",
        "    x_coords = Y[:, 0]\n",
        "    y_coords = Y[:, 1]\n",
        "    # display plot\n",
        "    plt.figure(figsize=(16, 8))\n",
        "    plt.plot(x_coords, y_coords, 'ro')\n",
        "\n",
        "    for label, x, y in zip(df.index, x_coords, y_coords):\n",
        "        plt.annotate(label, xy=(x, y), xytext=(5, 2), textcoords='offset points')\n",
        "    plt.xlim(Y[:, 0].min()-10, Y[:, 0].max()+10)\n",
        "    plt.ylim(Y[:, 1].min()-10, Y[:, 1].max()+10)\n",
        "    plt.show()\n",
        "\n"
      ]
    },
    {
      "cell_type": "code",
      "execution_count": null,
      "metadata": {
        "id": "mwa7LLXVH7L9",
        "colab": {
          "base_uri": "https://localhost:8080/",
          "height": 492
        },
        "outputId": "a3f63131-f475-4368-af40-919a77e9ce8b"
      },
      "outputs": [
        {
          "output_type": "display_data",
          "data": {
            "text/plain": [
              "<Figure size 1600x800 with 1 Axes>"
            ],
            "image/png": "[encoded data removed]"
          },
          "metadata": {}
        }
      ],
      "source": [
        "# Visualizamos algunas palabras\n",
        "display_wordlist(glove_gensim_model, ['judo', 'karate','baloncesto','tenis','futbol','padel',\n",
        "                                      'hija','esposa','hijos','madre','hermana','hijas','matrimonio','viuda', 'casada',\n",
        "                                      'melón','piña','fresa','melocotón','sandía','mandarina','uva','plátano',\n",
        "                                      'azul','verde','rosa','amarillo','rojo','naranja','negro'])\n"
      ]
    },
    {
      "cell_type": "markdown",
      "metadata": {
        "id": "aqp0Wm7hoM7P"
      },
      "source": [
        "# Apartado 1.7 Sentence embeddings\n",
        "\n",
        "Se pueden representar fragmentos de texto como frases o párrafos a partir de un vector de dimensión 300 simplemente haciendo una media aritmética de los vectores de los Tokens o palabras que aparecen en ese fragmento de texto."
      ]
    },
    {
      "cell_type": "code",
      "execution_count": null,
      "metadata": {
        "id": "0bGOnsLcoMfD",
        "colab": {
          "base_uri": "https://localhost:8080/"
        },
        "outputId": "df23e95c-d8e9-4166-f81c-d23b6099a0c0"
      },
      "outputs": [
        {
          "output_type": "stream",
          "name": "stderr",
          "text": [
            "[nltk_data] Downloading package stopwords to /root/nltk_data...\n",
            "[nltk_data]   Unzipping corpora/stopwords.zip.\n",
            "[nltk_data] Downloading package punkt to /root/nltk_data...\n",
            "[nltk_data]   Unzipping tokenizers/punkt.zip.\n"
          ]
        }
      ],
      "source": [
        "# Esta función calcula en un único vector de dimensión 300 la media aritmética de todos los vectores de tokens\n",
        "# de un array de textos dado.\n",
        "import nltk\n",
        "nltk.download('stopwords')\n",
        "nltk.download('punkt')\n",
        "\n",
        "def gensim_sentence_embeddings(textos, model, idiomaStopWords):\n",
        "    import nltk\n",
        "    from nltk.corpus import stopwords\n",
        "    from gensim.test.utils import datapath\n",
        "    import unicodedata\n",
        "    from tqdm import tqdm\n",
        "    import gensim\n",
        "    import multiprocessing\n",
        "    import random\n",
        "    import numpy as np\n",
        "#esta función devuelve los sentence embeddings de todos los textos enviados como parámetros\n",
        "    stopwords_list=stopwords.words(idiomaStopWords)\n",
        "    sentence_embeddings = []\n",
        "    for linea in textos:\n",
        "        line_vec = []\n",
        "        tokenized_sentence = nltk.tokenize.word_tokenize(linea)\n",
        "        count = 0\n",
        "        for token in tokenized_sentence:\n",
        "           if (token not in stopwords_list):\n",
        "            # Solamente calculamos los vectores de lo que no son stopwords\n",
        "            if model.has_index_for(token):\n",
        "              a = model.get_vector(token)\n",
        "              if len(line_vec) == 0 :\n",
        "                line_vec = a\n",
        "              else:\n",
        "                line_vec = line_vec + a\n",
        "              count = count + 1\n",
        "        if(count>0):\n",
        "          sentence_embeddings.append(line_vec/count)\n",
        "        else:\n",
        "          sentence_embeddings.append(np.zeros(300))\n",
        "    return sentence_embeddings"
      ]
    },
    {
      "cell_type": "code",
      "execution_count": null,
      "metadata": {
        "id": "Qu9fcxh9o1ON",
        "colab": {
          "base_uri": "https://localhost:8080/"
        },
        "outputId": "46c6220b-0bea-40f1-8a17-52b2c6020c11"
      },
      "outputs": [
        {
          "output_type": "stream",
          "name": "stdout",
          "text": [
            "[array([-0.349078  ,  0.507492  ,  0.08748849,  0.075181  ,  0.41746402,\n",
            "        0.153205  , -0.084192  , -0.119025  , -0.1831935 , -0.0863425 ,\n",
            "        0.09947   , -0.31287402, -0.16599   , -0.2461395 , -0.0547855 ,\n",
            "        0.175206  , -0.14683099, -0.22833401,  0.1333065 ,  0.133404  ,\n",
            "        0.202594  , -0.40680903, -0.119038  ,  0.3530755 , -0.24087352,\n",
            "       -0.142318  , -0.0263255 ,  0.4711605 ,  0.056111  , -0.0960695 ,\n",
            "       -0.1043075 ,  0.086165  , -0.176049  ,  0.2322525 ,  0.420517  ,\n",
            "        0.0375215 ,  0.1063065 ,  0.136041  , -0.2609045 , -0.0896395 ,\n",
            "        0.24515101,  0.2675775 , -0.11715201,  0.10227349, -0.0863855 ,\n",
            "       -0.020269  ,  0.1159125 , -0.0247315 , -0.20177649,  0.27471098,\n",
            "       -0.0417205 , -0.168485  ,  0.0662695 ,  0.0138565 , -0.007159  ,\n",
            "       -0.029278  , -0.190077  ,  0.091889  ,  0.045938  , -0.0584965 ,\n",
            "        0.169811  , -0.0374755 ,  0.0188535 ,  0.54072297,  0.06889849,\n",
            "       -0.04251   ,  0.015499  , -0.0302485 ,  0.3256605 , -0.177807  ,\n",
            "        0.3083755 ,  0.1722815 , -0.32983702,  0.1958845 ,  0.393961  ,\n",
            "       -0.15539399,  0.077229  , -0.0512475 ,  0.12961   ,  0.115181  ,\n",
            "        0.22248   , -0.24688399,  0.1394145 , -0.043856  , -0.060072  ,\n",
            "        0.0037915 ,  0.180978  ,  0.417624  ,  0.21987352,  0.170079  ,\n",
            "       -0.12334249,  0.082217  ,  0.22838351, -0.04818301,  0.08340351,\n",
            "        0.204834  ,  0.0808685 ,  0.124815  ,  0.064615  ,  0.05079649,\n",
            "       -0.0036335 , -0.23806399, -0.0311505 ,  0.0649125 , -0.079261  ,\n",
            "        0.38433403,  0.143837  ,  0.00906099,  0.09814849, -0.2314565 ,\n",
            "       -0.07687649,  0.18068051, -0.12441699, -0.031905  , -0.25618   ,\n",
            "       -0.063728  ,  0.2332155 ,  0.0703    ,  0.1035415 , -0.209023  ,\n",
            "        0.1021985 , -0.1528915 ,  0.0142605 ,  0.380387  , -0.1267425 ,\n",
            "        0.0629075 , -0.132708  ,  0.195162  , -0.1030875 ,  0.073288  ,\n",
            "        0.122453  ,  0.26873398, -0.05035749, -0.03135651,  0.008369  ,\n",
            "       -0.3849715 , -0.20614   , -0.291576  , -0.70117   ,  0.0820845 ,\n",
            "       -0.24950449, -0.21733499, -0.288366  , -0.159071  , -0.3924625 ,\n",
            "        0.2514565 ,  0.400348  ,  0.0190415 , -0.14907199,  0.072409  ,\n",
            "        0.2009375 , -0.1931705 ,  0.594872  , -0.027411  ,  0.573395  ,\n",
            "        0.1799565 ,  0.20983501,  0.0053625 ,  0.082698  ,  0.0511015 ,\n",
            "       -0.024645  ,  0.07547049, -0.767233  , -0.2535005 ,  0.00935549,\n",
            "       -0.1242345 , -0.312046  , -0.3382335 ,  0.195896  , -0.010608  ,\n",
            "        0.0883325 , -0.075569  ,  0.1073975 , -0.121787  , -0.1950815 ,\n",
            "        0.236655  , -0.38354152,  0.1290065 ,  0.103081  , -0.167903  ,\n",
            "       -0.0604755 ,  0.1644505 ,  0.004542  ,  0.1293685 , -0.12266751,\n",
            "       -0.107039  , -0.15225402,  0.04079299, -0.478705  , -0.66784   ,\n",
            "        0.0830935 ,  0.12179749,  0.24686502, -0.14046   , -0.1320685 ,\n",
            "       -0.1818935 , -0.156169  , -0.213339  ,  0.1696775 ,  0.13401349,\n",
            "       -0.3923905 , -0.353028  , -0.1560135 ,  0.1314915 , -0.194334  ,\n",
            "       -0.0576725 ,  0.2995315 ,  0.04425201,  0.2033645 , -0.27236348,\n",
            "        0.28053948,  0.2568085 , -0.103848  , -0.180018  , -0.10883801,\n",
            "       -0.382033  ,  0.1316295 , -0.1625675 ,  0.0617105 , -0.096044  ,\n",
            "        0.2651045 , -0.171736  , -0.0336045 , -0.2626845 ,  0.170738  ,\n",
            "       -0.1062185 , -0.281587  , -0.1676145 ,  0.016851  , -0.114317  ,\n",
            "        0.3823095 , -0.205517  ,  0.034234  ,  0.09616251, -0.032752  ,\n",
            "       -0.0588625 , -0.2601115 ,  0.051118  ,  0.015348  , -0.2030165 ,\n",
            "       -0.51143   ,  0.0570845 ,  0.342268  , -4.0067477 , -0.0617085 ,\n",
            "       -0.0453045 , -0.0238235 ,  0.040149  , -0.1271885 , -0.268729  ,\n",
            "        0.006502  , -0.08878601,  0.090742  , -0.351577  ,  0.0150395 ,\n",
            "        0.132394  ,  0.208266  , -0.008683  ,  0.2726315 , -0.026352  ,\n",
            "        0.0414995 , -0.0533065 , -0.19406149, -0.11927201, -0.16607949,\n",
            "       -0.1013545 , -0.1413365 ,  0.11188301,  0.1769415 ,  0.015624  ,\n",
            "       -0.20519301, -0.2349585 , -0.0710015 ,  0.021185  , -0.25971103,\n",
            "        0.1171485 , -0.3488735 , -0.2513035 , -0.3615205 , -0.2534155 ,\n",
            "        0.15708949,  0.14754051, -0.0568685 , -0.00066   , -0.1953925 ,\n",
            "       -0.20214   , -0.358286  , -0.1747645 ,  0.051126  ,  0.2116785 ,\n",
            "       -0.239467  ,  0.49344403, -0.070328  , -0.0145055 , -0.241255  ,\n",
            "       -0.0815665 , -0.0664195 ,  0.26934   ,  0.051721  , -0.0819905 ],\n",
            "      dtype=float32), array([0., 0., 0., 0., 0., 0., 0., 0., 0., 0., 0., 0., 0., 0., 0., 0., 0.,\n",
            "       0., 0., 0., 0., 0., 0., 0., 0., 0., 0., 0., 0., 0., 0., 0., 0., 0.,\n",
            "       0., 0., 0., 0., 0., 0., 0., 0., 0., 0., 0., 0., 0., 0., 0., 0., 0.,\n",
            "       0., 0., 0., 0., 0., 0., 0., 0., 0., 0., 0., 0., 0., 0., 0., 0., 0.,\n",
            "       0., 0., 0., 0., 0., 0., 0., 0., 0., 0., 0., 0., 0., 0., 0., 0., 0.,\n",
            "       0., 0., 0., 0., 0., 0., 0., 0., 0., 0., 0., 0., 0., 0., 0., 0., 0.,\n",
            "       0., 0., 0., 0., 0., 0., 0., 0., 0., 0., 0., 0., 0., 0., 0., 0., 0.,\n",
            "       0., 0., 0., 0., 0., 0., 0., 0., 0., 0., 0., 0., 0., 0., 0., 0., 0.,\n",
            "       0., 0., 0., 0., 0., 0., 0., 0., 0., 0., 0., 0., 0., 0., 0., 0., 0.,\n",
            "       0., 0., 0., 0., 0., 0., 0., 0., 0., 0., 0., 0., 0., 0., 0., 0., 0.,\n",
            "       0., 0., 0., 0., 0., 0., 0., 0., 0., 0., 0., 0., 0., 0., 0., 0., 0.,\n",
            "       0., 0., 0., 0., 0., 0., 0., 0., 0., 0., 0., 0., 0., 0., 0., 0., 0.,\n",
            "       0., 0., 0., 0., 0., 0., 0., 0., 0., 0., 0., 0., 0., 0., 0., 0., 0.,\n",
            "       0., 0., 0., 0., 0., 0., 0., 0., 0., 0., 0., 0., 0., 0., 0., 0., 0.,\n",
            "       0., 0., 0., 0., 0., 0., 0., 0., 0., 0., 0., 0., 0., 0., 0., 0., 0.,\n",
            "       0., 0., 0., 0., 0., 0., 0., 0., 0., 0., 0., 0., 0., 0., 0., 0., 0.,\n",
            "       0., 0., 0., 0., 0., 0., 0., 0., 0., 0., 0., 0., 0., 0., 0., 0., 0.,\n",
            "       0., 0., 0., 0., 0., 0., 0., 0., 0., 0., 0.])]\n"
          ]
        }
      ],
      "source": [
        "# Podemos calcular e imprimir los sentence embedings de varias frases.\n",
        "# Hay que tener en cuenta que si no existe ningún token conocido en el vocabulario obtendríamos un vector de 0s\n",
        "# Esto no ocurre con los modelos de Fasttext porque usan fragmentos de caracteres, pero sí con los de Glove\n",
        "print(gensim_sentence_embeddings(['me gusta el día','30 203 44 500'], glove_gensim_model, 'spanish'))"
      ]
    },
    {
      "cell_type": "markdown",
      "metadata": {
        "id": "4_MFi4JdjJvS"
      },
      "source": [
        "Podemos probar ahora mediante sentence embeddings cómo pueden parecerse distintos fragmentos de texto o documentos mediante el uso de la similitud del coseno."
      ]
    },
    {
      "cell_type": "code",
      "execution_count": null,
      "metadata": {
        "id": "BOCIIjxao4f7",
        "colab": {
          "base_uri": "https://localhost:8080/"
        },
        "outputId": "2d9492dd-f8c1-44c5-c0b2-e0e61c0e58f8"
      },
      "outputs": [
        {
          "output_type": "stream",
          "name": "stdout",
          "text": [
            "[0.98916187 0.91941754 0.88821989 0.94367842 0.73421973]\n"
          ]
        }
      ],
      "source": [
        "from sklearn.metrics.pairwise import cosine_similarity\n",
        "# Definimos un conjunto de textos\n",
        "textos=['El procesamiento del lenguaje natural (PLN o NLP) es un campo dentro de la inteligencia artificial y la lingüística aplicada que estudia las interacciones mediante uso del lenguaje natural entre los seres humanos y las máquinas. \\\n",
        "Más concretamente se centra en el procesamiento de las comunicaciones humanas, dividiéndolas en partes, e identificando los elementos más relevantes del mensaje.\\\n",
        "Con la Comprensión y Generación de Lenguaje Natural, busca que las máquinas consigan entender, interpretar y manipular el lenguaje humano.'\n",
        ", 'El procesamiento del lenguaje natural (NLP, por sus siglas en inglés) es una rama de la inteligencia artificial que ayuda a las computadoras a entender, interpretar y manipular el lenguaje humano. \\\n",
        "NLP toma elementos prestados de muchas disciplinas, incluyendo la ciencia de la computación y la lingüística computacional, en su afán por cerrar la brecha entre la comunicación humana y el entendimiento de las computadoras.\"\"\"], \"\"\"El procesamiento del lenguaje natural (PLN o NLP) es un campo dentro de la inteligencia artificial y la lingüística aplicada que estudia las interacciones mediante uso del lenguaje natural entre los seres humanos y las máquinas. Más concretamente se centra en el procesamiento de las comunicaciones humanas, dividiéndolas en partes, e identificando los elementos más relevantes del mensaje. Con la Comprensión y Generación de Lenguaje Natural, busca que las máquinas consigan entender, interpretar y manipular el lenguaje humano.'\n",
        ", 'La lingüística computacional es un campo interdisciplinario que se ocupa del desarrollo de formalismos del funcionamiento del lenguaje natural, tales que puedan ser transformados en programas ejecutables para un ordenador. \\\n",
        "Dicho desarrollo se sitúa entre el modelado basado en reglas y el modelado estadístico del lenguaje natural desde una perspectiva computacional, y en él participan lingüistas e informáticos especializados en inteligencia artificial, psicólogos cognoscitivos y expertos en lógica, entre otros.'\n",
        ", 'El aprendizaje automático es un tipo de inteligencia artificial (AI) que proporciona a las computadoras la capacidad de aprender, sin ser programadas explícitamente. El aprendizaje automático se centra en el desarrollo de programas informáticos que pueden cambiar cuando se exponen a nuevos datos.'\n",
        ", 'El  aprendizaje profundo es un tema que cada vez adquiere mayor relevancia en el campo de la inteligencia artificial (IA). Siendo una subcategoría del aprendizaje automático, el aprendizaje profundo trata del uso de redes neuronales para mejorar cosas tales como el reconocimiento de voz, la visión por ordenador y el procesamiento del lenguaje natural. \\\n",
        "Rápidamente se está convirtiendo en uno de los campos más solicitados en informática. \\\n",
        "En los últimos años, el aprendizaje profundo ha ayudado a lograr avances en áreas tan diversas como la percepción de objetos, el procesamiento del lenguaje natural y el reconocimiento de voz (todas ellas áreas especialmente complejas para los investigadores en IA).',\n",
        "'El coste de la energía va a subir mucho los próximos meses y la población va a tener que pagar cantidades excesivas a las eléctricas']\n",
        "\n",
        "# Calculamos la similitud usando sentence embeddings\n",
        "sentence_embeddings = gensim_sentence_embeddings(textos, glove_gensim_model,'spanish')\n",
        "import numpy as np\n",
        "import scipy.sparse as sp\n",
        "if not sp.issparse(sentence_embeddings):\n",
        "            sentence_embeddings = sp.csr_matrix(sentence_embeddings, dtype=np.float64)\n",
        "\n",
        "# Calculamos la similitud de los documentos con el coseno para sentence embeddings\n",
        "results = cosine_similarity(sentence_embeddings[1::],sentence_embeddings[0]).reshape(-1,) # Op -- (n_docs,1) -- Cosine Sim with each doc\n",
        "print(results)"
      ]
    },
    {
      "cell_type": "markdown",
      "metadata": {
        "id": "mg8mo87onXZt"
      },
      "source": [
        "Probamos ahora a entrenar el dataset de la sesión anterior *Sesión 4* para probar su accuracy utilizando word embeddings preentrenados."
      ]
    },
    {
      "cell_type": "code",
      "execution_count": null,
      "metadata": {
        "id": "GLOvVhSRtCJn",
        "colab": {
          "base_uri": "https://localhost:8080/"
        },
        "outputId": "25500c81-bbf4-4a58-cb9a-4ee8e632fe34"
      },
      "outputs": [
        {
          "output_type": "stream",
          "name": "stdout",
          "text": [
            "Ejemplos usados para entrenar:  4767\n",
            "Ejemplos usados para test:  1192\n"
          ]
        }
      ],
      "source": [
        "import pandas\n",
        "df = pandas.read_csv(\"datasetEspañol.csv\",encoding=\"UTF-8\")\n",
        "\n",
        "p_train = 0.80 # Porcentaje de train.\n",
        "p_test = 0.20 # Porcentaje de train.\n",
        "\n",
        "from sklearn.model_selection import train_test_split\n",
        "\n",
        "df_train, df_test = train_test_split(df, test_size = p_test)\n",
        "\n",
        "# Ponemos en lower_case los dos conjuntos de tweets\n",
        "df_train.tweet = df_train.tweet.apply(lambda x: x.lower())\n",
        "df_test.tweet = df_test.tweet.apply(lambda x: x.lower())\n",
        "\n",
        "print(\"Ejemplos usados para entrenar: \", len(df_train))\n",
        "print(\"Ejemplos usados para test: \", len(df_test))"
      ]
    },
    {
      "cell_type": "code",
      "execution_count": null,
      "metadata": {
        "id": "i-4qjPWLtDXM",
        "colab": {
          "base_uri": "https://localhost:8080/"
        },
        "outputId": "b90e3af8-76ff-451f-a923-27f2fa6bbeb2"
      },
      "outputs": [
        {
          "output_type": "stream",
          "name": "stdout",
          "text": [
            "Resultados ----- Accuracy: 0.7986577181208053\n",
            "              precision    recall  f1-score   support\n",
            "\n",
            "    negative       0.69      0.65      0.67       377\n",
            "    positive       0.84      0.87      0.85       815\n",
            "\n",
            "    accuracy                           0.80      1192\n",
            "   macro avg       0.77      0.76      0.76      1192\n",
            "weighted avg       0.80      0.80      0.80      1192\n",
            "\n"
          ]
        }
      ],
      "source": [
        "from sklearn.svm import LinearSVC\n",
        "sentence_train = gensim_sentence_embeddings(df_train.tweet, glove_gensim_model,'spanish')\n",
        "sentence_test = gensim_sentence_embeddings(df_test.tweet, glove_gensim_model,'spanish')\n",
        "\n",
        "clf_sentence_embeddings = LinearSVC(random_state=0, tol=1e-5).fit(sentence_train, df_train.label)\n",
        "predicted = clf_sentence_embeddings.predict(sentence_test)\n",
        "accuracy = np.mean(predicted == df_test.label)\n",
        "\n",
        "print(\"Resultados ----- Accuracy:\", accuracy)\n",
        "from sklearn import metrics\n",
        "print(metrics.classification_report(df_test.label, predicted))"
      ]
    },
    {
      "cell_type": "markdown",
      "metadata": {
        "id": "br6eDk7ks-2M"
      },
      "source": [
        "## Apartado 1.8 Sentence embeddings de Fasttext\n",
        "\n",
        "Nosotros hemos implementado una función para obtener los sentence embeddings directamente desde la librería Fasttext. Fasttext es otro tipo de word embeddings donde se tienen en cuenta los char n gramas."
      ]
    },
    {
      "cell_type": "code",
      "execution_count": null,
      "metadata": {
        "id": "QD3V4paunwOT",
        "colab": {
          "base_uri": "https://localhost:8080/"
        },
        "outputId": "d0f3186c-6b11-4bec-c431-b83c4447ed60"
      },
      "outputs": [
        {
          "output_type": "stream",
          "name": "stdout",
          "text": [
            "Collecting fasttext\n",
            "  Downloading fasttext-0.9.3.tar.gz (73 kB)\n",
            "\u001b[?25l     \u001b[90m━━━━━━━━━━━━━━━━━━━━━━━━━━━━━━━━━━━━━━━━\u001b[0m \u001b[32m0.0/73.4 kB\u001b[0m \u001b[31m?\u001b[0m eta \u001b[36m-:--:--\u001b[0m\r\u001b[2K     \u001b[90m━━━━━━━━━━━━━━━━━━━━━━━━━━━━━━━━━━━━━━━━\u001b[0m \u001b[32m73.4/73.4 kB\u001b[0m \u001b[31m5.3 MB/s\u001b[0m eta \u001b[36m0:00:00\u001b[0m\n",
            "\u001b[?25h  Installing build dependencies ... \u001b[?25l\u001b[?25hdone\n",
            "  Getting requirements to build wheel ... \u001b[?25l\u001b[?25hdone\n",
            "  Preparing metadata (pyproject.toml) ... \u001b[?25l\u001b[?25hdone\n",
            "Collecting pybind11>=2.2 (from fasttext)\n",
            "  Using cached pybind11-2.13.6-py3-none-any.whl.metadata (9.5 kB)\n",
            "Requirement already satisfied: setuptools>=0.7.0 in /usr/local/lib/python3.10/dist-packages (from fasttext) (75.1.0)\n",
            "Requirement already satisfied: numpy in /usr/local/lib/python3.10/dist-packages (from fasttext) (1.26.4)\n",
            "Using cached pybind11-2.13.6-py3-none-any.whl (243 kB)\n",
            "Building wheels for collected packages: fasttext\n",
            "  Building wheel for fasttext (pyproject.toml) ... \u001b[?25l\u001b[?25hdone\n",
            "  Created wheel for fasttext: filename=fasttext-0.9.3-cp310-cp310-linux_x86_64.whl size=4296187 sha256=4bcc990a3f7bb73fa617bb23f87c11ee449d1dfc768b2e322e82919e15646c10\n",
            "  Stored in directory: /root/.cache/pip/wheels/0d/a2/00/81db54d3e6a8199b829d58e02cec2ddb20ce3e59fad8d3c92a\n",
            "Successfully built fasttext\n",
            "Installing collected packages: pybind11, fasttext\n",
            "Successfully installed fasttext-0.9.3 pybind11-2.13.6\n"
          ]
        }
      ],
      "source": [
        "# Instalamos la librería Fasttext y descargamos el modelo preentrenado para el español en binario\n",
        "!pip3 install fasttext\n",
        "import fasttext\n",
        "# Los word embeddings preentrenados ya se han descargado anteriormente"
      ]
    },
    {
      "cell_type": "code",
      "execution_count": null,
      "metadata": {
        "id": "Fyi-C1ib0Uju"
      },
      "outputs": [],
      "source": [
        "# Cargamos el modelo usando la librería fasttext.\n",
        "# Esta librería es distinta de Gensim\n",
        "#ft_model = fasttext.load_model (\"embeddings-l-model.bin\")\n",
        "ft_model = fasttext.load_model (\"embeddings-s-model.bin\")"
      ]
    },
    {
      "cell_type": "code",
      "execution_count": null,
      "metadata": {
        "id": "1N8u_XKC25tU",
        "colab": {
          "base_uri": "https://localhost:8080/"
        },
        "outputId": "5362ae7d-bd9b-4081-970b-7408f669dee3"
      },
      "outputs": [
        {
          "output_type": "stream",
          "name": "stdout",
          "text": [
            "[0.99586123 0.97653438 0.96497823 0.97840502 0.85345728]\n"
          ]
        }
      ],
      "source": [
        "from sklearn.metrics.pairwise import cosine_similarity\n",
        "# Definimos un conjunto de textos\n",
        "textos=['El procesamiento del lenguaje natural (PLN o NLP) es un campo dentro de la inteligencia artificial y la lingüística aplicada que estudia las interacciones mediante uso del lenguaje natural entre los seres humanos y las máquinas. \\\n",
        "Más concretamente se centra en el procesamiento de las comunicaciones humanas, dividiéndolas en partes, e identificando los elementos más relevantes del mensaje.\\\n",
        "Con la Comprensión y Generación de Lenguaje Natural, busca que las máquinas consigan entender, interpretar y manipular el lenguaje humano.'\n",
        ", 'El procesamiento del lenguaje natural (NLP, por sus siglas en inglés) es una rama de la inteligencia artificial que ayuda a las computadoras a entender, interpretar y manipular el lenguaje humano. \\\n",
        "NLP toma elementos prestados de muchas disciplinas, incluyendo la ciencia de la computación y la lingüística computacional, en su afán por cerrar la brecha entre la comunicación humana y el entendimiento de las computadoras.\"\"\"], \"\"\"El procesamiento del lenguaje natural (PLN o NLP) es un campo dentro de la inteligencia artificial y la lingüística aplicada que estudia las interacciones mediante uso del lenguaje natural entre los seres humanos y las máquinas. Más concretamente se centra en el procesamiento de las comunicaciones humanas, dividiéndolas en partes, e identificando los elementos más relevantes del mensaje. Con la Comprensión y Generación de Lenguaje Natural, busca que las máquinas consigan entender, interpretar y manipular el lenguaje humano.'\n",
        ", 'La lingüística computacional es un campo interdisciplinario que se ocupa del desarrollo de formalismos del funcionamiento del lenguaje natural, tales que puedan ser transformados en programas ejecutables para un ordenador. \\\n",
        "Dicho desarrollo se sitúa entre el modelado basado en reglas y el modelado estadístico del lenguaje natural desde una perspectiva computacional, y en él participan lingüistas e informáticos especializados en inteligencia artificial, psicólogos cognoscitivos y expertos en lógica, entre otros.'\n",
        ", 'El aprendizaje automático es un tipo de inteligencia artificial (AI) que proporciona a las computadoras la capacidad de aprender, sin ser programadas explícitamente. El aprendizaje automático se centra en el desarrollo de programas informáticos que pueden cambiar cuando se exponen a nuevos datos.'\n",
        ", 'El  aprendizaje profundo es un tema que cada vez adquiere mayor relevancia en el campo de la inteligencia artificial (IA). Siendo una subcategoría del aprendizaje automático, el aprendizaje profundo trata del uso de redes neuronales para mejorar cosas tales como el reconocimiento de voz, la visión por ordenador y el procesamiento del lenguaje natural. \\\n",
        "Rápidamente se está convirtiendo en uno de los campos más solicitados en informática. \\\n",
        "En los últimos años, el aprendizaje profundo ha ayudado a lograr avances en áreas tan diversas como la percepción de objetos, el procesamiento del lenguaje natural y el reconocimiento de voz (todas ellas áreas especialmente complejas para los investigadores en IA).',\n",
        "'El coste de la energía va a subir mucho los próximos meses y la población va a tener que pagar cantidades excesivas a las eléctricas']\n",
        "\n",
        "\n",
        "import pandas as pd\n",
        "df_textos = pd.DataFrame(textos)\n",
        "\n",
        "# Calculamos la similitud usando sentence embeddings\n",
        "fasttext_sentence_embeddings = df_textos[0].apply(lambda x: ft_model.get_sentence_vector(x))\n",
        "fasttext_sentence_embeddings = fasttext_sentence_embeddings.to_list()\n",
        "import numpy as np\n",
        "\n",
        "import scipy.sparse as sp\n",
        "if not sp.issparse(fasttext_sentence_embeddings):\n",
        "            fasttext_sentence_embeddings = sp.csr_matrix(fasttext_sentence_embeddings, dtype=np.float64)\n",
        "\n",
        "# Calculamos la similitud de los documentos con el coseno para sentence embeddings\n",
        "results = cosine_similarity(fasttext_sentence_embeddings[1::],fasttext_sentence_embeddings[0]).reshape(-1,) # Op -- (n_docs,1) -- Cosine Sim with each doc\n",
        "print(results)"
      ]
    },
    {
      "cell_type": "markdown",
      "metadata": {
        "id": "l3OYTXx69tQH"
      },
      "source": [
        "Entrenamos ahora con los sentence embeddings de fasttext y obtenemos el accuracy"
      ]
    },
    {
      "cell_type": "code",
      "execution_count": null,
      "metadata": {
        "id": "oKs43XIr9sj_",
        "colab": {
          "base_uri": "https://localhost:8080/"
        },
        "outputId": "0e410148-79f0-4790-a591-94ffb2fc4782"
      },
      "outputs": [
        {
          "output_type": "stream",
          "name": "stdout",
          "text": [
            "Resultados sentence embeddings Fasttext ----- Accuracy: 0.7827181208053692\n",
            "              precision    recall  f1-score   support\n",
            "\n",
            "    negative       0.71      0.53      0.61       377\n",
            "    positive       0.81      0.90      0.85       815\n",
            "\n",
            "    accuracy                           0.78      1192\n",
            "   macro avg       0.76      0.72      0.73      1192\n",
            "weighted avg       0.78      0.78      0.77      1192\n",
            "\n"
          ]
        }
      ],
      "source": [
        "from sklearn.svm import LinearSVC\n",
        "fasttext_sentence_train = df_train.tweet.apply(lambda x: ft_model.get_sentence_vector(x))\n",
        "fasttext_sentence_test = df_test.tweet.apply(lambda x: ft_model.get_sentence_vector(x))\n",
        "\n",
        "clf_sentence_embeddings = LinearSVC(random_state=0, tol=1e-5).fit(fasttext_sentence_train.to_list(), df_train.label)\n",
        "predicted = clf_sentence_embeddings.predict(fasttext_sentence_test.to_list())\n",
        "accuracy = np.mean(predicted == df_test.label)\n",
        "\n",
        "print(\"Resultados sentence embeddings Fasttext ----- Accuracy:\", accuracy)\n",
        "from sklearn import metrics\n",
        "print(metrics.classification_report(df_test.label, predicted))"
      ]
    },
    {
      "cell_type": "code",
      "source": [
        "#Si probamos con unos vectores de Fasttext de más dimensiones (100) en principio la clasificación debería ser mejor.\n",
        "!wget https://valencia.inf.um.es/valencia-tgine/embeddings-m-model.bin.gz\n",
        "!gzip -d embeddings-m-model.bin.gz"
      ],
      "metadata": {
        "id": "6lrIn0DBnW-H",
        "colab": {
          "base_uri": "https://localhost:8080/"
        },
        "outputId": "9b0524b4-9a5d-4d16-c981-a3b538067bce"
      },
      "execution_count": null,
      "outputs": [
        {
          "output_type": "stream",
          "name": "stdout",
          "text": [
            "--2024-10-31 18:03:44--  https://valencia.inf.um.es/valencia-tgine/embeddings-m-model.bin.gz\n",
            "Resolving valencia.inf.um.es (valencia.inf.um.es)... 155.54.204.133\n",
            "Connecting to valencia.inf.um.es (valencia.inf.um.es)|155.54.204.133|:443... connected.\n",
            "HTTP request sent, awaiting response... 200 OK\n",
            "Length: 1738664259 (1.6G) [application/x-gzip]\n",
            "Saving to: ‘embeddings-m-model.bin.gz’\n",
            "\n",
            "embeddings-m-model. 100%[===================>]   1.62G  25.3MB/s    in 1m 56s  \n",
            "\n",
            "2024-10-31 18:05:40 (14.3 MB/s) - ‘embeddings-m-model.bin.gz’ saved [1738664259/1738664259]\n",
            "\n"
          ]
        }
      ]
    },
    {
      "cell_type": "code",
      "source": [
        "#Cargamos el modelo más grande\n",
        "ft_model = fasttext.load_model (\"embeddings-m-model.bin\")\n",
        "\n",
        "#Calculamos los embeddings y creamos el clasificador\n",
        "fasttext_sentence_train = df_train.tweet.apply(lambda x: ft_model.get_sentence_vector(x))\n",
        "fasttext_sentence_test = df_test.tweet.apply(lambda x: ft_model.get_sentence_vector(x))\n",
        "\n",
        "clf_sentence_embeddings = LinearSVC(random_state=0, tol=1e-5).fit(fasttext_sentence_train.to_list(), df_train.label)\n",
        "predicted = clf_sentence_embeddings.predict(fasttext_sentence_test.to_list())\n",
        "accuracy = np.mean(predicted == df_test.label)\n",
        "\n",
        "print(\"Resultados Fasttext modelo más grande ----- Accuracy:\", accuracy)\n",
        "from sklearn import metrics\n",
        "print(metrics.classification_report(df_test.label, predicted))"
      ],
      "metadata": {
        "id": "SlW0SoKtocFm",
        "colab": {
          "base_uri": "https://localhost:8080/"
        },
        "outputId": "5f129cec-d4fc-4b8f-c354-a0779a583439"
      },
      "execution_count": null,
      "outputs": [
        {
          "output_type": "stream",
          "name": "stdout",
          "text": [
            "Resultados Fasttext modelo más grande ----- Accuracy: 0.8095637583892618\n",
            "              precision    recall  f1-score   support\n",
            "\n",
            "    negative       0.73      0.63      0.68       377\n",
            "    positive       0.84      0.89      0.86       815\n",
            "\n",
            "    accuracy                           0.81      1192\n",
            "   macro avg       0.78      0.76      0.77      1192\n",
            "weighted avg       0.80      0.81      0.81      1192\n",
            "\n"
          ]
        }
      ]
    }
  ],
  "metadata": {
    "colab": {
      "provenance": []
    },
    "kernelspec": {
      "display_name": "Python 3 (ipykernel)",
      "language": "python",
      "name": "python3"
    },
    "language_info": {
      "codemirror_mode": {
        "name": "ipython",
        "version": 3
      },
      "file_extension": ".py",
      "mimetype": "text/x-python",
      "name": "python",
      "nbconvert_exporter": "python",
      "pygments_lexer": "ipython3",
      "version": "3.10.6"
    }
  },
  "nbformat": 4,
  "nbformat_minor": 0
}