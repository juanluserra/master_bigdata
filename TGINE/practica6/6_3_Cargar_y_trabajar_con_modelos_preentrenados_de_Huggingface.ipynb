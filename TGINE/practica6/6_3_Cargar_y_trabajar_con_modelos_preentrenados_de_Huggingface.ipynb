{
  "cells": [
    {
      "cell_type": "markdown",
      "metadata": {
        "id": "LzfR3p24w2-T"
      },
      "source": [
        "# Sesión 6.3 Cargar y trabajar con modelos preentrenados de Huggingface\n",
        "\n",
        "Existen cientos de modelos ya preentrenados (con Finetuning) para distintas tareas en Huggingface (https://huggingface.co/) tanto de modelos BERT/RoBERTa como otros modelos de transformers como GPT.\n",
        "\n",
        "Estos modelos no son únicamente para tareas de PLN sino que hay otros modelos de procesamiento de imágenes, etc.\n",
        "\n",
        "En esta sesión vamos a cargar y probar 2 modelos para distintas tareas de PLN como es el análisis de sentimientos y la detección de entidades (NER)\n",
        "\n",
        "Como siempre, instalamos las librerías de transformers y datasets"
      ]
    },
    {
      "cell_type": "code",
      "execution_count": null,
      "metadata": {
        "id": "fyMcbMTB5x_9"
      },
      "outputs": [],
      "source": [
        "# Install libraries\n",
        "!pip3 install transformers datasets"
      ]
    },
    {
      "cell_type": "markdown",
      "metadata": {
        "id": "qP8_0WsVxwvA"
      },
      "source": [
        "## Apartado 1.1 Descargamos y probamos un modelo de análisis de sentimientos en español\n",
        "\n",
        "El modelo en cuestión es el que se encuentra en la página https://huggingface.co/finiteautomata/beto-sentiment-analysis y es un finetuning de un modelo BETO usando el dataset del TASS 2020."
      ]
    },
    {
      "cell_type": "code",
      "execution_count": 15,
      "metadata": {
        "id": "cu5GLkgM5-Et"
      },
      "outputs": [],
      "source": [
        "import transformers\n",
        "from transformers import AutoModelForSequenceClassification\n",
        "\n",
        "path_sentiment_model = 'finiteautomata/beto-sentiment-analysis'\n",
        "\n",
        "# Obtenemos el tokenizer\n",
        "tokenizer = transformers.AutoTokenizer.from_pretrained (path_sentiment_model)\n",
        "# Obtenemos el modelo para análisis de sentimientos que tiene 3 etiquetas: positivo, negativo y neutro\n",
        "sentiment_model = AutoModelForSequenceClassification.from_pretrained(path_sentiment_model)\n",
        "\n"
      ]
    },
    {
      "cell_type": "markdown",
      "metadata": {
        "id": "WJt6rLPh0lqo"
      },
      "source": [
        "# Apartado 1.2 Probamos el modelo de análisis de sentimientos con un conjunto de textos.\n",
        "\n",
        "Obtenemos la clasificación del sentimiento a partir de un conjunto de textos.\n",
        "\n",
        "Estos modelos a los que ya se les ha hecho un finetuning se pueden volver a entrenar con otros finetuning."
      ]
    },
    {
      "cell_type": "code",
      "execution_count": null,
      "metadata": {
        "id": "TWSaHuIE0mfY"
      },
      "outputs": [],
      "source": [
        "import torch\n",
        "\n",
        "# Probamos a clasificar estas frases\n",
        "textos = ['la película es muy mala y los actores no son los adecuados',\n",
        "          'me encanta este actor',\n",
        "          'la pelicula dura 2 horas',\n",
        "          'estoy encantado con el regalo que me han hecho',\n",
        "          'hay muchos más muertos por covid',\n",
        "          'el número de afectados por covid aumenta',\n",
        "          'vamos a salir de la pandemia',\n",
        "          'ánimo a todos'\n",
        "]\n",
        "\n",
        "# Se obtienen los sentimientos de los textos\n",
        "for text in textos:\n",
        "  inputs = tokenizer(text, return_tensors=\"pt\")\n",
        "  with torch.no_grad():\n",
        "    logits = sentiment_model(**inputs).logits\n",
        "  predicted_class_id = logits.argmax().item()\n",
        "  prediction= sentiment_model.config.id2label[predicted_class_id]\n",
        "\n",
        "  print(text,'=>', prediction)\n"
      ]
    },
    {
      "cell_type": "markdown",
      "metadata": {
        "id": "W1UAVbUW-UU8"
      },
      "source": [
        "## Apartado 1.3 Probamos ahora un modelo de NER en español\n",
        "\n",
        "A continuación probamos el modelo de reconocimiento de entidades en español NER (https://huggingface.co/PlanTL-GOB-ES/roberta-base-bne-capitel-ner-plus) entrenado con el dataset de CAPITEL"
      ]
    },
    {
      "cell_type": "code",
      "execution_count": null,
      "metadata": {
        "id": "gKjhx0Ux-orm"
      },
      "outputs": [],
      "source": [
        "spanish_ner_model = 'PlanTL-GOB-ES/roberta-base-bne-capitel-ner-plus'\n",
        "\n",
        "from transformers import AutoModelForTokenClassification\n",
        "\n",
        "\n",
        "# Obtenemos el tokenizer\n",
        "tokenizer = transformers.AutoTokenizer.from_pretrained (spanish_ner_model)\n",
        "# Obtenemos el modelo para la extracción de entidades\n",
        "ner_model = AutoModelForTokenClassification.from_pretrained(spanish_ner_model)\n"
      ]
    },
    {
      "cell_type": "markdown",
      "metadata": {
        "id": "vOfKvMOs_lr2"
      },
      "source": [
        "# Apartado 1.4 Probamos como extraer entidades de distintos textos\n",
        "\n",
        "Probamos cómo puede extraer las entidades de distintos textos según los tokens obtenidos por el tokenizer de BERT."
      ]
    },
    {
      "cell_type": "code",
      "execution_count": null,
      "metadata": {
        "id": "nUt9C5_r_l7h"
      },
      "outputs": [],
      "source": [
        "from transformers import pipeline\n",
        "\n",
        "nlp = pipeline(\"ner\", model=ner_model, tokenizer=tokenizer)\n",
        "examples = [\"Soy Rafael Valencia profesor de la asignatura TGINE del máster en Big Data.\",\n",
        "            \"Carlos Alcaraz es un tenista de Murcia que está destacando en las competiciones ATP\",\n",
        "            \"Mercadona es una cadena de supermercados que está en toda España\"\n",
        "]\n",
        "\n",
        "ner_results = nlp(examples)\n",
        "for ner_text, i in zip(ner_results, range(len(ner_results ))):\n",
        "  print(examples[i])\n",
        "  for ner in ner_text:\n",
        "    print(ner)"
      ]
    },
    {
      "cell_type": "markdown",
      "source": [
        "## Apartado 1.5 Modelos para resumen de texto\n",
        "Probamos un ejemplo de resumidor de texto basado en modelos RoBERTa\n",
        "https://huggingface.co/Narrativa/bsc_roberta2roberta_shared-spanish-finetuned-mlsum-summarization"
      ],
      "metadata": {
        "id": "HQyEmG_Us8bW"
      }
    },
    {
      "cell_type": "code",
      "source": [
        "import torch\n",
        "from transformers import RobertaTokenizerFast, EncoderDecoderModel\n",
        "device = 'cuda' if torch.cuda.is_available() else 'cpu'\n",
        "ckpt = 'Narrativa/bsc_roberta2roberta_shared-spanish-finetuned-mlsum-summarization'\n",
        "tokenizer = RobertaTokenizerFast.from_pretrained(ckpt)\n",
        "model = EncoderDecoderModel.from_pretrained(ckpt).to(device)\n",
        "\n",
        "def generate_summary(text):\n",
        "\n",
        "   inputs = tokenizer([text], padding=\"max_length\", truncation=True, max_length=512, return_tensors=\"pt\")\n",
        "   input_ids = inputs.input_ids.to(device)\n",
        "   attention_mask = inputs.attention_mask.to(device)\n",
        "   output = model.generate(input_ids, attention_mask=attention_mask)\n",
        "   return tokenizer.decode(output[0], skip_special_tokens=True)\n",
        "\n",
        "text = \"\"\"BONO TURÍSTICO DE LA REGIÓN DE MURCIA: ASÍ PUEDES CONSEGUIR EL 50%\n",
        "DE DESCUENTO\n",
        "\n",
        "La Consejería de Turismo, Cultura, Juventud y Deportes aprobó\n",
        "recientemente los nuevos bonos turísticos con descuentos en\n",
        "alojamientos de la Región de Murcia. La iniciativa, que se activó el\n",
        "pasado 12 de noviembre y permanecerá vigente hasta el 31 de mayo de\n",
        "2024, ofrecerá ayudas directas para cubrir el coste de los servicios\n",
        "subvencionables del viaje.\n",
        "\n",
        "Esta tercera edición busca, como las anteriores de 2021 y 2022,\n",
        "promover la llegada de turistas a la Comunidad durante todo el año.\n",
        "En esta ocasión, es la primera vez que han optado por iniciarla en la\n",
        "temporada de otoño-invierno. Con este objetivo, se ha puesto en\n",
        "circulación un total de 2.500 bonos, que se otorgarán por orden de\n",
        "formalización de reservas.\n",
        "\n",
        "Este bono ofrecerá a sus beneficiarios un descuento del 50%, con un\n",
        "máximo de 250 euros (IVA incluido). Para solicitarlo se deben\n",
        "contratar unos servicios mínimos, que corresponden a una estancia de,\n",
        "al menos, dos noches consecutivas en el mismo alojamiento adherido al\n",
        "programa.\n",
        "\n",
        "QUIÉN PUEDE SOLICITARLO\n",
        "\n",
        "Estas ayudas van dirigidas a cualquier persona mayor de edad con\n",
        "residencia legal y continuada en España. También está contemplado\n",
        "para ciudadanos de la Región de Murcia. Cada viajero podrá solicitar\n",
        "más de un bono dentro de cada uno de los periodos de vigencia y\n",
        "deberá haber pasado un total de diez días naturales desde el momento\n",
        "en el que realizó la última solicitud. Los viajes no podrán tener\n",
        "carácter profesional.\n",
        "\n",
        "Estos periodos de vigencia se dividen en dos. El primero, que parte\n",
        "desde el día posterior a la publicación de la convocatoria en el\n",
        "BORM hasta el 22 de diciembre de 2023. Por su parte, el segundo está\n",
        "activo desde el día siguiente a la publicación en el BORM y hasta el\n",
        "31 de mayo de 2024. Eso sí, la subvención debe canjearse en el mismo\n",
        "periodo en el que se adquiere.\n",
        "\n",
        "CÓMO SE SOLICITA\n",
        "\n",
        "En la página web www.turismoregiondemurcia.es/es/bono_turistico se\n",
        "encuentra un apartado llamado 'adquiere tu bono'. Al acceder, se\n",
        "desplegará un formulario de inscripción, en el que se deben rellenar\n",
        "todos los datos personales de la persona beneficiaria y completar una\n",
        "encuesta sobre la intención del viaje. Asimismo, en este documento se\n",
        "deberá aceptar el contenido de la declaración responsable, que se\n",
        "podrá descargar y rellenar en un enlace que se aporta dentro de este\n",
        "mismo formulario.\n",
        "\n",
        "Una vez que se hayan completado todos los campos, se pulsará sobre\n",
        "'registrarme'. Acto seguido, recibirá un correo electrónico con un\n",
        "enlace de confirmación. Este paso es fundamental, ya que de no\n",
        "confirmar ese registro, no se podrá acceder a las ventajas de la\n",
        "ayuda.\n",
        "\n",
        "Al validar la inscripción, recibirá otro correo con el código\n",
        "promocional o el número de la lista de espera (si se da la\n",
        "circunstancia de que los bonos se han agotado). Cabe recordar que si\n",
        "no se formaliza una reserva en un plazo de diez días naturales desde\n",
        "su adquisición, este caducará y deberá volver a solicitarse.\n",
        "Además, desde la fecha en la que el alojamiento confirme la reserva\n",
        "hasta el primer día en el que se disfrute el servicio, deberá\n",
        "existir un mínimo de siete días naturales y un máximo de 20.\n",
        "\n",
        "QUÉ SERVICIOS SON SUBVENCIONABLES\n",
        "\n",
        "Las estancias que forman parte del programa se encuentran en la\n",
        "tipología de establecimientos hoteleros, apartamentos turísticos,\n",
        "campings, casas rurales, hospederías rurales y albergues. En la web\n",
        "oficial de turismo de Murcia se encuentran todos los adscritos a esta\n",
        "iniciativa.\n",
        "\n",
        "Los servicios subvencionados que están contemplados en esta ayuda son\n",
        "los siguientes:\n",
        "\n",
        "- Manutención, como máximo en régimen de desayuno y con exclusión\n",
        "de bebidas alcohólicas.\n",
        "\n",
        "· Tratamientos de salud y bienestar del alojamiento.\n",
        "\n",
        "· Alquiler de instalaciones y/o equipamiento deportivo del\n",
        "establecimiento.\n",
        "\n",
        "· Actividades de animación o deportivas prestadas por el personal\n",
        "del establecimiento.\n",
        "\n",
        "- Aparcamiento.\"\"\"\n",
        "\n",
        "generate_summary(text)"
      ],
      "metadata": {
        "id": "PBeMLfZItKOt"
      },
      "execution_count": null,
      "outputs": []
    },
    {
      "cell_type": "code",
      "source": [],
      "metadata": {
        "id": "52jYnRR9iLFF"
      },
      "execution_count": null,
      "outputs": []
    },
    {
      "cell_type": "markdown",
      "metadata": {
        "id": "anbI3ODGD5BD"
      },
      "source": [
        "## Apartado 1.6 Modelos para otras tareas\n",
        "\n",
        "Podéis probar otros modelos para otras tareas distintas consultando cómo se implementaría la llamada a los mismos https://huggingface.co/transformers/usage.html"
      ]
    }
  ],
  "metadata": {
    "accelerator": "GPU",
    "colab": {
      "provenance": [],
      "gpuType": "T4"
    },
    "kernelspec": {
      "display_name": "Python 3",
      "name": "python3"
    },
    "language_info": {
      "codemirror_mode": {
        "name": "ipython",
        "version": 3
      },
      "file_extension": ".py",
      "mimetype": "text/x-python",
      "name": "python",
      "nbconvert_exporter": "python",
      "pygments_lexer": "ipython3",
      "version": "3.10.6"
    }
  },
  "nbformat": 4,
  "nbformat_minor": 0
}