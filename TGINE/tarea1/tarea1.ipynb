{
 "cells": [
  {
   "cell_type": "markdown",
   "metadata": {},
   "source": [
    "Definomos un Crawler"
   ]
  },
  {
   "cell_type": "code",
   "execution_count": null,
   "metadata": {},
   "outputs": [
    {
     "name": "stdout",
     "output_type": "stream",
     "text": [
      "ELEMENTO:\n",
      "{\n",
      "    \"url\": \"https://bulbapedia.bulbagarden.net/wiki/Abomasnow_(Pok%C3%A9mon)\",\n",
      "    \"pokemon\": \"Abomasnow\",\n",
      "    \"numero_pokedex\": \"0460\",\n",
      "    \"descripcion\": [\n",
      "        \"Abomasnow is a large, bipedal Pokémon covered in shaggy, white fur. It has pale purple eyes with bushy eyebrows and long strands of fur covering its mouth. Two tufts of longer fur grow on both its back and chest, with the chest fur being longer on the female. Its hands, feet, and tail are dark green and spiky, similar to the foliage of an evergreen tree. On its back are four green spikes that resemble pinecones.\",\n",
      "        \"Abomasnow lives in snowy mountains and appears only when snow flowers bloom. Once the flowers die, it retreats to isolated areas because Abomasnow prefers to be alone and not associate with others. It is able to create blizzards to hide itself and can also cause whiteout conditions with just a shake of its massive body. Abomasnow is also known as the \\\"Ice Monster\\\" and \\\"abominable snowman\\\". It protects Snover from packs of Galarian Darumaka, who chase them for the Berries they grow, by swinging its arms like hammers. Abomasnow is powerful enough to split huge boulders in two. As mentioned in the Sleep Style Dex, a sleeping Abomasnow can still cause blizzards by occasionally swinging its arms. Researchers acknowledged that it is unknown why Abomasnow does this, though it is theorized that it is either a habit to hide itself or just sleepy flailing.\",\n",
      "        \"Prior to Generation VI, Abomasnow and its pre-evolved form, Snover, were the only known Pokémon that could have Snow Warning as an Ability.\"\n",
      "    ]\n",
      "}\n"
     ]
    }
   ],
   "source": [
    "from crawler import BulbaSpyder\n",
    "import scrapy, os\n",
    "from scrapy.crawler import CrawlerProcess\n",
    "\n",
    "# Creamos un proceso de Crawler podemos poner distintas settings que están definidas en la documentación.\n",
    "# Entre ellas podemos ocular los logs del proceso de Crawling.\n",
    "process = CrawlerProcess(settings={\n",
    "    \"LOG_ENABLED\": False,\n",
    "    # Used for pipeline 1\n",
    "})\n",
    "\n",
    "# Comprobamos que existe la carpeta y si no existe la creamos\n",
    "if not os.path.exists('bulbapedia'):\n",
    "    os.mkdir('bulbapedia')\n",
    "\n",
    "# Creamos el proceso con el RSSSpider\n",
    "process.crawl(BulbaSpyder)\n",
    "# Ejecutamos el Crawler\n",
    "process.start()"
   ]
  }
 ],
 "metadata": {
  "kernelspec": {
   "display_name": "Python 3",
   "language": "python",
   "name": "python3"
  },
  "language_info": {
   "codemirror_mode": {
    "name": "ipython",
    "version": 3
   },
   "file_extension": ".py",
   "mimetype": "text/x-python",
   "name": "python",
   "nbconvert_exporter": "python",
   "pygments_lexer": "ipython3",
   "version": "3.10.2"
  }
 },
 "nbformat": 4,
 "nbformat_minor": 2
}
