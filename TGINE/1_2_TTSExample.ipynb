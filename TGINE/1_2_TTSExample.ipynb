{
  "nbformat": 4,
  "nbformat_minor": 0,
  "metadata": {
    "colab": {
      "provenance": []
    },
    "kernelspec": {
      "name": "python3",
      "display_name": "Python 3"
    },
    "language_info": {
      "name": "python"
    }
  },
  "cells": [
    {
      "cell_type": "markdown",
      "source": [
        "#Modelos TTS en Huggingface\n",
        "\n",
        "Un TTS (Text to Speech) es una tecnología para poder transformar texto a voz. En Huggingface hay distintos modelos de TTS en varios idiomas.\n",
        "\n",
        "En este ejemplo mostramos un modelo en español y otro en inglés para la asignatura TGINE del máster de Big Data de la Universidad de Murcia"
      ],
      "metadata": {
        "id": "1yjR8ZBisENs"
      }
    },
    {
      "cell_type": "code",
      "source": [
        "# Instalamos las librerías\n",
        "!pip3 install transformers"
      ],
      "metadata": {
        "id": "tdhrSc_-sDuY"
      },
      "execution_count": null,
      "outputs": []
    },
    {
      "cell_type": "markdown",
      "source": [
        "Aquí un ejemplo en español con un modelo del proyecto MMS de Facebook"
      ],
      "metadata": {
        "id": "biibjwFhvLWa"
      }
    },
    {
      "cell_type": "code",
      "source": [
        "from transformers import VitsModel, AutoTokenizer\n",
        "import torch\n",
        "from IPython.display import Audio\n",
        "\n",
        "#Probamos un ejemplo en español\n",
        "text = \"En un lugar de la Mancha de cuyo nombre no quiero acordarme...\"\n",
        "\n",
        "model = VitsModel.from_pretrained(\"facebook/mms-tts-spa\")\n",
        "tokenizer = AutoTokenizer.from_pretrained(\"facebook/mms-tts-spa\")\n",
        "\n",
        "text = \"En un lugar de la Mancha de cuyo nombre no quiero acordarme...\"\n",
        "inputs = tokenizer(text, return_tensors=\"pt\")\n",
        "\n",
        "with torch.no_grad():\n",
        "    output = model(**inputs).waveform\n",
        "\n",
        "\n",
        "Audio(output.numpy(), rate=model.config.sampling_rate)"
      ],
      "metadata": {
        "id": "JbmzewLPunZu"
      },
      "execution_count": null,
      "outputs": []
    },
    {
      "cell_type": "markdown",
      "source": [
        "Por último, mostramos un ejemplo en inglés con los modelos del proyecto MMS"
      ],
      "metadata": {
        "id": "A2HfSYB-vSAp"
      }
    },
    {
      "cell_type": "code",
      "source": [
        "from transformers import VitsModel, AutoTokenizer\n",
        "import torch\n",
        "\n",
        "model = VitsModel.from_pretrained(\"facebook/mms-tts-eng\")\n",
        "tokenizer = AutoTokenizer.from_pretrained(\"facebook/mms-tts-eng\")\n",
        "\n",
        "text = \"some example text in the English language\"\n",
        "inputs = tokenizer(text, return_tensors=\"pt\")\n",
        "\n",
        "with torch.no_grad():\n",
        "    output = model(**inputs).waveform\n",
        "\n",
        "\n",
        "Audio(output.numpy(), rate=model.config.sampling_rate)"
      ],
      "metadata": {
        "id": "mFfFkpKjt48Y"
      },
      "execution_count": null,
      "outputs": []
    },
    {
      "cell_type": "markdown",
      "source": [
        "#Otros modelos TTS\n",
        "\n",
        "Existen otros modelos TTS muy utilizados basados en tecnologías de Deep Learning.\n",
        "\n",
        "Por ejemplo, podemos destacar los siguientes:\n",
        "* IMS Toucan - https://github.com/DigitalPhonetics/IMS-Toucan\n",
        "* Coqui TTS - https://github.com/coqui-ai/TTS\n",
        "\n"
      ],
      "metadata": {
        "id": "W2MvtrelizYJ"
      }
    }
  ]
}